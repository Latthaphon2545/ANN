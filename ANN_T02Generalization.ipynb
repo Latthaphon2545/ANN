{
  "cells": [
    {
      "cell_type": "markdown",
      "metadata": {
        "id": "view-in-github",
        "colab_type": "text"
      },
      "source": [
        "<a href=\"https://colab.research.google.com/github/Latthaphon2545/ANN/blob/main/ANN_T02Generalization.ipynb\" target=\"_parent\"><img src=\"https://colab.research.google.com/assets/colab-badge.svg\" alt=\"Open In Colab\"/></a>"
      ]
    },
    {
      "cell_type": "markdown",
      "metadata": {
        "id": "IbTPrAsHdNce"
      },
      "source": [
        "#Generalization\n",
        "\n",
        "> ``It ain't what you don't know that gets you into trouble.\n",
        "\n",
        "> It's what you know for sure that just ain't so.''\n",
        "\n",
        "> ---Mark Twain"
      ]
    },
    {
      "cell_type": "code",
      "execution_count": 9,
      "metadata": {
        "id": "-L-e4Um-cVQ3"
      },
      "outputs": [],
      "source": [
        "import numpy as np\n",
        "from matplotlib import pyplot as plt"
      ]
    },
    {
      "cell_type": "markdown",
      "metadata": {
        "id": "Los6ntMMlYYy"
      },
      "source": [
        "Polynomial function:\n",
        "\n",
        "$$\\hat{y} = f(x, w) =  \\sum_{m=0}^D w_m \\cdot x^m$$"
      ]
    },
    {
      "cell_type": "markdown",
      "metadata": {
        "id": "WU-Z610bdqep"
      },
      "source": [
        "Data"
      ]
    },
    {
      "cell_type": "code",
      "execution_count": 8,
      "metadata": {
        "id": "m_DWUz68dpkU"
      },
      "outputs": [],
      "source": [
        "DX = [0.000, 0.111, 0.222, 0.333, 0.444, 0.556, 0.667, 0.778, 0.889, 1]\n",
        "DY = [-0.028, 0.988, 1.387, 1.625, 1.089, 0.713, 0.328, 0.535, 1.112, 2.004]"
      ]
    },
    {
      "cell_type": "markdown",
      "metadata": {
        "id": "m2lZUvSBd1pp"
      },
      "source": [
        "Polynomial model"
      ]
    },
    {
      "cell_type": "code",
      "execution_count": 10,
      "metadata": {
        "id": "z8mSUUfRdxle"
      },
      "outputs": [],
      "source": [
        "def fmodel(x, w):\n",
        "    m = len(w)\n",
        "    y = 0\n",
        "    for i in range(m):\n",
        "        y += w[i] * x**i\n",
        "\n",
        "    return y"
      ]
    },
    {
      "cell_type": "markdown",
      "metadata": {
        "id": "ZHGRfGzJeBSP"
      },
      "source": [
        "Training facilities"
      ]
    },
    {
      "cell_type": "code",
      "execution_count": 1,
      "metadata": {
        "colab": {
          "base_uri": "https://localhost:8080/"
        },
        "id": "0hgifOjoeDo3",
        "outputId": "a572377e-cec4-44ec-8c3f-4ab02a3dda0f"
      },
      "outputs": [
        {
          "output_type": "stream",
          "name": "stdout",
          "text": [
            "Mounted at /content/drive\n"
          ]
        }
      ],
      "source": [
        "from google.colab import drive\n",
        "drive.mount('/content/drive')"
      ]
    },
    {
      "cell_type": "code",
      "execution_count": 11,
      "metadata": {
        "colab": {
          "base_uri": "https://localhost:8080/"
        },
        "id": "WbjBEqlYiYQp",
        "outputId": "789e8fd3-4f83-4dce-e92a-e4cf584fcfb6"
      },
      "outputs": [
        {
          "output_type": "stream",
          "name": "stdout",
          "text": [
            "/content\n"
          ]
        }
      ],
      "source": [
        "!pwd"
      ]
    },
    {
      "cell_type": "code",
      "execution_count": 2,
      "metadata": {
        "colab": {
          "base_uri": "https://localhost:8080/"
        },
        "id": "rXzfGfoPigj-",
        "outputId": "bfb62053-c3c0-49b4-c36c-b2a0e3a35a77"
      },
      "outputs": [
        {
          "output_type": "stream",
          "name": "stdout",
          "text": [
            "ls: cannot access './drive/MyDrive/Y2023/IML/HandsOn/CurveFitting': No such file or directory\n"
          ]
        }
      ],
      "source": [
        "!ls ./drive/MyDrive/Y2023/IML/HandsOn/CurveFitting"
      ]
    },
    {
      "cell_type": "code",
      "execution_count": 3,
      "metadata": {
        "id": "GjEgbqLSeSA6"
      },
      "outputs": [],
      "source": [
        "import sys\n",
        "sys.path.append(\"./drive/MyDrive/Y2023/IML/HandsOn/CurveFitting\") # my path\n",
        "## Have it point to your path!"
      ]
    },
    {
      "cell_type": "code",
      "execution_count": 6,
      "metadata": {
        "id": "2AoMxVpHeaKS"
      },
      "outputs": [],
      "source": [
        "from shortcutpoly2 import super_train_poly as sctrain"
      ]
    },
    {
      "cell_type": "markdown",
      "metadata": {
        "id": "ElSfSALAegCE"
      },
      "source": [
        "Prep data"
      ]
    },
    {
      "cell_type": "code",
      "execution_count": 12,
      "metadata": {
        "id": "iOMGfs7IehHr"
      },
      "outputs": [],
      "source": [
        "DatXY = np.array([DX, DY])"
      ]
    },
    {
      "cell_type": "code",
      "execution_count": 13,
      "metadata": {
        "colab": {
          "base_uri": "https://localhost:8080/"
        },
        "id": "H4I4VH99nt5L",
        "outputId": "b5055bb3-8f10-41e3-c43a-bf66e94ccf8b"
      },
      "outputs": [
        {
          "output_type": "execute_result",
          "data": {
            "text/plain": [
              "(2, 10)"
            ]
          },
          "metadata": {},
          "execution_count": 13
        }
      ],
      "source": [
        "DatXY.shape"
      ]
    },
    {
      "cell_type": "code",
      "execution_count": 14,
      "metadata": {
        "colab": {
          "base_uri": "https://localhost:8080/",
          "height": 448
        },
        "id": "97AcTWtpjSsl",
        "outputId": "c8bdce02-de31-4895-b52e-11d9eb27761d"
      },
      "outputs": [
        {
          "output_type": "execute_result",
          "data": {
            "text/plain": [
              "[<matplotlib.lines.Line2D at 0x7a041677d690>]"
            ]
          },
          "metadata": {},
          "execution_count": 14
        },
        {
          "output_type": "display_data",
          "data": {
            "text/plain": [
              "<Figure size 640x480 with 1 Axes>"
            ],
            "image/png": "[encoded data removed]"
          },
          "metadata": {}
        }
      ],
      "source": [
        "plt.plot(DX, DY, '*')"
      ]
    },
    {
      "cell_type": "markdown",
      "metadata": {
        "id": "gS5vNrM6eiPK"
      },
      "source": [
        "Train"
      ]
    },
    {
      "cell_type": "code",
      "execution_count": 15,
      "metadata": {
        "colab": {
          "base_uri": "https://localhost:8080/"
        },
        "id": "Xf66C8y5ejBr",
        "outputId": "26541322-cd60-4637-a5a8-509f19428243"
      },
      "outputs": [
        {
          "output_type": "stream",
          "name": "stdout",
          "text": [
            "[ -0.07150842  14.17990899 -39.23723974  31.97464856  -4.78975712]\n"
          ]
        }
      ],
      "source": [
        "# Choose the degree\n",
        "# short_train_poly  does not need initial values. But, it only needs to know len(w) to determine the degree.\n",
        "#w0 = [0, 0, 0, 0, 0, 0, 0, 0, 0, 0] # polynomial degree\n",
        "w0 = [0, 0, 0, 0, 0] # polynomial degree\n",
        "\n",
        "\n",
        "w =sctrain(w0, DatXY[0,:], DatXY[1,:])\n",
        "print(w)"
      ]
    },
    {
      "cell_type": "markdown",
      "metadata": {
        "id": "7F0AAV39enzp"
      },
      "source": [
        "Let's see the trained model on data"
      ]
    },
    {
      "cell_type": "code",
      "execution_count": 16,
      "metadata": {
        "colab": {
          "base_uri": "https://localhost:8080/"
        },
        "id": "XHPUU5aIetYo",
        "outputId": "1503d443-76d5-4ba2-868e-8318bdd1a94e"
      },
      "outputs": [
        {
          "output_type": "stream",
          "name": "stdout",
          "text": [
            "Training error =  0.09442147406390809\n"
          ]
        }
      ],
      "source": [
        "# Check training error\n",
        "\n",
        "D, N = DatXY.shape\n",
        "\n",
        "ys = [fmodel(DatXY[0,i], w) for i in range(N)]\n",
        "\n",
        "Training_error = np.sum(np.square(ys - DatXY[1,:]))\n",
        "\n",
        "print('Training error = ', Training_error)"
      ]
    },
    {
      "cell_type": "markdown",
      "metadata": {
        "id": "IaqFrNP2e1MJ"
      },
      "source": [
        "Let's check the plot"
      ]
    },
    {
      "cell_type": "code",
      "execution_count": 17,
      "metadata": {
        "colab": {
          "base_uri": "https://localhost:8080/",
          "height": 505
        },
        "id": "FzMf2wPhe4Dr",
        "outputId": "fe59f814-3794-4fae-cb5a-727cf417028a"
      },
      "outputs": [
        {
          "output_type": "stream",
          "name": "stdout",
          "text": [
            "[-0.07150842265656507, 1.0620218465049585, 1.4808655134606643, 1.4212234229707985, 1.1018455672710754, 0.7209344918612858, 0.4704439980839651, 0.5131823610256963, 0.997938947936456, 2.056052273541673]\n",
            "[0.0, 0.111, 0.222, 0.333, 0.444, 0.556, 0.667, 0.778, 0.889, 1.0]\n"
          ]
        },
        {
          "output_type": "display_data",
          "data": {
            "text/plain": [
              "<Figure size 640x480 with 1 Axes>"
            ],
            "image/png": "[encoded data removed]"
          },
          "metadata": {}
        }
      ],
      "source": [
        "# Now, let's see how it does.\n",
        "\n",
        "D, N = DatXY.shape\n",
        "\n",
        "# Plot data\n",
        "plt.plot(DatXY[0,:], DatXY[1,:], 'ko')\n",
        "\n",
        "# Plot prediction\n",
        "xs = [DatXY[0,i] for i in range(N)]\n",
        "ys = [fmodel(DatXY[0,i], w) for i in range(N)]\n",
        "print(ys)\n",
        "print(xs)\n",
        "plt.plot(xs, ys)\n",
        "plt.xlabel('x')\n",
        "plt.ylabel('y')\n",
        "plt.show()"
      ]
    },
    {
      "cell_type": "markdown",
      "metadata": {
        "id": "WGsP9tJhe9yi"
      },
      "source": [
        "#Illustrative Example"
      ]
    },
    {
      "cell_type": "code",
      "execution_count": 20,
      "metadata": {
        "colab": {
          "base_uri": "https://localhost:8080/",
          "height": 546
        },
        "id": "kfsmGpfLfC6N",
        "outputId": "4a4e0276-23cb-4173-fed1-32f7d638252b"
      },
      "outputs": [
        {
          "output_type": "stream",
          "name": "stdout",
          "text": [
            "Training error =  3.467603278195304e-07\n",
            "[-0.028003400901252463, 0.9880290366148864, 1.3868899368202852, 1.625242969526917, 1.0886566837856435, 0.7133257339696115, 0.3277922299605507, 0.5350848931620931, 1.1119797745013784, 2.004002142683021]\n",
            "[0.0, 0.111, 0.222, 0.333, 0.444, 0.556, 0.667, 0.778, 0.889, 1.0]\n"
          ]
        },
        {
          "output_type": "display_data",
          "data": {
            "text/plain": [
              "<Figure size 640x480 with 1 Axes>"
            ],
            "image/png": "[encoded data removed]"
          },
          "metadata": {}
        }
      ],
      "source": [
        "w0 = [0, 0, 0, 0, 0, 0, 0, 0, 0, 0]  # Pick the degree ~ hyperparameter เลือกให้จรงตามจำนวน degree เช่น มี x^0 -> x^10 ให้เอา 10 degree\n",
        "\n",
        "#w0 = [0, 0]  # Pick the degree ~ hyperparameter\n",
        "\n",
        "# Train\n",
        "w =sctrain(w0, DatXY[0,:], DatXY[1,:])\n",
        "\n",
        "# \"Test\" (sort of)\n",
        "D, N = DatXY.shape\n",
        "ys = [fmodel(DatXY[0,i], w) for i in range(N)]\n",
        "Training_error = np.sum(np.square(ys - DatXY[1,:]))\n",
        "print('Training error = ', Training_error)\n",
        "\n",
        "# Plot\n",
        "# Plot data\n",
        "plt.plot(DatXY[0,:], DatXY[1,:], 'ko')\n",
        "\n",
        "# Plot prediction\n",
        "xs = [DatXY[0,i] for i in range(N)]\n",
        "ys = [fmodel(DatXY[0,i], w) for i in range(N)]\n",
        "print(ys)\n",
        "print(xs)\n",
        "plt.plot(xs, ys, 'rx-')\n",
        "plt.xlabel('x')\n",
        "plt.ylabel('y')\n",
        "plt.title(\"Degree \" + str(len(w)-1))\n",
        "\n",
        "# สมมุติว่ามันมีไม่ตรงกำจำนวน degree มันตามจุด แต่มันไม่ดี -> จารย์บอกมันไม่ทรงพลัง 5555555\n",
        "# Overfitting -> Bad\n",
        "# good predict for any data, including what they have not seen before\n",
        "xs = np.linspace(0, 1, 20)\n",
        "ys = [fmodel(x,w) for x in xs]\n",
        "plt.plot(xs, ys, \"m:\")\n",
        "\n",
        "plt.show()\n"
      ]
    },
    {
      "cell_type": "markdown",
      "metadata": {
        "id": "RAAP2fp7fYNi"
      },
      "source": [
        "Is it that perfect?\n",
        "\n",
        "PAUSE ... PAUSE ... PAUSE\n",
        "\n",
        "\n",
        "#Reveal\n",
        "\n"
      ]
    },
    {
      "cell_type": "code",
      "execution_count": null,
      "metadata": {
        "colab": {
          "base_uri": "https://localhost:8080/",
          "height": 348
        },
        "id": "xHgpIXlPfa2J",
        "outputId": "1d8b9fd2-37b5-48d6-c9f9-09744c7c5f01"
      },
      "outputs": [
        {
          "data": {
            "image/png": "[encoded data removed]",
            "text/plain": [
              "<Figure size 432x288 with 1 Axes>"
            ]
          },
          "metadata": {
            "needs_background": "light"
          },
          "output_type": "display_data"
        },
        {
          "name": "stdout",
          "output_type": "stream",
          "text": [
            "w = \n",
            "[-2.80034009e-02  9.30588292e+01 -1.86566353e+03  1.61716958e+04\n",
            " -7.39390367e+04  1.96484488e+05 -3.14733706e+05  2.99644950e+05\n",
            " -1.56099362e+05  3.42456080e+04]\n"
          ]
        }
      ],
      "source": [
        "N = 500\n",
        "xs = np.linspace(0, 1, num=N)\n",
        "ys = [fmodel(xs[i], w) for i in range(N)]\n",
        "\n",
        "# Plot data\n",
        "plt.plot(DatXY[0,:], DatXY[1,:], 'ko')\n",
        "\n",
        "# Plot prediction\n",
        "plt.plot(xs, ys)\n",
        "plt.xlabel('x')\n",
        "plt.ylabel('y')\n",
        "plt.show()\n",
        "\n",
        "print('w = ')\n",
        "print(w)"
      ]
    },
    {
      "cell_type": "markdown",
      "metadata": {
        "id": "fd6hlV6LsPCg"
      },
      "source": [
        "The model fits training data perfectly.\n",
        "\n",
        "But, it does not capture the underlying behavior of the relation."
      ]
    },
    {
      "cell_type": "markdown",
      "metadata": {
        "id": "KgLzptrIpdrt"
      },
      "source": [
        "This is called \"**overfitting**\".\n",
        "The model loses **generalization**.\n",
        "It fits too well to the training data\n",
        "and it might not be able to predict well in general (i.e., data it has not seen)."
      ]
    },
    {
      "cell_type": "markdown",
      "metadata": {
        "id": "s8CmwHhWJrSA"
      },
      "source": [
        "> **Overfitting** is characterized by having small training error, but unproportionally large test error."
      ]
    },
    {
      "cell_type": "markdown",
      "metadata": {
        "id": "ob9KVNfUJ8Jf"
      },
      "source": [
        "The best way to spot overfitting is to use **test dataset**---another dataset not used in training.\n",
        "\n",
        "See [Model evaluation](#-Model-evaluation-/-model-selection).\n"
      ]
    },
    {
      "cell_type": "markdown",
      "metadata": {
        "id": "FxwI93sY7vL_"
      },
      "source": [
        "#Model evaluation"
      ]
    },
    {
      "cell_type": "markdown",
      "metadata": {
        "id": "C-vJWGTDgNNo"
      },
      "source": [
        "Since we cannot rely on training data to evaluate our model.\n",
        "\n",
        "We need **another set** of data to check model sanity.\n",
        "\n",
        "We need a **Test Set**."
      ]
    },
    {
      "cell_type": "markdown",
      "metadata": {
        "id": "J5jNlgZkgmWy"
      },
      "source": [
        "##Separating Data"
      ]
    },
    {
      "cell_type": "code",
      "execution_count": null,
      "metadata": {
        "id": "n5gNzTHqy0dR"
      },
      "outputs": [],
      "source": [
        "# To better illustrate this, we will have more data\n",
        "\n",
        "def gen_data(x):\n",
        "        N = len(x)\n",
        "        xp = x*10\n",
        "        y = np.sin(xp) + 0.2*xp + 0.2*np.random.randn(N)\n",
        "\n",
        "        return y"
      ]
    },
    {
      "cell_type": "code",
      "execution_count": null,
      "metadata": {
        "id": "5nJi5xpuhNnW"
      },
      "outputs": [],
      "source": [
        "xs = np.linspace(0, 1, num=500)\n",
        "ys = gen_data(xs)"
      ]
    },
    {
      "cell_type": "code",
      "execution_count": null,
      "metadata": {
        "id": "cGja0N9hhQ2b"
      },
      "outputs": [],
      "source": [
        "# Save the data (Just in case)\n",
        "DataX = xs.copy()\n",
        "DataY = ys.copy()"
      ]
    },
    {
      "cell_type": "code",
      "execution_count": null,
      "metadata": {
        "colab": {
          "base_uri": "https://localhost:8080/",
          "height": 296
        },
        "id": "rc7Dpr7JhUfw",
        "outputId": "a47ec810-b59a-491b-b15b-34d2768d720c"
      },
      "outputs": [
        {
          "data": {
            "text/plain": [
              "Text(0, 0.5, 'y')"
            ]
          },
          "execution_count": 19,
          "metadata": {},
          "output_type": "execute_result"
        },
        {
          "data": {
            "image/png": "[encoded data removed]",
            "text/plain": [
              "<Figure size 432x288 with 1 Axes>"
            ]
          },
          "metadata": {
            "needs_background": "light"
          },
          "output_type": "display_data"
        }
      ],
      "source": [
        "plt.plot(xs, ys, 'ko')\n",
        "plt.xlabel('x'); plt.ylabel('y')"
      ]
    },
    {
      "cell_type": "code",
      "execution_count": null,
      "metadata": {
        "colab": {
          "base_uri": "https://localhost:8080/"
        },
        "id": "H-M9ll4GhV_z",
        "outputId": "ad7fc95c-7c5e-4569-da05-111a7a2d1c48"
      },
      "outputs": [
        {
          "name": "stdout",
          "output_type": "stream",
          "text": [
            "N =  500\n"
          ]
        }
      ],
      "source": [
        "N = len(xs)\n",
        "print('N = ', N)"
      ]
    },
    {
      "cell_type": "code",
      "execution_count": null,
      "metadata": {
        "colab": {
          "base_uri": "https://localhost:8080/"
        },
        "id": "hMWG-6_phcPf",
        "outputId": "4465fbee-2c43-46e1-bde8-056db53c9b26"
      },
      "outputs": [
        {
          "name": "stdout",
          "output_type": "stream",
          "text": [
            "Ntrain =  350\n"
          ]
        }
      ],
      "source": [
        "Ntrain = int(0.7 * N)\n",
        "print('Ntrain = ', Ntrain)"
      ]
    },
    {
      "cell_type": "markdown",
      "metadata": {
        "id": "2cf_faBUh889"
      },
      "source": [
        "### Use IDs to separate"
      ]
    },
    {
      "cell_type": "code",
      "execution_count": null,
      "metadata": {
        "id": "YLVWGPyQhfy_"
      },
      "outputs": [],
      "source": [
        "sids = np.random.permutation(np.arange(N))\n",
        "trainIDs = sids[:Ntrain]\n",
        "testIDs = sids[Ntrain:]"
      ]
    },
    {
      "cell_type": "markdown",
      "metadata": {
        "id": "8fNIJu3HhkLZ"
      },
      "source": [
        "It's the id that is the key to this randomized separation."
      ]
    },
    {
      "cell_type": "code",
      "execution_count": null,
      "metadata": {
        "colab": {
          "base_uri": "https://localhost:8080/"
        },
        "id": "8HomYejphjAR",
        "outputId": "bd0a1516-4588-474f-c41e-89ca82273076"
      },
      "outputs": [
        {
          "name": "stdout",
          "output_type": "stream",
          "text": [
            "train ids =  [243  43  86 295 430  22  88 176 467 239 341 165 146  55 364 223 197 456\n",
            " 328 486  10  71 225  57 458 386 201 305 185 129 337 218 399 489 274  69\n",
            " 462 394  53 362 465  45 451 396 482 320 344 366 142 132 352 377  77   8\n",
            " 285 275 258 432 181 436 236 380 402  82 206  36 282  93 416 252  52 238\n",
            " 226 321 276 499 189  73 125 104 158 220 139 155 471 257 294  12   5  58\n",
            " 359 419  37 263 384   7 420 475 169 423 207  99 251 284 298 383  34 230\n",
            " 354 145 472 162  98 488 187 133 135 447 367 415 154 213  92 491   0 200\n",
            " 117  35  64  11 373 245 228 302  79  96 123  95 143 109  84 369 315 473\n",
            " 492  50 203  20 371  97 249 105 222 393 297 332 445 408 316 209 140 173\n",
            " 476 121 108 414 421 360 307 498 235 390 356 459 350 313  74 392 327 116\n",
            " 210 395 303 247 231 198  94 483 216 474  39 261   9 479 480 246  18 308\n",
            " 338 469 174 496 234 114 241 152 144 208 376  48 434 345 319 317 224  16\n",
            " 495 301 339 229 157 485  42 398 329 388 309  70 202 159  17 493   3 468\n",
            " 233 411 481 227 340 120 461 184 457  89 287  85 271 278 425 470 266 463\n",
            " 221 240 138 497 106  23 296 147 171 103  87  30 439 494 277 291 438 412\n",
            " 279 478 250 161 450 403 102 404 355 269 449  83 311 427 164 343 163  27\n",
            " 409  13  67 487 299  21 190 217 397 381  26 262 244  40 180 280 205  51\n",
            " 417 290 446 124 349 453 253  68 379 170 168 318  81 435 422 177  80 264\n",
            " 196 160 330 186 363 288 260  19 347 455 126 361 214 443 119   2 358 406\n",
            " 342 270  14 454 325 182 286 268]\n",
            "test ids =  [149  61 141  62  47 134 265 281 437 314 153 401 322 484 418  38 204 156\n",
            " 424 365 333 385 375 464 323 382 127  91 112 122 111  66 248 107 353 130\n",
            " 259 400 212 428  32  24 444 348 256 378 391 167 115 304 407 477  41  31\n",
            " 429 334 283 211  65  60 237 413  90 292  63 128 151  15 215 272 148 232\n",
            " 150 440 441 194  76 410 372  54 346 405 183  46 199 179  75  59 188 178\n",
            " 289 466 137 374 306  44 118 193 172 389 433 490 131  28 431 219 351 336\n",
            "   6 331 110 387 448 113 335 324 312 254 267  78 101 326  33 191  72  56\n",
            " 100 195 273 136 368 255 293 175 442 370 460 192  49   4 426   1  25 310\n",
            " 452 357 300 242  29 166]\n"
          ]
        }
      ],
      "source": [
        "print('train ids = ', trainIDs)\n",
        "print('test ids = ', testIDs)"
      ]
    },
    {
      "cell_type": "markdown",
      "metadata": {
        "id": "Dizo7kpuhw-R"
      },
      "source": [
        "*We* can check (for this case)."
      ]
    },
    {
      "cell_type": "code",
      "execution_count": null,
      "metadata": {
        "colab": {
          "base_uri": "https://localhost:8080/",
          "height": 296
        },
        "id": "saPXIUG3hy9h",
        "outputId": "5df85680-b64e-407f-ab4c-d2637ed0e879"
      },
      "outputs": [
        {
          "data": {
            "text/plain": [
              "<matplotlib.legend.Legend at 0x7f776cf8d8b0>"
            ]
          },
          "execution_count": 24,
          "metadata": {},
          "output_type": "execute_result"
        },
        {
          "data": {
            "image/png": "[encoded data removed]",
            "text/plain": [
              "<Figure size 432x288 with 1 Axes>"
            ]
          },
          "metadata": {
            "needs_background": "light"
          },
          "output_type": "display_data"
        }
      ],
      "source": [
        "plt.plot(xs[trainIDs], ys[trainIDs], 'r+')\n",
        "plt.plot(xs[testIDs], ys[testIDs], 'bx')\n",
        "plt.xlabel('x'); plt.ylabel('y')\n",
        "\n",
        "plt.legend([\"Train\", \"Test\"])"
      ]
    },
    {
      "cell_type": "markdown",
      "metadata": {
        "id": "h9I18oaCiCd9"
      },
      "source": [
        "### Wrong way to separate data (I)"
      ]
    },
    {
      "cell_type": "code",
      "execution_count": null,
      "metadata": {
        "colab": {
          "base_uri": "https://localhost:8080/",
          "height": 296
        },
        "id": "2PBqvcMTiELx",
        "outputId": "cdfdc805-86d4-41fc-e146-317bc2731d5f"
      },
      "outputs": [
        {
          "data": {
            "text/plain": [
              "<matplotlib.legend.Legend at 0x7f77840d0430>"
            ]
          },
          "execution_count": 25,
          "metadata": {},
          "output_type": "execute_result"
        },
        {
          "data": {
            "image/png": "[encoded data removed]",
            "text/plain": [
              "<Figure size 432x288 with 1 Axes>"
            ]
          },
          "metadata": {
            "needs_background": "light"
          },
          "output_type": "display_data"
        }
      ],
      "source": [
        "plt.plot(xs[:Ntrain], ys[:Ntrain], 'r+')\n",
        "plt.plot(xs[Ntrain:], ys[Ntrain:], 'bx')\n",
        "plt.xlabel('x'); plt.ylabel('y')\n",
        "\n",
        "plt.legend([\"Train\", \"Test\"])"
      ]
    },
    {
      "cell_type": "markdown",
      "metadata": {
        "id": "F9ETCOsKiTou"
      },
      "source": [
        "### Wrong way (II)"
      ]
    },
    {
      "cell_type": "code",
      "execution_count": null,
      "metadata": {
        "colab": {
          "base_uri": "https://localhost:8080/",
          "height": 296
        },
        "id": "bnWQ2srIiVqL",
        "outputId": "6ceb1089-35ca-403a-8408-a47be7d69cf2"
      },
      "outputs": [
        {
          "data": {
            "text/plain": [
              "<matplotlib.legend.Legend at 0x7f77842901c0>"
            ]
          },
          "execution_count": 26,
          "metadata": {},
          "output_type": "execute_result"
        },
        {
          "data": {
            "image/png": "[encoded data removed]",
            "text/plain": [
              "<Figure size 432x288 with 1 Axes>"
            ]
          },
          "metadata": {
            "needs_background": "light"
          },
          "output_type": "display_data"
        }
      ],
      "source": [
        "np.random.shuffle(xs)\n",
        "np.random.shuffle(ys)\n",
        "\n",
        "plt.plot(xs[:Ntrain], ys[:Ntrain], 'r+')\n",
        "plt.plot(xs[Ntrain:], ys[Ntrain:], 'bx')\n",
        "plt.xlabel('x'); plt.ylabel('y')\n",
        "\n",
        "plt.legend([\"Train\", \"Test\"])"
      ]
    },
    {
      "cell_type": "markdown",
      "metadata": {
        "id": "FGOpC0mmielR"
      },
      "source": [
        "Let's take a look back at our data"
      ]
    },
    {
      "cell_type": "code",
      "execution_count": null,
      "metadata": {
        "colab": {
          "base_uri": "https://localhost:8080/",
          "height": 282
        },
        "id": "RoOQcET4ihrG",
        "outputId": "b9810c93-6b1e-4bdb-c5f2-464abc3574dd"
      },
      "outputs": [
        {
          "data": {
            "text/plain": [
              "[<matplotlib.lines.Line2D at 0x7f7784152e20>]"
            ]
          },
          "execution_count": 27,
          "metadata": {},
          "output_type": "execute_result"
        },
        {
          "data": {
            "image/png": "[encoded data removed]",
            "text/plain": [
              "<Figure size 432x288 with 1 Axes>"
            ]
          },
          "metadata": {
            "needs_background": "light"
          },
          "output_type": "display_data"
        }
      ],
      "source": [
        "plt.plot(xs, ys, 'ko')"
      ]
    },
    {
      "cell_type": "markdown",
      "metadata": {
        "id": "ldqSQilLijrM"
      },
      "source": [
        "Ah!!!! They are all mixed up!!!\n",
        "\n",
        "\n",
        "We're screwed!!"
      ]
    },
    {
      "cell_type": "markdown",
      "metadata": {
        "id": "mssdKe_Qital"
      },
      "source": [
        "Hey! we have a copy, remember?"
      ]
    },
    {
      "cell_type": "code",
      "execution_count": null,
      "metadata": {
        "colab": {
          "base_uri": "https://localhost:8080/",
          "height": 282
        },
        "id": "elt-OCETimo1",
        "outputId": "1a78bdcc-16b1-44c5-ab82-0f8c4f750e7a"
      },
      "outputs": [
        {
          "data": {
            "text/plain": [
              "[<matplotlib.lines.Line2D at 0x7f776cf14730>]"
            ]
          },
          "execution_count": 28,
          "metadata": {},
          "output_type": "execute_result"
        },
        {
          "data": {
            "image/png": "[encoded data removed]",
            "text/plain": [
              "<Figure size 432x288 with 1 Axes>"
            ]
          },
          "metadata": {
            "needs_background": "light"
          },
          "output_type": "display_data"
        }
      ],
      "source": [
        "plt.plot(DataX, DataY, \".\")"
      ]
    },
    {
      "cell_type": "markdown",
      "metadata": {
        "id": "mLaBg-Cti23O"
      },
      "source": [
        "### Use a standard module to separate data\n",
        "\n",
        "\n",
        "check out [sklearn split data](https://scikit-learn.org/stable/modules/generated/sklearn.model_selection.train_test_split.html)"
      ]
    },
    {
      "cell_type": "code",
      "execution_count": null,
      "metadata": {
        "id": "FlkSzIudi3TA"
      },
      "outputs": [],
      "source": [
        "from sklearn.model_selection import train_test_split"
      ]
    },
    {
      "cell_type": "code",
      "execution_count": null,
      "metadata": {
        "colab": {
          "base_uri": "https://localhost:8080/"
        },
        "id": "NPWyUEF-i-t2",
        "outputId": "6bd20cf0-d740-4c5e-f69e-dd0efabc0321"
      },
      "outputs": [
        {
          "name": "stdout",
          "output_type": "stream",
          "text": [
            "(500,)\n",
            "(500,)\n"
          ]
        }
      ],
      "source": [
        "print(DataX.shape)\n",
        "print(DataY.shape)"
      ]
    },
    {
      "cell_type": "code",
      "execution_count": null,
      "metadata": {
        "id": "JsdOUBV8jDS2"
      },
      "outputs": [],
      "source": [
        "#x_train, x_test, y_train, y_test = train_test_split(xs.reshape((-1,1)), ys.reshape((-1,1)), test_size=0.25, random_state=42)\n",
        "\n",
        "x_train, x_test, y_train, y_test = train_test_split(DataX, DataY, test_size=0.30, random_state=42)"
      ]
    },
    {
      "cell_type": "code",
      "execution_count": null,
      "metadata": {
        "colab": {
          "base_uri": "https://localhost:8080/"
        },
        "id": "TbdfUpqhjHL2",
        "outputId": "6e9ac3ff-ba1a-4ca9-c2e6-80359fd37741"
      },
      "outputs": [
        {
          "name": "stdout",
          "output_type": "stream",
          "text": [
            "(350,)\n",
            "(350,)\n",
            "(150,)\n",
            "(150,)\n"
          ]
        }
      ],
      "source": [
        "print(x_train.shape)\n",
        "print(y_train.shape)\n",
        "print(x_test.shape)\n",
        "print(y_test.shape)"
      ]
    },
    {
      "cell_type": "code",
      "execution_count": null,
      "metadata": {
        "colab": {
          "base_uri": "https://localhost:8080/",
          "height": 296
        },
        "id": "LVwEyPV-jLJy",
        "outputId": "43087745-0cf9-41f7-91e8-0f670d588062"
      },
      "outputs": [
        {
          "data": {
            "text/plain": [
              "Text(0, 0.5, 'y')"
            ]
          },
          "execution_count": 33,
          "metadata": {},
          "output_type": "execute_result"
        },
        {
          "data": {
            "image/png": "[encoded data removed]",
            "text/plain": [
              "<Figure size 432x288 with 1 Axes>"
            ]
          },
          "metadata": {
            "needs_background": "light"
          },
          "output_type": "display_data"
        }
      ],
      "source": [
        "plt.plot(x_train, y_train, 'r+')\n",
        "plt.plot(x_test, y_test, 'bx')\n",
        "plt.xlabel('x'); plt.ylabel('y')"
      ]
    },
    {
      "cell_type": "markdown",
      "metadata": {
        "id": "UYaXoYALAJju"
      },
      "source": [
        "#Model selection"
      ]
    },
    {
      "cell_type": "code",
      "execution_count": null,
      "metadata": {
        "id": "qkFg6_HLOvtk"
      },
      "outputs": [],
      "source": [
        "# Small set\n",
        "smallx = np.random.uniform(low=0.0, high=1.0, size=20)\n",
        "smally = gen_data(smallx)\n",
        "\n",
        "\n",
        "x_train, x_test, y_train, y_test = train_test_split(smallx, smally, test_size=0.30, random_state=42)\n",
        "\n",
        "# Large set\n",
        "#x_train, x_test, y_train, y_test = train_test_split(DataX, DataY, test_size=0.30, random_state=42)\n",
        "\n"
      ]
    },
    {
      "cell_type": "code",
      "execution_count": null,
      "metadata": {
        "colab": {
          "base_uri": "https://localhost:8080/"
        },
        "id": "k7_aGT28FPlt",
        "outputId": "9523a9f9-0a4f-4b1f-a3e7-cf07f02d8c13"
      },
      "outputs": [
        {
          "data": {
            "text/plain": [
              "(2, 14)"
            ]
          },
          "execution_count": 71,
          "metadata": {},
          "output_type": "execute_result"
        }
      ],
      "source": [
        "# Prepare training data\n",
        "trainXY = np.c_[x_train, y_train].T\n",
        "trainXY.shape"
      ]
    },
    {
      "cell_type": "code",
      "execution_count": null,
      "metadata": {
        "colab": {
          "base_uri": "https://localhost:8080/"
        },
        "id": "VgdJidyVGN8Z",
        "outputId": "de87c3c2-c321-4ab1-d80d-febf6822a4a9"
      },
      "outputs": [
        {
          "data": {
            "text/plain": [
              "(2, 6)"
            ]
          },
          "execution_count": 72,
          "metadata": {},
          "output_type": "execute_result"
        }
      ],
      "source": [
        "# Prepara test data\n",
        "testXY = np.c_[x_test, y_test].T\n",
        "testXY.shape"
      ]
    },
    {
      "cell_type": "code",
      "execution_count": null,
      "metadata": {
        "colab": {
          "base_uri": "https://localhost:8080/"
        },
        "id": "-1KwP1OjB_92",
        "outputId": "157fa4de-8ea3-432e-a4dd-33a6c5cb6c61"
      },
      "outputs": [
        {
          "name": "stdout",
          "output_type": "stream",
          "text": [
            "Degree  1\n",
            "* Training error =  7.502709585093429\n",
            "* Test error =  6.06899530085562\n",
            "Degree  2\n",
            "* Training error =  3.902131371250251\n",
            "* Test error =  2.923561432089979\n",
            "Degree  3\n",
            "* Training error =  1.1755553525484321\n",
            "* Test error =  1.064523504108737\n",
            "Degree  4\n",
            "* Training error =  1.0396189360688404\n",
            "* Test error =  0.9193009207596456\n",
            "Degree  5\n",
            "* Training error =  0.3986541047146279\n",
            "* Test error =  0.1785704266277708\n",
            "Degree  6\n",
            "* Training error =  0.3932973964850849\n",
            "* Test error =  0.20094179979512003\n",
            "Degree  7\n",
            "* Training error =  0.3119633420489649\n",
            "* Test error =  0.29124987205354064\n",
            "Degree  10\n",
            "* Training error =  0.24260132585426283\n",
            "* Test error =  0.1536313174621435\n",
            "Degree  13\n",
            "* Training error =  2.458893679207135\n",
            "* Test error =  412.303567982673\n",
            "Degree  15\n",
            "* Training error =  0.15119887087012743\n",
            "* Test error =  0.9880698087106298\n",
            "Degree  18\n",
            "* Training error =  0.32520883167560727\n",
            "* Test error =  2547.1778257911888\n",
            "Degree  19\n",
            "* Training error =  0.39966855918337335\n",
            "* Test error =  4034.195440033432\n"
          ]
        }
      ],
      "source": [
        "Ms = [1, 2, 3, 4, 5, 6, 7, 10, 13, 15, 18, 19]\n",
        "\n",
        "train_errs = []\n",
        "test_errs = []\n",
        "\n",
        "ws = []\n",
        "\n",
        "for M in Ms:\n",
        "\n",
        "  print('Degree ', M)\n",
        "  w0 = np.random.normal(0, 1, M).T.tolist()\n",
        "\n",
        "  # Train\n",
        "  w =sctrain(w0, trainXY[0,:], trainXY[1,:])\n",
        "\n",
        "  ws.append(w)\n",
        "\n",
        "  # \"Test\" (sort of)\n",
        "  D, N = trainXY.shape\n",
        "  ys = np.array([fmodel(trainXY[0,i], w) for i in range(N)])\n",
        "  Training_error = np.sum(np.square(ys - trainXY[1,:]))\n",
        "  print('* Training error = ', Training_error)\n",
        "  train_errs.append(Training_error)\n",
        "\n",
        "  ## Test error\n",
        "  D, N = testXY.shape\n",
        "  ys = np.array([fmodel(testXY[0,i], w) for i in range(N)])\n",
        "  Test_error = np.sum(np.square(ys - testXY[1,:]))\n",
        "  print('* Test error = ', Test_error)\n",
        "  test_errs.append(Test_error)"
      ]
    },
    {
      "cell_type": "code",
      "execution_count": null,
      "metadata": {
        "colab": {
          "base_uri": "https://localhost:8080/",
          "height": 296
        },
        "id": "mB--UyIqHwTh",
        "outputId": "0aaec41c-be5e-4329-9cc6-6e3f00e010f5"
      },
      "outputs": [
        {
          "data": {
            "text/plain": [
              "<matplotlib.legend.Legend at 0x7f7757e53460>"
            ]
          },
          "execution_count": 74,
          "metadata": {},
          "output_type": "execute_result"
        },
        {
          "data": {
            "image/png": "[encoded data removed]",
            "text/plain": [
              "<Figure size 432x288 with 1 Axes>"
            ]
          },
          "metadata": {
            "needs_background": "light"
          },
          "output_type": "display_data"
        }
      ],
      "source": [
        "plt.plot(Ms, train_errs, 'b--')\n",
        "plt.plot(Ms, test_errs, 'r')\n",
        "plt.xlabel('Degree')\n",
        "plt.ylabel('Error')\n",
        "plt.legend(['Train', 'Test'])"
      ]
    },
    {
      "cell_type": "code",
      "execution_count": null,
      "metadata": {
        "colab": {
          "base_uri": "https://localhost:8080/"
        },
        "id": "mzs-rRJcWLnA",
        "outputId": "bb402084-9e79-4c0c-bb73-55303814c7bc"
      },
      "outputs": [
        {
          "name": "stdout",
          "output_type": "stream",
          "text": [
            "ID:           \t0;\t1;\t2;\t3;\t4;\t5;\t6;\t7;\t8;\t9;\t10;\t11;\n",
            "Complexity M: \t1;\t2;\t3;\t4;\t5;\t6;\t7;\t10;\t13;\t15;\t18;\t19;\n",
            "Train error:  \t7.50;\t3.90;\t1.18;\t1.04;\t0.40;\t0.39;\t0.31;\t0.24;\t2.46;\t0.15;\t0.33;\t0.40;\n",
            "Test error:   \t6.07;\t2.92;\t1.06;\t0.92;\t0.18;\t0.20;\t0.29;\t0.15;\t412.30;\t0.99;\t2547.18;\t4034.20;\n"
          ]
        }
      ],
      "source": [
        "print(\"ID:          \", (\"\\t{};\"*len(Ms)).format(*range(len(Ms))))\n",
        "print(\"Complexity M:\", (\"\\t{};\"*len(Ms)).format(*Ms))\n",
        "print(\"Train error: \", (\"\\t{:0.2f};\"*len(train_errs)).format(*train_errs))\n",
        "print(\"Test error:  \", (\"\\t{:0.2f};\"*len(test_errs)).format(*test_errs))\n"
      ]
    },
    {
      "cell_type": "code",
      "execution_count": null,
      "metadata": {
        "colab": {
          "base_uri": "https://localhost:8080/",
          "height": 296
        },
        "id": "n18C2dNsaTCO",
        "outputId": "a78f4eea-56da-45fc-d5e4-d516cd6bb6b4"
      },
      "outputs": [
        {
          "data": {
            "text/plain": [
              "<matplotlib.legend.Legend at 0x7f7757db17c0>"
            ]
          },
          "execution_count": 78,
          "metadata": {},
          "output_type": "execute_result"
        },
        {
          "data": {
            "image/png": "[encoded data removed]",
            "text/plain": [
              "<Figure size 432x288 with 1 Axes>"
            ]
          },
          "metadata": {
            "needs_background": "light"
          },
          "output_type": "display_data"
        }
      ],
      "source": [
        "plt.plot(Ms[:-4], train_errs[:-4], 'b--')\n",
        "plt.plot(Ms[:-4], test_errs[:-4], 'r')\n",
        "plt.xlabel('Degree')\n",
        "plt.ylabel('Error')\n",
        "plt.legend(['Train', 'Test'])"
      ]
    },
    {
      "cell_type": "markdown",
      "metadata": {
        "id": "2gWE6BWpHBBD"
      },
      "source": [
        "To select a model, use test error as a guide.\n"
      ]
    },
    {
      "cell_type": "markdown",
      "metadata": {
        "id": "jbfjiSNNHTEj"
      },
      "source": [
        "We usually call test data using for selecting a model \"**validation dataset**\".\n",
        "\n",
        "Then, we use another set, \"test dataset\" to do the final evaluation."
      ]
    },
    {
      "cell_type": "code",
      "execution_count": null,
      "metadata": {
        "id": "gvi4t3evQjOc"
      },
      "outputs": [],
      "source": [
        " chosenID = 4\n",
        "\n",
        " N = 50\n",
        " xs = np.linspace(0, 1, num=N)\n",
        " ys = np.array([fmodel(xs[i], ws[chosenID]) for i in range(N)])"
      ]
    },
    {
      "cell_type": "code",
      "execution_count": null,
      "metadata": {
        "colab": {
          "base_uri": "https://localhost:8080/",
          "height": 286
        },
        "id": "WwlLL9tWQ56L",
        "outputId": "6a8e2142-2b32-4c03-fcf9-e11eed4c98e3"
      },
      "outputs": [
        {
          "data": {
            "text/plain": [
              "(-3.0, 4.0)"
            ]
          },
          "execution_count": 95,
          "metadata": {},
          "output_type": "execute_result"
        },
        {
          "data": {
            "image/png": "[encoded data removed]",
            "text/plain": [
              "<Figure size 432x288 with 1 Axes>"
            ]
          },
          "metadata": {
            "needs_background": "light"
          },
          "output_type": "display_data"
        }
      ],
      "source": [
        "plt.plot(x_train, y_train, 'o')\n",
        "plt.plot(x_test, y_test, 'r*')\n",
        "plt.plot(xs, ys, 'k-')\n",
        "\n",
        "plt.ylim([-3, 4])"
      ]
    },
    {
      "cell_type": "code",
      "execution_count": null,
      "metadata": {
        "colab": {
          "base_uri": "https://localhost:8080/",
          "height": 282
        },
        "id": "WUjSxuJpIGeV",
        "outputId": "852b3496-8eb9-4627-cd78-a9d776c5b963"
      },
      "outputs": [
        {
          "data": {
            "text/plain": [
              "<matplotlib.legend.Legend at 0x7f7757bcc070>"
            ]
          },
          "execution_count": 96,
          "metadata": {},
          "output_type": "execute_result"
        },
        {
          "data": {
            "image/png": "[encoded data removed]",
            "text/plain": [
              "<Figure size 432x288 with 1 Axes>"
            ]
          },
          "metadata": {
            "needs_background": "light"
          },
          "output_type": "display_data"
        }
      ],
      "source": [
        "# Once we choose a mode, we should do a final evaluation.\n",
        "# For convenience, we generate another set of data, i.e., the test set\n",
        "\n",
        "testevalx = np.linspace(0, 1, num=5)\n",
        "testevaly = gen_data(testevalx)\n",
        "\n",
        "TestDatXY = np.array([testevalx, testevaly])\n",
        "\n",
        "plt.plot(trainXY[0,:], trainXY[1,:], 'o') ## Train\n",
        "plt.plot(testXY[0,:], testXY[1,:], 'r*') ## Validation\n",
        "plt.plot(TestDatXY[0,:], TestDatXY[1,:], 'gx') ## Test\n",
        "\n",
        "plt.plot(xs, ys, 'k-')\n",
        "plt.legend(['Train', 'Val', 'Test', 'Model'])"
      ]
    },
    {
      "cell_type": "code",
      "execution_count": null,
      "metadata": {
        "colab": {
          "base_uri": "https://localhost:8080/"
        },
        "id": "EjBMALRVfIRA",
        "outputId": "5dc9ae44-ae09-4369-fbe7-a250dd4b1dbd"
      },
      "outputs": [
        {
          "name": "stdout",
          "output_type": "stream",
          "text": [
            "Final evaluation: test error =  2.9843472232276547\n"
          ]
        }
      ],
      "source": [
        "D, N = TestDatXY.shape\n",
        "yp = np.array([fmodel(TestDatXY[0,i], ws[chosenID]) for i in range(N)])\n",
        "test_error = np.sum(np.square(yp - TestDatXY[1,:]))\n",
        "print('Final evaluation: test error = ', test_error)\n"
      ]
    },
    {
      "cell_type": "markdown",
      "metadata": {
        "id": "gl5iqOyzX4L8"
      },
      "source": [
        "#MSE vs SSE"
      ]
    },
    {
      "cell_type": "code",
      "execution_count": null,
      "metadata": {
        "colab": {
          "base_uri": "https://localhost:8080/"
        },
        "id": "yJNDGFmQX7oj",
        "outputId": "2e1b3fbe-3985-4874-f8fb-c70ed980e6c6"
      },
      "outputs": [
        {
          "name": "stdout",
          "output_type": "stream",
          "text": [
            "Final evaluation: test error =  49.32051765675672\n"
          ]
        }
      ],
      "source": [
        "N = 500\n",
        "\n",
        "testevalx = np.linspace(0, 1, num=N)\n",
        "testevaly = gen_data(testevalx)\n",
        "\n",
        "TestDatXY = np.array([testevalx, testevaly])\n",
        "yp = np.array([fmodel(TestDatXY[0,i], ws[chosenID]) for i in range(N)])\n",
        "test_error = np.sum(np.square(yp - TestDatXY[1,:]))\n",
        "print('Final evaluation: test error = ', test_error)"
      ]
    },
    {
      "cell_type": "markdown",
      "metadata": {
        "id": "A6bCQWGmYMul"
      },
      "source": [
        "In practice, it is more convenient to use MSE, rather than SSE."
      ]
    },
    {
      "cell_type": "code",
      "execution_count": null,
      "metadata": {
        "colab": {
          "base_uri": "https://localhost:8080/"
        },
        "id": "uPYrSBDYYTHo",
        "outputId": "89308c54-8d84-49d9-f07c-c2d7efdf27a7"
      },
      "outputs": [
        {
          "name": "stdout",
          "output_type": "stream",
          "text": [
            "Final evaluation: mse =  0.09581368709411896\n"
          ]
        }
      ],
      "source": [
        "N = 500\n",
        "\n",
        "testevalx = np.linspace(0, 1, num=N)\n",
        "testevaly = gen_data(testevalx)\n",
        "\n",
        "TestDatXY = np.array([testevalx, testevaly])\n",
        "yp = np.array([fmodel(TestDatXY[0,i], ws[chosenID]) for i in range(N)])\n",
        "mse = np.mean(np.square(yp - TestDatXY[1,:]))\n",
        "print('Final evaluation: mse = ', mse)\n",
        "\n",
        "# MSE is less sensitive to a number of datapoints."
      ]
    },
    {
      "cell_type": "code",
      "execution_count": null,
      "metadata": {
        "colab": {
          "base_uri": "https://localhost:8080/",
          "height": 282
        },
        "id": "rcLPGOPycUqC",
        "outputId": "8b2959e6-5353-48c6-af77-b2487852fab2"
      },
      "outputs": [
        {
          "data": {
            "text/plain": [
              "<matplotlib.legend.Legend at 0x7f7757bfe370>"
            ]
          },
          "execution_count": 100,
          "metadata": {},
          "output_type": "execute_result"
        },
        {
          "data": {
            "image/png": "[encoded data removed]",
            "text/plain": [
              "<Figure size 432x288 with 1 Axes>"
            ]
          },
          "metadata": {
            "needs_background": "light"
          },
          "output_type": "display_data"
        }
      ],
      "source": [
        "plt.plot(testevalx, testevaly, 'r*')\n",
        "plt.plot(testevalx, yp, 'k-')\n",
        "plt.plot(x_train, y_train, 'bo')\n",
        "plt.legend(['test', 'pred', 'train'], loc='lower right')"
      ]
    },
    {
      "cell_type": "markdown",
      "metadata": {
        "id": "4ESf1O_MjOV5"
      },
      "source": [
        "Life is as good as it gets.\n",
        "\n",
        "---\n",
        "\n",
        "**The End.**"
      ]
    },
    {
      "cell_type": "markdown",
      "metadata": {
        "id": "2jj0ijgBx-R5"
      },
      "source": [
        "#Countermeasure to overfitting"
      ]
    },
    {
      "cell_type": "markdown",
      "metadata": {
        "id": "xjg7V63Ex_EC"
      },
      "source": [
        "\n",
        "\n",
        "*   Use a less complex model, e.g., lower degree\n",
        "*   Have more data\n",
        "*   Regularization   \n"
      ]
    },
    {
      "cell_type": "markdown",
      "metadata": {
        "id": "gseQAqnZyNSB"
      },
      "source": [
        "##Use less complexity"
      ]
    },
    {
      "cell_type": "code",
      "execution_count": null,
      "metadata": {
        "colab": {
          "base_uri": "https://localhost:8080/",
          "height": 296
        },
        "id": "LUXopDwnyUS-",
        "outputId": "1a349cb6-b4a0-4350-b8c1-6fca9940a75e"
      },
      "outputs": [
        {
          "name": "stdout",
          "output_type": "stream",
          "text": [
            "Training error =  0.1031952902205021\n"
          ]
        },
        {
          "data": {
            "image/png": "[encoded data removed]",
            "text/plain": [
              "<Figure size 432x288 with 1 Axes>"
            ]
          },
          "metadata": {
            "needs_background": "light"
          },
          "output_type": "display_data"
        }
      ],
      "source": [
        "w0 = [0, 0, 0, 0]\n",
        "\n",
        "# Train\n",
        "w =sctrain(w0, DatXY[0,:], DatXY[1,:])\n",
        "\n",
        "# \"Test\" (sort of)\n",
        "D, N = DatXY.shape\n",
        "ys = [fmodel(DatXY[0,i], w) for i in range(N)]\n",
        "Training_error = np.sum(np.square(ys - DatXY[1,:]))\n",
        "print('Training error = ', Training_error)\n",
        "\n",
        "# Plot\n",
        "N = 500; xs = np.linspace(0, 1, num=N); ys = [fmodel(xs[i], w) for i in range(N)]\n",
        "\n",
        "# Plot data\n",
        "plt.plot(DatXY[0,:], DatXY[1,:], 'ko')\n",
        "\n",
        "# Plot prediction\n",
        "plt.plot(xs, ys); plt.xlabel('x'); plt.ylabel('y'); plt.show()"
      ]
    },
    {
      "cell_type": "markdown",
      "metadata": {
        "id": "6PcNKJVhyOwX"
      },
      "source": [
        "##Use more data"
      ]
    },
    {
      "cell_type": "markdown",
      "metadata": {
        "id": "6aGl7wOgyqT3"
      },
      "source": [
        "In general, acquisition of data is costly.\n",
        "\n",
        "For illustration, let's generate data:\n",
        "\n",
        "$$y = sin(x) + x + \\epsilon$$"
      ]
    },
    {
      "cell_type": "code",
      "execution_count": null,
      "metadata": {
        "id": "chEhdXGGyGOl"
      },
      "outputs": [],
      "source": [
        "xs = np.linspace(0, 1, num=80)\n",
        "ys = gen_data(xs)\n",
        "\n",
        "DatXY = np.array([xs, ys])"
      ]
    },
    {
      "cell_type": "code",
      "execution_count": null,
      "metadata": {
        "colab": {
          "base_uri": "https://localhost:8080/",
          "height": 285
        },
        "id": "fQiC8xjozGLU",
        "outputId": "58d52361-d05f-41c0-a90d-e7e7a4c3304f"
      },
      "outputs": [
        {
          "data": {
            "text/plain": [
              "[<matplotlib.lines.Line2D at 0x7f7757aaa7f0>]"
            ]
          },
          "execution_count": 103,
          "metadata": {},
          "output_type": "execute_result"
        },
        {
          "data": {
            "image/png": "[encoded data removed]",
            "text/plain": [
              "<Figure size 432x288 with 1 Axes>"
            ]
          },
          "metadata": {
            "needs_background": "light"
          },
          "output_type": "display_data"
        }
      ],
      "source": [
        "plt.plot(DatXY[0,:], DatXY[1,:], '*')"
      ]
    },
    {
      "cell_type": "code",
      "execution_count": null,
      "metadata": {
        "colab": {
          "base_uri": "https://localhost:8080/",
          "height": 299
        },
        "id": "LChKRtyyzKOv",
        "outputId": "1628ddc2-c7cf-4374-9c26-c1311a2df8c4"
      },
      "outputs": [
        {
          "name": "stdout",
          "output_type": "stream",
          "text": [
            "Training error =  2.299170231094237\n"
          ]
        },
        {
          "data": {
            "image/png": "[encoded data removed]",
            "text/plain": [
              "<Figure size 432x288 with 1 Axes>"
            ]
          },
          "metadata": {
            "needs_background": "light"
          },
          "output_type": "display_data"
        }
      ],
      "source": [
        "w0 = [0, 0, 0, 0, 0, 0, 0, 0, 0, 0]\n",
        "\n",
        "# Train\n",
        "w =sctrain(w0, DatXY[0,:], DatXY[1,:])\n",
        "\n",
        "# \"Test\" (sort of)\n",
        "D, N = DatXY.shape\n",
        "ys = [fmodel(DatXY[0,i], w) for i in range(N)]\n",
        "Training_error = np.sum(np.square(ys - DatXY[1,:]))\n",
        "print('Training error = ', Training_error)\n",
        "\n",
        "# Plot\n",
        "N = 500\n",
        "xs = np.linspace(0, 1, num=N)\n",
        "ys = [fmodel(xs[i], w) for i in range(N)]\n",
        "\n",
        "# Plot data\n",
        "plt.plot(DatXY[0,:], DatXY[1,:], 'ko')\n",
        "\n",
        "# Plot prediction\n",
        "plt.plot(xs, ys)\n",
        "plt.xlabel('x')\n",
        "plt.ylabel('y')\n",
        "plt.show()"
      ]
    },
    {
      "cell_type": "markdown",
      "metadata": {
        "id": "3aCP67_qzSr-"
      },
      "source": [
        "##Do regularization\n",
        "\n",
        "There are many **regularization** techniques.\n",
        "But, here, we will see \"**weight decay**\".\n",
        "\n",
        "loss:\n",
        "\n",
        "$$E = \\frac{1}{2}\\sum_n (\\hat{y} - y)^2 + \\frac{\\lambda}{2} \\sum_m w_m^2$$\n",
        "\n",
        "where $\\lambda \\geq 0$.\n",
        "\n",
        "Lambda is called \"**Lagrange parameter**\"."
      ]
    },
    {
      "cell_type": "code",
      "execution_count": null,
      "metadata": {
        "id": "rdU91wqBznVe"
      },
      "outputs": [],
      "source": [
        "def shortcut_train_polyW8DK(w, DataXY, lm=1):\n",
        "    '''\n",
        "    Y [1 x N] = w [1 x M] * Phi [M x N]\n",
        "\n",
        "    Grad [M x 1] = Phi [M x N] * (Y' [N x 1] - T' [N x 1]) + lambda * w'\n",
        "    Therefore,\n",
        "        Grad    = Phi [M x N] * (Phi'*w' - T' [N x 1]) + lambda * w'\n",
        "                = Phi*Phi'*w' - Phi*T' + lambda * w'.\n",
        "    Thus, at Grad = 0, w' = Phi*T' * inv(Phi*Phi')\n",
        "    '''\n",
        "    assert DataXY.shape[0] == 2\n",
        "\n",
        "    M = len(w)\n",
        "    d, N = DataXY.shape\n",
        "\n",
        "    X = DataXY[0,:]\n",
        "    T = DataXY[1,:]\n",
        "\n",
        "\n",
        "    # Compose Phi matrix [M x N]\n",
        "    Phi = np.vstack((np.ones((1, N)),\n",
        "            np.tile(X, (M-1, 1))\n",
        "            ))\n",
        "\n",
        "    Phi = np.cumprod(Phi, axis=0)\n",
        "\n",
        "    A = np.dot(Phi, Phi.T) + lm * np.diag(np.ones(M))\n",
        "    b = np.dot(Phi, T.T)\n",
        "\n",
        "    w = np.linalg.solve(A, b)\n",
        "\n",
        "    return w"
      ]
    },
    {
      "cell_type": "code",
      "execution_count": null,
      "metadata": {
        "colab": {
          "base_uri": "https://localhost:8080/",
          "height": 282
        },
        "id": "x7L2lB4LzsGp",
        "outputId": "4bddf257-3f6b-4253-c951-4c0b9c8ed931"
      },
      "outputs": [
        {
          "data": {
            "text/plain": [
              "[<matplotlib.lines.Line2D at 0x7f7757a02fd0>]"
            ]
          },
          "execution_count": 106,
          "metadata": {},
          "output_type": "execute_result"
        },
        {
          "data": {
            "image/png": "[encoded data removed]",
            "text/plain": [
              "<Figure size 432x288 with 1 Axes>"
            ]
          },
          "metadata": {
            "needs_background": "light"
          },
          "output_type": "display_data"
        }
      ],
      "source": [
        "DX = [0.000, 0.111, 0.222, 0.333, 0.444, 0.556, 0.667, 0.778, 0.889, 1]\n",
        "DY = [-0.028, 0.988, 1.387, 1.625, 1.089, 0.713, 0.328, 0.535, 1.112, 2.004]\n",
        "\n",
        "DatXY = np.array([DX, DY])\n",
        "plt.plot(DatXY[0,:], DatXY[1,:], 'ko')"
      ]
    },
    {
      "cell_type": "code",
      "execution_count": null,
      "metadata": {
        "colab": {
          "base_uri": "https://localhost:8080/"
        },
        "id": "Pz-Z74pO0B6c",
        "outputId": "e4d0bede-f548-4541-d53d-065b6e02eb1d"
      },
      "outputs": [
        {
          "data": {
            "text/plain": [
              "array([-2.70633880e-02,  2.60656362e+01, -3.22663786e+02,  2.31944371e+03,\n",
              "       -9.08529103e+03,  2.03829481e+04, -2.72695738e+04,  2.16123298e+04,\n",
              "       -9.37681512e+03,  1.71558703e+03])"
            ]
          },
          "execution_count": 107,
          "metadata": {},
          "output_type": "execute_result"
        }
      ],
      "source": [
        "w0 = [0, 0, 0, 0, 0, 0, 0, 0, 0, 0]\n",
        "\n",
        "# Train\n",
        "w = shortcut_train_polyW8DK(w0, DatXY, lm=1e-12) # try lm: 0, 1e-13, 1e-12, 1e-6\n",
        "w"
      ]
    },
    {
      "cell_type": "code",
      "execution_count": null,
      "metadata": {
        "colab": {
          "base_uri": "https://localhost:8080/",
          "height": 296
        },
        "id": "HaM687LC0Fzz",
        "outputId": "4af33fc7-f174-413d-e0bb-81278998fd17"
      },
      "outputs": [
        {
          "name": "stdout",
          "output_type": "stream",
          "text": [
            "Training error =  0.01940764954196061\n"
          ]
        },
        {
          "data": {
            "image/png": "[encoded data removed]",
            "text/plain": [
              "<Figure size 432x288 with 1 Axes>"
            ]
          },
          "metadata": {
            "needs_background": "light"
          },
          "output_type": "display_data"
        }
      ],
      "source": [
        "# \"Test\" (sort of)\n",
        "D, N = DatXY.shape\n",
        "ys = [ fmodel(DatXY[0,i], w) for i in range(N)]\n",
        "Training_error = np.sum(np.square(ys - DatXY[1,:]))\n",
        "print('Training error = ', Training_error)\n",
        "\n",
        "# Plot\n",
        "N = 500\n",
        "xs = np.linspace(0, 1, num=N)\n",
        "ys = [fmodel(xs[i], w) for i in range(N)]\n",
        "\n",
        "# Plot data\n",
        "plt.plot(DatXY[0,:], DatXY[1,:], 'ko')\n",
        "\n",
        "# Plot prediction\n",
        "plt.plot(xs, ys)\n",
        "plt.xlabel('x')\n",
        "plt.ylabel('y')\n",
        "plt.show()"
      ]
    },
    {
      "cell_type": "markdown",
      "metadata": {
        "id": "RkGdUH6oaHes"
      },
      "source": [
        "#Ending note on evaluation metric\n",
        "\n",
        "Another metric widely used for regression is R-square.\n",
        "\n",
        "$$R^2 = 1 - \\frac{\\sum_n (\\hat{y}_n - y_n)^2}{\\sum_n (\\bar{y} - y_n)^2 }$$"
      ]
    },
    {
      "cell_type": "code",
      "execution_count": null,
      "metadata": {
        "colab": {
          "base_uri": "https://localhost:8080/"
        },
        "id": "06d20QBGaoM8",
        "outputId": "264367e8-979c-4c82-c47d-75c564b6b0f5"
      },
      "outputs": [
        {
          "name": "stdout",
          "output_type": "stream",
          "text": [
            "r2 = 0.8742065359933777\n"
          ]
        }
      ],
      "source": [
        "r2 = 1- np.sum( np.square(yp - TestDatXY[1,:]) )/np.sum( np.square( np.mean(TestDatXY[1,:]) - TestDatXY[1,:]) )\n",
        "print('r2 =', r2)"
      ]
    },
    {
      "cell_type": "markdown",
      "metadata": {
        "id": "5ZErGVELb5BU"
      },
      "source": [
        "## Standard R-square"
      ]
    },
    {
      "cell_type": "code",
      "execution_count": null,
      "metadata": {
        "colab": {
          "base_uri": "https://localhost:8080/"
        },
        "id": "xZhFAat4b8ab",
        "outputId": "5a38c10d-56a1-4137-a487-5138870d38de"
      },
      "outputs": [
        {
          "data": {
            "text/plain": [
              "0.8742065359933777"
            ]
          },
          "execution_count": 111,
          "metadata": {},
          "output_type": "execute_result"
        }
      ],
      "source": [
        "from sklearn.metrics import r2_score\n",
        "\n",
        "r2_score(TestDatXY[1,:], yp)"
      ]
    }
  ],
  "metadata": {
    "colab": {
      "provenance": [],
      "include_colab_link": true
    },
    "kernelspec": {
      "display_name": "Python 3",
      "name": "python3"
    },
    "language_info": {
      "codemirror_mode": {
        "name": "ipython",
        "version": 3
      },
      "file_extension": ".py",
      "mimetype": "text/x-python",
      "name": "python",
      "nbconvert_exporter": "python",
      "pygments_lexer": "ipython3",
      "version": "3.11.4"
    }
  },
  "nbformat": 4,
  "nbformat_minor": 0
}