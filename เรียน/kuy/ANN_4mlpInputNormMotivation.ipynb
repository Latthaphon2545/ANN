{
  "nbformat": 4,
  "nbformat_minor": 0,
  "metadata": {
    "kernelspec": {
      "display_name": "py35a",
      "language": "python",
      "name": "py35a"
    },
    "language_info": {
      "codemirror_mode": {
        "name": "ipython",
        "version": 3
      },
      "file_extension": ".py",
      "mimetype": "text/x-python",
      "name": "python",
      "nbconvert_exporter": "python",
      "pygments_lexer": "ipython3",
      "version": "3.5.3"
    },
    "colab": {
      "provenance": []
    }
  },
  "cells": [
    {
      "cell_type": "markdown",
      "metadata": {
        "id": "KypsQIlxnFsp"
      },
      "source": [
        "# Input Normalization"
      ]
    },
    {
      "cell_type": "code",
      "metadata": {
        "colab": {
          "base_uri": "https://localhost:8080/",
          "height": 329
        },
        "id": "oe7QUCLVnaZU",
        "outputId": "bae7bee8-3bcf-4ae4-dd7b-18d5a544bb01"
      },
      "source": [
        "from google.colab import drive\n",
        "drive.mount('/content/drive')"
      ],
      "execution_count": null,
      "outputs": [
        {
          "output_type": "error",
          "ename": "MessageError",
          "evalue": "ignored",
          "traceback": [
            "\u001b[0;31m---------------------------------------------------------------------------\u001b[0m",
            "\u001b[0;31mMessageError\u001b[0m                              Traceback (most recent call last)",
            "\u001b[0;32m<ipython-input-1-d5df0069828e>\u001b[0m in \u001b[0;36m<module>\u001b[0;34m\u001b[0m\n\u001b[1;32m      1\u001b[0m \u001b[0;32mfrom\u001b[0m \u001b[0mgoogle\u001b[0m\u001b[0;34m.\u001b[0m\u001b[0mcolab\u001b[0m \u001b[0;32mimport\u001b[0m \u001b[0mdrive\u001b[0m\u001b[0;34m\u001b[0m\u001b[0;34m\u001b[0m\u001b[0m\n\u001b[0;32m----> 2\u001b[0;31m \u001b[0mdrive\u001b[0m\u001b[0;34m.\u001b[0m\u001b[0mmount\u001b[0m\u001b[0;34m(\u001b[0m\u001b[0;34m'/content/drive'\u001b[0m\u001b[0;34m)\u001b[0m\u001b[0;34m\u001b[0m\u001b[0;34m\u001b[0m\u001b[0m\n\u001b[0m",
            "\u001b[0;32m/usr/local/lib/python3.7/dist-packages/google/colab/drive.py\u001b[0m in \u001b[0;36mmount\u001b[0;34m(mountpoint, force_remount, timeout_ms)\u001b[0m\n\u001b[1;32m    103\u001b[0m       \u001b[0mforce_remount\u001b[0m\u001b[0;34m=\u001b[0m\u001b[0mforce_remount\u001b[0m\u001b[0;34m,\u001b[0m\u001b[0;34m\u001b[0m\u001b[0;34m\u001b[0m\u001b[0m\n\u001b[1;32m    104\u001b[0m       \u001b[0mtimeout_ms\u001b[0m\u001b[0;34m=\u001b[0m\u001b[0mtimeout_ms\u001b[0m\u001b[0;34m,\u001b[0m\u001b[0;34m\u001b[0m\u001b[0;34m\u001b[0m\u001b[0m\n\u001b[0;32m--> 105\u001b[0;31m       ephemeral=True)\n\u001b[0m\u001b[1;32m    106\u001b[0m \u001b[0;34m\u001b[0m\u001b[0m\n\u001b[1;32m    107\u001b[0m \u001b[0;34m\u001b[0m\u001b[0m\n",
            "\u001b[0;32m/usr/local/lib/python3.7/dist-packages/google/colab/drive.py\u001b[0m in \u001b[0;36m_mount\u001b[0;34m(mountpoint, force_remount, timeout_ms, ephemeral)\u001b[0m\n\u001b[1;32m    118\u001b[0m   \u001b[0;32mif\u001b[0m \u001b[0mephemeral\u001b[0m\u001b[0;34m:\u001b[0m\u001b[0;34m\u001b[0m\u001b[0;34m\u001b[0m\u001b[0m\n\u001b[1;32m    119\u001b[0m     _message.blocking_request(\n\u001b[0;32m--> 120\u001b[0;31m         'request_auth', request={'authType': 'dfs_ephemeral'}, timeout_sec=None)\n\u001b[0m\u001b[1;32m    121\u001b[0m \u001b[0;34m\u001b[0m\u001b[0m\n\u001b[1;32m    122\u001b[0m   \u001b[0mmountpoint\u001b[0m \u001b[0;34m=\u001b[0m \u001b[0m_os\u001b[0m\u001b[0;34m.\u001b[0m\u001b[0mpath\u001b[0m\u001b[0;34m.\u001b[0m\u001b[0mexpanduser\u001b[0m\u001b[0;34m(\u001b[0m\u001b[0mmountpoint\u001b[0m\u001b[0;34m)\u001b[0m\u001b[0;34m\u001b[0m\u001b[0;34m\u001b[0m\u001b[0m\n",
            "\u001b[0;32m/usr/local/lib/python3.7/dist-packages/google/colab/_message.py\u001b[0m in \u001b[0;36mblocking_request\u001b[0;34m(request_type, request, timeout_sec, parent)\u001b[0m\n\u001b[1;32m    169\u001b[0m   request_id = send_request(\n\u001b[1;32m    170\u001b[0m       request_type, request, parent=parent, expect_reply=True)\n\u001b[0;32m--> 171\u001b[0;31m   \u001b[0;32mreturn\u001b[0m \u001b[0mread_reply_from_input\u001b[0m\u001b[0;34m(\u001b[0m\u001b[0mrequest_id\u001b[0m\u001b[0;34m,\u001b[0m \u001b[0mtimeout_sec\u001b[0m\u001b[0;34m)\u001b[0m\u001b[0;34m\u001b[0m\u001b[0;34m\u001b[0m\u001b[0m\n\u001b[0m",
            "\u001b[0;32m/usr/local/lib/python3.7/dist-packages/google/colab/_message.py\u001b[0m in \u001b[0;36mread_reply_from_input\u001b[0;34m(message_id, timeout_sec)\u001b[0m\n\u001b[1;32m    100\u001b[0m         reply.get('colab_msg_id') == message_id):\n\u001b[1;32m    101\u001b[0m       \u001b[0;32mif\u001b[0m \u001b[0;34m'error'\u001b[0m \u001b[0;32min\u001b[0m \u001b[0mreply\u001b[0m\u001b[0;34m:\u001b[0m\u001b[0;34m\u001b[0m\u001b[0;34m\u001b[0m\u001b[0m\n\u001b[0;32m--> 102\u001b[0;31m         \u001b[0;32mraise\u001b[0m \u001b[0mMessageError\u001b[0m\u001b[0;34m(\u001b[0m\u001b[0mreply\u001b[0m\u001b[0;34m[\u001b[0m\u001b[0;34m'error'\u001b[0m\u001b[0;34m]\u001b[0m\u001b[0;34m)\u001b[0m\u001b[0;34m\u001b[0m\u001b[0;34m\u001b[0m\u001b[0m\n\u001b[0m\u001b[1;32m    103\u001b[0m       \u001b[0;32mreturn\u001b[0m \u001b[0mreply\u001b[0m\u001b[0;34m.\u001b[0m\u001b[0mget\u001b[0m\u001b[0;34m(\u001b[0m\u001b[0;34m'data'\u001b[0m\u001b[0;34m,\u001b[0m \u001b[0;32mNone\u001b[0m\u001b[0;34m)\u001b[0m\u001b[0;34m\u001b[0m\u001b[0;34m\u001b[0m\u001b[0m\n\u001b[1;32m    104\u001b[0m \u001b[0;34m\u001b[0m\u001b[0m\n",
            "\u001b[0;31mMessageError\u001b[0m: Error: credential propagation was unsuccessful"
          ]
        }
      ]
    },
    {
      "cell_type": "code",
      "metadata": {
        "colab": {
          "base_uri": "https://localhost:8080/"
        },
        "id": "jQ93XRQGn0wI",
        "outputId": "626b1026-d154-4497-9942-a39d945615a2"
      },
      "source": [
        "!ls ./drive/MyDrive/2021/ANN/old"
      ],
      "execution_count": null,
      "outputs": [
        {
          "output_type": "stream",
          "name": "stdout",
          "text": [
            "ANN01.py\t\t\t\t   ANN_class_aux.py\n",
            "ANN_1Perceptron.ipynb\t\t\t   ANN_np03b.ipynb\n",
            "ANN_2Minnet.ipynb\t\t\t   ANN_np03.ipynb\n",
            "ANN_3mlpR.ipynb\t\t\t\t   ANN_np04a.ipynb\n",
            "ANN_4mlpInputNormMotivation.ipynb\t   ANN_revealed.py\n",
            "ANN_4mlpInputNormMotivation_Student.ipynb  ANN_WhyAndHow02.ipynb\n",
            "ANN_5Classification.ipynb\t\t   DrawANN03.py\n",
            "ANN_aux.py\t\t\t\t   __pycache__\n"
          ]
        }
      ]
    },
    {
      "cell_type": "code",
      "metadata": {
        "id": "MPW5I-8xn4YQ"
      },
      "source": [
        "import sys\n",
        "sys.path.append(\"./drive/MyDrive/2021/ANN/old\") # my path"
      ],
      "execution_count": null,
      "outputs": []
    },
    {
      "cell_type": "code",
      "metadata": {
        "collapsed": true,
        "id": "kBDoqNfKnFsx"
      },
      "source": [
        "# For beautiful math display\n",
        "from IPython.display import Math"
      ],
      "execution_count": null,
      "outputs": []
    },
    {
      "cell_type": "code",
      "metadata": {
        "id": "rMHqws82nFsy"
      },
      "source": [
        "import numpy as np\n",
        "from matplotlib import pyplot as plt\n",
        "\n",
        "#from DrawANN03 import *\n",
        "\n"
      ],
      "execution_count": null,
      "outputs": []
    },
    {
      "cell_type": "markdown",
      "metadata": {
        "id": "r-nmMF43nFsz"
      },
      "source": [
        "# Regression"
      ]
    },
    {
      "cell_type": "code",
      "metadata": {
        "scrolled": true,
        "colab": {
          "base_uri": "https://localhost:8080/",
          "height": 38
        },
        "id": "L9TrEsNTnFsz",
        "outputId": "c3c7cbd0-72e1-4ae8-9a39-3a6ddde82dce"
      },
      "source": [
        "Math(r'x \\in \\mathbb{R}^D \\mapsto y \\in \\mathbb{R}^K')"
      ],
      "execution_count": null,
      "outputs": [
        {
          "output_type": "execute_result",
          "data": {
            "text/latex": "$$x \\in \\mathbb{R}^D \\mapsto y \\in \\mathbb{R}^K$$",
            "text/plain": [
              "<IPython.core.display.Math object>"
            ]
          },
          "metadata": {},
          "execution_count": 3
        }
      ]
    },
    {
      "cell_type": "code",
      "metadata": {
        "id": "IUYuwAbznFs1",
        "outputId": "e58b5c9a-7bc5-4957-f1a5-e362277b050e"
      },
      "source": [
        "#draw_mlp2(2, 3, 1)"
      ],
      "execution_count": null,
      "outputs": [
        {
          "data": {
            "image/png": "[encoded data removed]",
            "text/plain": [
              "<matplotlib.figure.Figure at 0x22de8c4b3c8>"
            ]
          },
          "metadata": {},
          "output_type": "display_data"
        }
      ]
    },
    {
      "cell_type": "code",
      "metadata": {
        "collapsed": true,
        "id": "GGTMCepJnFs2"
      },
      "source": [
        "from ANN_aux import *"
      ],
      "execution_count": null,
      "outputs": []
    },
    {
      "cell_type": "code",
      "metadata": {
        "colab": {
          "base_uri": "https://localhost:8080/",
          "height": 318
        },
        "id": "vQIIa6TunFs2",
        "outputId": "02e9953d-1f00-492c-f65d-2294cc887b31"
      },
      "source": [
        "xs, ys = gen_data(200)\n",
        "\n",
        "print(xs.shape)\n",
        "print(ys.shape)\n",
        "\n",
        "plt.plot(xs, ys, '*')"
      ],
      "execution_count": null,
      "outputs": [
        {
          "output_type": "stream",
          "name": "stdout",
          "text": [
            "(200, 1)\n",
            "(200, 1)\n"
          ]
        },
        {
          "output_type": "execute_result",
          "data": {
            "text/plain": [
              "[<matplotlib.lines.Line2D at 0x7fa2e3e93710>]"
            ]
          },
          "metadata": {},
          "execution_count": 9
        },
        {
          "output_type": "display_data",
          "data": {
            "image/png": "[encoded data removed]",
            "text/plain": [
              "<Figure size 432x288 with 1 Axes>"
            ]
          },
          "metadata": {
            "needs_background": "light"
          }
        }
      ]
    },
    {
      "cell_type": "code",
      "metadata": {
        "colab": {
          "base_uri": "https://localhost:8080/"
        },
        "id": "lsvVrmO0nFs3",
        "outputId": "a55cc1a1-b916-4c10-ec78-e2b819655da6"
      },
      "source": [
        "# Separate data\n",
        "\n",
        "from sklearn.model_selection import train_test_split\n",
        "X_train, X_test, y_train, y_test = train_test_split(xs , ys, test_size=0.4, shuffle=True)\n",
        "\n",
        "\n",
        "print(X_train.shape)\n",
        "print(y_train.shape)\n",
        "\n",
        "print(X_test.shape)\n",
        "print(y_test.shape)"
      ],
      "execution_count": null,
      "outputs": [
        {
          "output_type": "stream",
          "name": "stdout",
          "text": [
            "(120, 1)\n",
            "(120, 1)\n",
            "(80, 1)\n",
            "(80, 1)\n"
          ]
        }
      ]
    },
    {
      "cell_type": "code",
      "metadata": {
        "collapsed": true,
        "id": "dFlBC5tUnFs4"
      },
      "source": [
        "import time"
      ],
      "execution_count": null,
      "outputs": []
    },
    {
      "cell_type": "code",
      "metadata": {
        "colab": {
          "base_uri": "https://localhost:8080/",
          "height": 388
        },
        "id": "Ra5nS0IFnFs4",
        "outputId": "bf78fcd1-11c2-48d1-c37c-17793f0a51af"
      },
      "source": [
        "\n",
        "N, D = X_train.shape\n",
        "_, K = y_train.shape\n",
        "M = 8\n",
        "\n",
        "c = np.random.normal(0, 1, K).reshape((K,1))\n",
        "v = np.random.normal(0, 1, K*M).reshape((K,M))\n",
        "b = np.random.normal(0, 2, M).reshape((M,1))\n",
        "w = np.random.normal(0, 2, M*D).reshape((M,D))\n",
        "\n",
        "t1 = time.time()\n",
        "\n",
        "cc, vv, bb, ww, train_loss = train_mlp2r(c, v, b, w, X_train, y_train, 0.3, 40000, mse_loss)\n",
        "plt.plot(train_loss)\n",
        "\n",
        "t2 = time.time()\n",
        "\n",
        "print('Time spent:', t2 - t1)\n",
        "\n",
        "Yp = mlp2r(cc, vv, bb, ww, X_train)\n",
        "print('Training')\n",
        "print('MSE = ', mse_loss(X_train, y_train, Yp))\n",
        "print('RMSE = ', np.sqrt(mse_loss(X_train, y_train, Yp)))\n",
        "\n",
        "Yp = mlp2r(cc, vv, bb, ww, X_test)\n",
        "print('Testing')\n",
        "print('MSE = ', mse_loss(X_test, y_test, Yp))\n",
        "print('RMSE = ', np.sqrt(mse_loss(X_test, y_test, Yp)))\n"
      ],
      "execution_count": null,
      "outputs": [
        {
          "output_type": "stream",
          "name": "stdout",
          "text": [
            "Time spent: 3.8443593978881836\n",
            "Training\n",
            "MSE =  0.0007927359572042184\n",
            "RMSE =  0.028155567073035813\n",
            "Testing\n",
            "MSE =  0.0009308203478993217\n",
            "RMSE =  0.030509348532856643\n"
          ]
        },
        {
          "output_type": "display_data",
          "data": {
            "image/png": "[encoded data removed]",
            "text/plain": [
              "<Figure size 432x288 with 1 Axes>"
            ]
          },
          "metadata": {
            "needs_background": "light"
          }
        }
      ]
    },
    {
      "cell_type": "code",
      "metadata": {
        "colab": {
          "base_uri": "https://localhost:8080/",
          "height": 282
        },
        "id": "Q4Rmz03LnFs5",
        "outputId": "bd16eca1-b157-44ab-ff61-2bd319919577"
      },
      "source": [
        "yp = mlp2r(cc, vv, bb, ww, X_test)\n",
        "\n",
        "plt.plot(X_test, y_test, '*')\n",
        "plt.plot(X_test, yp, 'ro')"
      ],
      "execution_count": null,
      "outputs": [
        {
          "output_type": "execute_result",
          "data": {
            "text/plain": [
              "[<matplotlib.lines.Line2D at 0x7fa2d45d55d0>]"
            ]
          },
          "metadata": {},
          "execution_count": 15
        },
        {
          "output_type": "display_data",
          "data": {
            "image/png": "[encoded data removed]",
            "text/plain": [
              "<Figure size 432x288 with 1 Axes>"
            ]
          },
          "metadata": {
            "needs_background": "light"
          }
        }
      ]
    },
    {
      "cell_type": "markdown",
      "metadata": {
        "collapsed": true,
        "id": "XmNXIRrUnFs6"
      },
      "source": [
        "# Try again with Data2"
      ]
    },
    {
      "cell_type": "code",
      "metadata": {
        "colab": {
          "base_uri": "https://localhost:8080/",
          "height": 318
        },
        "id": "ChlFos_5nFs6",
        "outputId": "96928703-ebcd-4a75-ab1a-7550c08907b7"
      },
      "source": [
        "xs, ys = gen_data2(200)\n",
        "\n",
        "print(xs.shape)\n",
        "print(ys.shape)\n",
        "\n",
        "plt.plot(xs, ys, '*')"
      ],
      "execution_count": null,
      "outputs": [
        {
          "output_type": "stream",
          "name": "stdout",
          "text": [
            "(200, 1)\n",
            "(200, 1)\n"
          ]
        },
        {
          "output_type": "execute_result",
          "data": {
            "text/plain": [
              "[<matplotlib.lines.Line2D at 0x7fa2d459b690>]"
            ]
          },
          "metadata": {},
          "execution_count": 16
        },
        {
          "output_type": "display_data",
          "data": {
            "image/png": "[encoded data removed]",
            "text/plain": [
              "<Figure size 432x288 with 1 Axes>"
            ]
          },
          "metadata": {
            "needs_background": "light"
          }
        }
      ]
    },
    {
      "cell_type": "code",
      "metadata": {
        "colab": {
          "base_uri": "https://localhost:8080/"
        },
        "id": "lwboth8inFs6",
        "outputId": "9e578e79-5fb9-4ea2-e64b-fe303022fec6"
      },
      "source": [
        "# Separate data\n",
        "\n",
        "from sklearn.model_selection import train_test_split\n",
        "X_train, X_test, y_train, y_test = train_test_split(xs , ys, test_size=0.4, shuffle=True)\n",
        "\n",
        "\n",
        "print(X_train.shape)\n",
        "print(y_train.shape)\n",
        "\n",
        "print(X_test.shape)\n",
        "print(y_test.shape)"
      ],
      "execution_count": null,
      "outputs": [
        {
          "output_type": "stream",
          "name": "stdout",
          "text": [
            "(120, 1)\n",
            "(120, 1)\n",
            "(80, 1)\n",
            "(80, 1)\n"
          ]
        }
      ]
    },
    {
      "cell_type": "code",
      "metadata": {
        "colab": {
          "base_uri": "https://localhost:8080/",
          "height": 388
        },
        "id": "1bLD8X9enFs7",
        "outputId": "589743a9-a20a-445a-ba2c-8e8d073f0b02"
      },
      "source": [
        "N, D = X_train.shape\n",
        "_, K = y_train.shape\n",
        "M = 8\n",
        "\n",
        "c = np.random.normal(0, 1, K).reshape((K,1))\n",
        "v = np.random.normal(0, 1, K*M).reshape((K,M))\n",
        "b = np.random.normal(0, 2, M).reshape((M,1))\n",
        "w = np.random.normal(0, 2, M*D).reshape((M,D))\n",
        "\n",
        "t1 = time.time()\n",
        "\n",
        "cc, vv, bb, ww, train_loss = train_mlp2r(c, v, b, w, X_train, y_train, 0.3, 40000, mse_loss)\n",
        "plt.plot(train_loss)\n",
        "\n",
        "t2 = time.time()\n",
        "\n",
        "print('Time spent:', t2 - t1)\n",
        "\n",
        "Yp = mlp2r(cc, vv, bb, ww, X_train)\n",
        "print('Training')\n",
        "print('MSE = ', mse_loss(X_train, y_train, Yp))\n",
        "print('RMSE = ', np.sqrt(mse_loss(X_train, y_train, Yp)))\n",
        "\n",
        "Yp = mlp2r(cc, vv, bb, ww, X_test)\n",
        "print('Testing')\n",
        "print('MSE = ', mse_loss(X_test, y_test, Yp))\n",
        "print('RMSE = ', np.sqrt(mse_loss(X_test, y_test, Yp)))\n"
      ],
      "execution_count": null,
      "outputs": [
        {
          "output_type": "stream",
          "name": "stdout",
          "text": [
            "Time spent: 3.8342556953430176\n",
            "Training\n",
            "MSE =  0.027847128728085858\n",
            "RMSE =  0.166874589821476\n",
            "Testing\n",
            "MSE =  0.04139068518550868\n",
            "RMSE =  0.20344700829825116\n"
          ]
        },
        {
          "output_type": "display_data",
          "data": {
            "image/png": "[encoded data removed]",
            "text/plain": [
              "<Figure size 432x288 with 1 Axes>"
            ]
          },
          "metadata": {
            "needs_background": "light"
          }
        }
      ]
    },
    {
      "cell_type": "code",
      "metadata": {
        "colab": {
          "base_uri": "https://localhost:8080/",
          "height": 282
        },
        "id": "ogc2-bw8nFs7",
        "outputId": "7913722d-0864-41f9-8769-ae5d5860e75e"
      },
      "source": [
        "yp = mlp2r(cc, vv, bb, ww, X_test)\n",
        "\n",
        "plt.plot(X_test, y_test, '*')\n",
        "plt.plot(X_test, yp, 'ro')"
      ],
      "execution_count": null,
      "outputs": [
        {
          "output_type": "execute_result",
          "data": {
            "text/plain": [
              "[<matplotlib.lines.Line2D at 0x7fa2d423a150>]"
            ]
          },
          "metadata": {},
          "execution_count": 19
        },
        {
          "output_type": "display_data",
          "data": {
            "image/png": "[encoded data removed]",
            "text/plain": [
              "<Figure size 432x288 with 1 Axes>"
            ]
          },
          "metadata": {
            "needs_background": "light"
          }
        }
      ]
    },
    {
      "cell_type": "markdown",
      "metadata": {
        "id": "2eXmmo85nFs8"
      },
      "source": [
        "# Input Normalization"
      ]
    },
    {
      "cell_type": "code",
      "metadata": {
        "id": "8U9-TR6gnFs8"
      },
      "source": [
        "mu = np.mean(X_train)\n",
        "sigma = np.sqrt(np.var(X_train))"
      ],
      "execution_count": null,
      "outputs": []
    },
    {
      "cell_type": "code",
      "metadata": {
        "id": "-D2R2z0xnFs9"
      },
      "source": [
        "xn_train = (X_train - mu)/sigma"
      ],
      "execution_count": null,
      "outputs": []
    },
    {
      "cell_type": "code",
      "metadata": {
        "colab": {
          "base_uri": "https://localhost:8080/"
        },
        "id": "8IwvdQijnFs9",
        "outputId": "16914d71-2ac5-463e-ed9b-fcdf88872736"
      },
      "source": [
        "np.mean(xn_train)"
      ],
      "execution_count": null,
      "outputs": [
        {
          "output_type": "execute_result",
          "data": {
            "text/plain": [
              "-2.438789910759927e-15"
            ]
          },
          "metadata": {},
          "execution_count": 22
        }
      ]
    },
    {
      "cell_type": "code",
      "metadata": {
        "colab": {
          "base_uri": "https://localhost:8080/"
        },
        "id": "Bmn6oOb1nFs9",
        "outputId": "f5df8a76-1e48-49a9-b763-22710c308a69"
      },
      "source": [
        "np.var(xn_train)"
      ],
      "execution_count": null,
      "outputs": [
        {
          "output_type": "execute_result",
          "data": {
            "text/plain": [
              "1.0"
            ]
          },
          "metadata": {},
          "execution_count": 23
        }
      ]
    },
    {
      "cell_type": "markdown",
      "metadata": {
        "id": "1friJ-B3nFs9"
      },
      "source": [
        "Try again with INPUT NORMALIZATION"
      ]
    },
    {
      "cell_type": "code",
      "metadata": {
        "colab": {
          "base_uri": "https://localhost:8080/",
          "height": 335
        },
        "id": "eZoq7phwnFs-",
        "outputId": "ece74857-babc-459c-b2ee-99f9563dc384"
      },
      "source": [
        "N, D = X_train.shape\n",
        "_, K = y_train.shape\n",
        "M = 8\n",
        "\n",
        "c = np.random.normal(0, 1, K).reshape((K,1))\n",
        "v = np.random.normal(0, 1, K*M).reshape((K,M))\n",
        "b = np.random.normal(0, 2, M).reshape((M,1))\n",
        "w = np.random.normal(0, 2, M*D).reshape((M,D))\n",
        "\n",
        "t1 = time.time()\n",
        "\n",
        "cc, vv, bb, ww, train_loss = train_mlp2r(c, v, b, w, xn_train, y_train, 0.3, 40000, mse_loss)\n",
        "plt.plot(train_loss)\n",
        "\n",
        "t2 = time.time()\n",
        "\n",
        "print('Time spent:', t2 - t1)\n",
        "\n",
        "Yp = mlp2r(cc, vv, bb, ww, xn_train)\n",
        "print('Training')\n",
        "print('MSE = ', mse_loss(xn_train, y_train, Yp))\n",
        "print('RMSE = ', np.sqrt(mse_loss(xn_train, y_train, Yp)))"
      ],
      "execution_count": null,
      "outputs": [
        {
          "output_type": "stream",
          "name": "stdout",
          "text": [
            "Time spent: 3.8447518348693848\n",
            "Training\n",
            "MSE =  0.000655983057654681\n",
            "RMSE =  0.0256121662038704\n"
          ]
        },
        {
          "output_type": "display_data",
          "data": {
            "image/png": "[encoded data removed]",
            "text/plain": [
              "<Figure size 432x288 with 1 Axes>"
            ]
          },
          "metadata": {
            "needs_background": "light"
          }
        }
      ]
    },
    {
      "cell_type": "code",
      "metadata": {
        "colab": {
          "base_uri": "https://localhost:8080/",
          "height": 265
        },
        "id": "X77Au7EfnFs-",
        "outputId": "c821fd61-a57d-428f-d0e5-e9d5c742b8be"
      },
      "source": [
        "plt.plot(X_train, y_train, '*')\n",
        "plt.plot(X_train, Yp, 'ro')\n",
        "plt.show()"
      ],
      "execution_count": null,
      "outputs": [
        {
          "output_type": "display_data",
          "data": {
            "image/png": "[encoded data removed]",
            "text/plain": [
              "<Figure size 432x288 with 1 Axes>"
            ]
          },
          "metadata": {
            "needs_background": "light"
          }
        }
      ]
    },
    {
      "cell_type": "markdown",
      "metadata": {
        "id": "z4TEx7RdnFs_"
      },
      "source": [
        "Now, see the test"
      ]
    },
    {
      "cell_type": "code",
      "metadata": {
        "colab": {
          "base_uri": "https://localhost:8080/"
        },
        "id": "gEne1OVknFs_",
        "outputId": "eaad666c-5464-4410-ad01-e393c5504049"
      },
      "source": [
        "Yp = mlp2r(cc, vv, bb, ww, X_test)\n",
        "print('Testing')\n",
        "print('MSE = ', mse_loss(X_test, y_test, Yp))\n",
        "print('RMSE = ', np.sqrt(mse_loss(X_test, y_test, Yp)))"
      ],
      "execution_count": null,
      "outputs": [
        {
          "output_type": "stream",
          "name": "stdout",
          "text": [
            "Testing\n",
            "MSE =  2.1184302675279634\n",
            "RMSE =  1.455482829691908\n"
          ]
        }
      ]
    },
    {
      "cell_type": "code",
      "metadata": {
        "colab": {
          "base_uri": "https://localhost:8080/",
          "height": 265
        },
        "id": "rAm6YgmXnFs_",
        "outputId": "aa9d109e-41b8-48c9-ca54-24f56f483308"
      },
      "source": [
        "plt.plot(X_test, y_test, '*')\n",
        "plt.plot(X_test, Yp, 'ro')\n",
        "plt.show()"
      ],
      "execution_count": null,
      "outputs": [
        {
          "output_type": "display_data",
          "data": {
            "image/png": "[encoded data removed]",
            "text/plain": [
              "<Figure size 432x288 with 1 Axes>"
            ]
          },
          "metadata": {
            "needs_background": "light"
          }
        }
      ]
    },
    {
      "cell_type": "markdown",
      "metadata": {
        "id": "kfyrA48wnFs_"
      },
      "source": [
        "WHAT!!!!\n",
        "\n",
        "What's wrong!\n",
        "\n",
        "Can you help me why this is not working?"
      ]
    },
    {
      "cell_type": "code",
      "metadata": {
        "collapsed": true,
        "id": "0LJDj01cnFtA"
      },
      "source": [],
      "execution_count": null,
      "outputs": []
    },
    {
      "cell_type": "code",
      "metadata": {
        "colab": {
          "base_uri": "https://localhost:8080/",
          "height": 335
        },
        "id": "-GGmH97xnFtA",
        "outputId": "5bf0ed96-2bec-41ea-b4ee-c7fe82c1e7a2"
      },
      "source": [
        "xn_test = (X_test - mu)/sigma\n",
        "\n",
        "Yp = mlp2r(cc, vv, bb, ww, xn_test)\n",
        "print('Testing')\n",
        "print('MSE = ', mse_loss(X_test, y_test, Yp))\n",
        "print('RMSE = ', np.sqrt(mse_loss(X_test, y_test, Yp)))\n",
        "\n",
        "plt.plot(X_test, y_test, '*')\n",
        "plt.plot(X_test, Yp, 'ro')"
      ],
      "execution_count": null,
      "outputs": [
        {
          "output_type": "stream",
          "name": "stdout",
          "text": [
            "Testing\n",
            "MSE =  0.0010253522647681891\n",
            "RMSE =  0.03202112216597334\n"
          ]
        },
        {
          "output_type": "execute_result",
          "data": {
            "text/plain": [
              "[<matplotlib.lines.Line2D at 0x7fa2d42bd990>]"
            ]
          },
          "metadata": {},
          "execution_count": 28
        },
        {
          "output_type": "display_data",
          "data": {
            "image/png": "[encoded data removed]",
            "text/plain": [
              "<Figure size 432x288 with 1 Axes>"
            ]
          },
          "metadata": {
            "needs_background": "light"
          }
        }
      ]
    },
    {
      "cell_type": "code",
      "metadata": {
        "collapsed": true,
        "id": "KIh2yjkqnFtA"
      },
      "source": [],
      "execution_count": null,
      "outputs": []
    }
  ]
}