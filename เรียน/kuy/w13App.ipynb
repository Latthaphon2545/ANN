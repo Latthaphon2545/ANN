{
  "nbformat": 4,
  "nbformat_minor": 0,
  "metadata": {
    "kernelspec": {
      "display_name": "py35a",
      "language": "python",
      "name": "py35a"
    },
    "language_info": {
      "codemirror_mode": {
        "name": "ipython",
        "version": 3
      },
      "file_extension": ".py",
      "mimetype": "text/x-python",
      "name": "python",
      "nbconvert_exporter": "python",
      "pygments_lexer": "ipython3",
      "version": "3.5.3"
    },
    "colab": {
      "name": "w13App.ipynb",
      "provenance": [],
      "collapsed_sections": [],
      "toc_visible": true
    }
  },
  "cells": [
    {
      "cell_type": "markdown",
      "metadata": {
        "id": "_BkkqQYEpT7Z"
      },
      "source": [
        "# Major tasks\n",
        "\n",
        "## Regression\n",
        "\n",
        "  * y: continuous\n",
        "  * output activation = identity: h(a) = a\n",
        "  * loss = 0.5 SSE\n",
        "\n"
      ]
    },
    {
      "cell_type": "markdown",
      "metadata": {
        "id": "Ju4bDrD4crUe"
      },
      "source": [
        "## Binary Classification\n",
        "\n",
        "  * y: either 0 or 1\n",
        "  * output activation = sigmoid\n",
        "  * loss = cross-entropy "
      ]
    },
    {
      "cell_type": "code",
      "metadata": {
        "colab": {
          "base_uri": "https://localhost:8080/"
        },
        "id": "ycCiMkyOpZZi",
        "outputId": "873edcf1-22c5-4dc1-e4e5-af47d3bc7867"
      },
      "source": [
        "from google.colab import drive\n",
        "drive.mount('/content/drive')"
      ],
      "execution_count": 1,
      "outputs": [
        {
          "output_type": "stream",
          "name": "stdout",
          "text": [
            "Mounted at /content/drive\n"
          ]
        }
      ]
    },
    {
      "cell_type": "code",
      "metadata": {
        "colab": {
          "base_uri": "https://localhost:8080/"
        },
        "id": "essMkU50pjNx",
        "outputId": "48e92dea-a31c-4cc7-ea97-6d3f46c73716"
      },
      "source": [
        "!ls ./drive/MyDrive/2021/ANN/w13App"
      ],
      "execution_count": 2,
      "outputs": [
        {
          "output_type": "stream",
          "name": "stdout",
          "text": [
            "ANN_aux.py  code  data\t__pycache__\n"
          ]
        }
      ]
    },
    {
      "cell_type": "code",
      "metadata": {
        "id": "gEIqcnpLpyC0"
      },
      "source": [
        "import sys\n",
        "sys.path.append(\"./drive/MyDrive/2021/ANN/w13App\") # my path"
      ],
      "execution_count": 3,
      "outputs": []
    },
    {
      "cell_type": "code",
      "metadata": {
        "collapsed": true,
        "id": "yinlMHZ1pT7d"
      },
      "source": [
        "# For beautiful math display\n",
        "from IPython.display import Math\n",
        "\n",
        "from IPython.display import Markdown, display\n",
        "def printmd(string):\n",
        "    display(Markdown(string))"
      ],
      "execution_count": 4,
      "outputs": []
    },
    {
      "cell_type": "code",
      "metadata": {
        "id": "czfiHiBXpT7f"
      },
      "source": [
        "import numpy as np\n",
        "from matplotlib import pyplot as plt\n",
        "\n",
        "#from DrawANN03 import *"
      ],
      "execution_count": 5,
      "outputs": []
    },
    {
      "cell_type": "code",
      "metadata": {
        "collapsed": true,
        "id": "QHGCTkrFpT7g"
      },
      "source": [
        "from ANN_aux import *"
      ],
      "execution_count": 6,
      "outputs": []
    },
    {
      "cell_type": "markdown",
      "metadata": {
        "id": "lagujKU0pT7h"
      },
      "source": [
        "### XOR Revisited"
      ]
    },
    {
      "cell_type": "code",
      "metadata": {
        "colab": {
          "base_uri": "https://localhost:8080/"
        },
        "id": "JZyR7o_upT7h",
        "outputId": "34ecd029-fe89-4088-b08f-d7eb64cc8014"
      },
      "source": [
        "# XOR\n",
        "\n",
        "X = np.array([[0, 0], [0, 1], [1, 0], [1, 1]])\n",
        "Y = np.array([[0], [1], [1], [0]])\n",
        "\n",
        "for i in range(4):\n",
        "    print(\"{} {} | {}\".format( *X[i],  *Y[i]))\n"
      ],
      "execution_count": 11,
      "outputs": [
        {
          "output_type": "stream",
          "name": "stdout",
          "text": [
            "0 0 | 0\n",
            "0 1 | 1\n",
            "1 0 | 1\n",
            "1 1 | 0\n"
          ]
        }
      ]
    },
    {
      "cell_type": "code",
      "metadata": {
        "colab": {
          "base_uri": "https://localhost:8080/",
          "height": 38
        },
        "id": "ZukbaE9dpT7i",
        "outputId": "87259436-6bc3-468b-b77d-57741eafcf49"
      },
      "source": [
        "Math(r'x \\in \\mathbb{R}^2 \\mapsto y \\in \\mathbb{R}^1')"
      ],
      "execution_count": null,
      "outputs": [
        {
          "output_type": "execute_result",
          "data": {
            "text/latex": "$$x \\in \\mathbb{R}^2 \\mapsto y \\in \\mathbb{R}^1$$",
            "text/plain": [
              "<IPython.core.display.Math object>"
            ]
          },
          "metadata": {},
          "execution_count": 8
        }
      ]
    },
    {
      "cell_type": "code",
      "metadata": {
        "id": "e1zP11deZFo7"
      },
      "source": [
        "def identity(a):\n",
        "    return a\n",
        "\n",
        "def mlp2(c, v, b, w, X, oact=identity):\n",
        "\n",
        "    a = b.T + np.dot(X, w.T)            # a: array N x M\n",
        "    z = sigmoid(a)                      # z: array N x M\n",
        "\n",
        "    a2 = c.T + np.dot(z, v.T)           # a2: array N x K\n",
        "    yhat = oact(a2)                     # yhat: array N x K\n",
        "\n",
        "    return yhat\n"
      ],
      "execution_count": 7,
      "outputs": []
    },
    {
      "cell_type": "code",
      "metadata": {
        "id": "ui4XlktJZU4D"
      },
      "source": [
        "def mse_loss(x, y, yp):\n",
        "\n",
        "    return np.mean((yp - y)**2)"
      ],
      "execution_count": 8,
      "outputs": []
    },
    {
      "cell_type": "code",
      "metadata": {
        "id": "dC_gJ6B9UVpp"
      },
      "source": [
        "def train_mlp2(c, v, b, w, X, Y, lr1, lr2, nepochs, \n",
        "               oact=identity, loss=mse_loss, disp=False):\n",
        "\n",
        "  losses = []\n",
        "\n",
        "  for i in range(nepochs):\n",
        "\n",
        "      # Forward pass\n",
        "      a = b.T + np.dot(X, w.T)            # a: array N x M\n",
        "      z = sigmoid(a)                      # z: array N x M\n",
        "      a2 = c.T + np.dot(z, v.T)           # a2: array N x K\n",
        "      z2 = oact(a2)                       # z2: array N x K\n",
        "      yhat = z2                           # yhat: array N x K\n",
        "\n",
        "      # Backward pass\n",
        "      delta2 = yhat - Y                   # delta2: array N x K\n",
        "      OneVec = np.ones(N).reshape((1,-1)) # OneVec: array 1 x N\n",
        "      dLc = np.dot( OneVec, delta2 ).T    # dLc: array K x 1\n",
        "      dLv = np.dot( z.T, delta2 ).T       # dLv: array K x M\n",
        "      H = np.multiply(1 - z, z)           # H: array N x M\n",
        "      delta1 = np.dot(delta2, v) * H      # delta1: array N x M\n",
        "      dLb = np.dot( OneVec, delta1 ).T    # dLb: array M x 1\n",
        "      dLw = np.dot( X.T, delta1 ).T       # dLw: array M x D\n",
        "\n",
        "      lossi = loss(X, Y, yhat)\n",
        "      \n",
        "      if np.isnan(lossi):  \n",
        "          print('Reach NaN. Terminated.')\n",
        "          break\n",
        "\n",
        "      losses.append(lossi)\n",
        "\n",
        "      c -= dLc * lr2\n",
        "      v -= dLv * lr2\n",
        "      b -= dLb * lr1\n",
        "      w -= dLw * lr1\n",
        "\n",
        "      if disp:\n",
        "        if i % 5000 == 0:\n",
        "            print('mse = %.4f' % mse)\n",
        "\n",
        "  # end for i\n",
        "\n",
        "  return c, v, b, w, losses"
      ],
      "execution_count": 9,
      "outputs": []
    },
    {
      "cell_type": "code",
      "metadata": {
        "colab": {
          "base_uri": "https://localhost:8080/",
          "height": 529
        },
        "id": "_geny3YlpT7k",
        "outputId": "95155690-9f63-48dd-95d9-cd39f57d5805"
      },
      "source": [
        "N, D = X.shape\n",
        "_, K = Y.shape\n",
        "M = 2\n",
        "\n",
        "c = np.random.normal(0, 1, K).reshape((K,1))\n",
        "v = np.random.normal(0, 1, K*M).reshape((K,M))\n",
        "b = np.random.normal(0, 2, M).reshape((M,1))\n",
        "w = np.random.normal(0, 2, M*D).reshape((M,D))\n",
        "\n",
        "t1 = time.time()\n",
        "\n",
        "cc, vv, bb, ww, train_loss = train_mlp2(c, v, b, w, X, Y, 0.3, 0.3, 8000, \n",
        "                                        identity, mse_loss)\n",
        "plt.plot(train_loss)\n",
        "\n",
        "t2 = time.time()\n",
        "\n",
        "print('Time spent:', t2 - t1)\n",
        "\n",
        "Yp = mlp2r(cc, vv, bb, ww, X)\n",
        "print('Training')\n",
        "print('MSE = ', mse_loss(X, Y, Yp))\n",
        "print('RMSE = ', np.sqrt(mse_loss(X, Y, Yp)))\n",
        "\n",
        "for i in range(4):\n",
        "    print(\"{} {} | {} | {:.4f}\".format( *X[i],  *Y[i], *Yp[i]))\n",
        "\n",
        "print('The weights are:')\n",
        "print('c = ', c)\n",
        "print('v = ', v)\n",
        "print('b = ', b)\n",
        "print('w = ', w)\n"
      ],
      "execution_count": 12,
      "outputs": [
        {
          "output_type": "stream",
          "name": "stdout",
          "text": [
            "Time spent: 0.5002899169921875\n",
            "Training\n",
            "MSE =  2.8996801242694223e-30\n",
            "RMSE =  1.7028447152542777e-15\n",
            "0 0 | 0 | 0.0000\n",
            "0 1 | 1 | 1.0000\n",
            "1 0 | 1 | 1.0000\n",
            "1 1 | 0 | 0.0000\n",
            "The weights are:\n",
            "c =  [[-0.77375895]]\n",
            "v =  [[2.53583525 2.66314284]]\n",
            "b =  [[-1.44359317]\n",
            " [-2.10425474]]\n",
            "w =  [[ 2.23287978 -2.51416823]\n",
            " [-2.37316483  2.71533985]]\n"
          ]
        },
        {
          "output_type": "display_data",
          "data": {
            "image/png": "[encoded data removed]",
            "text/plain": [
              "<Figure size 432x288 with 1 Axes>"
            ]
          },
          "metadata": {
            "needs_background": "light"
          }
        }
      ]
    },
    {
      "cell_type": "markdown",
      "metadata": {
        "id": "1yRyRqXAl_h9"
      },
      "source": [
        "Let's check it by hand\n",
        "\n",
        "![MLP for XOR](https://github.com/tatpongkatanyukul/ANN/raw/main/ann/MLPxorBlank.png)\n",
        "\n",
        "Caution! ```w``` is M x D."
      ]
    },
    {
      "cell_type": "markdown",
      "metadata": {
        "id": "s9fdWReW3l3C"
      },
      "source": [
        "### Regression ANN on XOR\n",
        "\n",
        "To learn how well regression ANN in general, we repeat this for 40 times and we will see how many times we can achieve an effective model."
      ]
    },
    {
      "cell_type": "code",
      "metadata": {
        "colab": {
          "base_uri": "https://localhost:8080/"
        },
        "id": "ndp1wQ_03lWe",
        "outputId": "919479bd-b597-4aca-e003-4377da996186"
      },
      "source": [
        "Nrepeats = 40\n",
        "cutoff = 0.2\n",
        "\n",
        "N, D = X.shape\n",
        "_, K = Y.shape\n",
        "M = 2\n",
        "\n",
        "records = []\n",
        "success = 0\n",
        "\n",
        "for rep in range(Nrepeats):\n",
        "\n",
        "  rr = {}\n",
        "  c = np.random.normal(0, 1, K).reshape((K,1))\n",
        "  v = np.random.normal(0, 1, K*M).reshape((K,M))\n",
        "  b = np.random.normal(0, 2, M).reshape((M,1))\n",
        "  w = np.random.normal(0, 2, M*D).reshape((M,D))\n",
        "\n",
        "  t1 = time.time()\n",
        "\n",
        "  cc, vv, bb, ww, train_loss = train_mlp2(c, v, b, w, X, Y, 0.3, 0.3, 8000, \n",
        "                                          identity, mse_loss)\n",
        "  t2 = time.time()\n",
        "  rr['time'] = t2 - t1\n",
        "  rr['train_loss'] = train_loss\n",
        "  rr['c'] = cc\n",
        "  rr['v'] = vv\n",
        "  rr['b'] = bb\n",
        "  rr['w'] = ww\n",
        "\n",
        "  Yp = mlp2(cc, vv, bb, ww, X, identity)\n",
        "  # for i in range(4):\n",
        "  #     print(\"repeat {}: {} {} | {} | {:.4f}\".format(rep, *X[i],  *Y[i], *Yp[i]))\n",
        "  #     print()\n",
        "  SSE = np.sum( (Yp - Y)**2 )\n",
        "  if SSE < cutoff:\n",
        "    success += 1\n",
        "  print('repeat {}: Yp = {:.1f} {:.1f} {:.1f} {:.1f}; SSE = {}'.format(rep, *Yp.T[0], SSE))\n",
        "  \n",
        "\n",
        "print('success = {} out of {}'.format(success, Nrepeats))  "
      ],
      "execution_count": null,
      "outputs": [
        {
          "output_type": "stream",
          "name": "stdout",
          "text": [
            "repeat 0: Yp = -0.7 0.1 0.2 -0.7; SSE = 2.4477076727449765\n",
            "repeat 1: Yp = 0.0 1.0 1.0 -0.0; SSE = 2.1200636827814692e-30\n",
            "repeat 2: Yp = 0.0 1.0 0.5 0.5; SSE = 0.5015930614029251\n",
            "repeat 3: Yp = 0.0 1.0 1.0 0.0; SSE = 4.147485513006046e-27\n",
            "repeat 4: Yp = 0.0 0.5 1.0 0.5; SSE = 0.5016151581976438\n",
            "repeat 5: Yp = 0.0 1.0 1.0 0.0; SSE = 3.3706116802990166e-13\n",
            "repeat 6: Yp = 0.0 1.0 1.0 0.0; SSE = 1.4155966202618027e-10\n",
            "repeat 7: Yp = 0.0 1.0 1.0 -0.0; SSE = 8.011868568650901e-30\n",
            "repeat 8: Yp = -0.1 0.9 0.4 0.4; SSE = 0.5326004849866348\n",
            "repeat 9: Yp = -0.0 1.0 1.0 -0.0; SSE = 4.53378083753146e-27\n",
            "repeat 10: Yp = 0.4 0.3 1.0 0.4; SSE = 0.7056012108592308\n",
            "repeat 11: Yp = -0.0 1.0 1.0 -0.0; SSE = 7.530330615771694e-27\n",
            "repeat 12: Yp = -0.0 1.0 1.0 -0.0; SSE = 5.240370545417042e-09\n",
            "repeat 13: Yp = -0.0 1.0 1.0 -0.0; SSE = 2.7541808932772287e-26\n",
            "repeat 14: Yp = 0.0 1.0 1.0 0.0; SSE = 4.5579397027538536e-27\n",
            "repeat 15: Yp = -0.0 1.0 1.0 -0.0; SSE = 5.055365807302278e-27\n",
            "repeat 16: Yp = -0.0 1.0 1.0 -0.0; SSE = 6.971262427051234e-27\n",
            "repeat 17: Yp = 0.0 1.0 1.0 0.0; SSE = 1.2431822324237209e-26\n",
            "repeat 18: Yp = 0.0 1.0 1.0 0.0; SSE = 3.186144176792744e-26\n",
            "repeat 19: Yp = -0.0 1.0 1.0 0.0; SSE = 2.3940079580711097e-29\n",
            "repeat 20: Yp = 0.0 1.0 1.0 0.0; SSE = 5.226203497089203e-30\n",
            "repeat 21: Yp = 0.0 1.0 1.0 0.0; SSE = 2.5761238936123667e-30\n",
            "repeat 22: Yp = 0.0 1.0 1.0 0.0; SSE = 6.175301773683233e-30\n",
            "repeat 23: Yp = -0.0 1.0 1.0 -0.0; SSE = 1.6243253091619104e-26\n",
            "repeat 24: Yp = 0.0 1.0 1.0 0.0; SSE = 5.8794789342253536e-30\n",
            "repeat 25: Yp = -0.0 1.0 1.0 -0.0; SSE = 2.4147010738399794e-26\n",
            "repeat 26: Yp = 0.0 1.0 1.0 0.0; SSE = 2.4035605705952703e-30\n",
            "repeat 27: Yp = 0.0 1.0 1.0 -0.0; SSE = 2.070759876205156e-30\n",
            "repeat 28: Yp = -0.0 1.0 1.0 -0.0; SSE = 2.1922062451590952e-26\n",
            "repeat 29: Yp = 0.0 0.7 0.7 0.7; SSE = 0.6688150443318689\n",
            "repeat 30: Yp = 0.0 1.0 1.0 0.0; SSE = 1.1463135028992828e-30\n",
            "repeat 31: Yp = -0.0 1.0 1.0 -0.0; SSE = 2.5280526822004613e-28\n",
            "repeat 32: Yp = 0.0 1.0 1.0 -0.0; SSE = 1.627025617018337e-30\n",
            "repeat 33: Yp = 0.0 1.0 1.0 0.0; SSE = 7.112074098633185e-30\n",
            "repeat 34: Yp = 0.0 0.5 1.0 0.5; SSE = 0.5016222826494203\n",
            "repeat 35: Yp = 0.0 0.7 0.7 0.7; SSE = 0.6693069187033539\n",
            "repeat 36: Yp = 0.0 1.0 1.0 -0.0; SSE = 3.6943958565213713e-29\n",
            "repeat 37: Yp = -0.0 1.0 1.0 -0.0; SSE = 5.8339838467070606e-27\n",
            "repeat 38: Yp = 0.0 0.5 1.0 0.5; SSE = 0.5018430628204114\n",
            "repeat 39: Yp = -0.8 0.1 0.0 -0.7; SSE = 2.788555838118029\n",
            "success = 30 out of 40\n"
          ]
        }
      ]
    },
    {
      "cell_type": "markdown",
      "metadata": {
        "id": "Ekhmec5ipT7k"
      },
      "source": [
        "### BUT it will be much easier to train a network for binary classification"
      ]
    },
    {
      "cell_type": "markdown",
      "metadata": {
        "id": "hce6Nz9IkUNC"
      },
      "source": [
        "Note: general approach to tackle difficult machine learning tasks\n",
        "\n",
        "*   Learn nature of the task and use them to our advantages\n",
        "  *   Regulate\n",
        "  *   Provide clues\n",
        "\n",
        "\n"
      ]
    },
    {
      "cell_type": "markdown",
      "metadata": {
        "collapsed": true,
        "id": "4yn1kpBxpT7l"
      },
      "source": [
        "Key mechanism\n",
        "\n",
        "1. output activation is sigmoid\n",
        "\n",
        "2. cross-entropy loss"
      ]
    },
    {
      "cell_type": "code",
      "metadata": {
        "colab": {
          "base_uri": "https://localhost:8080/",
          "height": 40
        },
        "id": "aqbOC7_SpT7m",
        "outputId": "2dfbb4c5-d98f-4461-cb12-0e38ae51e0f9"
      },
      "source": [
        "# Regression output activation: identity\n",
        "\n",
        "Math(r'f(w, x) = c + \\sum_j v_j \\cdot h\\left(b_j + \\sum_i w_{ji} x_i\\right)')"
      ],
      "execution_count": null,
      "outputs": [
        {
          "output_type": "execute_result",
          "data": {
            "text/latex": "$$f(w, x) = c + \\sum_j v_j \\cdot h\\left(b_j + \\sum_i w_{ji} x_i\\right)$$",
            "text/plain": [
              "<IPython.core.display.Math object>"
            ]
          },
          "metadata": {},
          "execution_count": 17
        }
      ]
    },
    {
      "cell_type": "code",
      "metadata": {
        "colab": {
          "base_uri": "https://localhost:8080/",
          "height": 40
        },
        "id": "a-IdFicUpT7n",
        "outputId": "2e83c1f8-5fa7-4522-c851-7ce6e25e3ce4"
      },
      "source": [
        "# Binary Classification: sigmoid\n",
        "\n",
        "Math(r'f(w, x) = \\sigma( c + \\sum_j v_j \\cdot h\\left(b_j + \\sum_i w_{ji} x_i\\right) )')"
      ],
      "execution_count": null,
      "outputs": [
        {
          "output_type": "execute_result",
          "data": {
            "text/latex": "$$f(w, x) = \\sigma( c + \\sum_j v_j \\cdot h\\left(b_j + \\sum_i w_{ji} x_i\\right) )$$",
            "text/plain": [
              "<IPython.core.display.Math object>"
            ]
          },
          "metadata": {},
          "execution_count": 18
        }
      ]
    },
    {
      "cell_type": "code",
      "metadata": {
        "colab": {
          "base_uri": "https://localhost:8080/",
          "height": 42
        },
        "id": "Gzg0cj7wpT7n",
        "outputId": "4a18d24b-5c79-41ed-a7ed-9a8d44a7f427"
      },
      "source": [
        "Math(r'\\sigma(a) = \\frac{1}{1 + \\exp(-a)}')"
      ],
      "execution_count": null,
      "outputs": [
        {
          "output_type": "execute_result",
          "data": {
            "text/latex": "$$\\sigma(a) = \\frac{1}{1 + \\exp(-a)}$$",
            "text/plain": [
              "<IPython.core.display.Math object>"
            ]
          },
          "metadata": {},
          "execution_count": 19
        }
      ]
    },
    {
      "cell_type": "code",
      "metadata": {
        "colab": {
          "base_uri": "https://localhost:8080/",
          "height": 40
        },
        "id": "5Vv6OUlDpT7o",
        "outputId": "e7625973-d5ba-4f4a-cd3d-d0c063386d25"
      },
      "source": [
        "# Regression loss: mean squared error\n",
        "\n",
        "Math(r'\\mathcal{L} = \\frac{1}{2} \\sum_n \\left(y_n - t_n\\right)^2')"
      ],
      "execution_count": null,
      "outputs": [
        {
          "output_type": "execute_result",
          "data": {
            "text/latex": "$$\\mathcal{L} = \\frac{1}{2} \\sum_n \\left(y_n - t_n\\right)^2$$",
            "text/plain": [
              "<IPython.core.display.Math object>"
            ]
          },
          "metadata": {},
          "execution_count": 20
        }
      ]
    },
    {
      "cell_type": "code",
      "metadata": {
        "colab": {
          "base_uri": "https://localhost:8080/",
          "height": 39
        },
        "id": "zbGCq3pppT7o",
        "outputId": "ef4f25db-9ee0-46ee-f741-455677f4439c"
      },
      "source": [
        "# Binary Classification: cross-entroy loss\n",
        "\n",
        "Math(r'\\mathcal{L} = \\sum_n \\mathcal{L}_n')"
      ],
      "execution_count": null,
      "outputs": [
        {
          "output_type": "execute_result",
          "data": {
            "text/latex": "$$\\mathcal{L} = \\sum_n \\mathcal{L}_n$$",
            "text/plain": [
              "<IPython.core.display.Math object>"
            ]
          },
          "metadata": {},
          "execution_count": 21
        }
      ]
    },
    {
      "cell_type": "code",
      "metadata": {
        "colab": {
          "base_uri": "https://localhost:8080/",
          "height": 39
        },
        "id": "IZzk63oYqYrd",
        "outputId": "a4376ec7-e024-4973-e3a7-df846aa3c329"
      },
      "source": [
        "Math(r'$$ \\mathcal{L}_n = - y_n \\log(\\hat{y}_n) - (1 - y_n) \\log (1 - \\hat{y}_n) $$')"
      ],
      "execution_count": null,
      "outputs": [
        {
          "output_type": "execute_result",
          "data": {
            "text/latex": "$$ \\mathcal{L}_n = - y_n \\log(\\hat{y}_n) - (1 - y_n) \\log (1 - \\hat{y}_n) $$",
            "text/plain": [
              "<IPython.core.display.Math object>"
            ]
          },
          "metadata": {},
          "execution_count": 22
        }
      ]
    },
    {
      "cell_type": "code",
      "metadata": {
        "colab": {
          "base_uri": "https://localhost:8080/"
        },
        "id": "_-TjWeGvmjsA",
        "outputId": "85652c0a-8441-49fe-a97f-fa4b0c1c24bb"
      },
      "source": [
        "-np.log(0.0)"
      ],
      "execution_count": null,
      "outputs": [
        {
          "output_type": "stream",
          "name": "stderr",
          "text": [
            "/usr/local/lib/python3.7/dist-packages/ipykernel_launcher.py:1: RuntimeWarning: divide by zero encountered in log\n",
            "  \"\"\"Entry point for launching an IPython kernel.\n"
          ]
        },
        {
          "output_type": "execute_result",
          "data": {
            "text/plain": [
              "inf"
            ]
          },
          "metadata": {},
          "execution_count": 29
        }
      ]
    },
    {
      "cell_type": "code",
      "metadata": {
        "id": "T75Mk3rcpT7p",
        "colab": {
          "base_uri": "https://localhost:8080/"
        },
        "outputId": "cb665307-9b94-4312-b567-5ec2f74e4e85"
      },
      "source": [
        "np.log(0)"
      ],
      "execution_count": null,
      "outputs": [
        {
          "output_type": "stream",
          "name": "stderr",
          "text": [
            "/usr/local/lib/python3.7/dist-packages/ipykernel_launcher.py:1: RuntimeWarning: divide by zero encountered in log\n",
            "  \"\"\"Entry point for launching an IPython kernel.\n"
          ]
        },
        {
          "output_type": "execute_result",
          "data": {
            "text/plain": [
              "-inf"
            ]
          },
          "metadata": {},
          "execution_count": 23
        }
      ]
    },
    {
      "cell_type": "code",
      "metadata": {
        "colab": {
          "base_uri": "https://localhost:8080/",
          "height": 299
        },
        "id": "LnXCkaA3pT7p",
        "outputId": "97ab58e1-5644-4ffb-d17a-e847f04df6f6"
      },
      "source": [
        "ys = np.linspace(0.001, 0.999, 500)\n",
        "plt.plot(ys, -np.log(ys), 'r')\n",
        "plt.plot(ys, (ys - 1)**2, 'b')\n",
        "plt.title('Ground Truth is 1')\n",
        "#plt.plot(xs, -np.log(1 - ys), 'b')\n",
        "plt.legend(['cross-entropy', 'se'])\n"
      ],
      "execution_count": null,
      "outputs": [
        {
          "output_type": "execute_result",
          "data": {
            "text/plain": [
              "<matplotlib.legend.Legend at 0x7f90306045d0>"
            ]
          },
          "metadata": {},
          "execution_count": 25
        },
        {
          "output_type": "display_data",
          "data": {
            "image/png": "[encoded data removed]",
            "text/plain": [
              "<Figure size 432x288 with 1 Axes>"
            ]
          },
          "metadata": {
            "needs_background": "light"
          }
        }
      ]
    },
    {
      "cell_type": "code",
      "metadata": {
        "colab": {
          "base_uri": "https://localhost:8080/",
          "height": 298
        },
        "id": "BDe5bc4zpT7q",
        "outputId": "9f38cdb5-a277-4fb7-cd15-929391147395"
      },
      "source": [
        "ys = np.linspace(0.001, 0.999, 500)\n",
        "plt.plot(ys, -np.log(1 - ys), 'r')\n",
        "plt.plot(ys, (ys - 0)**2, 'b')\n",
        "\n",
        "plt.title('Ground Truth is 0')"
      ],
      "execution_count": null,
      "outputs": [
        {
          "output_type": "execute_result",
          "data": {
            "text/plain": [
              "Text(0.5, 1.0, 'Ground Truth is 0')"
            ]
          },
          "metadata": {},
          "execution_count": 45
        },
        {
          "output_type": "display_data",
          "data": {
            "image/png": "[encoded data removed]",
            "text/plain": [
              "<Figure size 432x288 with 1 Axes>"
            ]
          },
          "metadata": {
            "needs_background": "light"
          }
        }
      ]
    },
    {
      "cell_type": "markdown",
      "metadata": {
        "id": "aPW7qraipT7q"
      },
      "source": [
        "Implementation"
      ]
    },
    {
      "cell_type": "code",
      "metadata": {
        "colab": {
          "base_uri": "https://localhost:8080/"
        },
        "id": "lmAu16c0pT7q",
        "outputId": "f4d0e23d-6bf7-4c5a-f251-c821be237066"
      },
      "source": [
        "Y"
      ],
      "execution_count": null,
      "outputs": [
        {
          "output_type": "execute_result",
          "data": {
            "text/plain": [
              "array([[0],\n",
              "       [1],\n",
              "       [1],\n",
              "       [0]])"
            ]
          },
          "metadata": {},
          "execution_count": 46
        }
      ]
    },
    {
      "cell_type": "code",
      "metadata": {
        "collapsed": true,
        "id": "n7_5dAyHpT7r"
      },
      "source": [
        "# test\n",
        "Yp = np.array([[0.0002], [0.99999], [0.000001], [0.998]])"
      ],
      "execution_count": null,
      "outputs": []
    },
    {
      "cell_type": "code",
      "metadata": {
        "id": "p3qFOHPxpT7r",
        "colab": {
          "base_uri": "https://localhost:8080/"
        },
        "outputId": "3795e4ff-5612-4fb9-daa3-b523713b9f16"
      },
      "source": [
        "Y == 1"
      ],
      "execution_count": null,
      "outputs": [
        {
          "output_type": "execute_result",
          "data": {
            "text/plain": [
              "array([[False],\n",
              "       [ True],\n",
              "       [ True],\n",
              "       [False]])"
            ]
          },
          "metadata": {},
          "execution_count": 29
        }
      ]
    },
    {
      "cell_type": "code",
      "metadata": {
        "id": "FX9P8obFpT7r",
        "colab": {
          "base_uri": "https://localhost:8080/"
        },
        "outputId": "d087ad16-8cdd-4053-b8e1-a831fb013bc3"
      },
      "source": [
        "Yp[Y==1]"
      ],
      "execution_count": null,
      "outputs": [
        {
          "output_type": "execute_result",
          "data": {
            "text/plain": [
              "array([9.9999e-01, 1.0000e-06])"
            ]
          },
          "metadata": {},
          "execution_count": 30
        }
      ]
    },
    {
      "cell_type": "code",
      "metadata": {
        "id": "ACdb9k9GpT7s",
        "colab": {
          "base_uri": "https://localhost:8080/"
        },
        "outputId": "66041a73-5f41-49c6-a5fa-9d225bcd0a2c"
      },
      "source": [
        "Yp[Y==0]"
      ],
      "execution_count": null,
      "outputs": [
        {
          "output_type": "execute_result",
          "data": {
            "text/plain": [
              "array([2.00e-04, 9.98e-01])"
            ]
          },
          "metadata": {},
          "execution_count": 31
        }
      ]
    },
    {
      "cell_type": "code",
      "metadata": {
        "colab": {
          "base_uri": "https://localhost:8080/"
        },
        "id": "GroJWIU2pT7s",
        "outputId": "43a0eb89-81b2-4edb-db59-3bff4d425bed"
      },
      "source": [
        "np.sum(-np.log(Yp[Y == 1])) ## Only the tn == 1 part"
      ],
      "execution_count": null,
      "outputs": [
        {
          "output_type": "execute_result",
          "data": {
            "text/plain": [
              "13.815520558014274"
            ]
          },
          "metadata": {},
          "execution_count": 32
        }
      ]
    },
    {
      "cell_type": "markdown",
      "metadata": {
        "id": "YImIb7VFsScR"
      },
      "source": [
        "### Cross-entropy loss"
      ]
    },
    {
      "cell_type": "code",
      "metadata": {
        "id": "Ayw1bgL_SDCu"
      },
      "source": [
        "def naive_cross_entropy(x, y, yp):\n",
        "    \n",
        "    return np.sum(- y * np.log(yp)) + np.sum(-(1 - y) * np.log(1-yp))"
      ],
      "execution_count": null,
      "outputs": []
    },
    {
      "cell_type": "code",
      "metadata": {
        "colab": {
          "base_uri": "https://localhost:8080/"
        },
        "id": "juX8T75uTLRH",
        "outputId": "46ca104c-7ea4-4b48-e5ca-f768aa9b9ae1"
      },
      "source": [
        "Yt = np.array([1, 0])\n",
        "Ytp = np.array([1, 0])\n",
        "naive_cross_entropy(None, Yt, Ytp)"
      ],
      "execution_count": null,
      "outputs": [
        {
          "output_type": "stream",
          "name": "stderr",
          "text": [
            "/usr/local/lib/python3.7/dist-packages/ipykernel_launcher.py:3: RuntimeWarning: divide by zero encountered in log\n",
            "  This is separate from the ipykernel package so we can avoid doing imports until\n",
            "/usr/local/lib/python3.7/dist-packages/ipykernel_launcher.py:3: RuntimeWarning: invalid value encountered in multiply\n",
            "  This is separate from the ipykernel package so we can avoid doing imports until\n"
          ]
        },
        {
          "output_type": "execute_result",
          "data": {
            "text/plain": [
              "nan"
            ]
          },
          "metadata": {},
          "execution_count": 40
        }
      ]
    },
    {
      "cell_type": "code",
      "metadata": {
        "id": "BtZIRjyEpT7t"
      },
      "source": [
        "def cross_entropy(x, y, yp):\n",
        "    \n",
        "    return np.sum(-np.log(yp[y == 1]))+np.sum(-np.log(1-yp[y == 0]))"
      ],
      "execution_count": null,
      "outputs": []
    },
    {
      "cell_type": "code",
      "metadata": {
        "colab": {
          "base_uri": "https://localhost:8080/"
        },
        "id": "Woe4jM-LTib5",
        "outputId": "b69a7c45-fb90-4772-93f2-0d0338ffcf38"
      },
      "source": [
        "Yt = np.array([1, 0])\n",
        "Ytp = np.array([1, 0])\n",
        "cross_entropy(None, Yt, Ytp)"
      ],
      "execution_count": null,
      "outputs": [
        {
          "output_type": "execute_result",
          "data": {
            "text/plain": [
              "0.0"
            ]
          },
          "metadata": {},
          "execution_count": 48
        }
      ]
    },
    {
      "cell_type": "code",
      "metadata": {
        "colab": {
          "base_uri": "https://localhost:8080/"
        },
        "id": "3HtpfrewpT7t",
        "outputId": "bef6ed31-24a9-4a8d-ebc5-ca80ded09f66"
      },
      "source": [
        "cross_entropy(X, Y, Yp)"
      ],
      "execution_count": null,
      "outputs": [
        {
          "output_type": "execute_result",
          "data": {
            "text/plain": [
              "20.030328676439133"
            ]
          },
          "metadata": {},
          "execution_count": 49
        }
      ]
    },
    {
      "cell_type": "code",
      "metadata": {
        "collapsed": true,
        "id": "KxiveAjxpT7t"
      },
      "source": [
        "# If you do it right, you will get ~20.0303"
      ],
      "execution_count": null,
      "outputs": []
    },
    {
      "cell_type": "markdown",
      "metadata": {
        "id": "A_XZMtxGqbbg"
      },
      "source": [
        "### XOR Revisited by binary classification"
      ]
    },
    {
      "cell_type": "markdown",
      "metadata": {
        "id": "4h56mJPIfcq2"
      },
      "source": [
        "*   Use ```sigmoid``` instead of ```identity```\n",
        "*   Use ```cross_entropy``` instead of ```mse_loss```\n",
        "\n"
      ]
    },
    {
      "cell_type": "code",
      "metadata": {
        "colab": {
          "base_uri": "https://localhost:8080/",
          "height": 174
        },
        "id": "eHMAxz2mgjnc",
        "outputId": "6567a7a2-4c3e-48e2-f590-7e566dc2fca3"
      },
      "source": [
        "print('Given')\n",
        "printmd(r'$$ y \\in \\{0, 1\\}, $$')\n",
        "printmd(r'$$\\hat{y} = \\mathrm{sigmoid}(a), $$')\n",
        "printmd(r'$$L = - y \\log(\\hat{y}) - (1 - y) \\log(1 - \\hat{y}), $$')\n",
        "print('then')\n",
        "printmd(r'$$ \\frac{\\partial L}{\\partial a} = \\hat{y} - y, $$')\n"
      ],
      "execution_count": null,
      "outputs": [
        {
          "output_type": "stream",
          "name": "stdout",
          "text": [
            "Given\n"
          ]
        },
        {
          "output_type": "display_data",
          "data": {
            "text/markdown": "$$ y \\in \\{0, 1\\}, $$",
            "text/plain": [
              "<IPython.core.display.Markdown object>"
            ]
          },
          "metadata": {}
        },
        {
          "output_type": "display_data",
          "data": {
            "text/markdown": "$$\\hat{y} = \\mathrm{sigmoid}(a), $$",
            "text/plain": [
              "<IPython.core.display.Markdown object>"
            ]
          },
          "metadata": {}
        },
        {
          "output_type": "display_data",
          "data": {
            "text/markdown": "$$L = - y \\log(\\hat{y}) - (1 - y) \\log(1 - \\hat{y}), $$",
            "text/plain": [
              "<IPython.core.display.Markdown object>"
            ]
          },
          "metadata": {}
        },
        {
          "output_type": "stream",
          "name": "stdout",
          "text": [
            "then\n"
          ]
        },
        {
          "output_type": "display_data",
          "data": {
            "text/markdown": "$$ \\frac{\\partial L}{\\partial a} = \\hat{y} - y, $$",
            "text/plain": [
              "<IPython.core.display.Markdown object>"
            ]
          },
          "metadata": {}
        }
      ]
    },
    {
      "cell_type": "markdown",
      "metadata": {
        "id": "PEiCv-QclHD2"
      },
      "source": [
        "#### Train"
      ]
    },
    {
      "cell_type": "markdown",
      "metadata": {
        "id": "KGmmxybgrh6l"
      },
      "source": [
        "Notice **the number of epochs** used.\n",
        "\n",
        "Try out various numbers of epochs c.f. regression."
      ]
    },
    {
      "cell_type": "code",
      "metadata": {
        "id": "ksIviiU0qgOz",
        "colab": {
          "base_uri": "https://localhost:8080/",
          "height": 563
        },
        "outputId": "90ab5f40-13eb-4e9a-86f0-576ffff70cc9"
      },
      "source": [
        "N, D = X.shape\n",
        "_, K = Y.shape\n",
        "M = 2\n",
        "\n",
        "c = np.random.normal(0, 1, K).reshape((K,1))\n",
        "v = np.random.normal(0, 1, K*M).reshape((K,M))\n",
        "b = np.random.normal(0, 2, M).reshape((M,1))\n",
        "w = np.random.normal(0, 2, M*D).reshape((M,D))\n",
        "\n",
        "t1 = time.time()\n",
        "\n",
        "cc, vv, bb, ww, train_loss = train_mlp2(c, v, b, w, X, Y, 0.3, 0.3, 2000, \n",
        "                                        sigmoid, cross_entropy)\n",
        "plt.plot(train_loss)\n",
        "\n",
        "t2 = time.time()\n",
        "\n",
        "print('Time spent:', t2 - t1)\n",
        "\n",
        "Yp = mlp2(cc, vv, bb, ww, X, sigmoid)\n",
        "print('Training')\n",
        "print('Loss =', cross_entropy(X, Y, Yp))\n",
        "print('MSE = ', mse_loss(X, Y, Yp))\n",
        "print('RMSE = ', np.sqrt(mse_loss(X, Y, Yp)))\n",
        "\n",
        "for i in range(4):\n",
        "    print(\"{} {} | {} | {:.4f}\".format( *X[i],  *Y[i], *Yp[i]))\n",
        "\n",
        "print('The weights are:')\n",
        "print('c = ', c)\n",
        "print('v = ', v)\n",
        "print('b = ', b)\n",
        "print('w = ', w)"
      ],
      "execution_count": null,
      "outputs": [
        {
          "output_type": "stream",
          "name": "stdout",
          "text": [
            "Time spent: 0.15598797798156738\n",
            "Training\n",
            "Loss = 0.01733566095803374\n",
            "MSE =  1.894087611505673e-05\n",
            "RMSE =  0.004352111684579881\n",
            "0 0 | 0 | 0.0051\n",
            "0 1 | 1 | 0.9961\n",
            "1 0 | 1 | 0.9961\n",
            "1 1 | 0 | 0.0044\n",
            "The weights are:\n",
            "c =  [[-5.864554]]\n",
            "v =  [[11.9159828  11.96288854]]\n",
            "b =  [[-3.77229289]\n",
            " [-3.60003054]]\n",
            "w =  [[-7.10034477  6.89663172]\n",
            " [ 6.62131251 -6.93295424]]\n"
          ]
        },
        {
          "output_type": "display_data",
          "data": {
            "image/png": "[encoded data removed]",
            "text/plain": [
              "<Figure size 432x288 with 1 Axes>"
            ]
          },
          "metadata": {
            "needs_background": "light"
          }
        }
      ]
    },
    {
      "cell_type": "markdown",
      "metadata": {
        "id": "JMcYlrOWmLlo"
      },
      "source": [
        "Note: this example might not be able to show the benefits of using binary classification over regression in this case.\n",
        "\n",
        "But, using a settings appropriate to the task is more effective."
      ]
    },
    {
      "cell_type": "markdown",
      "metadata": {
        "id": "OL8yn1cs9o0G"
      },
      "source": [
        "### XOR as regression vs as binary classification"
      ]
    },
    {
      "cell_type": "code",
      "metadata": {
        "colab": {
          "base_uri": "https://localhost:8080/"
        },
        "id": "ZO3a-Z-v9zRu",
        "outputId": "c2fd4091-8a82-4f5c-bc59-9e97a598dc93"
      },
      "source": [
        "Nrepeats = 40\n",
        "cutoff = 0.2\n",
        "\n",
        "N, D = X.shape\n",
        "_, K = Y.shape\n",
        "M = 2\n",
        "\n",
        "records = []\n",
        "success = 0\n",
        "\n",
        "for rep in range(Nrepeats):\n",
        "\n",
        "  rr = {}\n",
        "  c = np.random.normal(0, 1, K).reshape((K,1))\n",
        "  v = np.random.normal(0, 1, K*M).reshape((K,M))\n",
        "  b = np.random.normal(0, 2, M).reshape((M,1))\n",
        "  w = np.random.normal(0, 2, M*D).reshape((M,D))\n",
        "\n",
        "  t1 = time.time()\n",
        "\n",
        "  cc, vv, bb, ww, train_loss = train_mlp2(c, v, b, w, X, Y, 0.3, 0.3, 8000, \n",
        "                                          sigmoid, cross_entropy)\n",
        "  t2 = time.time()\n",
        "  rr['time'] = t2 - t1\n",
        "  rr['train_loss'] = train_loss\n",
        "  rr['c'] = cc\n",
        "  rr['v'] = vv\n",
        "  rr['b'] = bb\n",
        "  rr['w'] = ww\n",
        "\n",
        "  Yp = mlp2(cc, vv, bb, ww, X, sigmoid)\n",
        "  # for i in range(4):\n",
        "  #     print(\"repeat {}: {} {} | {} | {:.4f}\".format(rep, *X[i],  *Y[i], *Yp[i]))\n",
        "  #     print()\n",
        "  SSE = np.sum( (Yp - Y)**2 )\n",
        "  if SSE < cutoff:\n",
        "    success += 1\n",
        "  print('repeat {}: Yp = {:.1f} {:.1f} {:.1f} {:.1f}; SSE = {}'.format(rep, *Yp.T[0], SSE))\n",
        "  \n",
        "\n",
        "print('success = {} out of {}'.format(success, Nrepeats))  "
      ],
      "execution_count": null,
      "outputs": [
        {
          "output_type": "stream",
          "name": "stdout",
          "text": [
            "repeat 0: Yp = 0.0 1.0 0.5 0.5; SSE = 0.5005476641475484\n",
            "repeat 1: Yp = 0.0 1.0 0.5 0.5; SSE = 0.5005963224572337\n",
            "repeat 2: Yp = 0.0 1.0 1.0 0.0; SSE = 4.044853477398342e-06\n",
            "repeat 3: Yp = 0.0 1.0 1.0 0.0; SSE = 3.981825904242507e-06\n",
            "repeat 4: Yp = 0.0 1.0 1.0 0.0; SSE = 2.3557431079213082e-05\n",
            "repeat 5: Yp = 0.0 1.0 1.0 0.0; SSE = 4.107543754686287e-06\n",
            "repeat 6: Yp = 0.0 1.0 1.0 0.0; SSE = 4.03952751306458e-06\n",
            "repeat 7: Yp = 0.0 1.0 1.0 0.0; SSE = 4.122858837959618e-06\n",
            "repeat 8: Yp = 0.0 0.7 0.7 0.7; SSE = 0.6675701420030029\n",
            "repeat 9: Yp = 0.0 1.0 1.0 0.0; SSE = 3.903660580105269e-06\n",
            "repeat 10: Yp = 0.0 1.0 1.0 0.0; SSE = 4.285134326929974e-06\n",
            "repeat 11: Yp = 0.0 1.0 0.5 0.5; SSE = 0.5005470900165734\n",
            "repeat 12: Yp = 0.0 1.0 1.0 0.0; SSE = 4.1467480765099375e-06\n",
            "repeat 13: Yp = 0.0 1.0 1.0 0.0; SSE = 4.169627175266232e-06\n",
            "repeat 14: Yp = 0.0 1.0 0.5 0.5; SSE = 0.5005674983859313\n",
            "repeat 15: Yp = 0.0 0.5 1.0 0.5; SSE = 0.5005454718626132\n",
            "repeat 16: Yp = 0.0 1.0 1.0 0.0; SSE = 4.22914912451135e-06\n",
            "repeat 17: Yp = 0.0 1.0 0.5 0.5; SSE = 0.5005492239099238\n",
            "repeat 18: Yp = 0.0 1.0 1.0 0.0; SSE = 1.456807896011291e-05\n",
            "repeat 19: Yp = 0.0 1.0 1.0 0.0; SSE = 4.05279693146487e-06\n",
            "repeat 20: Yp = 0.0 1.0 1.0 0.0; SSE = 1.4995701659489489e-05\n",
            "repeat 21: Yp = 0.0 1.0 1.0 0.0; SSE = 1.46098072949098e-05\n",
            "repeat 22: Yp = 0.0 0.5 1.0 0.5; SSE = 0.500556504039563\n",
            "repeat 23: Yp = 0.0 1.0 1.0 0.0; SSE = 4.222364719970468e-06\n",
            "repeat 24: Yp = 0.0 1.0 0.5 0.5; SSE = 0.5005608314190869\n",
            "repeat 25: Yp = 0.0 0.5 1.0 0.5; SSE = 0.5005642683019156\n",
            "repeat 26: Yp = 0.0 1.0 1.0 0.0; SSE = 4.184217073754642e-06\n",
            "repeat 27: Yp = 0.0 1.0 1.0 0.0; SSE = 1.3986263531068818e-05\n",
            "repeat 28: Yp = 0.0 1.0 1.0 0.0; SSE = 5.265198467635742e-06\n",
            "repeat 29: Yp = 0.0 1.0 1.0 0.0; SSE = 4.179714041438504e-06\n",
            "repeat 30: Yp = 0.0 1.0 1.0 0.0; SSE = 4.4784112267692915e-06\n",
            "repeat 31: Yp = 0.0 1.0 1.0 0.0; SSE = 5.511403554600065e-06\n",
            "repeat 32: Yp = 0.0 1.0 1.0 0.0; SSE = 6.503797492527096e-06\n",
            "repeat 33: Yp = 0.0 1.0 1.0 0.0; SSE = 4.205450846836263e-06\n",
            "repeat 34: Yp = 0.0 1.0 0.5 0.5; SSE = 0.5005554057303057\n",
            "repeat 35: Yp = 0.0 0.5 1.0 0.5; SSE = 0.5005453209440642\n",
            "repeat 36: Yp = 0.0 1.0 1.0 0.0; SSE = 4.011814280100466e-06\n",
            "repeat 37: Yp = 0.0 0.5 1.0 0.5; SSE = 0.5005632146405676\n",
            "repeat 38: Yp = 0.0 1.0 1.0 0.0; SSE = 4.029484886716482e-06\n",
            "repeat 39: Yp = 0.0 1.0 1.0 0.0; SSE = 1.4768259311991552e-05\n",
            "success = 27 out of 40\n"
          ]
        }
      ]
    },
    {
      "cell_type": "markdown",
      "metadata": {
        "id": "kiwpU-TG_OD5"
      },
      "source": [
        "Ah!!! It is what it is.\n",
        "\n",
        "Regression wins as the results show.\n",
        "\n",
        "But, does regression really outperform binary classification in binary setting? Or is it just a fluke?"
      ]
    },
    {
      "cell_type": "markdown",
      "metadata": {
        "id": "UxjK1UtnAsKL"
      },
      "source": [
        "Note:\n",
        "this is interesting. There might be something I can elaborate on. But, later! (or never... who knows!)"
      ]
    },
    {
      "cell_type": "markdown",
      "metadata": {
        "id": "MdClbrrFAKeB"
      },
      "source": [
        "### Significance test"
      ]
    },
    {
      "cell_type": "code",
      "metadata": {
        "id": "ckbWi795APIH"
      },
      "source": [
        "# Later"
      ],
      "execution_count": null,
      "outputs": []
    },
    {
      "cell_type": "markdown",
      "metadata": {
        "id": "sleafyxWpT7u"
      },
      "source": [
        "## Multiclass Classification"
      ]
    },
    {
      "cell_type": "markdown",
      "metadata": {
        "id": "u04hdJ3-pT7u"
      },
      "source": [
        "Key Mechanism\n",
        "\n",
        "1. One-hot coding\n",
        "\n",
        "2. Softmax\n",
        "\n",
        "3. Multiclass cross entropy loss"
      ]
    },
    {
      "cell_type": "code",
      "metadata": {
        "id": "kDmSx3MbpT7v",
        "colab": {
          "base_uri": "https://localhost:8080/",
          "height": 37
        },
        "outputId": "30a0e7cc-e572-4ea8-9a94-942127d7105a"
      },
      "source": [
        "Math(r'\\mathbf{\\hat{y}} = \\mathrm{softmax}( \\mathbf{c}^T + \\mathbf{z} \\cdot \\mathbf{v}^T )')"
      ],
      "execution_count": null,
      "outputs": [
        {
          "output_type": "execute_result",
          "data": {
            "text/latex": "$$\\mathbf{\\hat{y}} = \\mathrm{softmax}( \\mathbf{c}^T + \\mathbf{z} \\cdot \\mathbf{v}^T )$$",
            "text/plain": [
              "<IPython.core.display.Math object>"
            ]
          },
          "metadata": {},
          "execution_count": 358
        }
      ]
    },
    {
      "cell_type": "code",
      "metadata": {
        "id": "xFYqVGkepT7v",
        "colab": {
          "base_uri": "https://localhost:8080/",
          "height": 85
        },
        "outputId": "edc0e981-6d0e-490a-f4da-448f8639eb94"
      },
      "source": [
        "printmd(r'$$\\mathrm{softmax}(\\mathbf{a}[n]) = [\\mathrm{softmax}(a_1[n]), \\ldots, \\mathrm{softmax}(a_K)[n]]$$')\n",
        "printmd(r'$$\\mathrm{softmax}(a_k) = \\frac{\\exp(a_k)}{\\sum_{i=1}^K \\exp(a_i)}$$')"
      ],
      "execution_count": null,
      "outputs": [
        {
          "output_type": "display_data",
          "data": {
            "text/markdown": "$$\\mathrm{softmax}(\\mathbf{a}[n]) = [\\mathrm{softmax}(a_1[n]), \\ldots, \\mathrm{softmax}(a_K)[n]]$$",
            "text/plain": [
              "<IPython.core.display.Markdown object>"
            ]
          },
          "metadata": {}
        },
        {
          "output_type": "display_data",
          "data": {
            "text/markdown": "$$\\mathrm{softmax}(a_k) = \\frac{\\exp(a_k)}{\\sum_{i=1}^K \\exp(a_i)}$$",
            "text/plain": [
              "<IPython.core.display.Markdown object>"
            ]
          },
          "metadata": {}
        }
      ]
    },
    {
      "cell_type": "code",
      "metadata": {
        "id": "rm2jgXKtpT7w",
        "colab": {
          "base_uri": "https://localhost:8080/",
          "height": 38
        },
        "outputId": "a060fbcc-68fc-407c-8cd0-e51cfb543985"
      },
      "source": [
        "Math(r'\\mathcal{L}_n = - \\sum_k y_k[n] \\cdot \\log (\\hat{y}_k[n]) ')"
      ],
      "execution_count": null,
      "outputs": [
        {
          "output_type": "execute_result",
          "data": {
            "text/latex": "$$\\mathcal{L}_n = - \\sum_k y_k[n] \\cdot \\log (\\hat{y}_k[n]) $$",
            "text/plain": [
              "<IPython.core.display.Math object>"
            ]
          },
          "metadata": {},
          "execution_count": 361
        }
      ]
    },
    {
      "cell_type": "markdown",
      "metadata": {
        "id": "oxplKYkRnyv3"
      },
      "source": [
        "### Iris Dataset Revisited"
      ]
    },
    {
      "cell_type": "code",
      "metadata": {
        "id": "cR3WuhQLpEpp"
      },
      "source": [
        "from sklearn.datasets import load_iris"
      ],
      "execution_count": null,
      "outputs": []
    },
    {
      "cell_type": "code",
      "metadata": {
        "id": "0iduuvSjpElJ"
      },
      "source": [
        "iris = load_iris()\n",
        "X,y = iris.data, iris.target\n",
        "Y = y.reshape((-1,1))"
      ],
      "execution_count": null,
      "outputs": []
    },
    {
      "cell_type": "code",
      "metadata": {
        "colab": {
          "base_uri": "https://localhost:8080/"
        },
        "id": "g9DbMjLxrxYA",
        "outputId": "3066e58f-d105-4bb2-fc49-61a1353247ef"
      },
      "source": [
        "print(X.shape)\n",
        "print(Y.shape)"
      ],
      "execution_count": null,
      "outputs": [
        {
          "output_type": "stream",
          "name": "stdout",
          "text": [
            "(150, 4)\n",
            "(150, 1)\n"
          ]
        }
      ]
    },
    {
      "cell_type": "code",
      "metadata": {
        "colab": {
          "base_uri": "https://localhost:8080/",
          "height": 300
        },
        "id": "n4cCJhlNpEiZ",
        "outputId": "2df0426e-77c9-465f-ce4d-564a1b452e74"
      },
      "source": [
        "fig, axes = plt.subplots(nrows=2, ncols=2)\n",
        "fig.tight_layout(rect=[0.1, 0.1, 1, 1], h_pad=4, w_pad=4)\n",
        "\n",
        "for i in range(4):\n",
        "  plt.subplot(2,2,i+1)\n",
        "  plt.plot( X[:,i], Y[:,0], '*')\n",
        "  plt.xlabel('x'+str(i+1))\n",
        "  plt.ylabel('y')"
      ],
      "execution_count": null,
      "outputs": [
        {
          "output_type": "display_data",
          "data": {
            "image/png": "[encoded data removed]",
            "text/plain": [
              "<Figure size 432x288 with 4 Axes>"
            ]
          },
          "metadata": {
            "needs_background": "light"
          }
        }
      ]
    },
    {
      "cell_type": "code",
      "metadata": {
        "id": "tVneh0gIpEfn"
      },
      "source": [
        "from sklearn.model_selection import train_test_split"
      ],
      "execution_count": null,
      "outputs": []
    },
    {
      "cell_type": "code",
      "metadata": {
        "id": "pNv8940Mv5xf"
      },
      "source": [
        "X_train, X_test, Y_train, Y_test = \\\n",
        "    train_test_split(X, Y, stratify=Y, test_size=0.3, random_state=42)"
      ],
      "execution_count": null,
      "outputs": []
    },
    {
      "cell_type": "code",
      "metadata": {
        "colab": {
          "base_uri": "https://localhost:8080/"
        },
        "id": "K0zsWu_iwHGn",
        "outputId": "028e230d-bdc1-4e4e-9722-564a31fe8306"
      },
      "source": [
        "print(X_train.shape)\n",
        "print(X_test.shape)\n",
        "\n",
        "print(Y_train.shape)\n",
        "print(Y_test.shape)"
      ],
      "execution_count": null,
      "outputs": [
        {
          "output_type": "stream",
          "name": "stdout",
          "text": [
            "(105, 4)\n",
            "(45, 4)\n",
            "(105, 1)\n",
            "(45, 1)\n"
          ]
        }
      ]
    },
    {
      "cell_type": "markdown",
      "metadata": {
        "id": "uX2tWs4DfRUJ"
      },
      "source": [
        "#### One-hot coding"
      ]
    },
    {
      "cell_type": "code",
      "metadata": {
        "id": "TIKWcrhuwYzf"
      },
      "source": [
        "# Turn Y_train into one-hot coding\n",
        "\n",
        "def onehot(y, classes=None):\n",
        "  '''\n",
        "  input y: N x 1\n",
        "  classes: unique values of y, e.g., [0, 1, 2]\n",
        "  output yhot: N x K\n",
        "  '''\n",
        "\n",
        "  if classes is None:\n",
        "    classes = np.unique(y)\n",
        "\n",
        "  K = len(classes)\n",
        "  N = y.shape[0]\n",
        "  codebook = np.diag(np.ones(K))\n",
        "\n",
        "  yhot = codebook[y[:,0]]\n",
        "\n",
        "  return yhot"
      ],
      "execution_count": null,
      "outputs": []
    },
    {
      "cell_type": "code",
      "metadata": {
        "colab": {
          "base_uri": "https://localhost:8080/"
        },
        "id": "ytKxXJsv0pbu",
        "outputId": "d32cf764-3489-4a83-8d44-826c37ae3104"
      },
      "source": [
        "# Test onehot code\n",
        "print(Y_train[:10,:].T)\n",
        "onehot(Y_train[:10,:])"
      ],
      "execution_count": null,
      "outputs": [
        {
          "output_type": "stream",
          "name": "stdout",
          "text": [
            "[[1 1 0 2 1 2 0 0 0 2]]\n"
          ]
        },
        {
          "output_type": "execute_result",
          "data": {
            "text/plain": [
              "array([[0., 1., 0.],\n",
              "       [0., 1., 0.],\n",
              "       [1., 0., 0.],\n",
              "       [0., 0., 1.],\n",
              "       [0., 1., 0.],\n",
              "       [0., 0., 1.],\n",
              "       [1., 0., 0.],\n",
              "       [1., 0., 0.],\n",
              "       [1., 0., 0.],\n",
              "       [0., 0., 1.]])"
            ]
          },
          "metadata": {},
          "execution_count": 59
        }
      ]
    },
    {
      "cell_type": "markdown",
      "metadata": {
        "id": "XiCBaOrl0-oK"
      },
      "source": [
        "#### Prepare one-hot output"
      ]
    },
    {
      "cell_type": "code",
      "metadata": {
        "colab": {
          "base_uri": "https://localhost:8080/"
        },
        "id": "lUI6Z-641Kor",
        "outputId": "4a3106cc-1d47-4aaa-dd72-d731dec05242"
      },
      "source": [
        "Yonehot_train = onehot(Y_train)\n",
        "Yonehot_train[:5,:]"
      ],
      "execution_count": null,
      "outputs": [
        {
          "output_type": "execute_result",
          "data": {
            "text/plain": [
              "array([[0., 1., 0.],\n",
              "       [0., 1., 0.],\n",
              "       [1., 0., 0.],\n",
              "       [0., 0., 1.],\n",
              "       [0., 1., 0.]])"
            ]
          },
          "metadata": {},
          "execution_count": 63
        }
      ]
    },
    {
      "cell_type": "markdown",
      "metadata": {
        "id": "d19ZWAnk1VRM"
      },
      "source": [
        "#### Softmax"
      ]
    },
    {
      "cell_type": "code",
      "metadata": {
        "colab": {
          "base_uri": "https://localhost:8080/",
          "height": 58
        },
        "id": "wOePqnb_2JkL",
        "outputId": "e0ea8de7-10be-4d4f-ed75-0344fae67035"
      },
      "source": [
        "printmd(r'$$ \\mathrm{softmax}(a_k) = \\frac{ \\exp(a_k)}{\\sum_j \\exp(a_j)} $$')"
      ],
      "execution_count": null,
      "outputs": [
        {
          "output_type": "display_data",
          "data": {
            "text/markdown": "$$ \\mathrm{softmax}(a_k) = \\frac{ \\exp(a_k)}{\\sum_j \\exp(a_j)} $$",
            "text/plain": [
              "<IPython.core.display.Markdown object>"
            ]
          },
          "metadata": {}
        }
      ]
    },
    {
      "cell_type": "code",
      "metadata": {
        "colab": {
          "base_uri": "https://localhost:8080/",
          "height": 51
        },
        "id": "UfZ6lPQg22Hc",
        "outputId": "b24fc22f-896e-4f03-85ea-195b025510f2"
      },
      "source": [
        "printmd(r'$$ \\mathbf{z} = h(\\mathbf{a}) = [h(a_1), h(a_2), \\ldots, h(a_K)]^T $$')\n"
      ],
      "execution_count": null,
      "outputs": [
        {
          "output_type": "display_data",
          "data": {
            "text/markdown": "$$ \\mathbf{z} = h(\\mathbf{a}) = [h(a_1), h(a_2), \\ldots, h(a_K)]^T $$",
            "text/plain": [
              "<IPython.core.display.Markdown object>"
            ]
          },
          "metadata": {}
        }
      ]
    },
    {
      "cell_type": "code",
      "metadata": {
        "id": "gaBsSKLU1eDD"
      },
      "source": [
        "def naive_softmax(a):\n",
        "  '''\n",
        "  a: N x K\n",
        "  '''\n",
        "  ea = np.exp(a)\n",
        "  s = np.sum(ea, axis=1, keepdims=True)\n",
        "  z = ea/s\n",
        "  return z"
      ],
      "execution_count": null,
      "outputs": []
    },
    {
      "cell_type": "code",
      "metadata": {
        "colab": {
          "base_uri": "https://localhost:8080/"
        },
        "id": "P8WIEYzcfxrj",
        "outputId": "2a23aac7-127b-4159-b661-72af290ca867"
      },
      "source": [
        "# Test\n",
        "\n",
        "xs = np.array([[1, 2, 3], [7, 8, 9], [30, 10, 20], [200, 300, 100], [400, 600, 200]])\n",
        "yhh = naive_softmax(xs)\n",
        "print(yhh)\n",
        "print(np.argmax(yhh, axis=1))"
      ],
      "execution_count": null,
      "outputs": [
        {
          "output_type": "stream",
          "name": "stdout",
          "text": [
            "[[9.00305732e-002 2.44728471e-001 6.65240956e-001]\n",
            " [9.00305732e-002 2.44728471e-001 6.65240956e-001]\n",
            " [9.99954600e-001 2.06106005e-009 4.53978686e-005]\n",
            " [3.72007598e-044 1.00000000e+000 1.38389653e-087]\n",
            " [1.38389653e-087 1.00000000e+000 1.91516960e-174]]\n",
            "[2 2 0 1 1]\n"
          ]
        }
      ]
    },
    {
      "cell_type": "code",
      "metadata": {
        "colab": {
          "base_uri": "https://localhost:8080/"
        },
        "id": "ZlNZ_wSnghan",
        "outputId": "d34886cc-f959-4027-b31b-f3d2ab25560c"
      },
      "source": [
        "np.exp(np.array([1, 2, 3]))/np.sum(np.exp(np.array([1, 2, 3])))"
      ],
      "execution_count": null,
      "outputs": [
        {
          "output_type": "execute_result",
          "data": {
            "text/plain": [
              "array([0.09003057, 0.24472847, 0.66524096])"
            ]
          },
          "metadata": {},
          "execution_count": 68
        }
      ]
    },
    {
      "cell_type": "code",
      "metadata": {
        "colab": {
          "base_uri": "https://localhost:8080/"
        },
        "id": "n7hn9N6upWhm",
        "outputId": "d63845e7-3cdd-4336-c7b6-5c4d715fc148"
      },
      "source": [
        "np.exp(np.array([7, 8, 9]))/np.sum(np.exp(np.array([7, 8, 9])))"
      ],
      "execution_count": null,
      "outputs": [
        {
          "output_type": "execute_result",
          "data": {
            "text/plain": [
              "array([0.09003057, 0.24472847, 0.66524096])"
            ]
          },
          "metadata": {},
          "execution_count": 69
        }
      ]
    },
    {
      "cell_type": "code",
      "metadata": {
        "colab": {
          "base_uri": "https://localhost:8080/"
        },
        "id": "cNad1OcGpkpi",
        "outputId": "4358b35d-7acd-49e2-8a2a-def7c0a79eb0"
      },
      "source": [
        "np.exp(np.array([100, 101, 102]))/np.sum(np.exp(np.array([100, 101, 102])))"
      ],
      "execution_count": null,
      "outputs": [
        {
          "output_type": "execute_result",
          "data": {
            "text/plain": [
              "array([0.09003057, 0.24472847, 0.66524096])"
            ]
          },
          "metadata": {},
          "execution_count": 70
        }
      ]
    },
    {
      "cell_type": "markdown",
      "metadata": {
        "id": "aAM-R55Jfiq5"
      },
      "source": [
        "Do you notice something here?"
      ]
    },
    {
      "cell_type": "markdown",
      "metadata": {
        "id": "fMT1dewRfmwU"
      },
      "source": [
        "PAUSE! PAUSE! PAUSE!"
      ]
    },
    {
      "cell_type": "markdown",
      "metadata": {
        "id": "J2sIoQZPkK6e"
      },
      "source": [
        "Then what's wrong with ```naive_softmax```?"
      ]
    },
    {
      "cell_type": "code",
      "metadata": {
        "colab": {
          "base_uri": "https://localhost:8080/"
        },
        "id": "U4vnpa1DkQwe",
        "outputId": "1e21c69d-0eea-431f-f3ec-5b0a52e41f2e"
      },
      "source": [
        "xs = np.array([[7,8,9], [70, 80, 90], [30, 10, 20], [200, 300, 100]])\n",
        "yhh = naive_softmax(xs)\n",
        "print(yhh)\n",
        "print(np.argmax(yhh, axis=1))"
      ],
      "execution_count": null,
      "outputs": [
        {
          "output_type": "stream",
          "name": "stdout",
          "text": [
            "[[9.00305732e-02 2.44728471e-01 6.65240956e-01]\n",
            " [2.06106005e-09 4.53978686e-05 9.99954600e-01]\n",
            " [9.99954600e-01 2.06106005e-09 4.53978686e-05]\n",
            " [3.72007598e-44 1.00000000e+00 1.38389653e-87]]\n",
            "[2 2 0 1]\n"
          ]
        }
      ]
    },
    {
      "cell_type": "code",
      "metadata": {
        "colab": {
          "base_uri": "https://localhost:8080/"
        },
        "id": "Py4Q2jS1lddz",
        "outputId": "5bd78751-9356-4a06-a7bc-ceb76eefbf29"
      },
      "source": [
        "xs = np.array([[700,800,900], [70, 80, 90], [30, 10, 20], [200, 300, 100]])\n",
        "yhh = naive_softmax(xs)\n",
        "print(yhh)\n",
        "print(np.argmax(yhh, axis=1))"
      ],
      "execution_count": null,
      "outputs": [
        {
          "output_type": "stream",
          "name": "stdout",
          "text": [
            "[[0.00000000e+00            nan            nan]\n",
            " [2.06106005e-09 4.53978686e-05 9.99954600e-01]\n",
            " [9.99954600e-01 2.06106005e-09 4.53978686e-05]\n",
            " [3.72007598e-44 1.00000000e+00 1.38389653e-87]]\n",
            "[1 2 0 1]\n"
          ]
        },
        {
          "output_type": "stream",
          "name": "stderr",
          "text": [
            "/usr/local/lib/python3.7/dist-packages/ipykernel_launcher.py:5: RuntimeWarning: overflow encountered in exp\n",
            "  \"\"\"\n",
            "/usr/local/lib/python3.7/dist-packages/ipykernel_launcher.py:7: RuntimeWarning: invalid value encountered in true_divide\n",
            "  import sys\n"
          ]
        }
      ]
    },
    {
      "cell_type": "markdown",
      "metadata": {
        "id": "JumiJWOFliZd"
      },
      "source": [
        "What happens?"
      ]
    },
    {
      "cell_type": "code",
      "metadata": {
        "colab": {
          "base_uri": "https://localhost:8080/"
        },
        "id": "-9F76Ue5lkty",
        "outputId": "a8afec55-1425-4d52-be27-47b260f06add"
      },
      "source": [
        "print(np.exp(700))\n",
        "print(np.exp(701))\n",
        "print(np.exp(702))\n",
        "print(np.exp(703))\n",
        "print(np.exp(709))\n",
        "print(np.exp(710))"
      ],
      "execution_count": null,
      "outputs": [
        {
          "output_type": "stream",
          "name": "stdout",
          "text": [
            "1.0142320547350045e+304\n",
            "2.7569685642268427e+304\n",
            "7.49421754977065e+304\n",
            "2.037139538406043e+305\n",
            "8.218407461554972e+307\n",
            "inf\n"
          ]
        },
        {
          "output_type": "stream",
          "name": "stderr",
          "text": [
            "/usr/local/lib/python3.7/dist-packages/ipykernel_launcher.py:6: RuntimeWarning: overflow encountered in exp\n",
            "  \n"
          ]
        }
      ]
    },
    {
      "cell_type": "markdown",
      "metadata": {
        "id": "ocrjP15YnNaZ"
      },
      "source": [
        "##### More robust softmax code"
      ]
    },
    {
      "cell_type": "code",
      "metadata": {
        "colab": {
          "base_uri": "https://localhost:8080/",
          "height": 58
        },
        "id": "VBTf2DdmoHIa",
        "outputId": "f1f3f77c-18d9-401f-bd2b-f3d777da9e2f"
      },
      "source": [
        "printmd(r'$$ \\mathrm{softmax}(a_k) = \\frac{ \\exp(a_k)}{\\sum_j \\exp(a_j)} = \\frac{ \\exp(a_k - a_{\\max})}{\\sum_j \\exp(a_j - a_{\\max})}$$')"
      ],
      "execution_count": null,
      "outputs": [
        {
          "output_type": "display_data",
          "data": {
            "text/markdown": "$$ \\mathrm{softmax}(a_k) = \\frac{ \\exp(a_k)}{\\sum_j \\exp(a_j)} = \\frac{ \\exp(a_k - a_{\\max})}{\\sum_j \\exp(a_j - a_{\\max})}$$",
            "text/plain": [
              "<IPython.core.display.Markdown object>"
            ]
          },
          "metadata": {}
        }
      ]
    },
    {
      "cell_type": "code",
      "metadata": {
        "id": "yvFxP2G0nMdj"
      },
      "source": [
        "def softmax(a):\n",
        "  '''\n",
        "  a: N x K\n",
        "  '''\n",
        "  amax = np.max(a, axis=1, keepdims=True)\n",
        "  \n",
        "  ea = np.exp(a - amax)\n",
        "\n",
        "  s = np.sum(ea, axis=1, keepdims=True)\n",
        "  z = ea/s\n",
        "  return z"
      ],
      "execution_count": null,
      "outputs": []
    },
    {
      "cell_type": "code",
      "metadata": {
        "colab": {
          "base_uri": "https://localhost:8080/"
        },
        "id": "PZlT0QuyfNJt",
        "outputId": "832be913-c899-46be-a5ff-b7c15103c7c8"
      },
      "source": [
        "softmax(np.array([[1,2,3], [10, 20, 30]]))"
      ],
      "execution_count": null,
      "outputs": [
        {
          "output_type": "execute_result",
          "data": {
            "text/plain": [
              "array([[9.00305732e-02, 2.44728471e-01, 6.65240956e-01],\n",
              "       [2.06106005e-09, 4.53978686e-05, 9.99954600e-01]])"
            ]
          },
          "metadata": {},
          "execution_count": 84
        }
      ]
    },
    {
      "cell_type": "code",
      "metadata": {
        "colab": {
          "base_uri": "https://localhost:8080/"
        },
        "id": "BAZRz1Bdon9-",
        "outputId": "9c43e1b9-518f-48ff-aaa4-a1c98a449dc5"
      },
      "source": [
        "# Test\n",
        "\n",
        "xs = np.array([[1, 2, 3], [30, 10, 20], [200, 300, 100], [400, 600, 200]])\n",
        "yhh = softmax(xs)\n",
        "print(yhh)\n",
        "print(np.argmax(yhh, axis=1))"
      ],
      "execution_count": null,
      "outputs": [
        {
          "output_type": "stream",
          "name": "stdout",
          "text": [
            "[[9.00305732e-002 2.44728471e-001 6.65240956e-001]\n",
            " [9.99954600e-001 2.06106005e-009 4.53978686e-005]\n",
            " [3.72007598e-044 1.00000000e+000 1.38389653e-087]\n",
            " [1.38389653e-087 1.00000000e+000 1.91516960e-174]]\n",
            "[2 0 1 1]\n"
          ]
        }
      ]
    },
    {
      "cell_type": "code",
      "metadata": {
        "colab": {
          "base_uri": "https://localhost:8080/"
        },
        "id": "APAhddNjp27h",
        "outputId": "758bdc37-5aab-4266-8e25-df1080855af9"
      },
      "source": [
        "xs = np.array([[1000, 2000, 3000], [30, 10, 20], [200, 300, 100], [400, 600, 200]])\n",
        "yhh = softmax(xs)\n",
        "print(yhh)\n",
        "print(np.argmax(yhh, axis=1))"
      ],
      "execution_count": null,
      "outputs": [
        {
          "output_type": "stream",
          "name": "stdout",
          "text": [
            "[[0.00000000e+000 0.00000000e+000 1.00000000e+000]\n",
            " [9.99954600e-001 2.06106005e-009 4.53978686e-005]\n",
            " [3.72007598e-044 1.00000000e+000 1.38389653e-087]\n",
            " [1.38389653e-087 1.00000000e+000 1.91516960e-174]]\n",
            "[2 0 1 1]\n"
          ]
        }
      ]
    },
    {
      "cell_type": "markdown",
      "metadata": {
        "id": "SiHZ1sSC1aw4"
      },
      "source": [
        "#### Category cross-entropy loss"
      ]
    },
    {
      "cell_type": "code",
      "metadata": {
        "id": "grP1LDiOscAP"
      },
      "source": [
        "def cc_entropy(x, yonehot, yp, eps=1e-323, do_sum=True):\n",
        "    '''\n",
        "    yonehot: N x K  (in one-hot coding)\n",
        "    yp: N x K\n",
        "    '''\n",
        "    Ln = -np.log(np.sum(yonehot * yp, axis=1, keepdims=True) + eps)\n",
        "\n",
        "    if do_sum:\n",
        "      return np.sum(Ln)\n",
        "\n",
        "    return Ln"
      ],
      "execution_count": null,
      "outputs": []
    },
    {
      "cell_type": "code",
      "metadata": {
        "colab": {
          "base_uri": "https://localhost:8080/"
        },
        "id": "pCip0h-WtaGZ",
        "outputId": "9bbed69c-f201-4cdf-cf39-73e51a29099c"
      },
      "source": [
        "# Test\n",
        "gthot = np.array([[1, 0, 0], [0, 1, 0], [0, 0, 1], [0, 1, 0]])\n",
        "yhat = np.array([[1, 0, 0],[1, 0, 0], [0, 0.1, 0.9], [0.99, 0.01, 0] ])\n",
        "\n",
        "#print(cc_entropy(None, gthot, yhat, eps=0, do_sum=False))\n",
        "print(cc_entropy(None, gthot, yhat, do_sum=False))\n",
        "print(cc_entropy(None, gthot, yhat))"
      ],
      "execution_count": null,
      "outputs": [
        {
          "output_type": "stream",
          "name": "stdout",
          "text": [
            "[[-0.00000000e+00]\n",
            " [ 7.43746925e+02]\n",
            " [ 1.05360516e-01]\n",
            " [ 4.60517019e+00]]\n",
            "748.4574554424672\n"
          ]
        }
      ]
    },
    {
      "cell_type": "markdown",
      "metadata": {
        "id": "x1PsDklHxT-V"
      },
      "source": [
        "Notice that derivative of category cross-entropy loss w.r.t. output activation ```a``` is simply the difference."
      ]
    },
    {
      "cell_type": "code",
      "metadata": {
        "colab": {
          "base_uri": "https://localhost:8080/",
          "height": 202
        },
        "id": "cVMDbCuexIja",
        "outputId": "ff9f2bd0-b0a5-482e-85d4-7bd4d71002a1"
      },
      "source": [
        "print('Given')\n",
        "printmd(r'$$ \\mathbf{y} \\in \\{0, 1\\}^K, $$')\n",
        "printmd(r'$$ \\sum_k y_k = 1, $$')\n",
        "printmd(r'$$\\hat{y}_k = \\mathrm{softmax}(a_k), $$')\n",
        "printmd(r'$$L = - \\sum_k y_k \\log(\\hat{y}_k), $$')\n",
        "print('then')\n",
        "printmd(r'$$ \\frac{\\partial L}{\\partial a_k} = \\hat{y}_k - y_k, $$')\n"
      ],
      "execution_count": null,
      "outputs": [
        {
          "output_type": "stream",
          "name": "stdout",
          "text": [
            "Given\n"
          ]
        },
        {
          "output_type": "display_data",
          "data": {
            "text/markdown": "$$ \\mathbf{y} \\in \\{0, 1\\}^K, $$",
            "text/plain": [
              "<IPython.core.display.Markdown object>"
            ]
          },
          "metadata": {}
        },
        {
          "output_type": "display_data",
          "data": {
            "text/markdown": "$$ \\sum_k y_k = 1, $$",
            "text/plain": [
              "<IPython.core.display.Markdown object>"
            ]
          },
          "metadata": {}
        },
        {
          "output_type": "display_data",
          "data": {
            "text/markdown": "$$\\hat{y}_k = \\mathrm{softmax}(a_k), $$",
            "text/plain": [
              "<IPython.core.display.Markdown object>"
            ]
          },
          "metadata": {}
        },
        {
          "output_type": "display_data",
          "data": {
            "text/markdown": "$$L = - \\sum_k y_k \\log(\\hat{y}_k), $$",
            "text/plain": [
              "<IPython.core.display.Markdown object>"
            ]
          },
          "metadata": {}
        },
        {
          "output_type": "stream",
          "name": "stdout",
          "text": [
            "then\n"
          ]
        },
        {
          "output_type": "display_data",
          "data": {
            "text/markdown": "$$ \\frac{\\partial L}{\\partial a_k} = \\hat{y}_k - y_k, $$",
            "text/plain": [
              "<IPython.core.display.Markdown object>"
            ]
          },
          "metadata": {}
        }
      ]
    },
    {
      "cell_type": "markdown",
      "metadata": {
        "id": "sveu7g1Nvjmc"
      },
      "source": [
        "#### Choose a model and train MLP with Iris data"
      ]
    },
    {
      "cell_type": "code",
      "metadata": {
        "id": "Bic2uuCbvwql",
        "colab": {
          "base_uri": "https://localhost:8080/",
          "height": 307
        },
        "outputId": "0b85a784-0241-4aa6-f845-ca95dc12889f"
      },
      "source": [
        "N, D = X_train.shape\n",
        "_, K = Yonehot_train.shape\n",
        "M = 5\n",
        "\n",
        "c = np.random.normal(0, 1, K).reshape((K,1))\n",
        "v = np.random.normal(0, 1, K*M).reshape((K,M))\n",
        "b = np.random.normal(0, 2, M).reshape((M,1))\n",
        "w = np.random.normal(0, 2, M*D).reshape((M,D))\n",
        "\n",
        "t1 = time.time()\n",
        "\n",
        "cc, vv, bb, ww, train_loss = train_mlp2(c, v, b, w, X_train, Yonehot_train, \n",
        "                              0.02, 0.01, 4000, softmax, cc_entropy)\n",
        "plt.plot(train_loss)\n",
        "\n",
        "t2 = time.time()\n",
        "\n",
        "print('Time spent:', t2 - t1)"
      ],
      "execution_count": null,
      "outputs": [
        {
          "output_type": "stream",
          "name": "stdout",
          "text": [
            "Time spent: 0.5579009056091309\n"
          ]
        },
        {
          "output_type": "display_data",
          "data": {
            "image/png": "[encoded data removed]",
            "text/plain": [
              "<Figure size 432x288 with 1 Axes>"
            ]
          },
          "metadata": {
            "needs_background": "light"
          }
        }
      ]
    },
    {
      "cell_type": "code",
      "metadata": {
        "colab": {
          "base_uri": "https://localhost:8080/"
        },
        "id": "u9uuMWueiKfy",
        "outputId": "df8d7045-a910-4bb7-c900-d6668bdfdb25"
      },
      "source": [
        "print('The weights are:')\n",
        "print('c = ', c)\n",
        "print('v = ', v)\n",
        "print('b = ', b)\n",
        "print('w = ', w)"
      ],
      "execution_count": null,
      "outputs": [
        {
          "output_type": "stream",
          "name": "stdout",
          "text": [
            "The weights are:\n",
            "c =  [[ 0.47639095]\n",
            " [-2.22962713]\n",
            " [-1.07736833]]\n",
            "v =  [[ 1.04036656 -8.40355623  0.21915815 -1.38528669  5.3386721 ]\n",
            " [-1.40428421  5.44837895 -1.42510035  1.15056819  3.66764838]\n",
            " [-0.32986818  5.91423391  0.90934383 -0.75840937 -6.29589767]]\n",
            "b =  [[ 1.07720768]\n",
            " [-3.37342252]\n",
            " [-0.74513121]\n",
            " [-0.58404385]\n",
            " [13.48651614]]\n",
            "w =  [[  1.56032354   3.41065708   0.13814955  -1.3953771 ]\n",
            " [  1.05093662  -4.56344181   4.26077346  -0.03664908]\n",
            " [ -1.88949027  -0.77651644  -1.40361194   0.79234346]\n",
            " [ -1.13064823   1.18559775  -4.92423855  -0.79976081]\n",
            " [ 11.23479992   8.9299156  -16.6773357  -15.77031675]]\n"
          ]
        }
      ]
    },
    {
      "cell_type": "code",
      "metadata": {
        "colab": {
          "base_uri": "https://localhost:8080/"
        },
        "id": "iZFTh66FhkbY",
        "outputId": "becca3c1-0e04-4713-f2a8-833e37d9483a"
      },
      "source": [
        "Yp = mlp2(cc, vv, bb, ww, X_train, softmax)\n",
        "print('Training')\n",
        "print('Loss =', cross_entropy(X_train, Yonehot_train, Yp))"
      ],
      "execution_count": null,
      "outputs": [
        {
          "output_type": "stream",
          "name": "stdout",
          "text": [
            "Training\n",
            "Loss = 16.754093994711944\n"
          ]
        }
      ]
    },
    {
      "cell_type": "markdown",
      "metadata": {
        "id": "k_jpF1v_iOuG"
      },
      "source": [
        "What!\n",
        "\n",
        "What does this even mean?"
      ]
    },
    {
      "cell_type": "code",
      "metadata": {
        "colab": {
          "base_uri": "https://localhost:8080/"
        },
        "id": "yVjxTx0niSLA",
        "outputId": "c34444ce-1c44-4dd7-9cbb-5fd2e7bd9d54"
      },
      "source": [
        "Ypclass = np.argmax(Yp, axis=1)\n",
        "Ypclass"
      ],
      "execution_count": null,
      "outputs": [
        {
          "output_type": "execute_result",
          "data": {
            "text/plain": [
              "array([1, 1, 0, 2, 1, 2, 0, 0, 0, 2, 2, 0, 0, 1, 1, 2, 0, 0, 2, 1, 0, 2,\n",
              "       2, 2, 1, 0, 0, 0, 1, 1, 0, 0, 1, 1, 0, 0, 1, 2, 2, 0, 2, 0, 2, 0,\n",
              "       2, 1, 0, 2, 1, 2, 1, 0, 1, 2, 1, 2, 0, 1, 0, 1, 1, 1, 2, 2, 1, 2,\n",
              "       2, 0, 2, 1, 1, 2, 0, 2, 2, 1, 0, 2, 2, 0, 0, 1, 1, 2, 0, 2, 1, 2,\n",
              "       2, 0, 1, 1, 1, 1, 1, 0, 2, 1, 2, 0, 0, 1, 0, 1, 0])"
            ]
          },
          "metadata": {},
          "execution_count": 71
        }
      ]
    },
    {
      "cell_type": "code",
      "metadata": {
        "colab": {
          "base_uri": "https://localhost:8080/"
        },
        "id": "Gnn2bAyXiiEt",
        "outputId": "54ef353d-7a66-4778-ddc3-c0a96921cfd7"
      },
      "source": [
        "Y_train.T"
      ],
      "execution_count": null,
      "outputs": [
        {
          "output_type": "execute_result",
          "data": {
            "text/plain": [
              "array([[1, 1, 0, 2, 1, 2, 0, 0, 0, 2, 2, 0, 0, 1, 1, 2, 0, 0, 2, 1, 0, 2,\n",
              "        2, 2, 1, 0, 0, 0, 1, 1, 0, 0, 1, 1, 0, 0, 1, 2, 2, 0, 2, 0, 2, 0,\n",
              "        2, 1, 0, 2, 1, 2, 1, 0, 1, 2, 1, 2, 0, 1, 0, 1, 1, 1, 2, 1, 1, 2,\n",
              "        2, 0, 2, 1, 1, 2, 0, 2, 2, 1, 0, 2, 2, 0, 0, 2, 2, 2, 0, 2, 1, 2,\n",
              "        2, 0, 1, 1, 1, 1, 1, 0, 2, 1, 2, 0, 0, 1, 0, 1, 0]])"
            ]
          },
          "metadata": {},
          "execution_count": 72
        }
      ]
    },
    {
      "cell_type": "code",
      "metadata": {
        "colab": {
          "base_uri": "https://localhost:8080/"
        },
        "id": "fcrMILxPiaER",
        "outputId": "30164ba6-30c1-430b-f07e-7a11eacf8c7e"
      },
      "source": [
        "print(np.sum(Ypclass == Y_train[:,0]))\n",
        "print(Y_train.shape)\n",
        "print('Training accuracy', np.mean(Ypclass == Y_train[:,0]))"
      ],
      "execution_count": null,
      "outputs": [
        {
          "output_type": "stream",
          "name": "stdout",
          "text": [
            "102\n",
            "(105, 1)\n",
            "Training accuracy 0.9714285714285714\n"
          ]
        }
      ]
    },
    {
      "cell_type": "markdown",
      "metadata": {
        "id": "9zDuKq-Ki8uw"
      },
      "source": [
        "For classification, it makes more sense to report a model performance using **accuracy** (rather than MSE)."
      ]
    },
    {
      "cell_type": "markdown",
      "metadata": {
        "id": "EoVA5KDbjIol"
      },
      "source": [
        "#### Evaluation\n",
        "\n",
        "Don't forget to properly test your model."
      ]
    },
    {
      "cell_type": "code",
      "metadata": {
        "colab": {
          "base_uri": "https://localhost:8080/"
        },
        "id": "88PgIdVSjH8t",
        "outputId": "69e831fc-3c84-4816-dd79-8846fc0b73cc"
      },
      "source": [
        "Yp = mlp2(cc, vv, bb, ww, X_test, softmax)\n",
        "print('Test')\n",
        "Ypclass = np.argmax(Yp, axis=1)\n",
        "Ypclass"
      ],
      "execution_count": null,
      "outputs": [
        {
          "output_type": "stream",
          "name": "stdout",
          "text": [
            "Test\n"
          ]
        },
        {
          "output_type": "execute_result",
          "data": {
            "text/plain": [
              "array([2, 1, 1, 1, 2, 2, 1, 1, 0, 2, 0, 0, 2, 2, 0, 2, 1, 0, 0, 0, 1, 0,\n",
              "       1, 2, 1, 1, 1, 1, 1, 0, 2, 2, 1, 0, 2, 0, 0, 0, 0, 1, 1, 0, 2, 2,\n",
              "       1])"
            ]
          },
          "metadata": {},
          "execution_count": 74
        }
      ]
    },
    {
      "cell_type": "code",
      "metadata": {
        "colab": {
          "base_uri": "https://localhost:8080/"
        },
        "id": "yFo2k1Jujcm5",
        "outputId": "f08f8ca2-e3b9-47b6-cd57-c3b1bfd0abca"
      },
      "source": [
        "Y_test.T"
      ],
      "execution_count": null,
      "outputs": [
        {
          "output_type": "execute_result",
          "data": {
            "text/plain": [
              "array([[2, 1, 2, 1, 2, 2, 1, 1, 0, 2, 0, 0, 2, 2, 0, 2, 1, 0, 0, 0, 1, 0,\n",
              "        1, 2, 2, 1, 1, 1, 1, 0, 2, 2, 1, 0, 2, 0, 0, 0, 0, 1, 1, 0, 2, 2,\n",
              "        1]])"
            ]
          },
          "metadata": {},
          "execution_count": 75
        }
      ]
    },
    {
      "cell_type": "code",
      "metadata": {
        "colab": {
          "base_uri": "https://localhost:8080/"
        },
        "id": "mIv0mTqsjjie",
        "outputId": "c8c10b97-5397-469c-acdc-0ae935d31d4e"
      },
      "source": [
        "print(np.sum(Ypclass == Y_test[:,0]))\n",
        "print(Y_test.shape)\n",
        "print('Test accuracy', np.mean(Ypclass == Y_test[:,0]))"
      ],
      "execution_count": null,
      "outputs": [
        {
          "output_type": "stream",
          "name": "stdout",
          "text": [
            "43\n",
            "(45, 1)\n",
            "Test accuracy 0.9555555555555556\n"
          ]
        }
      ]
    },
    {
      "cell_type": "markdown",
      "metadata": {
        "id": "BPnQOnXlczVR"
      },
      "source": [
        "# Normalization"
      ]
    },
    {
      "cell_type": "markdown",
      "metadata": {
        "id": "Bp4za3tHseCw"
      },
      "source": [
        "## Let's learn Data 1"
      ]
    },
    {
      "cell_type": "code",
      "metadata": {
        "collapsed": true,
        "id": "1cg7cjUIpT7x",
        "colab": {
          "base_uri": "https://localhost:8080/",
          "height": 338
        },
        "outputId": "3246a2a9-ae8f-4044-b412-2f5f6a7565be"
      },
      "source": [
        "xs, ys = gen_data(200)\n",
        "\n",
        "print(xs.shape)\n",
        "print(ys.shape)\n",
        "\n",
        "plt.plot(xs, ys, '*')"
      ],
      "execution_count": null,
      "outputs": [
        {
          "output_type": "stream",
          "name": "stdout",
          "text": [
            "(200, 1)\n",
            "(200, 1)\n"
          ]
        },
        {
          "output_type": "execute_result",
          "data": {
            "text/plain": [
              "[<matplotlib.lines.Line2D at 0x7f11e4e12dd0>]"
            ]
          },
          "metadata": {},
          "execution_count": 10
        },
        {
          "output_type": "display_data",
          "data": {
            "image/png": "[encoded data removed]",
            "text/plain": [
              "<Figure size 432x288 with 1 Axes>"
            ]
          },
          "metadata": {
            "needs_background": "light"
          }
        }
      ]
    },
    {
      "cell_type": "code",
      "metadata": {
        "colab": {
          "base_uri": "https://localhost:8080/"
        },
        "id": "h0ShaxKneaU5",
        "outputId": "de5e1db0-0237-4768-9587-82dc210ecb36"
      },
      "source": [
        "# Separate data\n",
        "\n",
        "from sklearn.model_selection import train_test_split\n",
        "X_train, X_test, y_train, y_test = train_test_split(xs , ys, test_size=0.4, shuffle=True)\n",
        "\n",
        "\n",
        "print(X_train.shape)\n",
        "print(y_train.shape)\n",
        "\n",
        "print(X_test.shape)\n",
        "print(y_test.shape)"
      ],
      "execution_count": null,
      "outputs": [
        {
          "output_type": "stream",
          "name": "stdout",
          "text": [
            "(120, 1)\n",
            "(120, 1)\n",
            "(80, 1)\n",
            "(80, 1)\n"
          ]
        }
      ]
    },
    {
      "cell_type": "code",
      "metadata": {
        "id": "J68BVUzcqE5H"
      },
      "source": [
        "import time"
      ],
      "execution_count": null,
      "outputs": []
    },
    {
      "cell_type": "code",
      "metadata": {
        "colab": {
          "base_uri": "https://localhost:8080/",
          "height": 424
        },
        "id": "KqZ5H-FBr_Dw",
        "outputId": "7c83a890-2824-49d8-ea7b-007dd659e84e"
      },
      "source": [
        "N, D = X_train.shape\n",
        "_, K = y_train.shape\n",
        "M = 8 # number of HUs (hyper-parameter)\n",
        "\n",
        "# Biases and weights (parameters)\n",
        "c = np.random.normal(0, 1, K).reshape((K,1))\n",
        "v = np.random.normal(0, 1, K*M).reshape((K,M))\n",
        "b = np.random.normal(0, 2, M).reshape((M,1))\n",
        "w = np.random.normal(0, 2, M*D).reshape((M,D))\n",
        "\n",
        "lr1 = 0.3/N\n",
        "lr2 = 0.3/N\n",
        "\n",
        "t1 = time.time()\n",
        "\n",
        "cc, vv, bb, ww, train_loss = train_mlp2(c, v, b, w, X_train, y_train, lr1, lr2,\n",
        "                                        40000, identity, mse_loss)\n",
        "plt.plot(train_loss)\n",
        "\n",
        "t2 = time.time()\n",
        "\n",
        "print('Time spent:', t2 - t1)\n",
        "\n",
        "Yp = mlp2(cc, vv, bb, ww, X_train, identity)\n",
        "print('Training')\n",
        "print('MSE = ', mse_loss(X_train, y_train, Yp))\n",
        "print('RMSE = ', np.sqrt(mse_loss(X_train, y_train, Yp)))\n",
        "\n",
        "Yp = mlp2(cc, vv, bb, ww, X_test, identity)\n",
        "print('Testing')\n",
        "print('MSE = ', mse_loss(X_test, y_test, Yp))\n",
        "print('RMSE = ', np.sqrt(mse_loss(X_test, y_test, Yp)))\n",
        "\n",
        "# R Square\n",
        "r2 = 1- np.sum( np.square(Yp - y_test) )/np.sum( np.square( np.mean(y_test) - y_test) )\n",
        "print('r2 =', r2)"
      ],
      "execution_count": null,
      "outputs": [
        {
          "output_type": "stream",
          "name": "stdout",
          "text": [
            "Time spent: 3.407820463180542\n",
            "Training\n",
            "MSE =  0.000819492571589909\n",
            "RMSE =  0.028626780671076324\n",
            "Testing\n",
            "MSE =  0.0009375169015169294\n",
            "RMSE =  0.03061889778416149\n",
            "r2 = 0.9782275700508966\n"
          ]
        },
        {
          "output_type": "display_data",
          "data": {
            "image/png": "[encoded data removed]",
            "text/plain": [
              "<Figure size 432x288 with 1 Axes>"
            ]
          },
          "metadata": {
            "needs_background": "light"
          }
        }
      ]
    },
    {
      "cell_type": "code",
      "metadata": {
        "colab": {
          "base_uri": "https://localhost:8080/",
          "height": 303
        },
        "id": "Gd9pwm1msHoA",
        "outputId": "154f62af-7f4c-4804-a7cd-2ddbdf635902"
      },
      "source": [
        "yp = mlp2r(cc, vv, bb, ww, X_test)\n",
        "\n",
        "plt.plot(X_test, y_test, '*')\n",
        "plt.plot(X_test, yp, 'ro')"
      ],
      "execution_count": null,
      "outputs": [
        {
          "output_type": "execute_result",
          "data": {
            "text/plain": [
              "[<matplotlib.lines.Line2D at 0x7f11d5357f50>]"
            ]
          },
          "metadata": {},
          "execution_count": 14
        },
        {
          "output_type": "display_data",
          "data": {
            "image/png": "[encoded data removed]",
            "text/plain": [
              "<Figure size 432x288 with 1 Axes>"
            ]
          },
          "metadata": {
            "needs_background": "light"
          }
        }
      ]
    },
    {
      "cell_type": "markdown",
      "metadata": {
        "id": "Wx5C2DsFsJtd"
      },
      "source": [
        "It works!!!"
      ]
    },
    {
      "cell_type": "markdown",
      "metadata": {
        "id": "75nXvPUBsL-r"
      },
      "source": [
        "## Try again with Data 2"
      ]
    },
    {
      "cell_type": "code",
      "metadata": {
        "colab": {
          "base_uri": "https://localhost:8080/",
          "height": 338
        },
        "id": "AW4aLEtbsTpD",
        "outputId": "6eb65bcf-3ffd-4c41-c0d7-b4f19a5e046f"
      },
      "source": [
        "xs, ys = gen_data2(200)\n",
        "\n",
        "print(xs.shape)\n",
        "print(ys.shape)\n",
        "\n",
        "plt.plot(xs, ys, '*')"
      ],
      "execution_count": null,
      "outputs": [
        {
          "output_type": "stream",
          "name": "stdout",
          "text": [
            "(200, 1)\n",
            "(200, 1)\n"
          ]
        },
        {
          "output_type": "execute_result",
          "data": {
            "text/plain": [
              "[<matplotlib.lines.Line2D at 0x7f11d52c4990>]"
            ]
          },
          "metadata": {},
          "execution_count": 15
        },
        {
          "output_type": "display_data",
          "data": {
            "image/png": "[encoded data removed]",
            "text/plain": [
              "<Figure size 432x288 with 1 Axes>"
            ]
          },
          "metadata": {
            "needs_background": "light"
          }
        }
      ]
    },
    {
      "cell_type": "code",
      "metadata": {
        "colab": {
          "base_uri": "https://localhost:8080/"
        },
        "id": "7xQvpK9nsn9r",
        "outputId": "15598b1e-ed4b-487a-de17-26c45b3962e9"
      },
      "source": [
        "# Separate data\n",
        "\n",
        "from sklearn.model_selection import train_test_split\n",
        "X_train, X_test, y_train, y_test = train_test_split(xs , ys, test_size=0.4, shuffle=True)\n",
        "\n",
        "print(X_train.shape)\n",
        "print(y_train.shape)\n",
        "\n",
        "print(X_test.shape)\n",
        "print(y_test.shape)"
      ],
      "execution_count": null,
      "outputs": [
        {
          "output_type": "stream",
          "name": "stdout",
          "text": [
            "(120, 1)\n",
            "(120, 1)\n",
            "(80, 1)\n",
            "(80, 1)\n"
          ]
        }
      ]
    },
    {
      "cell_type": "code",
      "metadata": {
        "colab": {
          "base_uri": "https://localhost:8080/",
          "height": 424
        },
        "id": "2dbCVzkRstSq",
        "outputId": "d5876019-5cab-45e8-837c-7b7709a04c98"
      },
      "source": [
        "N, D = X_train.shape\n",
        "_, K = y_train.shape\n",
        "M = 8\n",
        "\n",
        "c = np.random.normal(0, 1, K).reshape((K,1))\n",
        "v = np.random.normal(0, 1, K*M).reshape((K,M))\n",
        "b = np.random.normal(0, 2, M).reshape((M,1))\n",
        "w = np.random.normal(0, 2, M*D).reshape((M,D))\n",
        "\n",
        "lr1 = 0.3/N\n",
        "lr2 = 0.3/N\n",
        "\n",
        "t1 = time.time()\n",
        "\n",
        "cc, vv, bb, ww, train_loss = train_mlp2(c, v, b, w, X_train, y_train, lr1, lr2,\n",
        "                                        40000, identity, mse_loss)\n",
        "plt.plot(train_loss)\n",
        "\n",
        "t2 = time.time()\n",
        "\n",
        "print('Time spent:', t2 - t1)\n",
        "\n",
        "Yp = mlp2(cc, vv, bb, ww, X_train, identity)\n",
        "print('Training')\n",
        "print('MSE = ', mse_loss(X_train, y_train, Yp))\n",
        "print('RMSE = ', np.sqrt(mse_loss(X_train, y_train, Yp)))\n",
        "\n",
        "Yp = mlp2(cc, vv, bb, ww, X_test, identity)\n",
        "print('Testing')\n",
        "print('MSE = ', mse_loss(X_test, y_test, Yp))\n",
        "print('RMSE = ', np.sqrt(mse_loss(X_test, y_test, Yp)))\n",
        "\n",
        "# R Square\n",
        "r2 = 1- np.sum( np.square(Yp - y_test) )/np.sum( np.square( np.mean(y_test) - y_test) )\n",
        "print('r2 =', r2)"
      ],
      "execution_count": null,
      "outputs": [
        {
          "output_type": "stream",
          "name": "stdout",
          "text": [
            "Time spent: 3.4096784591674805\n",
            "Training\n",
            "MSE =  0.03439729401993507\n",
            "RMSE =  0.18546507493308564\n",
            "Testing\n",
            "MSE =  0.033335369555154294\n",
            "RMSE =  0.18257976217301383\n",
            "r2 = -0.001996805255206846\n"
          ]
        },
        {
          "output_type": "display_data",
          "data": {
            "image/png": "[encoded data removed]",
            "text/plain": [
              "<Figure size 432x288 with 1 Axes>"
            ]
          },
          "metadata": {
            "needs_background": "light"
          }
        }
      ]
    },
    {
      "cell_type": "code",
      "metadata": {
        "id": "Uzqw7gLY6NoR"
      },
      "source": [
        ""
      ],
      "execution_count": null,
      "outputs": []
    },
    {
      "cell_type": "code",
      "metadata": {
        "colab": {
          "base_uri": "https://localhost:8080/",
          "height": 303
        },
        "id": "QYmMR-Wms3oA",
        "outputId": "4785d15d-b7a0-4603-a415-91a4c600e22d"
      },
      "source": [
        "yp = mlp2r(cc, vv, bb, ww, X_test)\n",
        "\n",
        "plt.plot(X_test, y_test, '*')\n",
        "plt.plot(X_test, yp, 'ro')"
      ],
      "execution_count": null,
      "outputs": [
        {
          "output_type": "execute_result",
          "data": {
            "text/plain": [
              "[<matplotlib.lines.Line2D at 0x7f11d51695d0>]"
            ]
          },
          "metadata": {},
          "execution_count": 18
        },
        {
          "output_type": "display_data",
          "data": {
            "image/png": "[encoded data removed]",
            "text/plain": [
              "<Figure size 432x288 with 1 Axes>"
            ]
          },
          "metadata": {
            "needs_background": "light"
          }
        }
      ]
    },
    {
      "cell_type": "code",
      "metadata": {
        "colab": {
          "base_uri": "https://localhost:8080/"
        },
        "id": "wq11vwcT_DDE",
        "outputId": "670f0e3a-c0d3-42fa-e06f-f0c0b3211137"
      },
      "source": [
        ""
      ],
      "execution_count": null,
      "outputs": [
        {
          "output_type": "execute_result",
          "data": {
            "text/plain": [
              "array([[2],\n",
              "       [1],\n",
              "       [2],\n",
              "       [1],\n",
              "       [2],\n",
              "       [2],\n",
              "       [1],\n",
              "       [1],\n",
              "       [0],\n",
              "       [2],\n",
              "       [0],\n",
              "       [0],\n",
              "       [2],\n",
              "       [2],\n",
              "       [0],\n",
              "       [2],\n",
              "       [1],\n",
              "       [0],\n",
              "       [0],\n",
              "       [0],\n",
              "       [1],\n",
              "       [0],\n",
              "       [1],\n",
              "       [2],\n",
              "       [2],\n",
              "       [1],\n",
              "       [1],\n",
              "       [1],\n",
              "       [1],\n",
              "       [0],\n",
              "       [2],\n",
              "       [2],\n",
              "       [1],\n",
              "       [0],\n",
              "       [2],\n",
              "       [0],\n",
              "       [0],\n",
              "       [0],\n",
              "       [0],\n",
              "       [1],\n",
              "       [1],\n",
              "       [0],\n",
              "       [2],\n",
              "       [2],\n",
              "       [1]])"
            ]
          },
          "metadata": {},
          "execution_count": 108
        }
      ]
    },
    {
      "cell_type": "code",
      "metadata": {
        "colab": {
          "base_uri": "https://localhost:8080/"
        },
        "id": "K1V-t7RE-4YX",
        "outputId": "622565b7-3a8f-40d4-9b33-f4befee198fc"
      },
      "source": [
        "X_test.shape"
      ],
      "execution_count": null,
      "outputs": [
        {
          "output_type": "execute_result",
          "data": {
            "text/plain": [
              "(80, 1)"
            ]
          },
          "metadata": {},
          "execution_count": 106
        }
      ]
    },
    {
      "cell_type": "code",
      "metadata": {
        "colab": {
          "base_uri": "https://localhost:8080/"
        },
        "id": "Hph62W5i_AI-",
        "outputId": "1ffae614-14af-4b80-fa38-4e3b2193e345"
      },
      "source": [
        "X_test"
      ],
      "execution_count": null,
      "outputs": [
        {
          "output_type": "execute_result",
          "data": {
            "text/plain": [
              "array([[103.2160804 ],\n",
              "       [105.9798995 ],\n",
              "       [102.51256281],\n",
              "       [109.39698492],\n",
              "       [105.77889447],\n",
              "       [106.93467337],\n",
              "       [103.16582915],\n",
              "       [104.22110553],\n",
              "       [101.00502513],\n",
              "       [101.10552764],\n",
              "       [105.72864322],\n",
              "       [103.36683417],\n",
              "       [102.11055276],\n",
              "       [102.81407035],\n",
              "       [102.36180905],\n",
              "       [104.87437186],\n",
              "       [101.50753769],\n",
              "       [100.05025126],\n",
              "       [105.67839196],\n",
              "       [103.71859296],\n",
              "       [101.05527638],\n",
              "       [104.57286432],\n",
              "       [102.96482412],\n",
              "       [100.15075377],\n",
              "       [107.33668342],\n",
              "       [109.24623116],\n",
              "       [105.32663317],\n",
              "       [103.81909548],\n",
              "       [109.34673367],\n",
              "       [106.23115578],\n",
              "       [101.65829146],\n",
              "       [107.38693467],\n",
              "       [100.        ],\n",
              "       [102.71356784],\n",
              "       [104.3718593 ],\n",
              "       [108.54271357],\n",
              "       [108.94472362],\n",
              "       [109.94974874],\n",
              "       [106.48241206],\n",
              "       [106.33165829],\n",
              "       [108.29145729],\n",
              "       [104.32160804],\n",
              "       [104.47236181],\n",
              "       [108.74371859],\n",
              "       [106.13065327],\n",
              "       [109.64824121],\n",
              "       [101.25628141],\n",
              "       [105.02512563],\n",
              "       [100.45226131],\n",
              "       [107.18592965],\n",
              "       [100.40201005],\n",
              "       [109.54773869],\n",
              "       [107.5879397 ],\n",
              "       [108.64321608],\n",
              "       [106.73366834],\n",
              "       [107.13567839],\n",
              "       [104.17085427],\n",
              "       [109.79899497],\n",
              "       [107.43718593],\n",
              "       [101.6080402 ],\n",
              "       [109.59798995],\n",
              "       [105.52763819],\n",
              "       [103.11557789],\n",
              "       [104.67336683],\n",
              "       [107.03517588],\n",
              "       [102.21105528],\n",
              "       [108.19095477],\n",
              "       [102.16080402],\n",
              "       [109.89949749],\n",
              "       [109.44723618],\n",
              "       [107.53768844],\n",
              "       [100.8040201 ],\n",
              "       [100.30150754],\n",
              "       [100.60301508],\n",
              "       [100.90452261],\n",
              "       [108.44221106],\n",
              "       [102.56281407],\n",
              "       [108.49246231],\n",
              "       [101.85929648],\n",
              "       [103.31658291]])"
            ]
          },
          "metadata": {},
          "execution_count": 107
        }
      ]
    },
    {
      "cell_type": "markdown",
      "metadata": {
        "id": "J1KJ_f1ttBm1"
      },
      "source": [
        "Pause! Pause! Pause!\n",
        "\n",
        "<br>\n",
        "\n",
        "<br>\n",
        "\n",
        "What happens here?\n",
        "\n",
        "Our model can ace the data 1.\n",
        "\n",
        "But why cannot our model learn data 2?\n",
        "\n",
        "<br>\n",
        "\n",
        "<br>\n"
      ]
    },
    {
      "cell_type": "markdown",
      "metadata": {
        "id": "nuqLeoCLs9n2"
      },
      "source": [
        "## Input normalization"
      ]
    },
    {
      "cell_type": "code",
      "metadata": {
        "id": "Nm35WL1ytAC5"
      },
      "source": [
        "mu = np.mean(X_train)\n",
        "sigma = np.sqrt(np.var(X_train))"
      ],
      "execution_count": null,
      "outputs": []
    },
    {
      "cell_type": "code",
      "metadata": {
        "colab": {
          "base_uri": "https://localhost:8080/"
        },
        "id": "evnyZ0xaEw5Y",
        "outputId": "44f9a329-0cdd-4c6f-82da-17fda081c242"
      },
      "source": [
        "print(mu)\n",
        "print(sigma**2)"
      ],
      "execution_count": null,
      "outputs": [
        {
          "output_type": "stream",
          "name": "stdout",
          "text": [
            "104.85762144053601\n",
            "8.351149942902676\n"
          ]
        }
      ]
    },
    {
      "cell_type": "code",
      "metadata": {
        "id": "QL8pjHdWt9Wx"
      },
      "source": [
        "# normalized input\n",
        "xn_train = (X_train - mu)/sigma"
      ],
      "execution_count": null,
      "outputs": []
    },
    {
      "cell_type": "code",
      "metadata": {
        "colab": {
          "base_uri": "https://localhost:8080/"
        },
        "id": "PzvhVKlZuDQv",
        "outputId": "b029f09a-ef71-40b5-c3e6-c6c56602a948"
      },
      "source": [
        "np.mean(xn_train)"
      ],
      "execution_count": null,
      "outputs": [
        {
          "output_type": "execute_result",
          "data": {
            "text/plain": [
              "2.0132044179869505e-15"
            ]
          },
          "metadata": {},
          "execution_count": 32
        }
      ]
    },
    {
      "cell_type": "code",
      "metadata": {
        "colab": {
          "base_uri": "https://localhost:8080/"
        },
        "id": "KUiLTeziuHzQ",
        "outputId": "0adba5a6-6442-44e2-d634-ed692a8fda6e"
      },
      "source": [
        "np.var(xn_train)"
      ],
      "execution_count": null,
      "outputs": [
        {
          "output_type": "execute_result",
          "data": {
            "text/plain": [
              "0.9999999999999999"
            ]
          },
          "metadata": {},
          "execution_count": 33
        }
      ]
    },
    {
      "cell_type": "markdown",
      "metadata": {
        "id": "6FkdxGGGuOsL"
      },
      "source": [
        "Try again with INPUT NORMALIZATION"
      ]
    },
    {
      "cell_type": "code",
      "metadata": {
        "colab": {
          "base_uri": "https://localhost:8080/",
          "height": 355
        },
        "id": "h_shNCnDuKzV",
        "outputId": "40da29a6-af4c-48be-a6ac-310c760210b7"
      },
      "source": [
        "N, D = X_train.shape\n",
        "_, K = y_train.shape\n",
        "M = 8\n",
        "\n",
        "c = np.random.normal(0, 1, K).reshape((K,1))\n",
        "v = np.random.normal(0, 1, K*M).reshape((K,M))\n",
        "b = np.random.normal(0, 2, M).reshape((M,1))\n",
        "w = np.random.normal(0, 2, M*D).reshape((M,D))\n",
        "\n",
        "t1 = time.time()\n",
        "\n",
        "cc, vv, bb, ww, train_loss = train_mlp2r(c, v, b, w, xn_train, y_train, 0.3, 40000, mse_loss)\n",
        "plt.plot(train_loss)\n",
        "\n",
        "t2 = time.time()\n",
        "\n",
        "print('Time spent:', t2 - t1)\n",
        "\n",
        "Yp = mlp2r(cc, vv, bb, ww, xn_train)\n",
        "print('Training')\n",
        "print('MSE = ', mse_loss(xn_train, y_train, Yp))\n",
        "print('RMSE = ', np.sqrt(mse_loss(xn_train, y_train, Yp)))"
      ],
      "execution_count": null,
      "outputs": [
        {
          "output_type": "stream",
          "name": "stdout",
          "text": [
            "Time spent: 3.4750359058380127\n",
            "Training\n",
            "MSE =  0.0007614179948603981\n",
            "RMSE =  0.027593803559139832\n"
          ]
        },
        {
          "output_type": "display_data",
          "data": {
            "image/png": "[encoded data removed]",
            "text/plain": [
              "<Figure size 432x288 with 1 Axes>"
            ]
          },
          "metadata": {
            "needs_background": "light"
          }
        }
      ]
    },
    {
      "cell_type": "code",
      "metadata": {
        "colab": {
          "base_uri": "https://localhost:8080/",
          "height": 286
        },
        "id": "gw0Kdzxkuax0",
        "outputId": "686901f1-cdd6-4cf1-dd6e-220e4c7253a8"
      },
      "source": [
        "plt.plot(X_train, y_train, '*')\n",
        "plt.plot(X_train, Yp, 'ro')\n",
        "plt.show()"
      ],
      "execution_count": null,
      "outputs": [
        {
          "output_type": "display_data",
          "data": {
            "image/png": "[encoded data removed]",
            "text/plain": [
              "<Figure size 432x288 with 1 Axes>"
            ]
          },
          "metadata": {
            "needs_background": "light"
          }
        }
      ]
    },
    {
      "cell_type": "markdown",
      "metadata": {
        "id": "VSDJCW1CuhKQ"
      },
      "source": [
        "Now, see the test"
      ]
    },
    {
      "cell_type": "code",
      "metadata": {
        "colab": {
          "base_uri": "https://localhost:8080/"
        },
        "id": "2xk2EvaAuhyt",
        "outputId": "197e6da2-a76e-48d5-f1b8-a80e6fe915ad"
      },
      "source": [
        "Yp = mlp2r(cc, vv, bb, ww, X_test)\n",
        "print('Testing')\n",
        "print('MSE = ', mse_loss(X_test, y_test, Yp))\n",
        "print('RMSE = ', np.sqrt(mse_loss(X_test, y_test, Yp)))\n",
        "\n",
        "# R Square\n",
        "r2 = 1- np.sum( np.square(Yp - y_test) )/np.sum( np.square( np.mean(y_test) - y_test) )\n",
        "print('r2 =', r2)"
      ],
      "execution_count": null,
      "outputs": [
        {
          "output_type": "stream",
          "name": "stdout",
          "text": [
            "Testing\n",
            "MSE =  1.612330276809626\n",
            "RMSE =  1.2697756797204875\n",
            "r2 = -47.46353311627509\n"
          ]
        }
      ]
    },
    {
      "cell_type": "code",
      "metadata": {
        "colab": {
          "base_uri": "https://localhost:8080/",
          "height": 286
        },
        "id": "UsU-Y-yfulIe",
        "outputId": "b4f33a16-7b2d-4a6b-ece8-29f8c1753069"
      },
      "source": [
        "plt.plot(X_test, y_test, '*')\n",
        "plt.plot(X_test, Yp, 'ro')\n",
        "plt.show()"
      ],
      "execution_count": null,
      "outputs": [
        {
          "output_type": "display_data",
          "data": {
            "image/png": "[encoded data removed]",
            "text/plain": [
              "<Figure size 432x288 with 1 Axes>"
            ]
          },
          "metadata": {
            "needs_background": "light"
          }
        }
      ]
    },
    {
      "cell_type": "markdown",
      "metadata": {
        "id": "TXxXEYR5uwnV"
      },
      "source": [
        "WHAT!!!!\n",
        "\n",
        "What's wrong!\n",
        "\n",
        "Can you help me why this is not working?\n",
        "\n",
        "<br>\n",
        "<br>\n",
        "PAUSE! PAUSE! PAUSE!\n",
        "<br>\n",
        "<br>"
      ]
    },
    {
      "cell_type": "code",
      "metadata": {
        "colab": {
          "base_uri": "https://localhost:8080/",
          "height": 372
        },
        "id": "HSb4IO4autWW",
        "outputId": "7036f0b1-d8f0-482c-964d-6e799d49ee49"
      },
      "source": [
        "xn_test = (X_test - mu)/sigma\n",
        "\n",
        "Yp = mlp2r(cc, vv, bb, ww, xn_test)\n",
        "print('Testing')\n",
        "print('MSE = ', mse_loss(X_test, y_test, Yp))\n",
        "print('RMSE = ', np.sqrt(mse_loss(X_test, y_test, Yp)))\n",
        "\n",
        "# R Square\n",
        "r2 = 1- np.sum( np.square(Yp - y_test) )/np.sum( np.square( np.mean(y_test) - y_test) )\n",
        "print('r2 =', r2)\n",
        "\n",
        "plt.plot(X_test, y_test, '*')\n",
        "plt.plot(X_test, Yp, 'ro')"
      ],
      "execution_count": null,
      "outputs": [
        {
          "output_type": "stream",
          "name": "stdout",
          "text": [
            "Testing\n",
            "MSE =  0.0008227183304845402\n",
            "RMSE =  0.028683066964404976\n",
            "r2 = 0.9752706764685336\n"
          ]
        },
        {
          "output_type": "execute_result",
          "data": {
            "text/plain": [
              "[<matplotlib.lines.Line2D at 0x7f11d5471150>]"
            ]
          },
          "metadata": {},
          "execution_count": 36
        },
        {
          "output_type": "display_data",
          "data": {
            "image/png": "[encoded data removed]",
            "text/plain": [
              "<Figure size 432x288 with 1 Axes>"
            ]
          },
          "metadata": {
            "needs_background": "light"
          }
        }
      ]
    },
    {
      "cell_type": "markdown",
      "metadata": {
        "id": "iQZGKDNNvDCA"
      },
      "source": [
        "Remember!\n",
        "When you normalize input,\n",
        "don't forget to make it consistent in both training and test sets."
      ]
    },
    {
      "cell_type": "markdown",
      "metadata": {
        "id": "rklD_Ze-JwHs"
      },
      "source": [
        "# Online-learning"
      ]
    },
    {
      "cell_type": "code",
      "metadata": {
        "colab": {
          "base_uri": "https://localhost:8080/"
        },
        "id": "XMShMo1ZLX1j",
        "outputId": "998de446-4bb7-41d3-add0-1984cfba9fd7"
      },
      "source": [
        "X = np.array([[0, 0], [0, 1], [1, 0], [1, 1]])\n",
        "Y = np.array([[0], [1], [1], [0]])\n",
        "\n",
        "print(X.shape)\n",
        "print(Y.shape)\n",
        "\n",
        "N, D = X.shape\n",
        "_, K = Y.shape\n",
        "M = 8 # number of HUs (hyper-parameter)"
      ],
      "execution_count": 14,
      "outputs": [
        {
          "output_type": "stream",
          "name": "stdout",
          "text": [
            "(4, 2)\n",
            "(4, 1)\n"
          ]
        }
      ]
    },
    {
      "cell_type": "code",
      "metadata": {
        "colab": {
          "base_uri": "https://localhost:8080/"
        },
        "id": "9W6ip0piLdMS",
        "outputId": "3a4de7e8-bde6-4f15-b1f5-472abf849d4b"
      },
      "source": [
        "lr1 = 0.3\n",
        "lr2 = 0.3\n",
        "\n",
        "# Biases and weights (parameters)\n",
        "c = np.random.normal(0, 1, K).reshape((K,1))\n",
        "v = np.random.normal(0, 1, K*M).reshape((K,M))\n",
        "b = np.random.normal(0, 2, M).reshape((M,1))\n",
        "w = np.random.normal(0, 2, M*D).reshape((M,D))\n",
        "\n",
        "print(c.shape)\n",
        "print(v.shape)"
      ],
      "execution_count": 15,
      "outputs": [
        {
          "output_type": "stream",
          "name": "stdout",
          "text": [
            "(1, 1)\n",
            "(1, 8)\n"
          ]
        }
      ]
    },
    {
      "cell_type": "code",
      "metadata": {
        "id": "PKr1XzSELkAq"
      },
      "source": [
        "nepochs = 8000\n",
        "\n",
        "oact=identity\n",
        "loss=mse_loss\n",
        "disp=False"
      ],
      "execution_count": 16,
      "outputs": []
    },
    {
      "cell_type": "code",
      "metadata": {
        "colab": {
          "base_uri": "https://localhost:8080/"
        },
        "id": "AwlRMJqrLst9",
        "outputId": "496faa7e-0dc7-4782-b7a5-51b15bff272f"
      },
      "source": [
        "X[0,:].shape"
      ],
      "execution_count": 17,
      "outputs": [
        {
          "output_type": "execute_result",
          "data": {
            "text/plain": [
              "(2,)"
            ]
          },
          "metadata": {},
          "execution_count": 17
        }
      ]
    },
    {
      "cell_type": "code",
      "metadata": {
        "id": "hotnoBsxJybJ"
      },
      "source": [
        "#def train_mlp2(c, v, b, w, X, Y, lr1, lr2, nepochs, \n",
        "#               oact=identity, loss=mse_loss, disp=False):\n",
        "\n",
        "if True:\n",
        "\n",
        "  losses = []\n",
        "\n",
        "  for i in range(nepochs):\n",
        "\n",
        "      # X: N x D\n",
        "      for n in range(N):\n",
        "\n",
        "        xn = X[n,:].reshape((1,-1))\n",
        "        yn = Y[n,:].reshape((1,-1))\n",
        "\n",
        "        # Forward pass\n",
        "        a = b.T + np.dot(xn, w.T)            # a: array N x M   ## Online\n",
        "        z = sigmoid(a)                      # z: array N x M\n",
        "        a2 = c.T + np.dot(z, v.T)           # a2: array N x K\n",
        "        z2 = oact(a2)                       # z2: array N x K\n",
        "        yhat = z2                           # yhat: array N x K\n",
        "\n",
        "        # Backward pass\n",
        "        delta2 = yhat - yn                   # delta2: array N x K  ## Online\n",
        "        OneVec = np.ones(1).reshape((1,-1)) # OneVec: array 1 x 1   ## Online\n",
        "        dLc = np.dot( OneVec, delta2 ).T    # dLc: array K x 1\n",
        "        dLv = np.dot( z.T, delta2 ).T       # dLv: array K x M\n",
        "        H = np.multiply(1 - z, z)           # H: array N x M\n",
        "        delta1 = np.dot(delta2, v) * H      # delta1: array N x M\n",
        "        dLb = np.dot( OneVec, delta1 ).T    # dLb: array M x 1\n",
        "        dLw = np.dot( xn.T, delta1 ).T       # dLw: array M x D   ## Online\n",
        "\n",
        "        lossi = loss(xn, yn, yhat)           ## Online\n",
        "        \n",
        "        if np.isnan(lossi):  \n",
        "            print('Reach NaN. Terminated.')\n",
        "            break\n",
        "\n",
        "        losses.append(lossi)\n",
        "\n",
        "        c -= dLc * lr2\n",
        "        v -= dLv * lr2\n",
        "        b -= dLb * lr1\n",
        "        w -= dLw * lr1\n",
        "      # end for n\n",
        "      \n",
        "      if disp:\n",
        "        if i % 1000 == 0:\n",
        "            print('mse = %.4f' % mse)\n",
        "\n",
        "  # end for i\n",
        "\n",
        "  #return c, v, b, w, losses"
      ],
      "execution_count": 18,
      "outputs": []
    },
    {
      "cell_type": "code",
      "metadata": {
        "colab": {
          "base_uri": "https://localhost:8080/",
          "height": 282
        },
        "id": "B4ode5wTN1db",
        "outputId": "37b7de27-2b96-4c64-d255-d03dc30dbb09"
      },
      "source": [
        "plt.plot(losses)"
      ],
      "execution_count": 19,
      "outputs": [
        {
          "output_type": "execute_result",
          "data": {
            "text/plain": [
              "[<matplotlib.lines.Line2D at 0x7f917bc20c90>]"
            ]
          },
          "metadata": {},
          "execution_count": 19
        },
        {
          "output_type": "display_data",
          "data": {
            "image/png": "[encoded data removed]",
            "text/plain": [
              "<Figure size 432x288 with 1 Axes>"
            ]
          },
          "metadata": {
            "needs_background": "light"
          }
        }
      ]
    },
    {
      "cell_type": "code",
      "metadata": {
        "colab": {
          "base_uri": "https://localhost:8080/"
        },
        "id": "MmfsdxAuOHVR",
        "outputId": "4f407ab1-8491-4153-8384-328a66e31883"
      },
      "source": [
        "Yp = mlp2(c, v, b, w, X, identity)\n",
        "\n",
        "print('Training')\n",
        "print('MSE = ', mse_loss(X, Y, Yp))\n",
        "print('RMSE = ', np.sqrt(mse_loss(X, Y, Yp)))\n",
        "\n",
        "for i in range(4):\n",
        "    print(\"{} {} | {} | {:.4f}\".format( *X[i],  *Y[i], *Yp[i]))\n"
      ],
      "execution_count": 20,
      "outputs": [
        {
          "output_type": "stream",
          "name": "stdout",
          "text": [
            "Training\n",
            "MSE =  6.162975822039155e-32\n",
            "RMSE =  2.482534153247273e-16\n",
            "0 0 | 0 | 0.0000\n",
            "0 1 | 1 | 1.0000\n",
            "1 0 | 1 | 1.0000\n",
            "1 1 | 0 | -0.0000\n"
          ]
        }
      ]
    },
    {
      "cell_type": "markdown",
      "metadata": {
        "id": "H-c5XRY7QPyu"
      },
      "source": [
        "## Stochastic Gradient Descend (SGD)"
      ]
    },
    {
      "cell_type": "code",
      "metadata": {
        "colab": {
          "base_uri": "https://localhost:8080/"
        },
        "id": "Lxu3cgH12yL7",
        "outputId": "115c0aad-435a-47d1-c2e5-e25094bf4093"
      },
      "source": [
        "lr1 = 0.3\n",
        "lr2 = 0.3\n",
        "\n",
        "# Biases and weights (parameters)\n",
        "c = np.random.normal(0, 1, K).reshape((K,1))\n",
        "v = np.random.normal(0, 1, K*M).reshape((K,M))\n",
        "b = np.random.normal(0, 2, M).reshape((M,1))\n",
        "w = np.random.normal(0, 2, M*D).reshape((M,D))\n",
        "\n",
        "print(c.shape)\n",
        "print(v.shape)\n",
        "\n",
        "nepochs = 8000\n",
        "\n",
        "oact=identity\n",
        "loss=mse_loss\n",
        "disp=False"
      ],
      "execution_count": 32,
      "outputs": [
        {
          "output_type": "stream",
          "name": "stdout",
          "text": [
            "(1, 1)\n",
            "(1, 8)\n"
          ]
        }
      ]
    },
    {
      "cell_type": "code",
      "metadata": {
        "colab": {
          "base_uri": "https://localhost:8080/"
        },
        "id": "swbYa2dE2A-Z",
        "outputId": "e61ec98a-1ddf-4833-b3d0-16df1201b130"
      },
      "source": [
        "np.random.choice(5, 3, replace=False)"
      ],
      "execution_count": 28,
      "outputs": [
        {
          "output_type": "execute_result",
          "data": {
            "text/plain": [
              "array([0, 4, 1])"
            ]
          },
          "metadata": {},
          "execution_count": 28
        }
      ]
    },
    {
      "cell_type": "code",
      "metadata": {
        "id": "fLmHKCNDQN-i"
      },
      "source": [
        "#def train_mlp2(c, v, b, w, X, Y, lr1, lr2, nepochs, \n",
        "#               oact=identity, loss=mse_loss, disp=False):\n",
        "\n",
        "if True:\n",
        "\n",
        "  losses = []\n",
        "\n",
        "  for i in range(nepochs):\n",
        "\n",
        "      # X: N x D\n",
        "      for n in np.random.choice(N, N, replace=False):\n",
        "\n",
        "        xn = X[n,:].reshape((1,-1))\n",
        "        yn = Y[n,:].reshape((1,-1))\n",
        "\n",
        "        # Forward pass\n",
        "        a = b.T + np.dot(xn, w.T)            # a: array N x M   ## Online\n",
        "        z = sigmoid(a)                      # z: array N x M\n",
        "        a2 = c.T + np.dot(z, v.T)           # a2: array N x K\n",
        "        z2 = oact(a2)                       # z2: array N x K\n",
        "        yhat = z2                           # yhat: array N x K\n",
        "\n",
        "        # Backward pass\n",
        "        delta2 = yhat - yn                   # delta2: array N x K  ## Online\n",
        "        OneVec = np.ones(1).reshape((1,-1)) # OneVec: array 1 x 1   ## Online\n",
        "        dLc = np.dot( OneVec, delta2 ).T    # dLc: array K x 1\n",
        "        dLv = np.dot( z.T, delta2 ).T       # dLv: array K x M\n",
        "        H = np.multiply(1 - z, z)           # H: array N x M\n",
        "        delta1 = np.dot(delta2, v) * H      # delta1: array N x M\n",
        "        dLb = np.dot( OneVec, delta1 ).T    # dLb: array M x 1\n",
        "        dLw = np.dot( xn.T, delta1 ).T       # dLw: array M x D   ## Online\n",
        "\n",
        "        lossi = loss(xn, yn, yhat)           ## Online\n",
        "        \n",
        "        if np.isnan(lossi):  \n",
        "            print('Reach NaN. Terminated.')\n",
        "            break\n",
        "\n",
        "        losses.append(lossi)\n",
        "\n",
        "        c -= dLc * lr2\n",
        "        v -= dLv * lr2\n",
        "        b -= dLb * lr1\n",
        "        w -= dLw * lr1\n",
        "      # end for n\n",
        "      \n",
        "      if disp:\n",
        "        if i % 1000 == 0:\n",
        "            print('mse = %.4f' % mse)\n",
        "\n",
        "  # end for i\n",
        "\n",
        "  #return c, v, b, w, losses"
      ],
      "execution_count": 33,
      "outputs": []
    },
    {
      "cell_type": "code",
      "metadata": {
        "colab": {
          "base_uri": "https://localhost:8080/",
          "height": 297
        },
        "id": "wNJL89IQ2bcN",
        "outputId": "59421e10-811f-40c6-e1c6-79c5dc126007"
      },
      "source": [
        "plt.plot(losses)\n",
        "plt.xlabel('Update')\n",
        "plt.ylabel('Loss[n]')"
      ],
      "execution_count": 35,
      "outputs": [
        {
          "output_type": "execute_result",
          "data": {
            "text/plain": [
              "Text(0, 0.5, 'Loss[n]')"
            ]
          },
          "metadata": {},
          "execution_count": 35
        },
        {
          "output_type": "display_data",
          "data": {
            "image/png": "[encoded data removed]",
            "text/plain": [
              "<Figure size 432x288 with 1 Axes>"
            ]
          },
          "metadata": {
            "needs_background": "light"
          }
        }
      ]
    },
    {
      "cell_type": "code",
      "metadata": {
        "colab": {
          "base_uri": "https://localhost:8080/"
        },
        "id": "TVGI2ZrD2sBb",
        "outputId": "0a09173a-2bd3-4f18-9145-9d9c27114c73"
      },
      "source": [
        "Yp = mlp2(c, v, b, w, X, identity)\n",
        "\n",
        "print('Training')\n",
        "print('MSE = ', mse_loss(X, Y, Yp))\n",
        "print('RMSE = ', np.sqrt(mse_loss(X, Y, Yp)))\n",
        "\n",
        "for i in range(4):\n",
        "    print(\"{} {} | {} | {:.4f}\".format( *X[i],  *Y[i], *Yp[i]))\n"
      ],
      "execution_count": 36,
      "outputs": [
        {
          "output_type": "stream",
          "name": "stdout",
          "text": [
            "Training\n",
            "MSE =  2.465190328815662e-32\n",
            "RMSE =  1.5700924586837752e-16\n",
            "0 0 | 0 | 0.0000\n",
            "0 1 | 1 | 1.0000\n",
            "1 0 | 1 | 1.0000\n",
            "1 1 | 0 | 0.0000\n"
          ]
        }
      ]
    }
  ]
}