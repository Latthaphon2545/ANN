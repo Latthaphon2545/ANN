{
  "nbformat": 4,
  "nbformat_minor": 0,
  "metadata": {
    "kernelspec": {
      "display_name": "py35a",
      "language": "python",
      "name": "py35a"
    },
    "language_info": {
      "codemirror_mode": {
        "name": "ipython",
        "version": 3
      },
      "file_extension": ".py",
      "mimetype": "text/x-python",
      "name": "python",
      "nbconvert_exporter": "python",
      "pygments_lexer": "ipython3",
      "version": "3.5.3"
    },
    "colab": {
      "name": "ANN_5Classification.ipynb",
      "provenance": []
    }
  },
  "cells": [
    {
      "cell_type": "markdown",
      "metadata": {
        "id": "_BkkqQYEpT7Z"
      },
      "source": [
        "# Binary Classification"
      ]
    },
    {
      "cell_type": "code",
      "metadata": {
        "colab": {
          "base_uri": "https://localhost:8080/"
        },
        "id": "ycCiMkyOpZZi",
        "outputId": "960b11d2-7d6c-48a8-cda7-f4853faea53a"
      },
      "source": [
        "from google.colab import drive\n",
        "drive.mount('/content/drive')"
      ],
      "execution_count": 1,
      "outputs": [
        {
          "output_type": "stream",
          "name": "stdout",
          "text": [
            "Mounted at /content/drive\n"
          ]
        }
      ]
    },
    {
      "cell_type": "code",
      "metadata": {
        "colab": {
          "base_uri": "https://localhost:8080/"
        },
        "id": "essMkU50pjNx",
        "outputId": "8b5accbf-a73a-4681-c24f-c565a13aef13"
      },
      "source": [
        "!ls ./drive/MyDrive/2021/ANN/old"
      ],
      "execution_count": 2,
      "outputs": [
        {
          "output_type": "stream",
          "name": "stdout",
          "text": [
            "ANN01.py\t\t\t\t   ANN_class_aux.py\n",
            "ANN_1Perceptron.ipynb\t\t\t   ANN_np03b.ipynb\n",
            "ANN_2Minnet.ipynb\t\t\t   ANN_np03.ipynb\n",
            "ANN_3mlpR.ipynb\t\t\t\t   ANN_np04a.ipynb\n",
            "ANN_4mlpInputNormMotivation.ipynb\t   ANN_revealed.py\n",
            "ANN_4mlpInputNormMotivation_Student.ipynb  ANN_WhyAndHow02.ipynb\n",
            "ANN_5Classification.ipynb\t\t   DrawANN03.py\n",
            "ANN_aux.py\t\t\t\t   __pycache__\n"
          ]
        }
      ]
    },
    {
      "cell_type": "code",
      "metadata": {
        "id": "gEIqcnpLpyC0"
      },
      "source": [
        "import sys\n",
        "sys.path.append(\"./drive/MyDrive/2021/ANN/old\") # my path"
      ],
      "execution_count": 6,
      "outputs": []
    },
    {
      "cell_type": "code",
      "metadata": {
        "collapsed": true,
        "id": "yinlMHZ1pT7d"
      },
      "source": [
        "# For beautiful math display\n",
        "from IPython.display import Math"
      ],
      "execution_count": 3,
      "outputs": []
    },
    {
      "cell_type": "code",
      "metadata": {
        "id": "czfiHiBXpT7f"
      },
      "source": [
        "import numpy as np\n",
        "from matplotlib import pyplot as plt\n",
        "\n",
        "#from DrawANN03 import *"
      ],
      "execution_count": 4,
      "outputs": []
    },
    {
      "cell_type": "code",
      "metadata": {
        "collapsed": true,
        "id": "QHGCTkrFpT7g"
      },
      "source": [
        "from ANN_aux import *"
      ],
      "execution_count": 7,
      "outputs": []
    },
    {
      "cell_type": "markdown",
      "metadata": {
        "id": "lagujKU0pT7h"
      },
      "source": [
        "# XOR Revisited"
      ]
    },
    {
      "cell_type": "code",
      "metadata": {
        "colab": {
          "base_uri": "https://localhost:8080/"
        },
        "id": "JZyR7o_upT7h",
        "outputId": "db120a26-81b3-40db-9fd0-babdc68cd577"
      },
      "source": [
        "# XOR\n",
        "\n",
        "X = np.array([[0, 0], [0, 1], [1, 0], [1, 1]])\n",
        "Y = np.array([[0], [1], [1], [0]])\n",
        "\n",
        "for i in range(4):\n",
        "    print(\"{} {} | {}\".format( *X[i],  *Y[i]))\n"
      ],
      "execution_count": 8,
      "outputs": [
        {
          "output_type": "stream",
          "name": "stdout",
          "text": [
            "0 0 | 0\n",
            "0 1 | 1\n",
            "1 0 | 1\n",
            "1 1 | 0\n"
          ]
        }
      ]
    },
    {
      "cell_type": "code",
      "metadata": {
        "colab": {
          "base_uri": "https://localhost:8080/",
          "height": 38
        },
        "id": "ZukbaE9dpT7i",
        "outputId": "10e353ed-42fa-4ad5-d03e-fbee301d9fcf"
      },
      "source": [
        "Math(r'x \\in \\mathbb{R}^2 \\mapsto y \\in \\mathbb{R}^1')"
      ],
      "execution_count": 9,
      "outputs": [
        {
          "output_type": "execute_result",
          "data": {
            "text/latex": "$$x \\in \\mathbb{R}^2 \\mapsto y \\in \\mathbb{R}^1$$",
            "text/plain": [
              "<IPython.core.display.Math object>"
            ]
          },
          "metadata": {},
          "execution_count": 9
        }
      ]
    },
    {
      "cell_type": "code",
      "metadata": {
        "id": "5BT8p7SSpT7j",
        "outputId": "3bbfd87b-93da-4fbe-ac8a-891d630cee3a"
      },
      "source": [
        "#draw_mlp2(2, 2, 1)"
      ],
      "execution_count": null,
      "outputs": [
        {
          "data": {
            "image/png": "[encoded data removed]",
            "text/plain": [
              "<matplotlib.figure.Figure at 0x21e29bd0d68>"
            ]
          },
          "metadata": {},
          "output_type": "display_data"
        }
      ]
    },
    {
      "cell_type": "code",
      "metadata": {
        "colab": {
          "base_uri": "https://localhost:8080/",
          "height": 406
        },
        "id": "_geny3YlpT7k",
        "outputId": "8cb69d45-45b1-414c-9b16-0c0ea3af70f6"
      },
      "source": [
        "\n",
        "N, D = X.shape\n",
        "_, K = Y.shape\n",
        "M = 2\n",
        "\n",
        "c = np.random.normal(0, 1, K).reshape((K,1))\n",
        "v = np.random.normal(0, 1, K*M).reshape((K,M))\n",
        "b = np.random.normal(0, 2, M).reshape((M,1))\n",
        "w = np.random.normal(0, 2, M*D).reshape((M,D))\n",
        "\n",
        "t1 = time.time()\n",
        "\n",
        "cc, vv, bb, ww, train_loss = train_mlp2r(c, v, b, w, X, Y, 0.3, 8000, mse_loss)\n",
        "plt.plot(train_loss)\n",
        "\n",
        "t2 = time.time()\n",
        "\n",
        "print('Time spent:', t2 - t1)\n",
        "\n",
        "Yp = mlp2r(cc, vv, bb, ww, X)\n",
        "print('Training')\n",
        "print('MSE = ', mse_loss(X, Y, Yp))\n",
        "print('RMSE = ', np.sqrt(mse_loss(X, Y, Yp)))\n",
        "\n",
        "for i in range(4):\n",
        "    print(\"{} {} | {} | {:.4f}\".format( *X[i],  *Y[i], *Yp[i]))"
      ],
      "execution_count": 10,
      "outputs": [
        {
          "output_type": "stream",
          "name": "stdout",
          "text": [
            "Time spent: 0.5142030715942383\n",
            "Training\n",
            "MSE =  1.9145284391164634e-29\n",
            "RMSE =  4.375532469444677e-15\n",
            "0 0 | 0 | 0.0000\n",
            "0 1 | 1 | 1.0000\n",
            "1 0 | 1 | 1.0000\n",
            "1 1 | 0 | 0.0000\n"
          ]
        },
        {
          "output_type": "display_data",
          "data": {
            "image/png": "[encoded data removed]",
            "text/plain": [
              "<Figure size 432x288 with 1 Axes>"
            ]
          },
          "metadata": {
            "needs_background": "light"
          }
        }
      ]
    },
    {
      "cell_type": "markdown",
      "metadata": {
        "id": "Ekhmec5ipT7k"
      },
      "source": [
        "# BUT it will be much easier to train a network for binary classification"
      ]
    },
    {
      "cell_type": "markdown",
      "metadata": {
        "collapsed": true,
        "id": "4yn1kpBxpT7l"
      },
      "source": [
        "Key mechanism\n",
        "\n",
        "1. output activation is sigmoid\n",
        "\n",
        "2. cross-entropy loss"
      ]
    },
    {
      "cell_type": "code",
      "metadata": {
        "colab": {
          "base_uri": "https://localhost:8080/",
          "height": 39
        },
        "id": "aqbOC7_SpT7m",
        "outputId": "3dccbaff-699c-4df8-c587-06a02c1f7af7"
      },
      "source": [
        "# Regression output activation: identity\n",
        "\n",
        "Math(r'f(w, x) = c + \\sum_j v_j \\cdot h\\left(b_j + \\sum_i w_{ji} x_i\\right)')"
      ],
      "execution_count": 11,
      "outputs": [
        {
          "output_type": "execute_result",
          "data": {
            "text/latex": "$$f(w, x) = c + \\sum_j v_j \\cdot h\\left(b_j + \\sum_i w_{ji} x_i\\right)$$",
            "text/plain": [
              "<IPython.core.display.Math object>"
            ]
          },
          "metadata": {},
          "execution_count": 11
        }
      ]
    },
    {
      "cell_type": "code",
      "metadata": {
        "colab": {
          "base_uri": "https://localhost:8080/",
          "height": 39
        },
        "id": "a-IdFicUpT7n",
        "outputId": "d81b91fc-ba62-4a0f-c3ef-25b11257c58f"
      },
      "source": [
        "# Binary Classification: sigmoid\n",
        "\n",
        "Math(r'f(w, x) = \\sigma( c + \\sum_j v_j \\cdot h\\left(b_j + \\sum_i w_{ji} x_i\\right) )')"
      ],
      "execution_count": 12,
      "outputs": [
        {
          "output_type": "execute_result",
          "data": {
            "text/latex": "$$f(w, x) = \\sigma( c + \\sum_j v_j \\cdot h\\left(b_j + \\sum_i w_{ji} x_i\\right) )$$",
            "text/plain": [
              "<IPython.core.display.Math object>"
            ]
          },
          "metadata": {},
          "execution_count": 12
        }
      ]
    },
    {
      "cell_type": "code",
      "metadata": {
        "colab": {
          "base_uri": "https://localhost:8080/",
          "height": 41
        },
        "id": "Gzg0cj7wpT7n",
        "outputId": "5d6419ca-7866-44cc-bff7-7a387282391a"
      },
      "source": [
        "Math(r'\\sigma(a) = \\frac{1}{1 + \\exp(-a)}')"
      ],
      "execution_count": 13,
      "outputs": [
        {
          "output_type": "execute_result",
          "data": {
            "text/latex": "$$\\sigma(a) = \\frac{1}{1 + \\exp(-a)}$$",
            "text/plain": [
              "<IPython.core.display.Math object>"
            ]
          },
          "metadata": {},
          "execution_count": 13
        }
      ]
    },
    {
      "cell_type": "code",
      "metadata": {
        "colab": {
          "base_uri": "https://localhost:8080/",
          "height": 39
        },
        "id": "5Vv6OUlDpT7o",
        "outputId": "e0b8aa25-6cd7-4c22-fe4e-ece0b606c43e"
      },
      "source": [
        "# Regression loss: mean squared error\n",
        "\n",
        "Math(r'\\mathcal{L} = \\frac{1}{2} \\sum_n \\left(y_n - t_n\\right)^2')"
      ],
      "execution_count": 14,
      "outputs": [
        {
          "output_type": "execute_result",
          "data": {
            "text/latex": "$$\\mathcal{L} = \\frac{1}{2} \\sum_n \\left(y_n - t_n\\right)^2$$",
            "text/plain": [
              "<IPython.core.display.Math object>"
            ]
          },
          "metadata": {},
          "execution_count": 14
        }
      ]
    },
    {
      "cell_type": "code",
      "metadata": {
        "colab": {
          "base_uri": "https://localhost:8080/",
          "height": 38
        },
        "id": "zbGCq3pppT7o",
        "outputId": "df56d0cf-f251-42ad-cfb0-330ca7e89d0e"
      },
      "source": [
        "# Binary Classification: cross-entroy loss\n",
        "\n",
        "Math(r'\\mathcal{L} = \\sum_n \\mathcal{L}_n')"
      ],
      "execution_count": 15,
      "outputs": [
        {
          "output_type": "execute_result",
          "data": {
            "text/latex": "$$\\mathcal{L} = \\sum_n \\mathcal{L}_n$$",
            "text/plain": [
              "<IPython.core.display.Math object>"
            ]
          },
          "metadata": {},
          "execution_count": 15
        }
      ]
    },
    {
      "cell_type": "code",
      "metadata": {
        "colab": {
          "base_uri": "https://localhost:8080/",
          "height": 54
        },
        "id": "3iZuCQXVpT7o",
        "outputId": "c09104b9-64b2-4762-a2b1-7eb6bc26f9da"
      },
      "source": [
        "Math(r'\\mathcal{L}_n =\\left\\{ \\begin{array}{ll}-\\log(y_n) & \\quad \\mbox{if} \\quad t_n = 1, \\\\-\\log(1-y_n) & \\quad \\text{if} \\quad t_n = 0 \\\\ \\end{array} \\right.')"
      ],
      "execution_count": 16,
      "outputs": [
        {
          "output_type": "execute_result",
          "data": {
            "text/latex": "$$\\mathcal{L}_n =\\left\\{ \\begin{array}{ll}-\\log(y_n) & \\quad \\mbox{if} \\quad t_n = 1, \\\\-\\log(1-y_n) & \\quad \\text{if} \\quad t_n = 0 \\\\ \\end{array} \\right.$$",
            "text/plain": [
              "<IPython.core.display.Math object>"
            ]
          },
          "metadata": {},
          "execution_count": 16
        }
      ]
    },
    {
      "cell_type": "code",
      "metadata": {
        "id": "T75Mk3rcpT7p",
        "outputId": "2fbb19d2-29ef-4425-ef65-ced4f5567489"
      },
      "source": [
        "np.log(0)"
      ],
      "execution_count": null,
      "outputs": [
        {
          "name": "stderr",
          "output_type": "stream",
          "text": [
            "C:\\toolkit\\Anaconda\\envs\\py35a\\lib\\site-packages\\ipykernel_launcher.py:1: RuntimeWarning: divide by zero encountered in log\n",
            "  \"\"\"Entry point for launching an IPython kernel.\n"
          ]
        },
        {
          "data": {
            "text/plain": [
              "-inf"
            ]
          },
          "execution_count": 14,
          "metadata": {},
          "output_type": "execute_result"
        }
      ]
    },
    {
      "cell_type": "code",
      "metadata": {
        "colab": {
          "base_uri": "https://localhost:8080/",
          "height": 298
        },
        "id": "LnXCkaA3pT7p",
        "outputId": "ab989973-e2c6-4c62-a492-9753f6d5052f"
      },
      "source": [
        "ys = np.linspace(0.001, 0.999, 500)\n",
        "plt.plot(ys, -np.log(ys), 'r')\n",
        "plt.title('Ground Truth is 1')\n",
        "#plt.plot(xs, -np.log(1 - ys), 'b')\n"
      ],
      "execution_count": 17,
      "outputs": [
        {
          "output_type": "execute_result",
          "data": {
            "text/plain": [
              "Text(0.5, 1.0, 'Ground Truth is 1')"
            ]
          },
          "metadata": {},
          "execution_count": 17
        },
        {
          "output_type": "display_data",
          "data": {
            "image/png": "[encoded data removed]",
            "text/plain": [
              "<Figure size 432x288 with 1 Axes>"
            ]
          },
          "metadata": {
            "needs_background": "light"
          }
        }
      ]
    },
    {
      "cell_type": "code",
      "metadata": {
        "colab": {
          "base_uri": "https://localhost:8080/",
          "height": 298
        },
        "id": "BDe5bc4zpT7q",
        "outputId": "4479a160-399c-43af-e1a2-361bc2f2e1bc"
      },
      "source": [
        "ys = np.linspace(0.001, 0.999, 500)\n",
        "plt.plot(ys, -np.log(1 - ys), 'r')\n",
        "plt.title('Ground Truth is 0')"
      ],
      "execution_count": 18,
      "outputs": [
        {
          "output_type": "execute_result",
          "data": {
            "text/plain": [
              "Text(0.5, 1.0, 'Ground Truth is 0')"
            ]
          },
          "metadata": {},
          "execution_count": 18
        },
        {
          "output_type": "display_data",
          "data": {
            "image/png": "[encoded data removed]",
            "text/plain": [
              "<Figure size 432x288 with 1 Axes>"
            ]
          },
          "metadata": {
            "needs_background": "light"
          }
        }
      ]
    },
    {
      "cell_type": "markdown",
      "metadata": {
        "id": "aPW7qraipT7q"
      },
      "source": [
        "Implementation"
      ]
    },
    {
      "cell_type": "code",
      "metadata": {
        "colab": {
          "base_uri": "https://localhost:8080/"
        },
        "id": "lmAu16c0pT7q",
        "outputId": "5649e0c2-206c-492f-f27e-118e38248009"
      },
      "source": [
        "Y"
      ],
      "execution_count": 21,
      "outputs": [
        {
          "output_type": "execute_result",
          "data": {
            "text/plain": [
              "array([[0],\n",
              "       [1],\n",
              "       [1],\n",
              "       [0]])"
            ]
          },
          "metadata": {},
          "execution_count": 21
        }
      ]
    },
    {
      "cell_type": "code",
      "metadata": {
        "collapsed": true,
        "id": "n7_5dAyHpT7r"
      },
      "source": [
        "# test\n",
        "Yp = np.array([[0.0002], [0.99999], [0.000001], [0.998]])\n"
      ],
      "execution_count": 22,
      "outputs": []
    },
    {
      "cell_type": "code",
      "metadata": {
        "id": "p3qFOHPxpT7r",
        "outputId": "039fe028-c140-41a2-dd53-f08201d2b0c6"
      },
      "source": [
        "Y == 1"
      ],
      "execution_count": null,
      "outputs": [
        {
          "data": {
            "text/plain": [
              "array([[False],\n",
              "       [ True],\n",
              "       [ True],\n",
              "       [False]], dtype=bool)"
            ]
          },
          "execution_count": 27,
          "metadata": {},
          "output_type": "execute_result"
        }
      ]
    },
    {
      "cell_type": "code",
      "metadata": {
        "id": "FX9P8obFpT7r",
        "outputId": "d8d646c6-be92-4871-9446-57331232b41b"
      },
      "source": [
        "Yp [Y==1]"
      ],
      "execution_count": null,
      "outputs": [
        {
          "data": {
            "text/plain": [
              "array([  9.99990000e-01,   1.00000000e-06])"
            ]
          },
          "execution_count": 28,
          "metadata": {},
          "output_type": "execute_result"
        }
      ]
    },
    {
      "cell_type": "code",
      "metadata": {
        "id": "ACdb9k9GpT7s",
        "outputId": "f9563927-c49c-4c25-ebbc-21080cfb769c"
      },
      "source": [
        "Yp [Y==0]"
      ],
      "execution_count": null,
      "outputs": [
        {
          "data": {
            "text/plain": [
              "array([  2.00000000e-04,   9.98000000e-01])"
            ]
          },
          "execution_count": 29,
          "metadata": {},
          "output_type": "execute_result"
        }
      ]
    },
    {
      "cell_type": "code",
      "metadata": {
        "colab": {
          "base_uri": "https://localhost:8080/"
        },
        "id": "GroJWIU2pT7s",
        "outputId": "b5676f48-dd18-4ae4-ae5b-005fa2569b7f"
      },
      "source": [
        "np.sum(-np.log(Yp[Y == 1])) ## Only the tn == 1 part"
      ],
      "execution_count": 23,
      "outputs": [
        {
          "output_type": "execute_result",
          "data": {
            "text/plain": [
              "13.815520558014274"
            ]
          },
          "metadata": {},
          "execution_count": 23
        }
      ]
    },
    {
      "cell_type": "code",
      "metadata": {
        "collapsed": true,
        "id": "NuUV_2ROpT7s"
      },
      "source": [
        "# Student's implement"
      ],
      "execution_count": null,
      "outputs": []
    },
    {
      "cell_type": "code",
      "metadata": {
        "id": "BtZIRjyEpT7t"
      },
      "source": [
        "def biclass_loss(y, gt):\n",
        "    # DUMMY\n",
        "   \n",
        "    \n",
        "    return np.sum(-np.log(y[gt == 1]))+np.sum(-np.log(1-y[gt == 0]))"
      ],
      "execution_count": 19,
      "outputs": []
    },
    {
      "cell_type": "code",
      "metadata": {
        "colab": {
          "base_uri": "https://localhost:8080/"
        },
        "id": "3HtpfrewpT7t",
        "outputId": "0953ddad-b318-4d9e-d3a4-b6429de45f18"
      },
      "source": [
        "biclass_loss(Yp, Y)"
      ],
      "execution_count": 24,
      "outputs": [
        {
          "output_type": "execute_result",
          "data": {
            "text/plain": [
              "20.030328676439133"
            ]
          },
          "metadata": {},
          "execution_count": 24
        }
      ]
    },
    {
      "cell_type": "code",
      "metadata": {
        "collapsed": true,
        "id": "KxiveAjxpT7t"
      },
      "source": [
        "# If you do it right, you will get ~20.0303"
      ],
      "execution_count": null,
      "outputs": []
    },
    {
      "cell_type": "markdown",
      "metadata": {
        "id": "sleafyxWpT7u"
      },
      "source": [
        "# Multiclass Classification"
      ]
    },
    {
      "cell_type": "markdown",
      "metadata": {
        "id": "u04hdJ3-pT7u"
      },
      "source": [
        "Key Mechanism\n",
        "\n",
        "1. One-hot coding\n",
        "\n",
        "2. Softmax\n",
        "\n",
        "3. Multiclass cross entropy loss"
      ]
    },
    {
      "cell_type": "code",
      "metadata": {
        "id": "kDmSx3MbpT7v",
        "outputId": "c9bfca02-fd77-4155-a9ae-674ac9de5e95"
      },
      "source": [
        "Math(r'f(w, x) = \\mathrm{softmax}( c + \\sum_j v_j \\cdot h\\left(b_j + \\sum_i w_{ji} x_i\\right) )')"
      ],
      "execution_count": null,
      "outputs": [
        {
          "data": {
            "text/latex": [
              "$$f(w, x) = \\mathrm{softmax}( c + \\sum_j v_j \\cdot h\\left(b_j + \\sum_i w_{ji} x_i\\right) )$$"
            ],
            "text/plain": [
              "<IPython.core.display.Math object>"
            ]
          },
          "execution_count": 37,
          "metadata": {},
          "output_type": "execute_result"
        }
      ]
    },
    {
      "cell_type": "code",
      "metadata": {
        "id": "xFYqVGkepT7v",
        "outputId": "5ac1172c-0742-438f-8827-5d0a3de1c5e9"
      },
      "source": [
        "Math(r'\\mathrm{softmax}(a_k) = \\frac{\\exp(a_k)}{\\sum_{i=1}^K \\exp(a_i)}')"
      ],
      "execution_count": null,
      "outputs": [
        {
          "data": {
            "text/latex": [
              "$$\\mathrm{softmax}(a_k) = \\frac{\\exp(a_k)}{\\sum_{i=1}^K \\exp(a_i)}$$"
            ],
            "text/plain": [
              "<IPython.core.display.Math object>"
            ]
          },
          "execution_count": 38,
          "metadata": {},
          "output_type": "execute_result"
        }
      ]
    },
    {
      "cell_type": "code",
      "metadata": {
        "id": "rm2jgXKtpT7w",
        "outputId": "bd1ecf1b-d537-438b-f141-a822f9e5eec6"
      },
      "source": [
        "Math(r'\\mathcal{L}_n = - \\sum_k t_{n,k} \\cdot \\log (y_{n,k}) ')"
      ],
      "execution_count": null,
      "outputs": [
        {
          "data": {
            "text/latex": [
              "$$\\mathcal{L}_n = - \\sum_k t_{n,k} \\cdot \\log (y_{n,k}) $$"
            ],
            "text/plain": [
              "<IPython.core.display.Math object>"
            ]
          },
          "execution_count": 41,
          "metadata": {},
          "output_type": "execute_result"
        }
      ]
    },
    {
      "cell_type": "code",
      "metadata": {
        "collapsed": true,
        "id": "1cg7cjUIpT7x"
      },
      "source": [
        ""
      ],
      "execution_count": null,
      "outputs": []
    }
  ]
}