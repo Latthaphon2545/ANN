{
  "nbformat": 4,
  "nbformat_minor": 0,
  "metadata": {
    "colab": {
      "provenance": [],
      "toc_visible": true
    },
    "kernelspec": {
      "name": "python3",
      "display_name": "Python 3"
    },
    "language_info": {
      "name": "python"
    }
  },
  "cells": [
    {
      "cell_type": "code",
      "execution_count": 2,
      "metadata": {
        "colab": {
          "base_uri": "https://localhost:8080/"
        },
        "id": "MVfjBoepXjTy",
        "outputId": "fa284e55-58f7-4b07-d067-a2814c72b34e"
      },
      "outputs": [
        {
          "output_type": "stream",
          "name": "stdout",
          "text": [
            "Mounted at /content/drive\n"
          ]
        }
      ],
      "source": [
        "from google.colab import drive\n",
        "drive.mount('/content/drive')\n"
      ]
    },
    {
      "cell_type": "code",
      "source": [
        "import sys\n",
        "sys.path.append(\"/content/drive/MyDrive/Y2023/IML/HandsOn/Sklearn\") # my path"
      ],
      "metadata": {
        "id": "zepeo3tEXyeq"
      },
      "execution_count": 3,
      "outputs": []
    },
    {
      "cell_type": "code",
      "source": [
        "import numpy as np\n",
        "from matplotlib import pyplot as plt"
      ],
      "metadata": {
        "id": "f6TbxKu3Cytb"
      },
      "execution_count": 4,
      "outputs": []
    },
    {
      "cell_type": "markdown",
      "source": [
        "# SKlearn\n",
        "\n",
        "https://scikit-learn.org/stable/\n",
        "\n",
        "* [Task](#Task)\n",
        "  * Mostly it is about a model\n",
        "* [Experience](#Experience)\n",
        "  * Mostly it is about data\n",
        "* [Performance measurement](#Performance-measurement)\n",
        "  * loss vs evaluation metrics\n",
        "    * loss: the training objective\n",
        "    * evaluation metrics: the \"decisive\" measurement index"
      ],
      "metadata": {
        "id": "P7weRhhAYMhD"
      }
    },
    {
      "cell_type": "markdown",
      "source": [
        "#Task\n",
        "\n",
        "* What standard models does sklearn provide?\n",
        "  * Check out https://scikit-learn.org/stable/\n",
        "  * They organize models into regression, classification, clustering, and dimensionality reduction\n",
        "\n",
        "We will first see **regression**.\n",
        "\n",
        "Regression: a basic prediction task where output $y \\in \\mathbb{R}$.\n",
        "\n",
        "E.g., predicting blood sugar level, predicting PM2.5, predicting temperature.\n",
        "\n",
        "<br>\n",
        "\n",
        "\n",
        "Coding example\n",
        "Suppose data is loaded to ```X``` and ```y``` variables.\n",
        "\n",
        "1. We choose the model, e.g., Gaussian RBF:\n",
        "```\n",
        ">>> from sklearn.gaussian_process import GaussianProcessRegressor\n",
        ">>> from sklearn.gaussian_process.kernels import RBF\n",
        "```\n",
        "\n",
        "2. We choose model hyperparameter, e.g., \n",
        "```\n",
        ">>> kernel = RBF(1.0)\n",
        ">>> gpr = GaussianProcessRegressor(kernel=kernel, random_state=0)\n",
        "```\n",
        "\n",
        "3. We train the model, e.g.,\n",
        "```\n",
        ">>> gpr.fit(X, y)\n",
        "```\n",
        "\n",
        "4. We evaluate the model and once we are happy with it, we can use the model, e.g., \n",
        "```\n",
        ">>> gpr.predict(x)\n",
        "```"
      ],
      "metadata": {
        "id": "oFfnOB2d9Tyl"
      }
    },
    {
      "cell_type": "markdown",
      "source": [
        "## Choose a regression model\n",
        "\n",
        "E.g.,\n",
        "* [Gaussian Process Model](https://scikit-learn.org/stable/modules/generated/sklearn.gaussian_process.GaussianProcessRegressor.html)\n",
        "* [RBF](https://scikit-learn.org/stable/modules/generated/sklearn.gaussian_process.kernels.RBF.html)"
      ],
      "metadata": {
        "id": "2HUvMBBBIBFH"
      }
    },
    {
      "cell_type": "code",
      "source": [
        "from sklearn.gaussian_process import GaussianProcessRegressor\n",
        "from sklearn.gaussian_process.kernels import RBF"
      ],
      "metadata": {
        "id": "lt0nzuOCBHB9"
      },
      "execution_count": 39,
      "outputs": []
    },
    {
      "cell_type": "markdown",
      "source": [
        "## Choose hyperparameters"
      ],
      "metadata": {
        "id": "Y-cW4tvIIixy"
      }
    },
    {
      "cell_type": "code",
      "source": [
        "rbf1 = RBF(3.0)\n",
        "\n",
        "the_model = GaussianProcessRegressor(kernel=rbf1, random_state=0)\n"
      ],
      "metadata": {
        "id": "4EtI485uMDn-"
      },
      "execution_count": 46,
      "outputs": []
    },
    {
      "cell_type": "markdown",
      "source": [
        "## Train the model"
      ],
      "metadata": {
        "id": "spGRlTQyMLbj"
      }
    },
    {
      "cell_type": "code",
      "source": [
        "DX = np.array([2.4, 12.5, -5]).reshape((-1,1))\n",
        "DY = np.array([50, -11, 20])\n",
        "\n",
        "the_model.fit(DX, DY)"
      ],
      "metadata": {
        "colab": {
          "base_uri": "https://localhost:8080/",
          "height": 74
        },
        "id": "j0oE93sbiJWn",
        "outputId": "0ab3eea4-68c8-489a-d2cb-670a617843dd"
      },
      "execution_count": 47,
      "outputs": [
        {
          "output_type": "execute_result",
          "data": {
            "text/plain": [
              "GaussianProcessRegressor(kernel=RBF(length_scale=3), random_state=0)"
            ],
            "text/html": [
              "<style>#sk-container-id-4 {color: black;background-color: white;}#sk-container-id-4 pre{padding: 0;}#sk-container-id-4 div.sk-toggleable {background-color: white;}#sk-container-id-4 label.sk-toggleable__label {cursor: pointer;display: block;width: 100%;margin-bottom: 0;padding: 0.3em;box-sizing: border-box;text-align: center;}#sk-container-id-4 label.sk-toggleable__label-arrow:before {content: \"▸\";float: left;margin-right: 0.25em;color: #696969;}#sk-container-id-4 label.sk-toggleable__label-arrow:hover:before {color: black;}#sk-container-id-4 div.sk-estimator:hover label.sk-toggleable__label-arrow:before {color: black;}#sk-container-id-4 div.sk-toggleable__content {max-height: 0;max-width: 0;overflow: hidden;text-align: left;background-color: #f0f8ff;}#sk-container-id-4 div.sk-toggleable__content pre {margin: 0.2em;color: black;border-radius: 0.25em;background-color: #f0f8ff;}#sk-container-id-4 input.sk-toggleable__control:checked~div.sk-toggleable__content {max-height: 200px;max-width: 100%;overflow: auto;}#sk-container-id-4 input.sk-toggleable__control:checked~label.sk-toggleable__label-arrow:before {content: \"▾\";}#sk-container-id-4 div.sk-estimator input.sk-toggleable__control:checked~label.sk-toggleable__label {background-color: #d4ebff;}#sk-container-id-4 div.sk-label input.sk-toggleable__control:checked~label.sk-toggleable__label {background-color: #d4ebff;}#sk-container-id-4 input.sk-hidden--visually {border: 0;clip: rect(1px 1px 1px 1px);clip: rect(1px, 1px, 1px, 1px);height: 1px;margin: -1px;overflow: hidden;padding: 0;position: absolute;width: 1px;}#sk-container-id-4 div.sk-estimator {font-family: monospace;background-color: #f0f8ff;border: 1px dotted black;border-radius: 0.25em;box-sizing: border-box;margin-bottom: 0.5em;}#sk-container-id-4 div.sk-estimator:hover {background-color: #d4ebff;}#sk-container-id-4 div.sk-parallel-item::after {content: \"\";width: 100%;border-bottom: 1px solid gray;flex-grow: 1;}#sk-container-id-4 div.sk-label:hover label.sk-toggleable__label {background-color: #d4ebff;}#sk-container-id-4 div.sk-serial::before {content: \"\";position: absolute;border-left: 1px solid gray;box-sizing: border-box;top: 0;bottom: 0;left: 50%;z-index: 0;}#sk-container-id-4 div.sk-serial {display: flex;flex-direction: column;align-items: center;background-color: white;padding-right: 0.2em;padding-left: 0.2em;position: relative;}#sk-container-id-4 div.sk-item {position: relative;z-index: 1;}#sk-container-id-4 div.sk-parallel {display: flex;align-items: stretch;justify-content: center;background-color: white;position: relative;}#sk-container-id-4 div.sk-item::before, #sk-container-id-4 div.sk-parallel-item::before {content: \"\";position: absolute;border-left: 1px solid gray;box-sizing: border-box;top: 0;bottom: 0;left: 50%;z-index: -1;}#sk-container-id-4 div.sk-parallel-item {display: flex;flex-direction: column;z-index: 1;position: relative;background-color: white;}#sk-container-id-4 div.sk-parallel-item:first-child::after {align-self: flex-end;width: 50%;}#sk-container-id-4 div.sk-parallel-item:last-child::after {align-self: flex-start;width: 50%;}#sk-container-id-4 div.sk-parallel-item:only-child::after {width: 0;}#sk-container-id-4 div.sk-dashed-wrapped {border: 1px dashed gray;margin: 0 0.4em 0.5em 0.4em;box-sizing: border-box;padding-bottom: 0.4em;background-color: white;}#sk-container-id-4 div.sk-label label {font-family: monospace;font-weight: bold;display: inline-block;line-height: 1.2em;}#sk-container-id-4 div.sk-label-container {text-align: center;}#sk-container-id-4 div.sk-container {/* jupyter's `normalize.less` sets `[hidden] { display: none; }` but bootstrap.min.css set `[hidden] { display: none !important; }` so we also need the `!important` here to be able to override the default hidden behavior on the sphinx rendered scikit-learn.org. See: https://github.com/scikit-learn/scikit-learn/issues/21755 */display: inline-block !important;position: relative;}#sk-container-id-4 div.sk-text-repr-fallback {display: none;}</style><div id=\"sk-container-id-4\" class=\"sk-top-container\"><div class=\"sk-text-repr-fallback\"><pre>GaussianProcessRegressor(kernel=RBF(length_scale=3), random_state=0)</pre><b>In a Jupyter environment, please rerun this cell to show the HTML representation or trust the notebook. <br />On GitHub, the HTML representation is unable to render, please try loading this page with nbviewer.org.</b></div><div class=\"sk-container\" hidden><div class=\"sk-item\"><div class=\"sk-estimator sk-toggleable\"><input class=\"sk-toggleable__control sk-hidden--visually\" id=\"sk-estimator-id-4\" type=\"checkbox\" checked><label for=\"sk-estimator-id-4\" class=\"sk-toggleable__label sk-toggleable__label-arrow\">GaussianProcessRegressor</label><div class=\"sk-toggleable__content\"><pre>GaussianProcessRegressor(kernel=RBF(length_scale=3), random_state=0)</pre></div></div></div></div></div>"
            ]
          },
          "metadata": {},
          "execution_count": 47
        }
      ]
    },
    {
      "cell_type": "markdown",
      "source": [
        "## Use the model to do prediction"
      ],
      "metadata": {
        "id": "_3eaBPllMSPE"
      }
    },
    {
      "cell_type": "code",
      "source": [
        "xs = np.linspace(-10, 20, num=500).reshape((-1,1))\n",
        "yhat = the_model.predict(xs)\n",
        "plt.plot(xs, yhat)\n",
        "plt.plot(DX, DY, 'r*')"
      ],
      "metadata": {
        "colab": {
          "base_uri": "https://localhost:8080/",
          "height": 282
        },
        "id": "yS4l-eGpMRqm",
        "outputId": "6a4770e5-4ac7-49d6-acf2-43f0a8a3e236"
      },
      "execution_count": 49,
      "outputs": [
        {
          "output_type": "execute_result",
          "data": {
            "text/plain": [
              "[<matplotlib.lines.Line2D at 0x7fb800bc5040>]"
            ]
          },
          "metadata": {},
          "execution_count": 49
        },
        {
          "output_type": "display_data",
          "data": {
            "text/plain": [
              "<Figure size 432x288 with 1 Axes>"
            ],
            "image/png": "[encoded data removed]"
          },
          "metadata": {
            "needs_background": "light"
          }
        }
      ]
    },
    {
      "cell_type": "markdown",
      "source": [
        "## How it works"
      ],
      "metadata": {
        "id": "rHComq0lWqJz"
      }
    },
    {
      "cell_type": "code",
      "source": [
        "rbf_kernel = RBF(3.0)\n",
        "gp = GaussianProcessRegressor(kernel=rbf_kernel, random_state=0)"
      ],
      "metadata": {
        "id": "f9PDk6C4NKmF"
      },
      "execution_count": 50,
      "outputs": []
    },
    {
      "cell_type": "code",
      "source": [
        "gp.__dict__"
      ],
      "metadata": {
        "colab": {
          "base_uri": "https://localhost:8080/"
        },
        "id": "qi3VU4GMNbAq",
        "outputId": "2a8249c7-e3bd-48c7-dfd7-444444d603c0"
      },
      "execution_count": 52,
      "outputs": [
        {
          "output_type": "execute_result",
          "data": {
            "text/plain": [
              "{'kernel': RBF(length_scale=3),\n",
              " 'alpha': 1e-10,\n",
              " 'optimizer': 'fmin_l_bfgs_b',\n",
              " 'n_restarts_optimizer': 0,\n",
              " 'normalize_y': False,\n",
              " 'copy_X_train': True,\n",
              " 'random_state': 0}"
            ]
          },
          "metadata": {},
          "execution_count": 52
        }
      ]
    },
    {
      "cell_type": "code",
      "source": [
        "DX = np.array([2.4, 12.5, -5]).reshape((-1,1))\n",
        "DY = np.array([50, -11, 20])\n",
        "\n",
        "gp.fit(DX, DY)"
      ],
      "metadata": {
        "colab": {
          "base_uri": "https://localhost:8080/",
          "height": 74
        },
        "id": "VkIcmKkrWt75",
        "outputId": "f6a66e35-0766-491a-8553-fd70a0d74e9d"
      },
      "execution_count": 54,
      "outputs": [
        {
          "output_type": "execute_result",
          "data": {
            "text/plain": [
              "GaussianProcessRegressor(kernel=RBF(length_scale=3), random_state=0)"
            ],
            "text/html": [
              "<style>#sk-container-id-5 {color: black;background-color: white;}#sk-container-id-5 pre{padding: 0;}#sk-container-id-5 div.sk-toggleable {background-color: white;}#sk-container-id-5 label.sk-toggleable__label {cursor: pointer;display: block;width: 100%;margin-bottom: 0;padding: 0.3em;box-sizing: border-box;text-align: center;}#sk-container-id-5 label.sk-toggleable__label-arrow:before {content: \"▸\";float: left;margin-right: 0.25em;color: #696969;}#sk-container-id-5 label.sk-toggleable__label-arrow:hover:before {color: black;}#sk-container-id-5 div.sk-estimator:hover label.sk-toggleable__label-arrow:before {color: black;}#sk-container-id-5 div.sk-toggleable__content {max-height: 0;max-width: 0;overflow: hidden;text-align: left;background-color: #f0f8ff;}#sk-container-id-5 div.sk-toggleable__content pre {margin: 0.2em;color: black;border-radius: 0.25em;background-color: #f0f8ff;}#sk-container-id-5 input.sk-toggleable__control:checked~div.sk-toggleable__content {max-height: 200px;max-width: 100%;overflow: auto;}#sk-container-id-5 input.sk-toggleable__control:checked~label.sk-toggleable__label-arrow:before {content: \"▾\";}#sk-container-id-5 div.sk-estimator input.sk-toggleable__control:checked~label.sk-toggleable__label {background-color: #d4ebff;}#sk-container-id-5 div.sk-label input.sk-toggleable__control:checked~label.sk-toggleable__label {background-color: #d4ebff;}#sk-container-id-5 input.sk-hidden--visually {border: 0;clip: rect(1px 1px 1px 1px);clip: rect(1px, 1px, 1px, 1px);height: 1px;margin: -1px;overflow: hidden;padding: 0;position: absolute;width: 1px;}#sk-container-id-5 div.sk-estimator {font-family: monospace;background-color: #f0f8ff;border: 1px dotted black;border-radius: 0.25em;box-sizing: border-box;margin-bottom: 0.5em;}#sk-container-id-5 div.sk-estimator:hover {background-color: #d4ebff;}#sk-container-id-5 div.sk-parallel-item::after {content: \"\";width: 100%;border-bottom: 1px solid gray;flex-grow: 1;}#sk-container-id-5 div.sk-label:hover label.sk-toggleable__label {background-color: #d4ebff;}#sk-container-id-5 div.sk-serial::before {content: \"\";position: absolute;border-left: 1px solid gray;box-sizing: border-box;top: 0;bottom: 0;left: 50%;z-index: 0;}#sk-container-id-5 div.sk-serial {display: flex;flex-direction: column;align-items: center;background-color: white;padding-right: 0.2em;padding-left: 0.2em;position: relative;}#sk-container-id-5 div.sk-item {position: relative;z-index: 1;}#sk-container-id-5 div.sk-parallel {display: flex;align-items: stretch;justify-content: center;background-color: white;position: relative;}#sk-container-id-5 div.sk-item::before, #sk-container-id-5 div.sk-parallel-item::before {content: \"\";position: absolute;border-left: 1px solid gray;box-sizing: border-box;top: 0;bottom: 0;left: 50%;z-index: -1;}#sk-container-id-5 div.sk-parallel-item {display: flex;flex-direction: column;z-index: 1;position: relative;background-color: white;}#sk-container-id-5 div.sk-parallel-item:first-child::after {align-self: flex-end;width: 50%;}#sk-container-id-5 div.sk-parallel-item:last-child::after {align-self: flex-start;width: 50%;}#sk-container-id-5 div.sk-parallel-item:only-child::after {width: 0;}#sk-container-id-5 div.sk-dashed-wrapped {border: 1px dashed gray;margin: 0 0.4em 0.5em 0.4em;box-sizing: border-box;padding-bottom: 0.4em;background-color: white;}#sk-container-id-5 div.sk-label label {font-family: monospace;font-weight: bold;display: inline-block;line-height: 1.2em;}#sk-container-id-5 div.sk-label-container {text-align: center;}#sk-container-id-5 div.sk-container {/* jupyter's `normalize.less` sets `[hidden] { display: none; }` but bootstrap.min.css set `[hidden] { display: none !important; }` so we also need the `!important` here to be able to override the default hidden behavior on the sphinx rendered scikit-learn.org. See: https://github.com/scikit-learn/scikit-learn/issues/21755 */display: inline-block !important;position: relative;}#sk-container-id-5 div.sk-text-repr-fallback {display: none;}</style><div id=\"sk-container-id-5\" class=\"sk-top-container\"><div class=\"sk-text-repr-fallback\"><pre>GaussianProcessRegressor(kernel=RBF(length_scale=3), random_state=0)</pre><b>In a Jupyter environment, please rerun this cell to show the HTML representation or trust the notebook. <br />On GitHub, the HTML representation is unable to render, please try loading this page with nbviewer.org.</b></div><div class=\"sk-container\" hidden><div class=\"sk-item\"><div class=\"sk-estimator sk-toggleable\"><input class=\"sk-toggleable__control sk-hidden--visually\" id=\"sk-estimator-id-5\" type=\"checkbox\" checked><label for=\"sk-estimator-id-5\" class=\"sk-toggleable__label sk-toggleable__label-arrow\">GaussianProcessRegressor</label><div class=\"sk-toggleable__content\"><pre>GaussianProcessRegressor(kernel=RBF(length_scale=3), random_state=0)</pre></div></div></div></div></div>"
            ]
          },
          "metadata": {},
          "execution_count": 54
        }
      ]
    },
    {
      "cell_type": "code",
      "source": [
        "gp.__dict__"
      ],
      "metadata": {
        "colab": {
          "base_uri": "https://localhost:8080/"
        },
        "id": "T5FQj1U9NtCn",
        "outputId": "0dbc637b-d48a-4120-9939-c8fef570e298"
      },
      "execution_count": 55,
      "outputs": [
        {
          "output_type": "execute_result",
          "data": {
            "text/plain": [
              "{'kernel': RBF(length_scale=3),\n",
              " 'alpha': 1e-10,\n",
              " 'optimizer': 'fmin_l_bfgs_b',\n",
              " 'n_restarts_optimizer': 0,\n",
              " 'normalize_y': False,\n",
              " 'copy_X_train': True,\n",
              " 'random_state': 0,\n",
              " 'kernel_': RBF(length_scale=4.4),\n",
              " '_rng': RandomState(MT19937) at 0x7FB80C236440,\n",
              " 'n_features_in_': 1,\n",
              " '_y_train_mean': array([0.]),\n",
              " '_y_train_std': array([1.]),\n",
              " 'X_train_': array([[ 2.4],\n",
              "        [12.5],\n",
              "        [-5. ]]),\n",
              " 'y_train_': array([ 50, -11,  20]),\n",
              " 'log_marginal_likelihood_value_': -1390.328556655279,\n",
              " 'L_': array([[ 1.        ,  0.        ,  0.        ],\n",
              "        [ 0.07217327,  0.99739211,  0.        ],\n",
              "        [ 0.24387367, -0.01727238,  0.96965319]]),\n",
              " 'alpha_': array([ 49.0906723 , -14.54603767,   8.03351545])}"
            ]
          },
          "metadata": {},
          "execution_count": 55
        }
      ]
    },
    {
      "cell_type": "markdown",
      "source": [
        "## Try it out"
      ],
      "metadata": {
        "id": "pT_LssBvOQOa"
      }
    },
    {
      "cell_type": "code",
      "source": [
        "rbf1 = RBF(1.0)\n",
        "the_model = GaussianProcessRegressor(kernel=rbf1, random_state=0)\n",
        "\n",
        "DX = np.array([2.4, 12.5, -5]).reshape((-1,1))\n",
        "DY = np.array([50, -11, 20])\n",
        "the_model.fit(DX, DY)\n",
        "\n",
        "xs = np.linspace(-8, 16, num=500).reshape((-1,1))\n",
        "yhat = the_model.predict(xs)\n",
        "\n",
        "plt.plot(DX, DY, 'r*')\n",
        "plt.plot(xs, yhat, 'b-')"
      ],
      "metadata": {
        "colab": {
          "base_uri": "https://localhost:8080/",
          "height": 282
        },
        "id": "ggjD0fI_ObPt",
        "outputId": "15a677e4-d962-46e7-e1a9-20886700c02d"
      },
      "execution_count": 61,
      "outputs": [
        {
          "output_type": "execute_result",
          "data": {
            "text/plain": [
              "[<matplotlib.lines.Line2D at 0x7fb7f6e48d30>]"
            ]
          },
          "metadata": {},
          "execution_count": 61
        },
        {
          "output_type": "display_data",
          "data": {
            "text/plain": [
              "<Figure size 432x288 with 1 Axes>"
            ],
            "image/png": "[encoded data removed]"
          },
          "metadata": {
            "needs_background": "light"
          }
        }
      ]
    },
    {
      "cell_type": "markdown",
      "source": [
        "## Save and load the model\n",
        "\n",
        "https://scikit-learn.org/stable/model_persistence.html"
      ],
      "metadata": {
        "id": "R-JiHY9ffMUF"
      }
    },
    {
      "cell_type": "code",
      "source": [
        "import pickle"
      ],
      "metadata": {
        "id": "fR-JQOuZfPtZ"
      },
      "execution_count": 62,
      "outputs": []
    },
    {
      "cell_type": "code",
      "source": [
        "!ls"
      ],
      "metadata": {
        "colab": {
          "base_uri": "https://localhost:8080/"
        },
        "id": "94F18EmahKYw",
        "outputId": "eabcf0a5-a527-4398-e2d8-1d991c5c2906"
      },
      "execution_count": 63,
      "outputs": [
        {
          "output_type": "stream",
          "name": "stdout",
          "text": [
            "drive  sample_data\n"
          ]
        }
      ]
    },
    {
      "cell_type": "code",
      "source": [
        "with open(\"mygood.model\", \"wb\") as fh:\n",
        "  pickle.dump(the_model, fh)\n"
      ],
      "metadata": {
        "id": "8x_6wrhkf1Rc"
      },
      "execution_count": 69,
      "outputs": []
    },
    {
      "cell_type": "code",
      "source": [
        "!ls"
      ],
      "metadata": {
        "colab": {
          "base_uri": "https://localhost:8080/"
        },
        "id": "oeFi_2IWhNsY",
        "outputId": "0e040f87-1c97-4c36-c8f9-0f96fe012ea7"
      },
      "execution_count": 76,
      "outputs": [
        {
          "output_type": "stream",
          "name": "stdout",
          "text": [
            "drive  mygood.model  sample_data\n"
          ]
        }
      ]
    },
    {
      "cell_type": "code",
      "source": [
        "with open(\"mygood.model\", \"rb\") as fh:\n",
        "    loaded_model = pickle.load(fh)"
      ],
      "metadata": {
        "id": "W4Vj2808hHQM"
      },
      "execution_count": 77,
      "outputs": []
    },
    {
      "cell_type": "code",
      "source": [
        "yhat = loaded_model.predict(xs)\n",
        "\n",
        "plt.plot(xs, yhat)\n"
      ],
      "metadata": {
        "colab": {
          "base_uri": "https://localhost:8080/",
          "height": 282
        },
        "id": "Un9vLoi0hlUq",
        "outputId": "520dccdb-ea8a-450e-9228-543baa194675"
      },
      "execution_count": 78,
      "outputs": [
        {
          "output_type": "execute_result",
          "data": {
            "text/plain": [
              "[<matplotlib.lines.Line2D at 0x7fb7f6c6efa0>]"
            ]
          },
          "metadata": {},
          "execution_count": 78
        },
        {
          "output_type": "display_data",
          "data": {
            "text/plain": [
              "<Figure size 432x288 with 1 Axes>"
            ],
            "image/png": "[encoded data removed]"
          },
          "metadata": {
            "needs_background": "light"
          }
        }
      ]
    },
    {
      "cell_type": "markdown",
      "source": [
        "**!Caution!** this is an example. But in google drive this spot ```/content``` is non-persistent. Get to your space, e.g., ```/content/drive/MyDrive/``` if you are running this on colab."
      ],
      "metadata": {
        "id": "qahE6ESqPkyJ"
      }
    },
    {
      "cell_type": "markdown",
      "source": [
        "## Try another model\n",
        "\n",
        "Each model is different on its own.\n",
        "\n",
        "Here we try MLP, [multi-layer perceptron](https://scikit-learn.org/stable/modules/generated/sklearn.neural_network.MLPRegressor.html)."
      ],
      "metadata": {
        "id": "AZfuD04_mjng"
      }
    },
    {
      "cell_type": "code",
      "source": [
        "# Choose a model\n",
        "from sklearn.neural_network import MLPRegressor\n",
        "m2 = MLPRegressor(random_state=1, hidden_layer_sizes=50, solver='sgd', max_iter=5000, learning_rate_init=0.0001)\n"
      ],
      "metadata": {
        "id": "ix0kUhLbmsiE"
      },
      "execution_count": 165,
      "outputs": []
    },
    {
      "cell_type": "code",
      "source": [
        "m2.__dict__"
      ],
      "metadata": {
        "colab": {
          "base_uri": "https://localhost:8080/"
        },
        "id": "FIrWw8vxnHVu",
        "outputId": "53ca9e33-08bc-489c-ca45-d898bfcf2c8b"
      },
      "execution_count": 166,
      "outputs": [
        {
          "output_type": "execute_result",
          "data": {
            "text/plain": [
              "{'activation': 'relu',\n",
              " 'solver': 'sgd',\n",
              " 'alpha': 0.0001,\n",
              " 'batch_size': 'auto',\n",
              " 'learning_rate': 'constant',\n",
              " 'learning_rate_init': 0.0001,\n",
              " 'power_t': 0.5,\n",
              " 'max_iter': 5000,\n",
              " 'loss': 'squared_error',\n",
              " 'hidden_layer_sizes': 50,\n",
              " 'shuffle': True,\n",
              " 'random_state': 1,\n",
              " 'tol': 0.0001,\n",
              " 'verbose': False,\n",
              " 'warm_start': False,\n",
              " 'momentum': 0.9,\n",
              " 'nesterovs_momentum': True,\n",
              " 'early_stopping': False,\n",
              " 'validation_fraction': 0.1,\n",
              " 'beta_1': 0.9,\n",
              " 'beta_2': 0.999,\n",
              " 'epsilon': 1e-08,\n",
              " 'n_iter_no_change': 10,\n",
              " 'max_fun': 15000}"
            ]
          },
          "metadata": {},
          "execution_count": 166
        }
      ]
    },
    {
      "cell_type": "code",
      "source": [
        "before_training_keys = list(m2.__dict__.keys())"
      ],
      "metadata": {
        "id": "J7nxUSbbrniE"
      },
      "execution_count": 170,
      "outputs": []
    },
    {
      "cell_type": "code",
      "source": [
        "DX = np.array([2.4, 12.5, -5]).reshape((-1,1))\n",
        "DY = np.array([50, -11, 20])\n",
        "m2.fit(DX, DY)\n",
        "\n",
        "xs = np.linspace(-8, 16, num=500).reshape((-1,1))\n",
        "yhat = m2.predict(xs)\n",
        "\n",
        "plt.plot(DX, DY, 'r*')\n",
        "plt.plot(xs, yhat, 'b-')"
      ],
      "metadata": {
        "colab": {
          "base_uri": "https://localhost:8080/",
          "height": 282
        },
        "id": "e1QWTsxgoHeL",
        "outputId": "a1542048-9a9e-4451-fdd0-4154a4a04b04"
      },
      "execution_count": 172,
      "outputs": [
        {
          "output_type": "execute_result",
          "data": {
            "text/plain": [
              "[<matplotlib.lines.Line2D at 0x7fb800beb970>]"
            ]
          },
          "metadata": {},
          "execution_count": 172
        },
        {
          "output_type": "display_data",
          "data": {
            "text/plain": [
              "<Figure size 432x288 with 1 Axes>"
            ],
            "image/png": "[encoded data removed]"
          },
          "metadata": {
            "needs_background": "light"
          }
        }
      ]
    },
    {
      "cell_type": "markdown",
      "source": [
        "### Loss vs training epoch"
      ],
      "metadata": {
        "id": "aABPxu7Hq5sM"
      }
    },
    {
      "cell_type": "code",
      "source": [
        "plt.plot(m2.loss_curve_)"
      ],
      "metadata": {
        "colab": {
          "base_uri": "https://localhost:8080/",
          "height": 282
        },
        "id": "V1N3nFgLq5F-",
        "outputId": "3afa17ea-f778-49ea-d082-f82733c8060f"
      },
      "execution_count": 173,
      "outputs": [
        {
          "output_type": "execute_result",
          "data": {
            "text/plain": [
              "[<matplotlib.lines.Line2D at 0x7fb7f668abe0>]"
            ]
          },
          "metadata": {},
          "execution_count": 173
        },
        {
          "output_type": "display_data",
          "data": {
            "text/plain": [
              "<Figure size 432x288 with 1 Axes>"
            ],
            "image/png": "[encoded data removed]"
          },
          "metadata": {
            "needs_background": "light"
          }
        }
      ]
    },
    {
      "cell_type": "markdown",
      "source": [
        "### Weights"
      ],
      "metadata": {
        "id": "NPgfOwi1rK97"
      }
    },
    {
      "cell_type": "code",
      "source": [
        "for k in m2.__dict__:\n",
        "    if k not in before_training_keys:\n",
        "        print(k, \":\", m2.__dict__[k])"
      ],
      "metadata": {
        "colab": {
          "base_uri": "https://localhost:8080/"
        },
        "id": "gAIzHILUrMrx",
        "outputId": "867b4ad7-eaa9-458f-935c-d283405479d5"
      },
      "execution_count": 174,
      "outputs": [
        {
          "output_type": "stream",
          "name": "stdout",
          "text": [
            "n_features_in_ : 1\n",
            "n_outputs_ : 1\n",
            "_random_state : RandomState(MT19937)\n",
            "n_iter_ : 422\n",
            "t_ : 1266\n",
            "n_layers_ : 3\n",
            "out_activation_ : identity\n",
            "coefs_ : [array([[-0.05692165,  0.18849829, -0.58820029, -0.07351107, -0.49135154,\n",
            "        -0.37417073,  0.31584707, -0.34168978, -0.18324864,  0.52714379,\n",
            "        -0.04782518,  0.72793758, -0.46299326,  0.26458845, -0.12851132,\n",
            "         0.26613365, -0.20210115,  0.32557729, -0.39990106, -0.03658384,\n",
            "         0.20144371,  1.3850038 ,  0.01198985,  0.13421777,  0.27117041,\n",
            "         0.52779448, -0.35829199, -0.53709548, -0.07845975,  0.25882646,\n",
            "        -0.36464609, -0.31300497,  0.32958244,  0.93154214,  0.1351301 ,\n",
            "        -0.09775258,  0.21409503,  0.32387207, -0.57040899,  0.33849715,\n",
            "         0.59325594,  0.17404471,  0.50704761,  0.51593663, -0.06471136,\n",
            "        -0.03574425,  0.28610281, -0.27485568, -0.18757767, -0.0518058 ]]), array([[-0.11891898],\n",
            "       [ 0.96336292],\n",
            "       [ 0.53620804],\n",
            "       [-0.0313378 ],\n",
            "       [ 0.50569211],\n",
            "       [ 0.26540595],\n",
            "       [-0.83823748],\n",
            "       [ 0.37976976],\n",
            "       [ 0.21335859],\n",
            "       [ 3.90754212],\n",
            "       [-0.22473992],\n",
            "       [-1.8979089 ],\n",
            "       [ 0.51537614],\n",
            "       [ 0.52660842],\n",
            "       [-0.13558752],\n",
            "       [ 1.35908142],\n",
            "       [ 0.25953106],\n",
            "       [ 2.00584807],\n",
            "       [ 0.40339722],\n",
            "       [-0.12376986],\n",
            "       [-0.3643968 ],\n",
            "       [-3.59187582],\n",
            "       [-0.30218812],\n",
            "       [ 0.24702934],\n",
            "       [ 1.21444772],\n",
            "       [-1.33528103],\n",
            "       [ 0.30708003],\n",
            "       [ 0.49570453],\n",
            "       [-0.09483564],\n",
            "       [ 0.02411539],\n",
            "       [ 0.32103194],\n",
            "       [ 0.42166153],\n",
            "       [ 1.46226769],\n",
            "       [-2.43267445],\n",
            "       [ 0.33789125],\n",
            "       [-0.0575543 ],\n",
            "       [ 1.10341843],\n",
            "       [ 1.64521676],\n",
            "       [ 0.55706652],\n",
            "       [ 1.72199111],\n",
            "       [-1.49365192],\n",
            "       [ 0.39626322],\n",
            "       [-1.32912263],\n",
            "       [-1.34187471],\n",
            "       [-0.15456429],\n",
            "       [-0.26925309],\n",
            "       [ 0.60138934],\n",
            "       [ 0.28374064],\n",
            "       [ 0.10653975],\n",
            "       [-0.1760848 ]])]\n",
            "intercepts_ : [array([-0.32971155,  0.96064079, -0.14876344, -0.17325099,  0.0440263 ,\n",
            "       -0.28748622, -0.75802093, -0.19519213,  0.08374998,  3.86769326,\n",
            "       -0.27431758, -1.74703629,  0.18540861,  0.51478743, -0.34786865,\n",
            "        1.33083641,  0.14143734,  1.96759616,  0.33563238,  0.025273  ,\n",
            "       -0.3419174 , -3.32398577, -0.27545036,  0.26132715,  1.19751228,\n",
            "       -1.26667117,  0.30799646, -0.06025225,  0.13220374,  0.0332781 ,\n",
            "        0.28076974,  0.13661642,  1.46334276, -2.23563515,  0.3207386 ,\n",
            "        0.21077122,  1.07832115,  1.64513203,  0.16011312,  1.69254033,\n",
            "       -1.42380788,  0.4172796 , -1.21687945, -1.23821751, -0.10451213,\n",
            "       -0.180398  ,  0.61694399,  0.07719975, -0.33262905,  0.02724617]), array([2.69147747])]\n",
            "loss_curve_ : [512.5156819183953, 511.69751308211954, 510.5490782432816, 509.1062792873443, 507.4086828448391, 505.49264229199576, 503.46840782999533, 501.3064121705229, 499.02480013807923, 496.6406473961736, 494.22585998898586, 491.7694706355566, 489.2658777632785, 486.7285475749665, 484.2035160016978, 481.69716023682827, 479.1836385854738, 476.6699362572976, 474.1621292598067, 471.67217318279023, 469.1970354620532, 466.7415147063868, 464.30965743578764, 461.9077095510482, 459.5865514720202, 457.31959559723765, 455.0866115777764, 452.9165840735612, 450.7512572947769, 448.6234531868974, 446.52850011602897, 444.48616264354115, 442.55260545117375, 440.69178901302183, 438.9149319269174, 437.1772021781548, 435.5453654616959, 433.9583882528388, 432.4368261292596, 430.9784384634244, 429.61248908990433, 428.27417809337885, 427.0131479701742, 425.81374802225923, 424.68403433735745, 423.6010739945264, 422.5728783543345, 421.5945553176817, 420.6611330411641, 419.763567848999, 418.9061168355692, 418.0900115623229, 417.30191402157317, 416.54387133722366, 415.8056526267439, 415.08531801025055, 414.38024043852033, 413.68751039643, 413.0040662385348, 412.32703232576176, 411.6537418665226, 410.9817523534436, 410.3088540085534, 409.63307182615, 408.95266193901807, 408.28064208381585, 407.57897606064853, 406.87941483209596, 406.1700655218953, 405.45015489753973, 404.7190530304481, 403.97625293369833, 403.2213504157401, 402.4540247182037, 401.6740203957382, 400.8995222026167, 400.08326563883844, 399.26757340693206, 398.4381803391996, 397.5949804197891, 396.7378669736219, 395.8773233769023, 394.9881879480665, 394.0914961605428, 393.1800531777014, 392.2563686943956, 391.32366238010786, 390.38066819138083, 389.4096504270954, 388.4285775857413, 387.4308785444227, 386.4163290913463, 385.3847050012455, 384.3357791699741, 383.2693185790609, 382.2002207715525, 381.1059174529305, 379.9800513090447, 378.865164625965, 377.70991035747824, 376.5443505820934, 375.3580688052231, 374.2363373138274, 372.9520875143691, 371.7153493566752, 370.4943768691696, 369.22656692651884, 367.9675104878475, 366.65126213493835, 365.32207776878175, 363.9816011545895, 362.5875717838628, 361.1910093639627, 359.77042849292496, 358.3590786843476, 356.9092019612319, 355.4290595858317, 353.9170954336714, 352.3742626726685, 350.82579986925407, 349.2627285502078, 347.6907273528888, 346.0501247740665, 344.41054271471603, 342.71812846822735, 341.0032096596529, 339.304000807695, 337.5614583226422, 335.7874993762641, 334.0047407606439, 332.1671717589771, 330.30338048766026, 328.40568332938454, 326.52723629704917, 324.5488093106994, 322.6404819518189, 320.6613879161451, 318.64660973958127, 316.59276450540744, 314.50320528473907, 312.41599921712236, 310.2537064471472, 308.19303882983206, 305.95426910306566, 303.7568521849399, 301.5584847305384, 299.2658688690379, 296.9375073279789, 294.65572532610787, 292.3675915927064, 289.954492376446, 287.5720813029626, 285.13662239675114, 282.67089541614723, 280.1864225031865, 277.6668986798223, 275.2541470123923, 272.6276011469084, 270.06003039018213, 267.4298631120877, 264.77523160378337, 262.09517916347755, 259.45343578829664, 256.84546583559853, 254.02436024893282, 251.30260785911898, 248.51369076317062, 245.71145573171313, 242.89285186615385, 240.0516327121853, 237.2719612807546, 234.3940671039948, 231.50570725213007, 228.58065961010763, 225.6522838626178, 222.69205005139864, 219.73774831399183, 216.84342477165208, 213.8539037218703, 210.87318514245032, 207.85333464247205, 204.82956224718941, 201.7898212251766, 198.74216350936138, 195.81970841318173, 192.7162363573846, 189.67439689700961, 186.59604273684008, 183.52904496641995, 180.42130249926512, 177.39739628190122, 174.43753838552053, 171.29127311788895, 168.24209754964002, 165.16389295178124, 162.08641901274947, 159.03614430086375, 155.97553050735635, 153.00403849239646, 149.99141339817416, 146.97624987565735, 143.96245386644662, 140.95789803552992, 137.95701863691266, 134.97606843802043, 132.04553060172623, 129.2591189379682, 126.26204542376831, 123.37850786725146, 120.50396395782292, 117.64636569965846, 114.81026554503207, 112.01142987290636, 109.28241076686123, 106.58594218898098, 103.87723930369636, 101.19277555993467, 98.5138711321111, 95.89190762160796, 93.29285686297494, 90.74249681817088, 88.24306446025678, 85.81405644032145, 83.3527218125866, 80.93654026274304, 78.54421594149859, 76.20921393376139, 73.89048582720918, 71.64559509105979, 69.42579303131288, 67.31559111258045, 65.15350419017115, 63.050731663695096, 60.99475464340477, 58.96195115858225, 56.97976271381117, 55.056688858728386, 53.168307560451275, 51.36749182210207, 49.57947053276936, 47.82267386294033, 46.086514116558675, 44.41357459652402, 42.7824104759346, 41.18394324475734, 39.63774625469911, 38.133753927618194, 36.69024184560979, 35.28348565049088, 33.894475367271056, 32.54966147609687, 31.229977620066865, 29.96814905627234, 28.742952705311307, 27.5453566174231, 26.40153647253574, 25.28592082843569, 24.25217813259452, 23.20244669735609, 22.190299423022992, 21.210454838521766, 20.26847468505494, 19.373885807417647, 18.49494861828658, 17.665022858751623, 16.85049776537482, 16.099486117205625, 15.351887380854635, 14.62769147347698, 13.93099185337156, 13.264513954412957, 12.630630872000104, 12.016364877944255, 11.432160547356032, 10.868128359017996, 10.329910133299581, 9.816112703010443, 9.338456878039056, 8.863094083647336, 8.406618945266594, 7.9772821762233805, 7.562455113382197, 7.171944296405244, 6.793453248457939, 6.434840420421267, 6.096357857328155, 5.7701467820208086, 5.465812463308834, 5.173788363192836, 4.889841978455214, 4.621387926758145, 4.367363464153991, 4.127522869881769, 3.8967931463351317, 3.6804836707041413, 3.4730907703574245, 3.276815925861128, 3.0962238273595233, 2.9195646316796395, 2.7510181663510163, 2.5914814604791427, 2.4424687950273305, 2.2996786607442687, 2.165337116579189, 2.038205146823092, 1.9178947580936725, 1.80512892750006, 1.6986134931054684, 1.5999285146826487, 1.5030162901009276, 1.412199527562404, 1.326529447143672, 1.246256512105781, 1.1705135609735944, 1.0987636417522222, 1.0317494339349673, 0.9682988505908807, 0.9084467835838246, 0.853510407642196, 0.8006321664796872, 0.7502480528117784, 0.7033117796125113, 0.6591046084660411, 0.6176936760069244, 0.5789880564695775, 0.5420674863971673, 0.5076358987005343, 0.47550196236101927, 0.44527557031411974, 0.41756961678535304, 0.3906671788978671, 0.3652585511737448, 0.34186313560372844, 0.3197084705885326, 0.29911058858121986, 0.27962027059633826, 0.2614871752324349, 0.24454100677695909, 0.22862789308229822, 0.21388027703541698, 0.20000094898139423, 0.18677170647063454, 0.17452453918464414, 0.1630111665739065, 0.15228216777555728, 0.1422937911945203, 0.13283290492860397, 0.1240380022797485, 0.11580783633221131, 0.10827170017097115, 0.10118529232390665, 0.09448435716267085, 0.08814690831498072, 0.08224083610609832, 0.07676055403548597, 0.07166612894079269, 0.06690463046429043, 0.062453818889426777, 0.05831754495914606, 0.054467458607271695, 0.05091712935657302, 0.04749814281160605, 0.04432102934578145, 0.04139838349186025, 0.03864106200628353, 0.03607553140806358, 0.033689805987371965, 0.0314540567523955, 0.029372456500441662, 0.027436413937221682, 0.025629298135210518, 0.023961468684660762, 0.022427575664288144, 0.020941932882294522, 0.019572367498013863, 0.018299632071977826, 0.017122052711401617, 0.01602020949796822, 0.014989265817555565, 0.014038267402009344, 0.013149817820750953, 0.01232329211372236, 0.01158243900695234, 0.010845305871788585, 0.010169700648704594, 0.009547917366033937, 0.008967071133859469, 0.008427839634059544, 0.007927784204700777, 0.007457901250549052, 0.00702239932155779, 0.006625323128293405, 0.006253811942739332, 0.005900398604362534, 0.0055722946154142935, 0.0052682199389915045, 0.004985981608800064, 0.004723978701843186, 0.004479315502791299, 0.004251847755123068, 0.004040861368861469, 0.0038445054794502055, 0.0036618962541774803, 0.0034949559519967754, 0.003337876656718919, 0.0031893906614553005, 0.0030518317310630027, 0.0029256604845513926, 0.0028069597287116803, 0.002697130491372709, 0.0025950532529226125, 0.0024999686864252686, 0.0024117517924388873, 0.002331278398477877, 0.002256733006408828, 0.0021847463290225236, 0.0021182583677706547, 0.0020569809556744813, 0.0020002416656633376, 0.0019475060327414301, 0.001898341634341747, 0.001852721532337694]\n",
            "_no_improvement_count : 11\n",
            "best_loss_ : 0.001852721532337694\n",
            "validation_scores_ : None\n",
            "best_validation_score_ : None\n",
            "_optimizer : <sklearn.neural_network._stochastic_optimizers.SGDOptimizer object at 0x7fb7f6d17ac0>\n",
            "loss_ : 0.001852721532337694\n"
          ]
        }
      ]
    },
    {
      "cell_type": "markdown",
      "source": [
        "#Experience\n",
        "\n",
        "* What standard datasets are available in sklearn?\n",
        "  * Check out https://scikit-learn.org/stable/datasets.html\n",
        "\n",
        "\n",
        "* How do I work with external data?\n",
        "  * We can always do a good old python load (open a file) or ```np.load```\n",
        "  * Some prefers [pandas](https://pandas.pydata.org/)\n",
        "  * [OpenML](https://www.openml.org/) using [fetch_openml](https://scikit-learn.org/stable/modules/generated/sklearn.datasets.fetch_openml.html)\n",
        "  * Here's [what sklearn recommends](https://scikit-learn.org/stable/datasets/loading_other_datasets.html#external-datasets)"
      ],
      "metadata": {
        "id": "4VqAQKMS9ZWM"
      }
    },
    {
      "cell_type": "markdown",
      "source": [
        "## Diabetes dataset\n",
        "\n",
        "See the detail:\n",
        "* https://scikit-learn.org/stable/datasets/toy_dataset.html#diabetes-dataset\n",
        "* original source: https://www4.stat.ncsu.edu/~boos/var.select/diabetes.html\n",
        "\n",
        "Attributes\n",
        "* age age in years\n",
        "* sex\n",
        "* bmi body mass index\n",
        "* bp average blood pressure\n",
        "* s1 tc, total serum cholesterol\n",
        "* s2 ldl, low-density lipoproteins\n",
        "* s3 hdl, high-density lipoproteins\n",
        "* s4 tch, total cholesterol / HDL\n",
        "* s5 ltg, possibly log of serum triglycerides level\n",
        "* s6 glu, blood sugar level\n",
        "\n",
        "Target: a quantitative measure of disease progression one year after baseline"
      ],
      "metadata": {
        "id": "AZgVZXeLSLfL"
      }
    },
    {
      "cell_type": "code",
      "source": [
        "from sklearn import datasets"
      ],
      "metadata": {
        "id": "VOREtXi_Qpoj"
      },
      "execution_count": 80,
      "outputs": []
    },
    {
      "cell_type": "code",
      "source": [
        "diabetes = datasets.load_diabetes()\n",
        "X, y = diabetes.data, diabetes.target"
      ],
      "metadata": {
        "id": "BpOfKvvbQqsk"
      },
      "execution_count": 176,
      "outputs": []
    },
    {
      "cell_type": "code",
      "source": [
        "print(X.shape)\n",
        "print(y.shape)"
      ],
      "metadata": {
        "colab": {
          "base_uri": "https://localhost:8080/"
        },
        "id": "-F714tyKQ8i4",
        "outputId": "e8c53080-c3ad-4125-a8af-1b7da58478c0"
      },
      "execution_count": 177,
      "outputs": [
        {
          "output_type": "stream",
          "name": "stdout",
          "text": [
            "(442, 10)\n",
            "(442,)\n"
          ]
        }
      ]
    },
    {
      "cell_type": "code",
      "source": [
        "fig, (ax1, ax2) = plt.subplots(2, 5)\n",
        "fig.tight_layout(rect=[0.1, 0.1, 5, 2], h_pad=4, w_pad=4)\n",
        "\n",
        "for i in range(10):\n",
        "    plt.subplot(2,5,i+1)\n",
        "    plt.hist(X[:,i])\n"
      ],
      "metadata": {
        "colab": {
          "base_uri": "https://localhost:8080/",
          "height": 289
        },
        "id": "_S6lkZ1ISlGE",
        "outputId": "5fe76de0-607f-4b6c-b1f3-c5fa0b912575"
      },
      "execution_count": 178,
      "outputs": [
        {
          "output_type": "display_data",
          "data": {
            "text/plain": [
              "<Figure size 432x288 with 10 Axes>"
            ],
            "image/png": "[encoded data removed]"
          },
          "metadata": {
            "needs_background": "light"
          }
        }
      ]
    },
    {
      "cell_type": "code",
      "source": [
        "np.mean(X, axis=0)"
      ],
      "metadata": {
        "colab": {
          "base_uri": "https://localhost:8080/"
        },
        "id": "PHSoo1r3U1gy",
        "outputId": "4ff32d6f-5939-4d41-8bc8-73393a1fba0b"
      },
      "execution_count": 87,
      "outputs": [
        {
          "output_type": "execute_result",
          "data": {
            "text/plain": [
              "array([-1.44429466e-18,  2.54321451e-18, -2.25592546e-16, -4.85408596e-17,\n",
              "       -1.42859580e-17,  3.89881064e-17, -6.02836031e-18, -1.78809958e-17,\n",
              "        9.24348582e-17,  1.35176953e-17])"
            ]
          },
          "metadata": {},
          "execution_count": 87
        }
      ]
    },
    {
      "cell_type": "code",
      "source": [
        "np.var(X, axis=0)"
      ],
      "metadata": {
        "colab": {
          "base_uri": "https://localhost:8080/"
        },
        "id": "NV_M2yoYU5mW",
        "outputId": "a5a31bf3-218b-4537-8001-f28115f81f7e"
      },
      "execution_count": 90,
      "outputs": [
        {
          "output_type": "execute_result",
          "data": {
            "text/plain": [
              "array([0.00226244, 0.00226244, 0.00226244, 0.00226244, 0.00226244,\n",
              "       0.00226244, 0.00226244, 0.00226244, 0.00226244, 0.00226244])"
            ]
          },
          "metadata": {},
          "execution_count": 90
        }
      ]
    },
    {
      "cell_type": "code",
      "source": [
        "plt.hist(y)"
      ],
      "metadata": {
        "colab": {
          "base_uri": "https://localhost:8080/",
          "height": 334
        },
        "id": "PoVDNpqEVHH2",
        "outputId": "9d58dd45-ceea-4a31-a854-45e19a0203aa"
      },
      "execution_count": 91,
      "outputs": [
        {
          "output_type": "execute_result",
          "data": {
            "text/plain": [
              "(array([38., 80., 68., 62., 50., 41., 38., 42., 17.,  6.]),\n",
              " array([ 25. ,  57.1,  89.2, 121.3, 153.4, 185.5, 217.6, 249.7, 281.8,\n",
              "        313.9, 346. ]),\n",
              " <BarContainer object of 10 artists>)"
            ]
          },
          "metadata": {},
          "execution_count": 91
        },
        {
          "output_type": "display_data",
          "data": {
            "text/plain": [
              "<Figure size 432x288 with 1 Axes>"
            ],
            "image/png": "[encoded data removed]"
          },
          "metadata": {
            "needs_background": "light"
          }
        }
      ]
    },
    {
      "cell_type": "markdown",
      "source": [
        "## Predictive model for the diabetes dataset"
      ],
      "metadata": {
        "id": "gX86t_iMVT1x"
      }
    },
    {
      "cell_type": "code",
      "source": [
        "rbfk = RBF(1.0)\n",
        "the_model = GaussianProcessRegressor(kernel=rbfk, random_state=0)\n",
        "\n",
        "the_model.fit(X, y)\n",
        "\n",
        "yhat = the_model.predict(X)\n",
        "\n",
        "plt.plot(y, yhat)\n",
        "plt.xlabel('Ground truth, y')\n",
        "plt.ylabel('Prediction, yhat')"
      ],
      "metadata": {
        "colab": {
          "base_uri": "https://localhost:8080/",
          "height": 351
        },
        "id": "3Z5PWGXLVSwR",
        "outputId": "e0b2174f-052f-4f49-cd60-500954dd841b"
      },
      "execution_count": 179,
      "outputs": [
        {
          "output_type": "stream",
          "name": "stderr",
          "text": [
            "/usr/local/lib/python3.8/dist-packages/sklearn/gaussian_process/kernels.py:420: ConvergenceWarning: The optimal value found for dimension 0 of parameter length_scale is close to the specified lower bound 1e-05. Decreasing the bound and calling fit again may find a better value.\n",
            "  warnings.warn(\n"
          ]
        },
        {
          "output_type": "execute_result",
          "data": {
            "text/plain": [
              "Text(0, 0.5, 'Prediction, yhat')"
            ]
          },
          "metadata": {},
          "execution_count": 179
        },
        {
          "output_type": "display_data",
          "data": {
            "text/plain": [
              "<Figure size 432x288 with 1 Axes>"
            ],
            "image/png": "[encoded data removed]"
          },
          "metadata": {
            "needs_background": "light"
          }
        }
      ]
    },
    {
      "cell_type": "markdown",
      "source": [
        "#Performance measurement\n",
        "\n",
        "* What standard losses are available in sklearn?\n",
        "* What standard metrics are available in sklearn?\n",
        "* How do I add my customized loss?\n",
        "* How do I do my customized metrics?"
      ],
      "metadata": {
        "id": "vXCVvM3z9iYE"
      }
    },
    {
      "cell_type": "markdown",
      "source": [
        "## Training loss\n",
        "\n",
        "E.g., for Gaussian process regression, see https://scikit-learn.org/stable/modules/generated/sklearn.gaussian_process.GaussianProcessRegressor.html#sklearn.gaussian_process.GaussianProcessRegressor\n",
        "\n",
        "* Training loss: ```-log_marginal_likelihood``` (see [_gpr.py](https://github.com/scikit-learn/scikit-learn/blob/8c9c1f27b/sklearn/gaussian_process/_gpr.py#L206)) optimized by [bfgs](https://en.wikipedia.org/wiki/Broyden%E2%80%93Fletcher%E2%80%93Goldfarb%E2%80%93Shanno_algorithm).\n",
        "\n",
        "For log marginal likelihood, see [marginal likelihood](https://en.wikipedia.org/wiki/Marginal_likelihood)."
      ],
      "metadata": {
        "id": "rAW04-Y1a9b8"
      }
    },
    {
      "cell_type": "code",
      "source": [
        "the_model.optimizer"
      ],
      "metadata": {
        "colab": {
          "base_uri": "https://localhost:8080/",
          "height": 36
        },
        "id": "SH_Sj5_SbCxk",
        "outputId": "71debe67-2478-4da9-bc91-4223f9090c26"
      },
      "execution_count": 98,
      "outputs": [
        {
          "output_type": "execute_result",
          "data": {
            "text/plain": [
              "'fmin_l_bfgs_b'"
            ],
            "application/vnd.google.colaboratory.intrinsic+json": {
              "type": "string"
            }
          },
          "metadata": {},
          "execution_count": 98
        }
      ]
    },
    {
      "cell_type": "markdown",
      "source": [
        "## Evaluation metrics\n",
        "\n",
        "https://scikit-learn.org/stable/modules/model_evaluation.html#"
      ],
      "metadata": {
        "id": "FPjlTSsBbAHk"
      }
    },
    {
      "cell_type": "code",
      "source": [
        "from sklearn.metrics import mean_squared_error\n",
        "\n",
        "mean_squared_error(y, yhat)"
      ],
      "metadata": {
        "colab": {
          "base_uri": "https://localhost:8080/"
        },
        "id": "kG6JB5WAbDo6",
        "outputId": "96eb3a94-77c0-4f11-a3d9-12d232b023de"
      },
      "execution_count": 181,
      "outputs": [
        {
          "output_type": "execute_result",
          "data": {
            "text/plain": [
              "2.9074489757194734e-16"
            ]
          },
          "metadata": {},
          "execution_count": 181
        }
      ]
    },
    {
      "cell_type": "markdown",
      "source": [
        "# Revisit diabetes dataset\n",
        "\n",
        "You need to separate train/test data."
      ],
      "metadata": {
        "id": "4XwPgEq2uikG"
      }
    },
    {
      "cell_type": "code",
      "source": [
        "from sklearn import datasets\n",
        "\n",
        "diabetes = datasets.load_diabetes()\n",
        "X, y = diabetes.data, diabetes.target\n",
        "print(X.shape)\n",
        "print(y.shape)"
      ],
      "metadata": {
        "colab": {
          "base_uri": "https://localhost:8080/"
        },
        "id": "C-zMxPT0uopA",
        "outputId": "7d1ae61a-3efe-4561-f12c-6554854c8b94"
      },
      "execution_count": 182,
      "outputs": [
        {
          "output_type": "stream",
          "name": "stdout",
          "text": [
            "(442, 10)\n",
            "(442,)\n"
          ]
        }
      ]
    },
    {
      "cell_type": "code",
      "source": [
        "from sklearn.model_selection import train_test_split\n",
        "\n",
        "X_train, X_test, y_train, y_test = train_test_split(X, y, test_size=0.3, random_state=23)\n",
        "print(X_train.shape)\n",
        "print(y_train.shape)\n",
        "print(X_test.shape)\n",
        "print(y_test.shape)\n"
      ],
      "metadata": {
        "colab": {
          "base_uri": "https://localhost:8080/"
        },
        "id": "gy5p3h2vvBT-",
        "outputId": "5faf1144-b6f8-4004-b7bd-36387dd350d8"
      },
      "execution_count": 184,
      "outputs": [
        {
          "output_type": "stream",
          "name": "stdout",
          "text": [
            "(309, 10)\n",
            "(309,)\n",
            "(133, 10)\n",
            "(133,)\n"
          ]
        }
      ]
    },
    {
      "cell_type": "code",
      "source": [
        "the_model = MLPRegressor(random_state=1, hidden_layer_sizes=50, max_iter=5000)\n",
        "# 10s run for 5000 epochs\n",
        "\n",
        "the_model.fit(X_train, y_train)\n",
        "\n",
        "yhat = the_model.predict(X_train)\n",
        "\n",
        "plt.plot(y_train, yhat, '.')\n",
        "plt.title('Training')\n",
        "plt.xlabel('Ground truth, y')\n",
        "plt.ylabel('Prediction, yhat')"
      ],
      "metadata": {
        "colab": {
          "base_uri": "https://localhost:8080/",
          "height": 312
        },
        "id": "8vg9CAkDvcWL",
        "outputId": "2fcf00f6-ebfc-4484-9ccb-56b348ac94d3"
      },
      "execution_count": 195,
      "outputs": [
        {
          "output_type": "execute_result",
          "data": {
            "text/plain": [
              "Text(0, 0.5, 'Prediction, yhat')"
            ]
          },
          "metadata": {},
          "execution_count": 195
        },
        {
          "output_type": "display_data",
          "data": {
            "text/plain": [
              "<Figure size 432x288 with 1 Axes>"
            ],
            "image/png": "[encoded data removed]"
          },
          "metadata": {
            "needs_background": "light"
          }
        }
      ]
    },
    {
      "cell_type": "code",
      "source": [
        "plt.plot(the_model.loss_curve_)"
      ],
      "metadata": {
        "colab": {
          "base_uri": "https://localhost:8080/",
          "height": 282
        },
        "id": "dt2PBofEw22f",
        "outputId": "5e0b9a4c-d12f-43d2-b7f2-dd0a1bd8b8a6"
      },
      "execution_count": 196,
      "outputs": [
        {
          "output_type": "execute_result",
          "data": {
            "text/plain": [
              "[<matplotlib.lines.Line2D at 0x7fb7f5e9ea30>]"
            ]
          },
          "metadata": {},
          "execution_count": 196
        },
        {
          "output_type": "display_data",
          "data": {
            "text/plain": [
              "<Figure size 432x288 with 1 Axes>"
            ],
            "image/png": "[encoded data removed]"
          },
          "metadata": {
            "needs_background": "light"
          }
        }
      ]
    },
    {
      "cell_type": "code",
      "source": [
        "from sklearn.metrics import mean_squared_error\n",
        "\n",
        "yp = the_model.predict(X_test)\n",
        "\n",
        "mean_squared_error(y_test, yp)"
      ],
      "metadata": {
        "colab": {
          "base_uri": "https://localhost:8080/"
        },
        "id": "Wc5eWzhEvoyf",
        "outputId": "d8b43b97-2734-4191-b4dd-7654947f123d"
      },
      "execution_count": 197,
      "outputs": [
        {
          "output_type": "execute_result",
          "data": {
            "text/plain": [
              "2760.4382974624277"
            ]
          },
          "metadata": {},
          "execution_count": 197
        }
      ]
    },
    {
      "cell_type": "code",
      "source": [
        "plt.plot(y_test, yp, '.')\n",
        "plt.title('Test')\n",
        "plt.xlabel('Ground truth, y')\n",
        "plt.ylabel('Prediction, yhat')"
      ],
      "metadata": {
        "colab": {
          "base_uri": "https://localhost:8080/",
          "height": 312
        },
        "id": "t0FZqXiFv4on",
        "outputId": "64dd99fd-1095-4166-9943-9d165fd8778e"
      },
      "execution_count": 199,
      "outputs": [
        {
          "output_type": "execute_result",
          "data": {
            "text/plain": [
              "Text(0, 0.5, 'Prediction, yhat')"
            ]
          },
          "metadata": {},
          "execution_count": 199
        },
        {
          "output_type": "display_data",
          "data": {
            "text/plain": [
              "<Figure size 432x288 with 1 Axes>"
            ],
            "image/png": "[encoded data removed]"
          },
          "metadata": {
            "needs_background": "light"
          }
        }
      ]
    },
    {
      "cell_type": "code",
      "source": [
        "from sklearn.metrics import r2_score\n",
        "\n",
        "r2_score(y_test, yp)"
      ],
      "metadata": {
        "colab": {
          "base_uri": "https://localhost:8080/"
        },
        "id": "MhpGBUGmxmJ4",
        "outputId": "dd895085-11c6-4af1-da03-eff50fb8011f"
      },
      "execution_count": 200,
      "outputs": [
        {
          "output_type": "execute_result",
          "data": {
            "text/plain": [
              "0.5130020198867504"
            ]
          },
          "metadata": {},
          "execution_count": 200
        }
      ]
    }
  ]
}