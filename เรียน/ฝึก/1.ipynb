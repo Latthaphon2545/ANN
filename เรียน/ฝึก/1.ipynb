{
 "cells": [
  {
   "cell_type": "markdown",
   "metadata": {},
   "source": [
    "## E1\n",
    "<img src=\"/Users/g.a_me__/Documents/GitHub/ANN/เรียน/img/IMG_192216B2FF31-1.jpeg\" alt=\"alt text\" width=\"500\" height=\"auto\">"
   ]
  },
  {
   "cell_type": "code",
   "execution_count": 18,
   "metadata": {},
   "outputs": [
    {
     "name": "stdout",
     "output_type": "stream",
     "text": [
      "218\n"
     ]
    }
   ],
   "source": [
    "def delivery_kk(city, w):\n",
    "    a = 0\n",
    "    b = 0\n",
    "    if (city.lower()).strip() == 'khonkaen':\n",
    "        a += 50\n",
    "    else:\n",
    "        a += 100\n",
    "\n",
    "    if w >= 0 and w < 10 :\n",
    "        b += w*8\n",
    "    elif w > 10 and w < 20 :\n",
    "        b += w*12\n",
    "    else:\n",
    "        b += w*20\n",
    "\n",
    "    cost = a + b\n",
    "    return cost\n",
    "\n",
    "if __name__ == \"__main__\":\n",
    "     cost = delivery_kk('Khon Kaen', 14)\n",
    "     print(cost)\n"
   ]
  },
  {
   "cell_type": "markdown",
   "metadata": {},
   "source": [
    "## E2\n",
    "\n",
    "<img src=\"/Users/g.a_me__/Documents/GitHub/ANN/เรียน/img/IMG_F26CB0BDBCD2-1.jpeg\" alt=\"alt text\" width=\"500\" height=\"auto\">"
   ]
  },
  {
   "cell_type": "code",
   "execution_count": 32,
   "metadata": {},
   "outputs": [
    {
     "name": "stdout",
     "output_type": "stream",
     "text": [
      "RMS = 5.445181356024793\n"
     ]
    }
   ],
   "source": [
    "\n",
    "import math\n",
    "value = []\n",
    "# value = [10,2,0.4,3.8]\n",
    "num_val = int(input('Number of values: '))\n",
    "\n",
    "for i in range(num_val):\n",
    "    a = float(input(f'value {i+1}: '))\n",
    "    value.append(a)\n",
    "\n",
    "value = [j**2 for j in value]\n",
    "RMS = math.sqrt(sum(value)/len(value))\n",
    "print(f'RMS = {RMS}')\n"
   ]
  },
  {
   "cell_type": "markdown",
   "metadata": {},
   "source": [
    "## E3\n",
    "<img src=\"/Users/g.a_me__/Documents/GitHub/ANN/เรียน/img/IMG_A28DA87CB3BC-1.jpeg\" alt=\"alt text\" width=\"500\" height=\"auto\">"
   ]
  },
  {
   "cell_type": "code",
   "execution_count": 33,
   "metadata": {},
   "outputs": [
    {
     "name": "stdout",
     "output_type": "stream",
     "text": [
      "[0.0, 0.16, 0.4, 0.08, 0.24, 0.02, 0.1]\n"
     ]
    }
   ],
   "source": [
    "def est_prob(c):\n",
    "    prob = []\n",
    "    for i in c:\n",
    "        p = i / sum(c)\n",
    "        prob.append(p)\n",
    "    return prob\n",
    "\n",
    "co = [0, 8, 20, 4, 12, 1, 5]\n",
    "p = est_prob(co)\n",
    "print(p)"
   ]
  },
  {
   "cell_type": "code",
   "execution_count": null,
   "metadata": {},
   "outputs": [
    {
     "name": "stdout",
     "output_type": "stream",
     "text": [
      "[0.0, 0.16, 0.4, 0.08, 0.24, 0.02, 0.1]\n"
     ]
    }
   ],
   "source": [
    "def est_prob(c):\n",
    "    prob = []\n",
    "    for i in c:\n",
    "        p = i / sum(c)\n",
    "        prob.append(p)\n",
    "    return prob\n",
    "\n",
    "co = [0, 8, 20, 4, 12, 1, 5]\n",
    "p = est_prob(co)\n",
    "print(p)"
   ]
  },
  {
   "cell_type": "code",
   "execution_count": null,
   "metadata": {},
   "outputs": [],
   "source": [
    "def del(city, weight):\n"
   ]
  }
 ],
 "metadata": {
  "kernelspec": {
   "display_name": "Python 3",
   "language": "python",
   "name": "python3"
  },
  "language_info": {
   "codemirror_mode": {
    "name": "ipython",
    "version": 3
   },
   "file_extension": ".py",
   "mimetype": "text/x-python",
   "name": "python",
   "nbconvert_exporter": "python",
   "pygments_lexer": "ipython3",
   "version": "3.11.4"
  },
  "orig_nbformat": 4
 },
 "nbformat": 4,
 "nbformat_minor": 2
}
