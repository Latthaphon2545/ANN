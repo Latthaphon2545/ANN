{
  "cells": [
    {
      "cell_type": "code",
      "execution_count": 82,
      "metadata": {
        "collapsed": true,
        "id": "65URcrHipXvG"
      },
      "outputs": [],
      "source": [
        "import numpy as np\n"
      ]
    },
    {
      "cell_type": "code",
      "execution_count": 83,
      "metadata": {
        "id": "Df0MrQxuvOmz"
      },
      "outputs": [],
      "source": [
        "from matplotlib import pyplot as plt"
      ]
    },
    {
      "cell_type": "code",
      "execution_count": 84,
      "metadata": {
        "colab": {
          "base_uri": "https://localhost:8080/"
        },
        "id": "ErLJI09cp0g0",
        "outputId": "4b67a808-e40c-498f-87cf-93d60a588eb4"
      },
      "outputs": [
        {
          "data": {
            "text/plain": [
              "array([ 1.,  2.,  3.,  4.,  5.,  6.,  7.,  8.,  9., 10.])"
            ]
          },
          "execution_count": 84,
          "metadata": {},
          "output_type": "execute_result"
        }
      ],
      "source": [
        "np.linspace(1,10, 10)"
      ]
    },
    {
      "cell_type": "code",
      "execution_count": 85,
      "metadata": {
        "id": "Osz5TOkTvVwU"
      },
      "outputs": [],
      "source": [
        "x = np.linspace(1,11, 20)"
      ]
    },
    {
      "cell_type": "code",
      "execution_count": 86,
      "metadata": {
        "colab": {
          "base_uri": "https://localhost:8080/",
          "height": 282
        },
        "id": "Sy83HyVIvTWR",
        "outputId": "6423942e-d70a-4ab7-b231-c9fefb67f5d4"
      },
      "outputs": [
        {
          "data": {
            "text/plain": [
              "[<matplotlib.lines.Line2D at 0x119c80350>]"
            ]
          },
          "execution_count": 86,
          "metadata": {},
          "output_type": "execute_result"
        },
        {
          "data": {
            "image/png": "[encoded data removed]",
            "text/plain": [
              "<Figure size 640x480 with 1 Axes>"
            ]
          },
          "metadata": {},
          "output_type": "display_data"
        }
      ],
      "source": [
        "plt.plot(x)"
      ]
    },
    {
      "cell_type": "code",
      "execution_count": 87,
      "metadata": {
        "id": "7usPQJYSp6Vh"
      },
      "outputs": [],
      "source": [
        "x = []\n",
        "\n",
        "x0 = 1\n",
        "for a in range(20):\n",
        "    x.append(x0)\n",
        "    x0 += 10/19\n"
      ]
    },
    {
      "cell_type": "code",
      "execution_count": 88,
      "metadata": {
        "colab": {
          "base_uri": "https://localhost:8080/"
        },
        "id": "1Cp0Jc4DqfnE",
        "outputId": "ea68033d-371f-4fba-e2e8-d062b1027d90"
      },
      "outputs": [
        {
          "data": {
            "text/plain": [
              "[1,\n",
              " 1.526315789473684,\n",
              " 2.052631578947368,\n",
              " 2.578947368421052,\n",
              " 3.1052631578947363,\n",
              " 3.6315789473684204,\n",
              " 4.157894736842104,\n",
              " 4.6842105263157885,\n",
              " 5.210526315789473,\n",
              " 5.736842105263157,\n",
              " 6.263157894736841,\n",
              " 6.789473684210525,\n",
              " 7.315789473684209,\n",
              " 7.842105263157893,\n",
              " 8.368421052631577,\n",
              " 8.894736842105262,\n",
              " 9.421052631578947,\n",
              " 9.947368421052632,\n",
              " 10.473684210526317,\n",
              " 11.000000000000002]"
            ]
          },
          "execution_count": 88,
          "metadata": {},
          "output_type": "execute_result"
        }
      ],
      "source": [
        "x"
      ]
    },
    {
      "cell_type": "code",
      "execution_count": 89,
      "metadata": {
        "id": "vqCXA6bdq0QB"
      },
      "outputs": [],
      "source": [
        "x = np.linspace(1, 11, 20)"
      ]
    },
    {
      "cell_type": "code",
      "execution_count": 90,
      "metadata": {
        "colab": {
          "base_uri": "https://localhost:8080/"
        },
        "id": "mGtp-Ul6q4xp",
        "outputId": "493e4716-66ed-4e12-e5d8-34c5ed70ed7d"
      },
      "outputs": [
        {
          "data": {
            "text/plain": [
              "array([ 1.        ,  1.52631579,  2.05263158,  2.57894737,  3.10526316,\n",
              "        3.63157895,  4.15789474,  4.68421053,  5.21052632,  5.73684211,\n",
              "        6.26315789,  6.78947368,  7.31578947,  7.84210526,  8.36842105,\n",
              "        8.89473684,  9.42105263,  9.94736842, 10.47368421, 11.        ])"
            ]
          },
          "execution_count": 90,
          "metadata": {},
          "output_type": "execute_result"
        }
      ],
      "source": [
        "x"
      ]
    },
    {
      "cell_type": "code",
      "execution_count": 91,
      "metadata": {
        "colab": {
          "base_uri": "https://localhost:8080/"
        },
        "id": "8u_yOSFVpdxP",
        "outputId": "94f1d008-ae7a-48a5-ed31-ea8746df09bb"
      },
      "outputs": [
        {
          "name": "stdout",
          "output_type": "stream",
          "text": [
            "i = 1.0, x = 0.14285714285714285, y = 1.0\n",
            "i = 1.526315789473684, x = 0.21804511278195488, y = 1.526315789473684\n",
            "i = 2.052631578947368, x = 0.2932330827067669, y = 2.052631578947368\n",
            "i = 2.5789473684210527, x = 0.3684210526315789, y = 2.5789473684210527\n",
            "i = 3.1052631578947367, x = 0.44360902255639095, y = 3.1052631578947367\n",
            "i = 3.631578947368421, x = 0.5187969924812029, y = 3.6315789473684204\n",
            "i = 4.157894736842105, x = 0.5939849624060151, y = 4.157894736842105\n",
            "i = 4.684210526315789, x = 0.6691729323308271, y = 4.684210526315789\n",
            "i = 5.2105263157894735, x = 0.7443609022556391, y = 5.2105263157894735\n",
            "i = 5.7368421052631575, x = 0.819548872180451, y = 5.7368421052631575\n",
            "i = 6.263157894736842, x = 0.894736842105263, y = 6.263157894736842\n",
            "i = 6.789473684210526, x = 0.9699248120300751, y = 6.789473684210526\n",
            "i = 7.315789473684211, x = 1.0451127819548873, y = 7.3157894736842115\n",
            "i = 7.842105263157895, x = 1.1203007518796992, y = 7.842105263157895\n",
            "i = 8.368421052631579, x = 1.1954887218045112, y = 8.368421052631579\n",
            "i = 8.894736842105264, x = 1.2706766917293233, y = 8.894736842105264\n",
            "i = 9.421052631578947, x = 1.3458646616541352, y = 9.421052631578947\n",
            "i = 9.947368421052632, x = 1.4210526315789473, y = 9.947368421052632\n",
            "i = 10.473684210526315, x = 1.4962406015037593, y = 10.473684210526315\n",
            "i = 11.0, x = 1.5714285714285714, y = 11.0\n",
            "count = 20\n"
          ]
        }
      ],
      "source": [
        "count = 0\n",
        "\n",
        "tol = 1e-8\n",
        "\n",
        "for i in np.linspace(1, 11, 20):\n",
        "    x = i/7\n",
        "    y = 7*x\n",
        "\n",
        "    # floating point: Do not use == on FP.\n",
        "    if i - tol <= y <= i + tol:\n",
        "        count += 1\n",
        "        print(\"i = {}, x = {}, y = {}\".format(i, x, y))\n",
        "    else:\n",
        "        print(\">>> i = {}, x = {}, y = {}\".format(i, x, y))\n",
        "\n",
        "print(\"count =\", count)\n",
        "\n",
        "# Guess what count will be"
      ]
    },
    {
      "cell_type": "markdown",
      "metadata": {
        "id": "jml4nnqhpXvL"
      },
      "source": [
        "# 1 Matching"
      ]
    },
    {
      "cell_type": "markdown",
      "metadata": {
        "id": "48Me9hJspXvM"
      },
      "source": [
        "Exact Match"
      ]
    },
    {
      "cell_type": "code",
      "execution_count": 92,
      "metadata": {
        "id": "JuFpW-oMpXvQ",
        "outputId": "e5fc8483-2ea1-4f2a-93c6-28de7cd87b84"
      },
      "outputs": [
        {
          "data": {
            "text/plain": [
              "array([ 1.        ,  1.52631579,  2.05263158,  2.57894737,  3.10526316,\n",
              "        3.63157895,  4.15789474,  4.68421053,  5.21052632,  5.73684211,\n",
              "        6.26315789,  6.78947368,  7.31578947,  7.84210526,  8.36842105,\n",
              "        8.89473684,  9.42105263,  9.94736842, 10.47368421, 11.        ])"
            ]
          },
          "execution_count": 92,
          "metadata": {},
          "output_type": "execute_result"
        }
      ],
      "source": [
        "np.linspace(1, 11, 20)"
      ]
    },
    {
      "cell_type": "code",
      "execution_count": 93,
      "metadata": {
        "collapsed": true,
        "id": "hGCXnWn0pXvS"
      },
      "outputs": [],
      "source": [
        "ys = np.linspace(1, 11, 20)"
      ]
    },
    {
      "cell_type": "code",
      "execution_count": 94,
      "metadata": {
        "id": "plb7AiQIpXvT",
        "outputId": "b76dc4a4-ccf5-42e7-d199-3d07587664ab"
      },
      "outputs": [
        {
          "data": {
            "text/plain": [
              "(20,)"
            ]
          },
          "execution_count": 94,
          "metadata": {},
          "output_type": "execute_result"
        }
      ],
      "source": [
        "ys.shape"
      ]
    },
    {
      "cell_type": "code",
      "execution_count": 95,
      "metadata": {
        "id": "HCrSCt2rpXvT",
        "outputId": "7f1880f9-e099-4ee7-e246-bb6f720230d6"
      },
      "outputs": [
        {
          "name": "stdout",
          "output_type": "stream",
          "text": [
            "count = 18\n"
          ]
        }
      ],
      "source": [
        "count = 0\n",
        "\n",
        "for i in np.linspace(1, 11, 20):\n",
        "    x = i/7\n",
        "    y = 7*x\n",
        "    #print(\"i = {}, x = {}, y = {}\".format(i, x, y))\n",
        "    if i == y:\n",
        "        count += 1\n",
        "\n",
        "print(\"count =\", count)\n",
        "\n",
        "# Guess what count will be"
      ]
    },
    {
      "cell_type": "markdown",
      "metadata": {
        "id": "JntUmIDVpXvU"
      },
      "source": [
        "Tolerance Match"
      ]
    },
    {
      "cell_type": "code",
      "execution_count": 96,
      "metadata": {
        "id": "7lNqRDVEpXvU",
        "outputId": "52529da1-d6c3-4dd0-e1df-93afedaec67b"
      },
      "outputs": [
        {
          "name": "stdout",
          "output_type": "stream",
          "text": [
            "count = 20\n"
          ]
        }
      ],
      "source": [
        "tol = 0.0001\n",
        "\n",
        "\n",
        "count = 0\n",
        "\n",
        "for i in np.linspace(1, 11, 20):\n",
        "    x = i/7\n",
        "    y = 7*x\n",
        "    #print(\"i = {}, x = {}, y = {}\".format(i, x, y))\n",
        "\n",
        "    if i - tol < y < i + tol:\n",
        "        count += 1\n",
        "\n",
        "print(\"count =\", count)\n",
        "\n",
        "# Guess what count will be"
      ]
    },
    {
      "cell_type": "markdown",
      "metadata": {
        "id": "Amw_5aWrpXvV"
      },
      "source": [
        "# Don't do exact match with floating-point numbers."
      ]
    },
    {
      "cell_type": "code",
      "execution_count": 97,
      "metadata": {
        "id": "Zb4cIhNipXvV",
        "outputId": "93fd7d9c-a680-404a-8ced-609a571f6214"
      },
      "outputs": [
        {
          "data": {
            "text/plain": [
              "4.0"
            ]
          },
          "execution_count": 97,
          "metadata": {},
          "output_type": "execute_result"
        }
      ],
      "source": [
        "import math\n",
        "\n",
        "math.log(16, 2)"
      ]
    },
    {
      "cell_type": "code",
      "execution_count": 98,
      "metadata": {
        "id": "2-G1_zRppXvW",
        "outputId": "6ae47e43-bb5a-4cf0-d61f-7f05f482c978"
      },
      "outputs": [
        {
          "data": {
            "text/plain": [
              "2.718281828459045"
            ]
          },
          "execution_count": 98,
          "metadata": {},
          "output_type": "execute_result"
        }
      ],
      "source": [
        "math.exp(1)"
      ]
    },
    {
      "cell_type": "markdown",
      "metadata": {
        "id": "tCED1D5vpXvW"
      },
      "source": [
        "# 2 Computation Sequence"
      ]
    },
    {
      "cell_type": "code",
      "execution_count": 99,
      "metadata": {
        "colab": {
          "base_uri": "https://localhost:8080/"
        },
        "id": "ty0_33sPcqz_",
        "outputId": "81649287-03f3-4a42-fc22-889a4976be69"
      },
      "outputs": [
        {
          "data": {
            "text/plain": [
              "5.0"
            ]
          },
          "execution_count": 99,
          "metadata": {},
          "output_type": "execute_result"
        }
      ],
      "source": [
        "math.log(32, 2)"
      ]
    },
    {
      "cell_type": "code",
      "execution_count": 100,
      "metadata": {
        "colab": {
          "base_uri": "https://localhost:8080/"
        },
        "id": "Z2JwKpnrdQt3",
        "outputId": "3fe2c87d-aafd-49a1-ff46-b76fdc301af5"
      },
      "outputs": [
        {
          "data": {
            "text/plain": [
              "5.0"
            ]
          },
          "execution_count": 100,
          "metadata": {},
          "output_type": "execute_result"
        }
      ],
      "source": [
        "math.log(32)/math.log(2)"
      ]
    },
    {
      "cell_type": "code",
      "execution_count": 101,
      "metadata": {
        "id": "VAe6fY-Vt83b"
      },
      "outputs": [],
      "source": [
        "import math"
      ]
    },
    {
      "cell_type": "code",
      "execution_count": 102,
      "metadata": {
        "colab": {
          "base_uri": "https://localhost:8080/"
        },
        "id": "ohb51V9pcrmO",
        "outputId": "52fba898-a539-4610-c546-31d3754a93b3"
      },
      "outputs": [
        {
          "data": {
            "text/plain": [
              "3.0"
            ]
          },
          "execution_count": 102,
          "metadata": {},
          "output_type": "execute_result"
        }
      ],
      "source": [
        "math.log(8, 2)"
      ]
    },
    {
      "cell_type": "code",
      "execution_count": 103,
      "metadata": {
        "colab": {
          "base_uri": "https://localhost:8080/"
        },
        "id": "NSQIzPFfc7Kn",
        "outputId": "42196a36-95af-4e18-d657-eceeb30f9eed"
      },
      "outputs": [
        {
          "data": {
            "text/plain": [
              "619.0"
            ]
          },
          "execution_count": 103,
          "metadata": {},
          "output_type": "execute_result"
        }
      ],
      "source": [
        "math.log(math.exp(619))"
      ]
    },
    {
      "cell_type": "code",
      "execution_count": 104,
      "metadata": {
        "collapsed": true,
        "id": "pxoFEq4wpXvW"
      },
      "outputs": [],
      "source": [
        "def naive_f(a, b, c):\n",
        "    return a/b * math.log(math.exp(b), math.exp(c))"
      ]
    },
    {
      "cell_type": "code",
      "execution_count": 105,
      "metadata": {
        "collapsed": true,
        "id": "652E2H7XpXvX"
      },
      "outputs": [],
      "source": [
        "def refined_f(a, b, c):\n",
        "    return a/c"
      ]
    },
    {
      "cell_type": "code",
      "execution_count": 106,
      "metadata": {
        "colab": {
          "base_uri": "https://localhost:8080/"
        },
        "id": "4T40qIHEpXvX",
        "outputId": "66e4bc03-094f-4972-ee8b-a2960baa02a8"
      },
      "outputs": [
        {
          "name": "stdout",
          "output_type": "stream",
          "text": [
            "a = 1, b = 1, c = 1, f = 1.0\n",
            "a = 1, b = 1, c = 2, f = 0.5\n",
            "a = 1, b = 1, c = 3, f = 0.3333333333333333\n",
            "a = 1, b = 2, c = 1, f = 1.0\n",
            "a = 1, b = 2, c = 2, f = 0.5\n",
            "a = 1, b = 2, c = 3, f = 0.3333333333333333\n"
          ]
        }
      ],
      "source": [
        "# Naive implementation\n",
        "\n",
        "for i in range(1, 2):\n",
        "    for j in range(1, 3):\n",
        "        for k in range(1, 4):\n",
        "            print(\"a = {}, b = {}, c = {}, f = {}\".format(i, j, k, naive_f(i,j,k)))"
      ]
    },
    {
      "cell_type": "code",
      "execution_count": 107,
      "metadata": {
        "colab": {
          "base_uri": "https://localhost:8080/"
        },
        "id": "fEqot7NPpXvX",
        "outputId": "c3a6abc9-4363-46d3-df28-cee08b2b9654"
      },
      "outputs": [
        {
          "name": "stdout",
          "output_type": "stream",
          "text": [
            "a = 1, b = 1, c = 1, f = 1.0\n",
            "a = 1, b = 1, c = 2, f = 0.5\n",
            "a = 1, b = 1, c = 3, f = 0.3333333333333333\n",
            "a = 1, b = 2, c = 1, f = 1.0\n",
            "a = 1, b = 2, c = 2, f = 0.5\n",
            "a = 1, b = 2, c = 3, f = 0.3333333333333333\n"
          ]
        }
      ],
      "source": [
        "# Refined implementation\n",
        "\n",
        "for i in range(1, 2):\n",
        "    for j in range(1, 3):\n",
        "        for k in range(1, 4):\n",
        "            print(\"a = {}, b = {}, c = {}, f = {}\".format(i, j, k, refined_f(i,j,k)))"
      ]
    },
    {
      "cell_type": "markdown",
      "metadata": {
        "id": "NHisvk0apXvY"
      },
      "source": [
        "# Check Again !!!"
      ]
    },
    {
      "cell_type": "code",
      "execution_count": 109,
      "metadata": {
        "colab": {
          "base_uri": "https://localhost:8080/",
          "height": 288
        },
        "id": "K9XRFvLZpXvY",
        "outputId": "6dc9d2f6-90db-42a8-831c-0a3785981e6f"
      },
      "outputs": [
        {
          "ename": "ZeroDivisionError",
          "evalue": "division by zero",
          "output_type": "error",
          "traceback": [
            "\u001b[0;31m---------------------------------------------------------------------------\u001b[0m",
            "\u001b[0;31mZeroDivisionError\u001b[0m                         Traceback (most recent call last)",
            "\u001b[1;32m/Users/g.a_me__/Documents/GitHub/ANN/เรียน/2_numerical_programming.ipynb Cell 33\u001b[0m line \u001b[0;36m6\n\u001b[1;32m      <a href='vscode-notebook-cell:/Users/g.a_me__/Documents/GitHub/ANN/%E0%B9%80%E0%B8%A3%E0%B8%B5%E0%B8%A2%E0%B8%99/2_numerical_programming.ipynb#X44sZmlsZQ%3D%3D?line=3'>4</a>\u001b[0m \u001b[39mfor\u001b[39;00m j \u001b[39min\u001b[39;00m \u001b[39mrange\u001b[39m(\u001b[39m3\u001b[39m):\n\u001b[1;32m      <a href='vscode-notebook-cell:/Users/g.a_me__/Documents/GitHub/ANN/%E0%B9%80%E0%B8%A3%E0%B8%B5%E0%B8%A2%E0%B8%99/2_numerical_programming.ipynb#X44sZmlsZQ%3D%3D?line=4'>5</a>\u001b[0m     \u001b[39mfor\u001b[39;00m k \u001b[39min\u001b[39;00m \u001b[39mrange\u001b[39m(\u001b[39m1\u001b[39m,\u001b[39m4\u001b[39m):\n\u001b[0;32m----> <a href='vscode-notebook-cell:/Users/g.a_me__/Documents/GitHub/ANN/%E0%B9%80%E0%B8%A3%E0%B8%B5%E0%B8%A2%E0%B8%99/2_numerical_programming.ipynb#X44sZmlsZQ%3D%3D?line=5'>6</a>\u001b[0m         \u001b[39mprint\u001b[39m(\u001b[39m\"\u001b[39m\u001b[39ma = \u001b[39m\u001b[39m{}\u001b[39;00m\u001b[39m, b = \u001b[39m\u001b[39m{}\u001b[39;00m\u001b[39m, c = \u001b[39m\u001b[39m{}\u001b[39;00m\u001b[39m, f = \u001b[39m\u001b[39m{}\u001b[39;00m\u001b[39m\"\u001b[39m\u001b[39m.\u001b[39mformat(i, j, k, naive_f(i,j,k)))\n",
            "\u001b[1;32m/Users/g.a_me__/Documents/GitHub/ANN/เรียน/2_numerical_programming.ipynb Cell 33\u001b[0m line \u001b[0;36m2\n\u001b[1;32m      <a href='vscode-notebook-cell:/Users/g.a_me__/Documents/GitHub/ANN/%E0%B9%80%E0%B8%A3%E0%B8%B5%E0%B8%A2%E0%B8%99/2_numerical_programming.ipynb#X44sZmlsZQ%3D%3D?line=0'>1</a>\u001b[0m \u001b[39mdef\u001b[39;00m \u001b[39mnaive_f\u001b[39m(a, b, c):\n\u001b[0;32m----> <a href='vscode-notebook-cell:/Users/g.a_me__/Documents/GitHub/ANN/%E0%B9%80%E0%B8%A3%E0%B8%B5%E0%B8%A2%E0%B8%99/2_numerical_programming.ipynb#X44sZmlsZQ%3D%3D?line=1'>2</a>\u001b[0m     \u001b[39mreturn\u001b[39;00m a\u001b[39m/\u001b[39;49mb \u001b[39m*\u001b[39m math\u001b[39m.\u001b[39mlog(math\u001b[39m.\u001b[39mexp(b), math\u001b[39m.\u001b[39mexp(c))\n",
            "\u001b[0;31mZeroDivisionError\u001b[0m: division by zero"
          ]
        }
      ],
      "source": [
        "# Naive implementation\n",
        "\n",
        "for i in range(2):\n",
        "    for j in range(3):\n",
        "        for k in range(1,4):\n",
        "            print(\"a = {}, b = {}, c = {}, f = {}\".format(i, j, k, naive_f(i,j,k)))\n",
        "\n"
      ]
    },
    {
      "cell_type": "code",
      "execution_count": null,
      "metadata": {
        "colab": {
          "base_uri": "https://localhost:8080/"
        },
        "id": "h3s470q-pXvY",
        "outputId": "d1c5e3d9-6ba4-496c-b933-793325e16a31"
      },
      "outputs": [
        {
          "name": "stdout",
          "output_type": "stream",
          "text": [
            "a = 1, b = 1, c = 1, f = 1.0\n",
            "a = 1, b = 1, c = 2, f = 0.5\n",
            "a = 1, b = 1, c = 3, f = 0.3333333333333333\n",
            "a = 1, b = 2, c = 1, f = 1.0\n",
            "a = 1, b = 2, c = 2, f = 0.5\n",
            "a = 1, b = 2, c = 3, f = 0.3333333333333333\n"
          ]
        }
      ],
      "source": [
        "# Refined implementation\n",
        "\n",
        "# for i in range(2):\n",
        "#     for j in range(3):\n",
        "#         for k in range(1,4):\n",
        "#             print(\"a = {}, b = {}, c = {}, f = {}\".format(i, j, k, refined_f(i,j,k)))\n",
        "\n",
        "for i in range(1, 2):\n",
        "    for j in range(1, 3):\n",
        "        for k in range(1, 4):\n",
        "            print(\"a = {}, b = {}, c = {}, f = {}\".format(i, j, k, naive_f(i,j,k)))"
      ]
    },
    {
      "cell_type": "markdown",
      "metadata": {
        "id": "yynoOIPEpXvZ"
      },
      "source": [
        "# Why?"
      ]
    },
    {
      "cell_type": "markdown",
      "metadata": {
        "id": "VZBDvHb1pXvZ"
      },
      "source": [
        "# 3 Loop vs Vectorization: Speed"
      ]
    },
    {
      "cell_type": "code",
      "execution_count": null,
      "metadata": {
        "colab": {
          "base_uri": "https://localhost:8080/",
          "height": 39
        },
        "id": "vaFCv6O1pXva",
        "outputId": "696702d7-3e9d-4182-b240-b51ff4c6a1e1"
      },
      "outputs": [
        {
          "data": {
            "text/latex": [
              "$\\displaystyle \\sum_i w_i x_i$"
            ],
            "text/plain": [
              "<IPython.core.display.Math object>"
            ]
          },
          "execution_count": 38,
          "metadata": {},
          "output_type": "execute_result"
        }
      ],
      "source": [
        "from IPython.display import Math\n",
        "\n",
        "Math(r'\\sum_i w_i x_i')"
      ]
    },
    {
      "cell_type": "code",
      "execution_count": null,
      "metadata": {
        "colab": {
          "base_uri": "https://localhost:8080/"
        },
        "id": "1U1KIlBOpXva",
        "outputId": "b6ab7c48-924c-4314-9dee-ee82c2e71cfc"
      },
      "outputs": [
        {
          "name": "stdout",
          "output_type": "stream",
          "text": [
            "1694684182.0547998\n"
          ]
        }
      ],
      "source": [
        "import time\n",
        "\n",
        "print(time.time())"
      ]
    },
    {
      "cell_type": "code",
      "execution_count": null,
      "metadata": {
        "collapsed": true,
        "id": "G-p_kskGpXvb"
      },
      "outputs": [],
      "source": [
        "N = 1000000\n",
        "\n",
        "w = np.random.normal(0, 1, N)\n",
        "\n",
        "x = np.random.normal(0, 1, N)"
      ]
    },
    {
      "cell_type": "code",
      "execution_count": null,
      "metadata": {
        "colab": {
          "base_uri": "https://localhost:8080/"
        },
        "id": "QC6Vz10JmM-T",
        "outputId": "99cce5db-f32d-408d-afa4-a78564ad28d3"
      },
      "outputs": [
        {
          "data": {
            "text/plain": [
              "array([-0.68616784, -0.51023026,  0.67482236, ..., -0.45094441,\n",
              "       -1.10189874, -0.87560626])"
            ]
          },
          "execution_count": 41,
          "metadata": {},
          "output_type": "execute_result"
        }
      ],
      "source": [
        "w"
      ]
    },
    {
      "cell_type": "code",
      "execution_count": null,
      "metadata": {
        "colab": {
          "base_uri": "https://localhost:8080/"
        },
        "id": "cu8fZmC6mR0c",
        "outputId": "3a969e6a-ae26-40b5-f63d-dfc168e3dc61"
      },
      "outputs": [
        {
          "data": {
            "text/plain": [
              "array([-0.0636804 , -0.76492207, -0.12229115, ...,  0.57536521,\n",
              "       -0.47989131, -1.61760902])"
            ]
          },
          "execution_count": 42,
          "metadata": {},
          "output_type": "execute_result"
        }
      ],
      "source": [
        "x"
      ]
    },
    {
      "cell_type": "code",
      "execution_count": null,
      "metadata": {
        "colab": {
          "base_uri": "https://localhost:8080/"
        },
        "id": "miv0t41CmvXJ",
        "outputId": "34961556-738f-4974-fe40-bd45a48b8fe8"
      },
      "outputs": [
        {
          "name": "stdout",
          "output_type": "stream",
          "text": [
            "-0.03739529359996441\n"
          ]
        }
      ],
      "source": [
        "sum = 0\n",
        "for i in range(5):\n",
        "  sum += w[i]*x[i]\n",
        "\n",
        "print(sum)"
      ]
    },
    {
      "cell_type": "code",
      "execution_count": null,
      "metadata": {
        "colab": {
          "base_uri": "https://localhost:8080/"
        },
        "id": "dVhXamt7nP74",
        "outputId": "3ef090b5-41af-47e5-f9b6-3c0e89335397"
      },
      "outputs": [
        {
          "data": {
            "text/plain": [
              "2317.035918193044"
            ]
          },
          "execution_count": 44,
          "metadata": {},
          "output_type": "execute_result"
        }
      ],
      "source": [
        "np.dot(w, x)"
      ]
    },
    {
      "cell_type": "code",
      "execution_count": null,
      "metadata": {
        "colab": {
          "base_uri": "https://localhost:8080/",
          "height": 369
        },
        "id": "GwQAwVcMzWCr",
        "outputId": "d96f7919-101a-4b92-e8e1-98e524d1e5d1"
      },
      "outputs": [
        {
          "data": {
            "text/plain": [
              "(array([7.90000e+01, 1.93100e+03, 2.45770e+04, 1.33338e+05, 3.18261e+05,\n",
              "        3.33356e+05, 1.54440e+05, 3.11440e+04, 2.76300e+03, 1.11000e+02]),\n",
              " array([-4.75031782, -3.81116095, -2.87200408, -1.93284721, -0.99369033,\n",
              "        -0.05453346,  0.88462341,  1.82378028,  2.76293715,  3.70209402,\n",
              "         4.64125089]),\n",
              " <BarContainer object of 10 artists>)"
            ]
          },
          "execution_count": 45,
          "metadata": {},
          "output_type": "execute_result"
        },
        {
          "data": {
            "image/png": "[encoded data removed]",
            "text/plain": [
              "<Figure size 640x480 with 1 Axes>"
            ]
          },
          "metadata": {},
          "output_type": "display_data"
        }
      ],
      "source": [
        "plt.hist(w)"
      ]
    },
    {
      "cell_type": "code",
      "execution_count": null,
      "metadata": {
        "colab": {
          "base_uri": "https://localhost:8080/"
        },
        "id": "JNBfsa-ApXvc",
        "outputId": "ff59044f-3571-4fdf-c616-b9669d539d30"
      },
      "outputs": [
        {
          "name": "stdout",
          "output_type": "stream",
          "text": [
            "y = 2317.035918193071, done in 0.19318509101867676\n"
          ]
        }
      ],
      "source": [
        "# Conventional program\n",
        "\n",
        "t0 = time.time()\n",
        "\n",
        "y = 0\n",
        "for i in range(N):\n",
        "    y += w[i] * x[i]\n",
        "\n",
        "t1 = time.time()\n",
        "\n",
        "print(\"y = {}, done in {}\".format(y, t1 - t0))"
      ]
    },
    {
      "cell_type": "code",
      "execution_count": null,
      "metadata": {
        "colab": {
          "base_uri": "https://localhost:8080/"
        },
        "id": "8XKitTHDpXvc",
        "outputId": "cf913b0d-5649-410e-fe41-52cfe71045d2"
      },
      "outputs": [
        {
          "name": "stdout",
          "output_type": "stream",
          "text": [
            "y = 2317.035918193044, done in 0.0012569427490234375\n"
          ]
        }
      ],
      "source": [
        "# Vectorized program\n",
        "\n",
        "t0 = time.time()\n",
        "\n",
        "#y = np.matmul(w, x)\n",
        "y = np.dot(w,x)\n",
        "\n",
        "t1 = time.time()\n",
        "\n",
        "print(\"y = {}, done in {}\".format(y, t1 - t0))"
      ]
    },
    {
      "cell_type": "markdown",
      "metadata": {
        "id": "dKNudYyipXvc"
      },
      "source": [
        "Let's see it as dimention grows"
      ]
    },
    {
      "cell_type": "code",
      "execution_count": null,
      "metadata": {
        "id": "d7V30IWXpXvd",
        "outputId": "3344638d-1fe8-4cf8-e174-fef0b5152aa0"
      },
      "outputs": [
        {
          "name": "stdout",
          "output_type": "stream",
          "text": [
            "Time executing convention prog =  [0.18158221244812012, 0.174360990524292, 0.17043828964233398]\n",
            "Time executing vectorized prog =  [0.0005340576171875, 0.00048089027404785156, 0.0006072521209716797]\n"
          ]
        }
      ],
      "source": [
        "cts = []\n",
        "nts = []\n",
        "\n",
        "for n in [1e6, 1e10, 1e14]:\n",
        "    w = np.random.normal(0, 1, N)\n",
        "    x = np.random.normal(0, 1, N)\n",
        "\n",
        "    # Conventional Program\n",
        "    t0 = time.time()\n",
        "    y = 0\n",
        "    for i in range(N):\n",
        "        y += w[i] * x[i]\n",
        "    t1 = time.time()\n",
        "    cts.append(t1 - t0)\n",
        "\n",
        "    # Numerical Program\n",
        "    t0 = time.time()\n",
        "    y = np.matmul(w, x)\n",
        "    t1 = time.time()\n",
        "    nts.append(t1 - t0)\n",
        "\n",
        "\n",
        "print('Time executing convention prog = ', cts)\n",
        "print('Time executing vectorized prog = ', nts)"
      ]
    },
    {
      "cell_type": "markdown",
      "metadata": {
        "id": "PG6XWeYapXvd"
      },
      "source": [
        "# 4 Loop vs Vectorization: Convenience"
      ]
    },
    {
      "cell_type": "code",
      "execution_count": null,
      "metadata": {
        "id": "OoIdhNNYpXvd",
        "outputId": "050a0900-e376-4f96-ac13-507d707f77ba"
      },
      "outputs": [
        {
          "data": {
            "text/latex": [
              "$$y_n = \\sum_i w_i x_{n,i}$$"
            ],
            "text/plain": [
              "<IPython.core.display.Math object>"
            ]
          },
          "execution_count": 61,
          "metadata": {
            "tags": []
          },
          "output_type": "execute_result"
        }
      ],
      "source": [
        "# x: 100 x 5000 ~ N x D\n",
        "# w: 5000, ~ D\n",
        "\n",
        "Math(r'y_n = \\sum_i w_i x_{n,i}')"
      ]
    },
    {
      "cell_type": "code",
      "execution_count": null,
      "metadata": {
        "colab": {
          "base_uri": "https://localhost:8080/"
        },
        "id": "IwE2HXHBpXvd",
        "outputId": "77660894-7a7e-4de9-f691-8f70416719a3"
      },
      "outputs": [
        {
          "name": "stdout",
          "output_type": "stream",
          "text": [
            "(3,)\n",
            "(12,)\n",
            "(4, 3)\n"
          ]
        }
      ],
      "source": [
        "D = 3\n",
        "N = 4\n",
        "w = np.random.normal(0, 1, D)\n",
        "x = np.random.normal(0, 1, N*D)\n",
        "\n",
        "print(w.shape)\n",
        "print(x.shape)\n",
        "\n",
        "x = x.reshape((N,D))\n",
        "print(x.shape)"
      ]
    },
    {
      "cell_type": "code",
      "execution_count": null,
      "metadata": {
        "colab": {
          "base_uri": "https://localhost:8080/"
        },
        "id": "rYFstuy3rxFM",
        "outputId": "564300d7-51b7-42c5-9486-654603519cd1"
      },
      "outputs": [
        {
          "data": {
            "text/plain": [
              "array([-0.15826951,  0.38567045,  1.07311984])"
            ]
          },
          "execution_count": 50,
          "metadata": {},
          "output_type": "execute_result"
        }
      ],
      "source": [
        "w"
      ]
    },
    {
      "cell_type": "code",
      "execution_count": null,
      "metadata": {
        "colab": {
          "base_uri": "https://localhost:8080/"
        },
        "id": "myzc54VJryR0",
        "outputId": "c106fdb0-36c9-467f-b9fc-52cb3c24a79e"
      },
      "outputs": [
        {
          "data": {
            "text/plain": [
              "array([[-1.44587467,  1.49778779, -0.89625349],\n",
              "       [-1.77136432,  1.31761839, -2.43517234],\n",
              "       [-2.43323299, -0.30507544, -0.93406868],\n",
              "       [ 1.47879422,  0.56548623,  0.67760104]])"
            ]
          },
          "execution_count": 54,
          "metadata": {},
          "output_type": "execute_result"
        }
      ],
      "source": [
        "x"
      ]
    },
    {
      "cell_type": "code",
      "execution_count": null,
      "metadata": {
        "colab": {
          "base_uri": "https://localhost:8080/"
        },
        "id": "L2pMueQMpXve",
        "outputId": "c45643a6-22c9-489d-97d0-072f306fd5c3"
      },
      "outputs": [
        {
          "name": "stdout",
          "output_type": "stream",
          "text": [
            "[-0.1552970399102045, -1.8247123174305824, -0.7349196181473137, 0.7111904167646801]\n"
          ]
        }
      ],
      "source": [
        "# Convention\n",
        "\n",
        "y = []\n",
        "\n",
        "for n in range(N):\n",
        "    yn = 0\n",
        "    for i in range(D):\n",
        "        yn += w[i] * x[n, i]\n",
        "\n",
        "    y.append(yn)\n",
        "\n",
        "print(y)"
      ]
    },
    {
      "cell_type": "code",
      "execution_count": null,
      "metadata": {
        "colab": {
          "base_uri": "https://localhost:8080/"
        },
        "id": "STBNJX1xpXve",
        "outputId": "c52cb750-b561-4442-8007-74b72475bd0b"
      },
      "outputs": [
        {
          "name": "stdout",
          "output_type": "stream",
          "text": [
            "[-0.15529704 -1.82471232 -0.73491962  0.71119042]\n"
          ]
        }
      ],
      "source": [
        "# Vectorization\n",
        "\n",
        "y = np.matmul(w, x.T)\n",
        "\n",
        "print(y)"
      ]
    },
    {
      "cell_type": "markdown",
      "metadata": {
        "id": "jPBcy5NYpXve"
      },
      "source": [
        "# 5 Product of Probabilities"
      ]
    },
    {
      "cell_type": "code",
      "execution_count": null,
      "metadata": {
        "colab": {
          "base_uri": "https://localhost:8080/"
        },
        "id": "0VkD7U3s2en3",
        "outputId": "b5913bb3-44fa-4f8f-9ab8-8cb8ac12a8f3"
      },
      "outputs": [
        {
          "data": {
            "text/plain": [
              "0.5904900000000002"
            ]
          },
          "execution_count": 57,
          "metadata": {},
          "output_type": "execute_result"
        }
      ],
      "source": [
        "0.9 * 0.9 * 0.9 * 0.9 * 0.9"
      ]
    },
    {
      "cell_type": "code",
      "execution_count": null,
      "metadata": {
        "collapsed": true,
        "id": "QTGio-PypXvf"
      },
      "outputs": [
        {
          "name": "stdout",
          "output_type": "stream",
          "text": [
            "[0.60316379 0.25655702 0.81102917 0.97838699 0.15184946 0.86578241\n",
            " 0.58298343 0.12376978 0.35208142 0.48991239 0.1695666  0.16933282\n",
            " 0.45389773 0.25515122 0.53535203 0.01269385 0.8893985  0.34651559\n",
            " 0.03039379 0.45972091 0.82409506 0.11571568 0.42946957 0.60848245\n",
            " 0.21990614 0.29161716 0.7968165  0.73678125 0.48760562 0.66364898\n",
            " 0.47444083 0.9237584  0.19928357 0.73813185 0.26226708 0.09670768\n",
            " 0.5600175  0.02069522 0.17821624 0.77299936 0.93630599 0.0387956\n",
            " 0.91433826 0.44342343 0.4162627  0.88062205 0.02328859 0.62748295\n",
            " 0.30154799 0.00441884 0.92145228 0.13859913 0.23425619 0.21020041\n",
            " 0.20109773 0.609569   0.50750136 0.30187748 0.84720809 0.02806523\n",
            " 0.81377587 0.07263259 0.17564475 0.69000915 0.58534387 0.34478552\n",
            " 0.73162268 0.2490254  0.45704794 0.27815988 0.6101399  0.80126776\n",
            " 0.13332318 0.71445196 0.9844324  0.23698335 0.2580734  0.80373625\n",
            " 0.15080641 0.93003826 0.67974318 0.82828953 0.37192295 0.49601899\n",
            " 0.21299371 0.77739631 0.26568971 0.94938924 0.99548637 0.70706873\n",
            " 0.64021171 0.58439715 0.6069908  0.94514491 0.96959448 0.09480884\n",
            " 0.81976892 0.58526785 0.24582366 0.06836069 0.50226394 0.83730998\n",
            " 0.96609813 0.86535965 0.15060379 0.56529438 0.76413772 0.28836414\n",
            " 0.08005543 0.6325727  0.42143836 0.2879249  0.9719361  0.27460671\n",
            " 0.9726831  0.6506743  0.8141613  0.1682982  0.93541062 0.91816143\n",
            " 0.97779745 0.29433404 0.52287403 0.1653668  0.71730881 0.36238973\n",
            " 0.50494401 0.03144556 0.87650124 0.8157537  0.8795342  0.64410589\n",
            " 0.29707864 0.66045439 0.28803744 0.64130934 0.73744528 0.7337152\n",
            " 0.82995519 0.30507463 0.49719308 0.76205564 0.13074178 0.18877066\n",
            " 0.5240196  0.77474236 0.00767864 0.55173803 0.59883363 0.29244274\n",
            " 0.11937508 0.59981844 0.91192543 0.69820719 0.12342264 0.2286889\n",
            " 0.51295613 0.46624062 0.49058009 0.14176214 0.59916494 0.36758091\n",
            " 0.36513223 0.63772571 0.90816069 0.63067601 0.25532484 0.16976299\n",
            " 0.38047802 0.13407242 0.12683698 0.40317912 0.41964831 0.62685845\n",
            " 0.78361863 0.94882737 0.32283035 0.23575803 0.44872675 0.49208829\n",
            " 0.25283841 0.60768387 0.26709108 0.84758244 0.98970369 0.10450111\n",
            " 0.98357526 0.73904827 0.4434498  0.8653681  0.62658562 0.21229961\n",
            " 0.97702586 0.15923969 0.68000698 0.90573265 0.2568824  0.16953224\n",
            " 0.54354425 0.42988125 0.91757901 0.67188083 0.70350553 0.86677943\n",
            " 0.51704335 0.26488686 0.98131811 0.21411643 0.10140941 0.85107863\n",
            " 0.56211258 0.50032135 0.05980436 0.60885111 0.33368643 0.82851502\n",
            " 0.50242002 0.06885782 0.29326533 0.12080813 0.08088043 0.94219469\n",
            " 0.71002961 0.12506867 0.13703975 0.39992504 0.42014721 0.3583892\n",
            " 0.95293794 0.11827366 0.93390907 0.48185533 0.09926499 0.3848281\n",
            " 0.66875608 0.00304891 0.09070332 0.54556585 0.59695494 0.13841091\n",
            " 0.46227231 0.23127637 0.89279799 0.99579708 0.9746887  0.93495938\n",
            " 0.12535829 0.10456109 0.022701   0.25196042 0.28387164 0.7987884\n",
            " 0.14957871 0.20116339 0.30523536 0.8398659  0.54625509 0.69972953\n",
            " 0.01031211 0.05015743 0.70055183 0.91755391 0.1098449  0.29218976\n",
            " 0.25428749 0.49013033 0.48351371 0.45557807 0.56703942 0.57330884\n",
            " 0.25185958 0.22376189 0.9355106  0.95242933 0.70593535 0.98699728\n",
            " 0.66369888 0.81003806 0.70026784 0.65981842 0.46673732 0.60081644\n",
            " 0.33386875 0.99107873 0.83943865 0.44152539 0.15226581 0.164103\n",
            " 0.57503446 0.77684573 0.10128828 0.10309731 0.30014907 0.11404576\n",
            " 0.1160042  0.18042534 0.60273128 0.24230465 0.2037287  0.46654362\n",
            " 0.47141895 0.39121444 0.22849769 0.67870161 0.1396866  0.87908177\n",
            " 0.1847986  0.19426358 0.88919601 0.06178649 0.02276551 0.82758959\n",
            " 0.1735328  0.22883184 0.63597377 0.8676271  0.13384502 0.83473438\n",
            " 0.7799914  0.91900272 0.59981643 0.48269739 0.32818673 0.97780902\n",
            " 0.00554472 0.92076934 0.97915601 0.89346885 0.16776404 0.25244712\n",
            " 0.15420948 0.25083018 0.97698472 0.38431037 0.82174262 0.44444093\n",
            " 0.29414356 0.46168671 0.77256391 0.49792586 0.58099473 0.90525637\n",
            " 0.11542586 0.01216278 0.32836395 0.64205923 0.74260387 0.96334194\n",
            " 0.65333124 0.31430562 0.62309731 0.68324172 0.49296561 0.15194094\n",
            " 0.15218724 0.56864064 0.49056914 0.16179066 0.84207517 0.57124293\n",
            " 0.60294619 0.87122681 0.56401975 0.84176862 0.89939771 0.2723851\n",
            " 0.45307517 0.03468573 0.45235832 0.72794549 0.31067812 0.80101438\n",
            " 0.01407048 0.79435236 0.88370756 0.86200091 0.64238598 0.61383805\n",
            " 0.64500487 0.10404572 0.71134466 0.10901321 0.50499246 0.70975711\n",
            " 0.43563574 0.89152746 0.3844929  0.54352607 0.14545361 0.60500246\n",
            " 0.03980758 0.59484746 0.54685414 0.30814921 0.84739299 0.96814502\n",
            " 0.99130329 0.06956654 0.4501932  0.0247659  0.4000609  0.52086456\n",
            " 0.37094161 0.07656965 0.09786317 0.49190936 0.5921226  0.46707423\n",
            " 0.46748278 0.87546588 0.80279849 0.6479346  0.07042236 0.36347435\n",
            " 0.7764624  0.30232332 0.5441445  0.23706856 0.57904433 0.9876484\n",
            " 0.23217685 0.56202433 0.15201825 0.89602682 0.40053194 0.05590771\n",
            " 0.09479583 0.10401807 0.76183665 0.36248216 0.9518898  0.06150921\n",
            " 0.47730575 0.33183587 0.22940611 0.95227156 0.11623811 0.23266176\n",
            " 0.22177184 0.29979171 0.05473823 0.35304837 0.49719079 0.64433174\n",
            " 0.56754091 0.39595395 0.99639693 0.97400004 0.39595145 0.12460195\n",
            " 0.87190748 0.77160143 0.53904036 0.09245331 0.07198234 0.74959296\n",
            " 0.29669727 0.78712727 0.30973816 0.11127599 0.53329619 0.666877\n",
            " 0.63817618 0.20948319 0.74826303 0.42544507 0.16871144 0.91319614\n",
            " 0.51924198 0.65099902 0.78780029 0.52265675 0.56689089 0.41555346\n",
            " 0.16836907 0.70605954 0.30984841 0.5486318  0.9337463  0.00972825\n",
            " 0.83007467 0.81487075 0.39492586 0.53378775 0.57903324 0.81436498\n",
            " 0.68254986 0.15645285 0.42543305 0.42466947 0.85996605 0.49030806\n",
            " 0.0336094  0.45846005 0.47435232 0.76149454 0.90084652 0.09756567\n",
            " 0.26145109 0.18051017 0.1342564  0.25027838 0.9468856  0.02250992\n",
            " 0.53572259 0.59287283 0.00941031 0.12813764 0.19442345 0.53967888\n",
            " 0.29021258 0.80114003 0.79299529 0.50936681 0.29606843 0.40578442\n",
            " 0.90032611 0.41099839 0.95074316 0.0720783  0.74620674 0.78890138\n",
            " 0.53480748 0.99058919 0.30559148 0.33558776 0.52125266 0.66081287\n",
            " 0.15020909 0.42965239 0.52276392 0.10481648 0.23358519 0.47817981\n",
            " 0.60348809 0.75986451 0.93699504 0.17024939 0.86795741 0.38779165\n",
            " 0.53163912 0.77220261 0.99361775 0.18896191 0.39185371 0.85692198\n",
            " 0.88364177 0.62420239 0.95557266 0.13591777 0.34417672 0.67126162\n",
            " 0.38865961 0.5930582  0.35382203 0.45589981 0.87206686 0.76699206\n",
            " 0.02301592 0.14636687 0.01042391 0.46789504 0.36952251 0.54980824\n",
            " 0.03551714 0.34521591 0.77201094 0.02252865 0.56950677 0.52697159\n",
            " 0.23799611 0.91242053 0.09502278 0.5527425  0.22507516 0.16320928\n",
            " 0.87911787 0.44319259 0.82917261 0.29734939 0.55177639 0.61348288\n",
            " 0.21035665 0.83733045 0.43747644 0.83601361 0.13471482 0.86139798\n",
            " 0.26509898 0.43677436 0.43473365 0.49365001 0.5489891  0.32496557\n",
            " 0.66480587 0.5013813  0.94686176 0.02267962 0.2225165  0.51935561\n",
            " 0.08579005 0.99570251 0.52303602 0.25383952 0.05819011 0.19687827\n",
            " 0.81504449 0.48991018 0.64528268 0.07955454 0.56805259 0.08344313\n",
            " 0.71224688 0.59035385 0.50165076 0.70053837 0.21678034 0.94345237\n",
            " 0.33695651 0.04008519 0.87265172 0.15665624 0.89191944 0.48162847\n",
            " 0.28210797 0.13659494 0.70119538 0.59015562 0.3091492  0.25602821\n",
            " 0.98942806 0.3983689  0.05411771 0.93152999 0.0438185  0.42388315\n",
            " 0.62069599 0.92242484 0.83480668 0.93426508 0.43378002 0.11548844\n",
            " 0.50941012 0.79061361 0.89817492 0.33897275 0.91788363 0.37183899\n",
            " 0.63223073 0.88740196 0.8991724  0.69227288 0.28163987 0.38586399\n",
            " 0.35350298 0.60797328 0.5768967  0.44343753 0.34755968 0.05740654\n",
            " 0.8008122  0.51120091 0.86743199 0.75248392 0.54018369 0.60770414\n",
            " 0.54906642 0.49847457 0.67609145 0.45000454 0.61271472 0.65965034\n",
            " 0.05036316 0.28289348 0.30480118 0.95366254 0.53251169 0.71368527\n",
            " 0.18453538 0.27900108 0.44243137 0.27748204 0.98588978 0.40040903\n",
            " 0.85657808 0.30217603 0.28770529 0.20392504 0.95626163 0.10432518\n",
            " 0.20206032 0.16940828 0.09536219 0.19832484 0.25869244 0.09476351\n",
            " 0.01302245 0.26926135 0.19626426 0.14596133 0.65920087 0.20748074\n",
            " 0.53530824 0.21717946 0.3616282  0.73300371 0.02494522 0.76327875\n",
            " 0.50681471 0.02581948 0.136725   0.4444923  0.89079859 0.38807436\n",
            " 0.00181227 0.59533889 0.43469568 0.22743712 0.59110156 0.0083994\n",
            " 0.19431181 0.39178064 0.42258726 0.90037026 0.18817507 0.37682559\n",
            " 0.6199155  0.673133   0.42090887 0.81556159 0.26526091 0.15989692\n",
            " 0.04983751 0.71327257 0.0011779  0.52963215 0.49381915 0.75260947\n",
            " 0.06580866 0.52194743 0.48880499 0.35487282 0.67290802 0.13137148\n",
            " 0.87760606 0.05857612 0.19745143 0.72118018 0.91503152 0.28326451\n",
            " 0.87657382 0.17939993 0.51731428 0.41045698 0.94353204 0.69614005\n",
            " 0.55328201 0.70400837 0.72331386 0.58362316 0.67861155 0.2085181\n",
            " 0.02363749 0.86035359 0.5791942  0.82123438 0.36883329 0.69391727\n",
            " 0.68897142 0.61794094 0.55767121 0.35403174 0.13889541 0.31120213\n",
            " 0.85849783 0.55140348 0.17687836 0.38010512 0.03578477 0.3886439\n",
            " 0.41984399 0.32741137 0.8056542  0.25981953 0.84545882 0.71404123\n",
            " 0.62188352 0.07694217 0.09972521 0.20659636 0.81895881 0.24436535\n",
            " 0.64600792 0.71564656 0.90112533 0.0449271  0.95196055 0.43019603\n",
            " 0.40373294 0.42182917 0.90012677 0.37225638 0.39125101 0.81706638\n",
            " 0.43941928 0.43296869 0.0114646  0.62555533 0.97024569 0.63585104\n",
            " 0.76488964 0.46988072 0.58665131 0.53903957 0.38674821 0.19002661\n",
            " 0.74318955 0.70275746 0.52032414 0.23551551 0.04926271 0.74653014\n",
            " 0.39701087 0.28826801 0.48837371 0.69770817 0.22578443 0.99610296\n",
            " 0.56776646 0.34736835 0.29864853 0.01647177 0.72504638 0.72648819\n",
            " 0.80517804 0.89501125 0.59985243 0.09084427 0.12025379 0.11773337\n",
            " 0.11859357 0.49538054 0.56867952 0.66364923 0.59487443 0.4046315\n",
            " 0.05301197 0.4611358  0.4667605  0.01680887 0.11580765 0.04026864\n",
            " 0.2747115  0.2257234  0.29127005 0.89788958 0.01644921 0.39993552\n",
            " 0.9646344  0.59805774 0.68308628 0.54577032 0.16248202 0.08359657\n",
            " 0.64518693 0.63102636 0.03222535 0.78311181 0.75135195 0.01260146\n",
            " 0.20581779 0.85234825 0.80355077 0.35885087 0.91730016 0.07373179\n",
            " 0.68652771 0.12685775 0.0066899  0.64078047 0.46523531 0.80348469\n",
            " 0.21285391 0.65981395 0.8143518  0.14081366 0.04342454 0.6646384\n",
            " 0.77948458 0.22321486 0.68507251 0.86099894 0.43005799 0.45497925\n",
            " 0.24864752 0.64727767 0.18260877 0.08042447 0.51158011 0.31050551\n",
            " 0.84373305 0.75591263 0.83776566 0.3058475  0.73733699 0.1295805\n",
            " 0.7354844  0.76047316 0.77959993 0.26283703 0.74274812 0.3908813\n",
            " 0.05074644 0.64047952 0.60371596 0.37898367 0.94308467 0.93988419\n",
            " 0.55276712 0.47121835 0.3542337  0.95969326 0.62907814 0.19875809\n",
            " 0.40973144 0.1088696  0.72408008 0.2682683  0.28930732 0.78001934\n",
            " 0.53694477 0.12781465 0.07949116 0.99446504 0.37615545 0.82439793\n",
            " 0.21308101 0.0668169  0.02709295 0.41800914 0.47382062 0.67206584\n",
            " 0.61217941 0.6897044  0.12219429 0.66556548 0.62671523 0.07112771\n",
            " 0.18561297 0.73911127 0.23084359 0.94917672 0.15426923 0.35951521\n",
            " 0.77064347 0.15947424 0.4667672  0.68387165 0.38056464 0.30530291\n",
            " 0.03793954 0.95314721 0.30212965 0.13648052 0.85304504 0.16709092\n",
            " 0.44653518 0.12465587 0.34540734 0.28456927 0.73246528 0.86336108\n",
            " 0.63047749 0.22214407 0.48389839 0.55084547 0.09198972 0.39238967\n",
            " 0.15679515 0.15726325 0.36195248 0.7220739  0.41266589 0.8067188\n",
            " 0.45839516 0.18702742 0.33065723 0.28106595 0.22980783 0.47035491\n",
            " 0.38208835 0.03054893 0.26328938 0.32607977 0.63890579 0.37619121\n",
            " 0.16451522 0.87330516 0.97138463 0.93212942]\n"
          ]
        }
      ],
      "source": [
        "probs = np.random.uniform(0, 1, 1000)\n",
        "print(probs)"
      ]
    },
    {
      "cell_type": "code",
      "execution_count": null,
      "metadata": {
        "id": "GJaNvGRlpXvf",
        "outputId": "03016ef8-4935-43cd-dd57-a6d5d3f70671"
      },
      "outputs": [
        {
          "name": "stdout",
          "output_type": "stream",
          "text": [
            "0.0\n"
          ]
        }
      ],
      "source": [
        "# Prob\n",
        "\n",
        "P = np.prod(probs)\n",
        "print(P)"
      ]
    },
    {
      "cell_type": "code",
      "execution_count": null,
      "metadata": {
        "id": "9dt1tADg3fnV"
      },
      "outputs": [],
      "source": [
        "p = 0.0001"
      ]
    },
    {
      "cell_type": "code",
      "execution_count": null,
      "metadata": {
        "colab": {
          "base_uri": "https://localhost:8080/"
        },
        "id": "kGUzC1F_3h5F",
        "outputId": "d3f4db8b-501d-42b8-f7f4-830c43ba9df0"
      },
      "outputs": [
        {
          "data": {
            "text/plain": [
              "-9.210340371976182"
            ]
          },
          "execution_count": 61,
          "metadata": {},
          "output_type": "execute_result"
        }
      ],
      "source": [
        "np.log(p)"
      ]
    },
    {
      "cell_type": "code",
      "execution_count": null,
      "metadata": {
        "id": "d2JgF6M0pXvf",
        "outputId": "637b9378-4da6-4e46-d066-46718e20d81b"
      },
      "outputs": [
        {
          "name": "stdout",
          "output_type": "stream",
          "text": [
            "-1050.0078743752617\n"
          ]
        }
      ],
      "source": [
        "# Log Prob\n",
        "\n",
        "logP = np.sum(np.log(probs))\n",
        "print(logP)"
      ]
    },
    {
      "cell_type": "markdown",
      "metadata": {
        "id": "qIka_fS9pXvg"
      },
      "source": [
        "We know that prob is ~ e^-982, which is very close to 0 (but still not 0!)"
      ]
    },
    {
      "cell_type": "markdown",
      "metadata": {
        "id": "JbmTadbdpXvg"
      },
      "source": [
        "# 6 Softmax"
      ]
    },
    {
      "cell_type": "code",
      "execution_count": null,
      "metadata": {
        "id": "hXTAsfdOpXvg",
        "outputId": "521ada96-3886-4ab3-8371-48e4f3796947"
      },
      "outputs": [
        {
          "data": {
            "text/latex": [
              "$\\displaystyle y_k = \\frac{\\exp a_k}{\\sum_i \\exp a_i}$"
            ],
            "text/plain": [
              "<IPython.core.display.Math object>"
            ]
          },
          "execution_count": 67,
          "metadata": {},
          "output_type": "execute_result"
        }
      ],
      "source": [
        "Math(r'y_k = \\frac{\\exp a_k}{\\sum_i \\exp a_i}')"
      ]
    },
    {
      "cell_type": "markdown",
      "metadata": {
        "id": "KzJOHOfcpXvh"
      },
      "source": [
        "Example"
      ]
    },
    {
      "cell_type": "code",
      "execution_count": null,
      "metadata": {
        "id": "6gunlFPOpXvi",
        "outputId": "ad15b916-d1e7-42bc-dd19-6a2663598af3"
      },
      "outputs": [
        {
          "name": "stdout",
          "output_type": "stream",
          "text": [
            "[0.00655741 0.01782488 0.97320538 0.00241233]\n"
          ]
        }
      ],
      "source": [
        "A = np.array([3, 4, 8, 2])\n",
        "\n",
        "Y = np.exp(A)/np.sum(np.exp(A))\n",
        "\n",
        "print(Y)"
      ]
    },
    {
      "cell_type": "code",
      "execution_count": null,
      "metadata": {
        "collapsed": true,
        "id": "q5GU-LskpXvj"
      },
      "outputs": [],
      "source": [
        "# Write your function here\n",
        "\n",
        "def softmax0(A):\n",
        "    # straightforward implementation\n",
        "    Y = np.exp(A)/np.sum(np.exp(A))\n",
        "\n",
        "    return Y\n"
      ]
    },
    {
      "cell_type": "code",
      "execution_count": null,
      "metadata": {
        "id": "Rc7qYu0hpXvj",
        "outputId": "e2361d2f-c078-48c9-c7ad-042880fc5e00"
      },
      "outputs": [
        {
          "name": "stdout",
          "output_type": "stream",
          "text": [
            "[0.00655741 0.01782488 0.97320538 0.00241233]\n"
          ]
        }
      ],
      "source": [
        "# Test straightforward softmax\n",
        "\n",
        "A = np.array([3, 4, 8, 2])\n",
        "\n",
        "Y = softmax0(A)\n",
        "\n",
        "print(Y)"
      ]
    },
    {
      "cell_type": "code",
      "execution_count": null,
      "metadata": {
        "id": "K3q6Ii4wpXvl",
        "outputId": "18e73b4b-1fb3-4f5a-a24f-08ed9073f87b"
      },
      "outputs": [
        {
          "name": "stdout",
          "output_type": "stream",
          "text": [
            "[1.92874985e-22 4.24835426e-18 1.00000000e+00 8.75651076e-27]\n"
          ]
        }
      ],
      "source": [
        "# Test Again\n",
        "\n",
        "A = np.array([30, 40, 80, 20])\n",
        "\n",
        "Y = softmax0(A)\n",
        "\n",
        "print(Y)"
      ]
    },
    {
      "cell_type": "code",
      "execution_count": null,
      "metadata": {
        "id": "JgjIOh-apXvn",
        "outputId": "bd5cbeea-32fc-4cb5-e443-fa96e149addd"
      },
      "outputs": [
        {
          "name": "stdout",
          "output_type": "stream",
          "text": [
            "[ 0.  0. nan  0.]\n"
          ]
        },
        {
          "name": "stderr",
          "output_type": "stream",
          "text": [
            "/var/folders/yb/js31_6gd43s36c3p9ptbm6xm0000gn/T/ipykernel_49477/2973115175.py:5: RuntimeWarning: overflow encountered in exp\n",
            "  Y = np.exp(A)/np.sum(np.exp(A))\n",
            "/var/folders/yb/js31_6gd43s36c3p9ptbm6xm0000gn/T/ipykernel_49477/2973115175.py:5: RuntimeWarning: invalid value encountered in divide\n",
            "  Y = np.exp(A)/np.sum(np.exp(A))\n"
          ]
        }
      ],
      "source": [
        "# Test Again\n",
        "\n",
        "A = np.array([300, 400, 800, 200])\n",
        "\n",
        "Y = softmax0(A)\n",
        "\n",
        "print(Y)"
      ]
    },
    {
      "cell_type": "markdown",
      "metadata": {
        "id": "oQGwyqKTpXvp"
      },
      "source": [
        "# What!!!"
      ]
    },
    {
      "cell_type": "code",
      "execution_count": null,
      "metadata": {
        "id": "BCPaGfIIpXvp",
        "outputId": "f9b56104-b66c-43ef-9369-08c216ae382b"
      },
      "outputs": [
        {
          "name": "stderr",
          "output_type": "stream",
          "text": [
            "/var/folders/yb/js31_6gd43s36c3p9ptbm6xm0000gn/T/ipykernel_49477/351161911.py:1: RuntimeWarning: overflow encountered in exp\n",
            "  np.exp(A)\n"
          ]
        },
        {
          "data": {
            "text/plain": [
              "array([1.94242640e+130, 5.22146969e+173,             inf, 7.22597377e+086])"
            ]
          },
          "execution_count": 75,
          "metadata": {},
          "output_type": "execute_result"
        }
      ],
      "source": [
        "np.exp(A)"
      ]
    },
    {
      "cell_type": "markdown",
      "metadata": {
        "id": "4J-dgICupXvr"
      },
      "source": [
        "# Fix it"
      ]
    },
    {
      "cell_type": "code",
      "execution_count": null,
      "metadata": {
        "collapsed": true,
        "id": "mRNd-nMspXvs"
      },
      "outputs": [],
      "source": [
        "maxA = np.max(A)"
      ]
    },
    {
      "cell_type": "code",
      "execution_count": null,
      "metadata": {
        "id": "W3n_bcBjpXvt",
        "outputId": "8876ac30-e6ef-4849-df8f-5300144dfe63"
      },
      "outputs": [
        {
          "data": {
            "text/plain": [
              "800"
            ]
          },
          "execution_count": 77,
          "metadata": {},
          "output_type": "execute_result"
        }
      ],
      "source": [
        "maxA"
      ]
    },
    {
      "cell_type": "code",
      "execution_count": null,
      "metadata": {
        "id": "BD6R3zGkpXvv",
        "outputId": "e6892e73-d2dd-46ec-b326-b578454ed5de"
      },
      "outputs": [
        {
          "name": "stdout",
          "output_type": "stream",
          "text": [
            "[-500 -400    0 -600]\n"
          ]
        }
      ],
      "source": [
        "normA = A - maxA\n",
        "print(normA)"
      ]
    },
    {
      "cell_type": "code",
      "execution_count": null,
      "metadata": {
        "id": "9tfgRRgApXvv",
        "outputId": "c0c67017-5f6d-4878-d66f-924cd274b3e9"
      },
      "outputs": [
        {
          "name": "stdout",
          "output_type": "stream",
          "text": [
            "[7.12457641e-218 1.91516960e-174 1.00000000e+000 2.65039655e-261]\n"
          ]
        }
      ],
      "source": [
        "expA = np.exp(normA)\n",
        "print(expA)"
      ]
    },
    {
      "cell_type": "code",
      "execution_count": null,
      "metadata": {
        "id": "MEs1NWlApXvw"
      },
      "outputs": [],
      "source": [
        "def softmax1(A):\n",
        "    # numerically safe implementation\n",
        "\n",
        "    maxA = np.max(A)\n",
        "\n",
        "    normA = A - maxA\n",
        "\n",
        "    expA = np.exp(normA)\n",
        "\n",
        "    Y = expA/np.sum(expA)\n",
        "\n",
        "    return Y"
      ]
    },
    {
      "cell_type": "code",
      "execution_count": null,
      "metadata": {
        "id": "Dxocfw9jpXvy",
        "outputId": "9fdeb02d-bb2e-4dbb-a5d4-62fa39c77646"
      },
      "outputs": [
        {
          "name": "stdout",
          "output_type": "stream",
          "text": [
            "[7.12457641e-218 1.91516960e-174 1.00000000e+000 2.65039655e-261]\n"
          ]
        }
      ],
      "source": [
        "# Test\n",
        "\n",
        "A = np.array([300, 400, 800, 200])\n",
        "\n",
        "Y = softmax1(A)\n",
        "\n",
        "print(Y)"
      ]
    },
    {
      "cell_type": "code",
      "execution_count": null,
      "metadata": {
        "id": "aIBHM1kEpXvz",
        "outputId": "eaba91fb-b7b1-4861-b9b8-2f42b0226a69"
      },
      "outputs": [
        {
          "name": "stdout",
          "output_type": "stream",
          "text": [
            "[0. 0. 0. 1.]\n"
          ]
        }
      ],
      "source": [
        "# Test\n",
        "\n",
        "A = np.array([300000, 400000, 800000, 2000000])\n",
        "\n",
        "Y = softmax1(A)\n",
        "\n",
        "print(Y)"
      ]
    },
    {
      "cell_type": "markdown",
      "metadata": {
        "id": "SRZrJ2pSpXvz"
      },
      "source": [
        "# 7 Cross-Entropy"
      ]
    },
    {
      "cell_type": "code",
      "execution_count": null,
      "metadata": {
        "id": "PS_d7ZE5pXv0",
        "outputId": "a8c49f3b-625b-43d5-bac8-87c40c3abbac"
      },
      "outputs": [
        {
          "data": {
            "text/latex": [
              "$$loss = \\hat{y} \\log y + (1 - \\hat{y}) \\log (1 - y)$$"
            ],
            "text/plain": [
              "<IPython.core.display.Math object>"
            ]
          },
          "execution_count": 45,
          "metadata": {
            "tags": []
          },
          "output_type": "execute_result"
        }
      ],
      "source": [
        "Math(r'loss = \\hat{y} \\log y + (1 - \\hat{y}) \\log (1 - y)')"
      ]
    },
    {
      "cell_type": "code",
      "execution_count": null,
      "metadata": {
        "collapsed": true,
        "id": "XNn4yKDxpXv1"
      },
      "outputs": [],
      "source": [
        "# Naive\n",
        "def loss(y, yhat):\n",
        "    return yhat * np.log(y)  + (1 - yhat) * np.log(1 - y)"
      ]
    },
    {
      "cell_type": "code",
      "execution_count": null,
      "metadata": {
        "id": "4zXg2jXxpXv1",
        "outputId": "e864901d-602e-4bf2-eb80-4c67bebc81de"
      },
      "outputs": [
        {
          "data": {
            "text/plain": [
              "-0.10536051565782628"
            ]
          },
          "execution_count": 85,
          "metadata": {},
          "output_type": "execute_result"
        }
      ],
      "source": [
        "loss(0.9, 1)"
      ]
    },
    {
      "cell_type": "code",
      "execution_count": null,
      "metadata": {
        "id": "bRd_oEGfpXv2",
        "outputId": "b46c1464-8f75-4068-e766-f282c989821c"
      },
      "outputs": [
        {
          "data": {
            "text/plain": [
              "-0.01005033585350145"
            ]
          },
          "execution_count": 86,
          "metadata": {},
          "output_type": "execute_result"
        }
      ],
      "source": [
        "loss(0.01, 0)"
      ]
    },
    {
      "cell_type": "code",
      "execution_count": null,
      "metadata": {
        "id": "Px9iSA4gpXv2",
        "outputId": "6ff284c0-0e4e-4950-db07-096e6374cf9e"
      },
      "outputs": [
        {
          "data": {
            "text/plain": [
              "-2.302585092994046"
            ]
          },
          "execution_count": 87,
          "metadata": {},
          "output_type": "execute_result"
        }
      ],
      "source": [
        "loss(0.9, 0)"
      ]
    },
    {
      "cell_type": "code",
      "execution_count": null,
      "metadata": {
        "id": "Ocil8kcgpXv3",
        "outputId": "0a2eda99-9e62-408b-e0be-490a7332dcf6"
      },
      "outputs": [
        {
          "data": {
            "text/plain": [
              "-6.9077552789821368"
            ]
          },
          "execution_count": 51,
          "metadata": {
            "tags": []
          },
          "output_type": "execute_result"
        }
      ],
      "source": [
        "loss(0.001, 1)"
      ]
    },
    {
      "cell_type": "code",
      "execution_count": null,
      "metadata": {
        "id": "iJEe7FFypXv3",
        "outputId": "7a2a4891-827f-45e1-fabc-4eac7edb163a"
      },
      "outputs": [
        {
          "name": "stderr",
          "output_type": "stream",
          "text": [
            "C:\\toolkit\\Anaconda\\envs\\py35a\\lib\\site-packages\\ipykernel_launcher.py:3: RuntimeWarning: divide by zero encountered in log\n",
            "  This is separate from the ipykernel package so we can avoid doing imports until\n",
            "C:\\toolkit\\Anaconda\\envs\\py35a\\lib\\site-packages\\ipykernel_launcher.py:3: RuntimeWarning: invalid value encountered in double_scalars\n",
            "  This is separate from the ipykernel package so we can avoid doing imports until\n"
          ]
        },
        {
          "data": {
            "text/plain": [
              "nan"
            ]
          },
          "execution_count": 52,
          "metadata": {
            "tags": []
          },
          "output_type": "execute_result"
        }
      ],
      "source": [
        "loss(1,1)"
      ]
    },
    {
      "cell_type": "markdown",
      "metadata": {
        "id": "1egP_IuCpXv3"
      },
      "source": [
        "# What!!!"
      ]
    },
    {
      "cell_type": "code",
      "execution_count": null,
      "metadata": {
        "id": "M7Dh9bEwpXv3",
        "outputId": "481fffec-a3d9-4125-ce27-562bf405e557"
      },
      "outputs": [
        {
          "data": {
            "text/plain": [
              "0.0"
            ]
          },
          "execution_count": 53,
          "metadata": {
            "tags": []
          },
          "output_type": "execute_result"
        }
      ],
      "source": [
        "np.log(1)"
      ]
    },
    {
      "cell_type": "code",
      "execution_count": null,
      "metadata": {
        "id": "vzgQlJpLpXv4",
        "outputId": "a478fe3a-6e69-4fd9-f321-fd4fff51f481"
      },
      "outputs": [
        {
          "name": "stderr",
          "output_type": "stream",
          "text": [
            "/var/folders/yb/js31_6gd43s36c3p9ptbm6xm0000gn/T/ipykernel_49477/2933082444.py:1: RuntimeWarning: divide by zero encountered in log\n",
            "  np.log(0)\n"
          ]
        },
        {
          "data": {
            "text/plain": [
              "-inf"
            ]
          },
          "execution_count": 115,
          "metadata": {},
          "output_type": "execute_result"
        }
      ],
      "source": [
        "np.log(0)"
      ]
    },
    {
      "cell_type": "code",
      "execution_count": null,
      "metadata": {
        "id": "wR-37uRcpXv4",
        "outputId": "2f2e729b-1b85-4112-e1db-be91882c0348"
      },
      "outputs": [
        {
          "name": "stderr",
          "output_type": "stream",
          "text": [
            "/var/folders/yb/js31_6gd43s36c3p9ptbm6xm0000gn/T/ipykernel_49477/2545229922.py:1: RuntimeWarning: divide by zero encountered in log\n",
            "  0 * np.log(0)\n",
            "/var/folders/yb/js31_6gd43s36c3p9ptbm6xm0000gn/T/ipykernel_49477/2545229922.py:1: RuntimeWarning: invalid value encountered in scalar multiply\n",
            "  0 * np.log(0)\n"
          ]
        },
        {
          "data": {
            "text/plain": [
              "nan"
            ]
          },
          "execution_count": 116,
          "metadata": {},
          "output_type": "execute_result"
        }
      ],
      "source": [
        "0 * np.log(0)"
      ]
    },
    {
      "cell_type": "markdown",
      "metadata": {
        "id": "XtBPoKAipXv5"
      },
      "source": [
        "# Fix 1"
      ]
    },
    {
      "cell_type": "code",
      "execution_count": null,
      "metadata": {
        "collapsed": true,
        "id": "8fA6BSMKpXv5"
      },
      "outputs": [],
      "source": [
        "def loss1(y, yhat):\n",
        "\n",
        "    if yhat == 0:\n",
        "        L = np.log(1 - y)\n",
        "    else:\n",
        "        L = np.log(y)\n",
        "\n",
        "    return L"
      ]
    },
    {
      "cell_type": "code",
      "execution_count": null,
      "metadata": {
        "id": "nT-Cd3gPpXv6",
        "outputId": "28b91b31-6af3-4a0c-d001-595156c316c7"
      },
      "outputs": [
        {
          "data": {
            "text/plain": [
              "0.0"
            ]
          },
          "execution_count": 118,
          "metadata": {},
          "output_type": "execute_result"
        }
      ],
      "source": [
        "loss1(0,0)"
      ]
    },
    {
      "cell_type": "code",
      "execution_count": null,
      "metadata": {
        "id": "tCQUqD-spXv6",
        "outputId": "757366aa-1988-4283-a75c-526c4f9a4913"
      },
      "outputs": [
        {
          "data": {
            "text/plain": [
              "0.0"
            ]
          },
          "execution_count": 119,
          "metadata": {},
          "output_type": "execute_result"
        }
      ],
      "source": [
        "loss1(1,1)"
      ]
    },
    {
      "cell_type": "code",
      "execution_count": null,
      "metadata": {
        "id": "GmdCZXCmpXv6",
        "outputId": "64a51c50-6d8a-48f1-eddc-cad2368a455b"
      },
      "outputs": [
        {
          "data": {
            "text/plain": [
              "-9.210340371976182"
            ]
          },
          "execution_count": 120,
          "metadata": {},
          "output_type": "execute_result"
        }
      ],
      "source": [
        "loss1(0.0001,1)"
      ]
    },
    {
      "cell_type": "code",
      "execution_count": null,
      "metadata": {
        "id": "relCRnRtpXv7",
        "outputId": "80bd88d7-e9f7-4345-e294-31ac354943fe"
      },
      "outputs": [
        {
          "data": {
            "text/plain": [
              "-9.210340371976294"
            ]
          },
          "execution_count": 123,
          "metadata": {},
          "output_type": "execute_result"
        }
      ],
      "source": [
        "loss1(0.9999,0)"
      ]
    },
    {
      "cell_type": "markdown",
      "metadata": {
        "id": "QHZlK4-JpXv7"
      },
      "source": [
        "But it is inefficient"
      ]
    },
    {
      "cell_type": "code",
      "execution_count": null,
      "metadata": {
        "id": "T4BF_7bHpXv8",
        "outputId": "0088789a-0ace-433a-fab3-4d6b55066fe0"
      },
      "outputs": [
        {
          "name": "stdout",
          "output_type": "stream",
          "text": [
            "-0.01005033585350145\n",
            "-0.0010005003335835344\n",
            "-8.517193191416238\n",
            "-0.6931471805599453\n",
            "-1.6094379124341005\n"
          ]
        }
      ],
      "source": [
        "yhat = [1,          0,          1, 1,   0]\n",
        "y =     [0.99, 0.001, 0.0002, 0.5, 0.8]\n",
        "\n",
        "\n",
        "for i in range(5):\n",
        "    print(loss1(y[i], yhat[i]))\n"
      ]
    },
    {
      "cell_type": "markdown",
      "metadata": {
        "id": "ZGFlG5tCpXv8"
      },
      "source": [
        "Correct, but inefficient!"
      ]
    },
    {
      "cell_type": "markdown",
      "metadata": {
        "id": "72NnfsEupXv9"
      },
      "source": [
        "# Caution!!"
      ]
    },
    {
      "cell_type": "code",
      "execution_count": null,
      "metadata": {
        "id": "4aYHOp_mpXv9",
        "outputId": "41a910f3-fb10-426f-a423-22b1df623b17"
      },
      "outputs": [
        {
          "data": {
            "text/plain": [
              "array([-0.01005034, -6.90775528, -8.51719319, -0.69314718, -0.22314355])"
            ]
          },
          "execution_count": 124,
          "metadata": {},
          "output_type": "execute_result"
        }
      ],
      "source": [
        "loss1(y, yhat)"
      ]
    },
    {
      "cell_type": "markdown",
      "metadata": {
        "id": "KzjWdfqhpXv9"
      },
      "source": [
        "Wrong!!!"
      ]
    },
    {
      "cell_type": "markdown",
      "metadata": {
        "id": "4DMEDyuqpXv-"
      },
      "source": [
        "# Fix 2 (Selective Approach)"
      ]
    },
    {
      "cell_type": "code",
      "execution_count": null,
      "metadata": {
        "collapsed": true,
        "id": "Mk4nUnyjpXv_"
      },
      "outputs": [],
      "source": [
        "yhat = np.array(yhat)\n",
        "y = np.array(y)"
      ]
    },
    {
      "cell_type": "code",
      "execution_count": null,
      "metadata": {
        "id": "sJR7Uph1pXv_",
        "outputId": "2ac0fb1a-d7d2-4b4e-9740-2b4f78526a27"
      },
      "outputs": [
        {
          "data": {
            "text/plain": [
              "array([False,  True, False, False,  True])"
            ]
          },
          "execution_count": 126,
          "metadata": {},
          "output_type": "execute_result"
        }
      ],
      "source": [
        "yhat == 0"
      ]
    },
    {
      "cell_type": "code",
      "execution_count": null,
      "metadata": {
        "id": "5HrMNrdRpXwA",
        "outputId": "bd0e42bf-5fba-40be-c2ed-a87f983ea471"
      },
      "outputs": [
        {
          "name": "stdout",
          "output_type": "stream",
          "text": [
            "(array([1, 4]),)\n"
          ]
        }
      ],
      "source": [
        "ids = np.where(yhat==0)\n",
        "print(ids)"
      ]
    },
    {
      "cell_type": "code",
      "execution_count": null,
      "metadata": {
        "id": "Tb1s07H4pXwA",
        "outputId": "b4c51ce9-1355-4c9c-9d2b-0f2c759efa3c"
      },
      "outputs": [
        {
          "name": "stdout",
          "output_type": "stream",
          "text": [
            "[-0.01005034 -6.90775528 -8.51719319 -0.69314718 -0.22314355]\n"
          ]
        }
      ],
      "source": [
        "L = np.log(y)\n",
        "print(L)"
      ]
    },
    {
      "cell_type": "code",
      "execution_count": null,
      "metadata": {
        "id": "bc3ygFU6pXwA",
        "outputId": "dd415ff7-d801-4705-cdc3-5901f5594f9a"
      },
      "outputs": [
        {
          "data": {
            "text/plain": [
              "array([-6.90775528, -0.22314355])"
            ]
          },
          "execution_count": 90,
          "metadata": {
            "tags": []
          },
          "output_type": "execute_result"
        }
      ],
      "source": [
        "L[ids]"
      ]
    },
    {
      "cell_type": "code",
      "execution_count": null,
      "metadata": {
        "id": "SMHUtU_4pXwB"
      },
      "outputs": [],
      "source": [
        "L[ids]  = np.log(1 - y[ids])"
      ]
    },
    {
      "cell_type": "code",
      "execution_count": null,
      "metadata": {
        "id": "rBXe8GcbpXwB",
        "outputId": "554dcc55-1285-436f-cdf8-5909e9b2cbaa"
      },
      "outputs": [
        {
          "data": {
            "text/plain": [
              "array([ -1.00503359e-02,  -1.00050033e-03,  -8.51719319e+00,\n",
              "        -6.93147181e-01,  -1.60943791e+00])"
            ]
          },
          "execution_count": 93,
          "metadata": {
            "tags": []
          },
          "output_type": "execute_result"
        }
      ],
      "source": [
        "L"
      ]
    },
    {
      "cell_type": "code",
      "execution_count": null,
      "metadata": {
        "collapsed": true,
        "id": "_8BgxLtJpXwC"
      },
      "outputs": [],
      "source": [
        "def loss2(y, yhat):\n",
        "    L = np.log(y)\n",
        "    ids = np.where(yhat==0)\n",
        "    L[ids]  = np.log(1 - y[ids])\n",
        "    return L\n",
        "\n"
      ]
    },
    {
      "cell_type": "code",
      "execution_count": null,
      "metadata": {
        "id": "rI-IjlBQpXwC",
        "outputId": "b6fb9354-1947-4d21-83f2-240532202420"
      },
      "outputs": [
        {
          "data": {
            "text/plain": [
              "array([ -1.00503359e-02,  -1.00050033e-03,  -8.51719319e+00,\n",
              "        -6.93147181e-01,  -1.60943791e+00])"
            ]
          },
          "execution_count": 95,
          "metadata": {
            "tags": []
          },
          "output_type": "execute_result"
        }
      ],
      "source": [
        "loss2(y, yhat)"
      ]
    },
    {
      "cell_type": "code",
      "execution_count": null,
      "metadata": {
        "collapsed": true,
        "id": "5R1HOJe-pXwE"
      },
      "outputs": [],
      "source": []
    },
    {
      "cell_type": "markdown",
      "metadata": {
        "id": "JayDHHtYpXwE"
      },
      "source": [
        "# 8 Multi-class Cross-Entropy"
      ]
    },
    {
      "cell_type": "code",
      "execution_count": null,
      "metadata": {
        "id": "RRNIxWczpXwE",
        "outputId": "5a8c76aa-586f-499b-b60b-6ddae1aafb81"
      },
      "outputs": [
        {
          "name": "stdout",
          "output_type": "stream",
          "text": [
            "[1 0 0 0]\n",
            "[  7.12457641e-218   1.91516960e-174   1.00000000e+000   2.65039655e-261]\n"
          ]
        }
      ],
      "source": [
        "yhat = np.array([1, 0, 0, 0])\n",
        "\n",
        "y = softmax1(np.array([300, 400, 800, 200]))\n",
        "\n",
        "print(yhat)\n",
        "print(y)\n"
      ]
    },
    {
      "cell_type": "code",
      "execution_count": null,
      "metadata": {
        "id": "dxNFvTROpXwF",
        "outputId": "113246d6-b3cb-4af9-be1c-bc2a92ae626a"
      },
      "outputs": [
        {
          "name": "stdout",
          "output_type": "stream",
          "text": [
            "-500.0\n"
          ]
        }
      ],
      "source": [
        "# Naive implementation\n",
        "\n",
        "loss =np.dot(np.log(y), yhat)\n",
        "\n",
        "print(loss)\n",
        "\n"
      ]
    },
    {
      "cell_type": "code",
      "execution_count": null,
      "metadata": {
        "id": "mnhxBGRCpXwF",
        "outputId": "8b25db31-d351-4aaa-d7bd-2b5c96088b7b"
      },
      "outputs": [
        {
          "name": "stderr",
          "output_type": "stream",
          "text": [
            "C:\\toolkit\\Anaconda\\envs\\py35a\\lib\\site-packages\\ipykernel_launcher.py:5: RuntimeWarning: divide by zero encountered in log\n",
            "  \"\"\"\n"
          ]
        }
      ],
      "source": [
        "# Test case\n",
        "\n",
        "y = np.array([1, 0, 0, 0])\n",
        "\n",
        "loss =np.dot(np.log(y), yhat)"
      ]
    },
    {
      "cell_type": "code",
      "execution_count": null,
      "metadata": {
        "id": "jHHJqvY0pXwF",
        "outputId": "26f443d3-4b95-4811-8930-c7dccecb288b"
      },
      "outputs": [
        {
          "data": {
            "text/plain": [
              "nan"
            ]
          },
          "execution_count": 112,
          "metadata": {
            "tags": []
          },
          "output_type": "execute_result"
        }
      ],
      "source": [
        "loss"
      ]
    },
    {
      "cell_type": "code",
      "execution_count": null,
      "metadata": {
        "id": "_GEXPOHRpXwG",
        "outputId": "6635c39d-1f72-4d34-ec86-babd3aef5c43"
      },
      "outputs": [
        {
          "data": {
            "text/plain": [
              "(array([0], dtype=int64),)"
            ]
          },
          "execution_count": 113,
          "metadata": {
            "tags": []
          },
          "output_type": "execute_result"
        }
      ],
      "source": [
        "# Selective\n",
        "\n",
        "ids = np.where(yhat == 1)\n",
        "ids"
      ]
    },
    {
      "cell_type": "code",
      "execution_count": null,
      "metadata": {
        "id": "BECgZvMXpXwG",
        "outputId": "52abca1b-7124-4c7e-d9e0-b4f06100f7f8"
      },
      "outputs": [
        {
          "name": "stdout",
          "output_type": "stream",
          "text": [
            "[ 0.]\n"
          ]
        }
      ],
      "source": [
        "loss = np.log(y[ids])\n",
        "print(loss)"
      ]
    },
    {
      "cell_type": "markdown",
      "metadata": {
        "id": "RZNSzI67pXwG"
      },
      "source": [
        "Fix 1"
      ]
    },
    {
      "cell_type": "code",
      "execution_count": null,
      "metadata": {
        "collapsed": true,
        "id": "YJ-1NqlIpXwH"
      },
      "outputs": [],
      "source": [
        "def loss1(y, yhat):\n",
        "    ids = np.where(yhat == 1)\n",
        "    loss = np.log(y[ids])\n",
        "    return loss"
      ]
    },
    {
      "cell_type": "code",
      "execution_count": null,
      "metadata": {
        "id": "dhsLi4WHpXwH",
        "outputId": "9a337afe-6e6e-4798-b49a-553f18df1d8d"
      },
      "outputs": [
        {
          "data": {
            "text/plain": [
              "array([ 0.])"
            ]
          },
          "execution_count": 117,
          "metadata": {
            "tags": []
          },
          "output_type": "execute_result"
        }
      ],
      "source": [
        "yhat = np.array([1, 0, 0, 0])\n",
        "y = np.array([1,0, 0, 0])\n",
        "loss1(y, yhat)"
      ]
    },
    {
      "cell_type": "code",
      "execution_count": null,
      "metadata": {
        "id": "vP1sULpNpXwH",
        "outputId": "5efdbe7f-194b-4708-cbc5-74b7a978333b"
      },
      "outputs": [
        {
          "name": "stderr",
          "output_type": "stream",
          "text": [
            "C:\\toolkit\\Anaconda\\envs\\py35a\\lib\\site-packages\\ipykernel_launcher.py:3: RuntimeWarning: divide by zero encountered in log\n",
            "  This is separate from the ipykernel package so we can avoid doing imports until\n"
          ]
        },
        {
          "data": {
            "text/plain": [
              "array([-inf])"
            ]
          },
          "execution_count": 118,
          "metadata": {
            "tags": []
          },
          "output_type": "execute_result"
        }
      ],
      "source": [
        "yhat = np.array([1, 0, 0, 0])\n",
        "y = np.array([0,1, 0, 0])\n",
        "loss1(y, yhat)"
      ]
    },
    {
      "cell_type": "code",
      "execution_count": null,
      "metadata": {
        "id": "9qkLDlRlpXwI",
        "outputId": "02826a46-c60e-4c6c-a8c6-f3c51521f093"
      },
      "outputs": [
        {
          "data": {
            "text/plain": [
              "array([-0.69314718])"
            ]
          },
          "execution_count": 119,
          "metadata": {
            "tags": []
          },
          "output_type": "execute_result"
        }
      ],
      "source": [
        "yhat = np.array([1, 0, 0, 0])\n",
        "y = np.array([0.5,0.5, 0, 0])\n",
        "loss1(y, yhat)"
      ]
    },
    {
      "cell_type": "markdown",
      "metadata": {
        "id": "_d0o95cTpXwI"
      },
      "source": [
        "Test for multiple samples"
      ]
    },
    {
      "cell_type": "code",
      "execution_count": null,
      "metadata": {
        "id": "USTSXMkgpXwI",
        "outputId": "142da4ec-1e8c-49db-a535-df31610cd77e"
      },
      "outputs": [
        {
          "name": "stdout",
          "output_type": "stream",
          "text": [
            "[-0.10536052]\n",
            "[-0.35667494]\n",
            "[-inf]\n",
            "[-0.69314718]\n"
          ]
        },
        {
          "name": "stderr",
          "output_type": "stream",
          "text": [
            "C:\\toolkit\\Anaconda\\envs\\py35a\\lib\\site-packages\\ipykernel_launcher.py:3: RuntimeWarning: divide by zero encountered in log\n",
            "  This is separate from the ipykernel package so we can avoid doing imports until\n"
          ]
        }
      ],
      "source": [
        "yhat = np.array([[1,0,0],[0,1,0],[1,0,0],[0,0,1]]) # N x K\n",
        "y = np.array([[0.9, 0.1, 0], [0.3, 0.7, 0], [0, 1, 0], [0,0.5,0.5]])\n",
        "\n",
        "for n in range(4):\n",
        "    print(loss1(y[n], yhat[n]))"
      ]
    },
    {
      "cell_type": "code",
      "execution_count": null,
      "metadata": {
        "id": "0g4eU5k1pXwJ",
        "outputId": "2fc5e563-bf17-4145-b219-39b2adeead6c"
      },
      "outputs": [
        {
          "name": "stderr",
          "output_type": "stream",
          "text": [
            "C:\\toolkit\\Anaconda\\envs\\py35a\\lib\\site-packages\\ipykernel_launcher.py:3: RuntimeWarning: divide by zero encountered in log\n",
            "  This is separate from the ipykernel package so we can avoid doing imports until\n"
          ]
        },
        {
          "data": {
            "text/plain": [
              "array([-0.10536052, -0.35667494,        -inf, -0.69314718])"
            ]
          },
          "execution_count": 124,
          "metadata": {
            "tags": []
          },
          "output_type": "execute_result"
        }
      ],
      "source": [
        "loss1(y, yhat)"
      ]
    }
  ],
  "metadata": {
    "colab": {
      "provenance": []
    },
    "kernelspec": {
      "display_name": "Python 3",
      "language": "python",
      "name": "python3"
    },
    "language_info": {
      "codemirror_mode": {
        "name": "ipython",
        "version": 3
      },
      "file_extension": ".py",
      "mimetype": "text/x-python",
      "name": "python",
      "nbconvert_exporter": "python",
      "pygments_lexer": "ipython3",
      "version": "3.11.4"
    }
  },
  "nbformat": 4,
  "nbformat_minor": 0
}
